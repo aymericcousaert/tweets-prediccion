{
 "cells": [
  {
   "cell_type": "markdown",
   "metadata": {},
   "source": [
    "Descomentar el index con ``ctrl+/``"
   ]
  },
  {
   "cell_type": "markdown",
   "metadata": {
    "colab_type": "text",
    "id": "tVklpFMEDRGs"
   },
   "source": [
    "<!-- ![purple-divider](https://user-images.githubusercontent.com/7065401/52071927-c1cd7100-2562-11e9-908a-dde91ba14e59.png)\n",
    "<a id='top1'></a>\n",
    "# <center>75.06/95.58 Organización de Datos - TP 2\n",
    "\n",
    "<div style=\"border-bottom:3px solid #000;\">  -->"
   ]
  },
  {
   "cell_type": "markdown",
   "metadata": {
    "colab_type": "text",
    "id": "FG8K-aqRDSlF"
   },
   "source": [
    "<!-- ## Index\n",
    "  \n",
    "<a href='#section1'>**Step 1:**</a>   Equipo    \n",
    "<a href='#section2'>**Step 2:**</a>   Import de librerias  \n",
    "<a href='#section3'>**Step 3:**</a>   Feature engineering  \n",
    "<a href='#section4'>**Step 4:**</a>   NLP  \n",
    "<a href='#section5'>**Step 5:**</a>   Modelos  \n",
    "<a href='#section6'>**Step 6:**</a>   Scoring -->"
   ]
  },
  {
   "cell_type": "markdown",
   "metadata": {
    "colab_type": "text",
    "id": "lIW-x65dDhoH"
   },
   "source": [
    "<!-- ![purple-divider](https://user-images.githubusercontent.com/7065401/52071927-c1cd7100-2562-11e9-908a-dde91ba14e59.png)\n",
    "<a id='section1'></a>\n",
    "\n",
    "<div style=\"border-bottom:3px solid #000;\"> \n",
    "<div align=\"left\"><h2>Step 1: Equipo</h2></div>\n",
    "<div align=\"right\">(return to <a href='#top1'><b>Top</b></a>)</div>\n",
    "</div> -->"
   ]
  },
  {
   "cell_type": "markdown",
   "metadata": {},
   "source": [
    "# Oh La La... Data!\n",
    "\n",
    "* **Hamma AALI CHTOUKI** --- *Padrón 106607 - Alumno regular de intercambio.*  \n",
    "* **Aymeryc COUSAERT** ------  *Padrón 105464 - Alumno regular de intercambio.*\n",
    "* **Mariana VINYOLAS**  ---------  *Alumna oyente.*"
   ]
  },
  {
   "cell_type": "markdown",
   "metadata": {
    "colab_type": "text",
    "id": "d3aDXdkY2bsU"
   },
   "source": [
    "<!-- ![purple-divider](https://user-images.githubusercontent.com/7065401/52071927-c1cd7100-2562-11e9-908a-dde91ba14e59.png)\n",
    "<a id='section2'></a>\n",
    "\n",
    "<div style=\"border-bottom:3px solid #000;\"> \n",
    "<div align=\"left\"><h2>Step 2: Import de librerias </h2></div>\n",
    "<div align=\"right\">(return to <a href='#top1'><b>Top</b></a>)</div>\n",
    "</div> -->\n",
    "\n"
   ]
  },
  {
   "cell_type": "code",
   "execution_count": 1,
   "metadata": {
    "scrolled": true
   },
   "outputs": [
    {
     "name": "stderr",
     "output_type": "stream",
     "text": [
      "C:\\anaconda\\Anaconda3\\lib\\site-packages\\statsmodels\\tools\\_testing.py:19: FutureWarning: pandas.util.testing is deprecated. Use the functions in the public API at pandas.testing instead.\n",
      "  import pandas.util.testing as tm\n",
      "[nltk_data] Downloading package punkt to\n",
      "[nltk_data]     C:\\Users\\user\\AppData\\Roaming\\nltk_data...\n",
      "[nltk_data]   Package punkt is already up-to-date!\n",
      "[nltk_data] Downloading package wordnet to\n",
      "[nltk_data]     C:\\Users\\user\\AppData\\Roaming\\nltk_data...\n",
      "[nltk_data]   Package wordnet is already up-to-date!\n",
      "[nltk_data] Downloading package stopwords to\n",
      "[nltk_data]     C:\\Users\\user\\AppData\\Roaming\\nltk_data...\n",
      "[nltk_data]   Package stopwords is already up-to-date!\n"
     ]
    }
   ],
   "source": [
    "import pandas as pd\n",
    "import numpy as np\n",
    "import scipy.stats as st\n",
    "import matplotlib.pyplot as plt\n",
    "import seaborn as sns\n",
    "\n",
    "import texthero as hero\n",
    "\n",
    "import re\n",
    "import nltk.corpus\n",
    "from nltk.corpus import stopwords\n",
    "from nltk.tokenize import word_tokenize\n",
    "from nltk.tokenize import sent_tokenize, word_tokenize\n",
    "from nltk.stem import WordNetLemmatizer\n",
    "\n",
    "nltk.download('punkt')\n",
    "nltk.download('wordnet')\n",
    "nltk.download('stopwords')\n",
    "\n",
    "from sklearn.feature_extraction.text import CountVectorizer, TfidfVectorizer\n",
    "\n",
    "from sklearn.ensemble import RandomForestClassifier\n",
    "import xgboost as xgb\n",
    "import catboost as catb\n",
    "\n",
    "import scikitplot as skplt\n",
    "from scikitplot.metrics import plot_roc\n",
    "from sklearn.metrics import roc_auc_score\n",
    "from sklearn.preprocessing import StandardScaler\n",
    "from sklearn.metrics import accuracy_score,classification_report\n",
    "from sklearn.model_selection import GridSearchCV, RandomizedSearchCV\n",
    "from sklearn.model_selection import train_test_split, cross_val_score, StratifiedKFold"
   ]
  },
  {
   "cell_type": "code",
   "execution_count": 2,
   "metadata": {},
   "outputs": [],
   "source": [
    "train = pd.read_csv('train.csv')\n",
    "test = pd.read_csv('test.csv')"
   ]
  },
  {
   "cell_type": "code",
   "execution_count": 3,
   "metadata": {},
   "outputs": [
    {
     "data": {
      "text/html": [
       "<div>\n",
       "<style scoped>\n",
       "    .dataframe tbody tr th:only-of-type {\n",
       "        vertical-align: middle;\n",
       "    }\n",
       "\n",
       "    .dataframe tbody tr th {\n",
       "        vertical-align: top;\n",
       "    }\n",
       "\n",
       "    .dataframe thead th {\n",
       "        text-align: right;\n",
       "    }\n",
       "</style>\n",
       "<table border=\"1\" class=\"dataframe\">\n",
       "  <thead>\n",
       "    <tr style=\"text-align: right;\">\n",
       "      <th></th>\n",
       "      <th>id</th>\n",
       "      <th>keyword</th>\n",
       "      <th>location</th>\n",
       "      <th>text</th>\n",
       "      <th>target</th>\n",
       "    </tr>\n",
       "  </thead>\n",
       "  <tbody>\n",
       "    <tr>\n",
       "      <th>0</th>\n",
       "      <td>1</td>\n",
       "      <td>NaN</td>\n",
       "      <td>NaN</td>\n",
       "      <td>Our Deeds are the Reason of this #earthquake M...</td>\n",
       "      <td>1</td>\n",
       "    </tr>\n",
       "    <tr>\n",
       "      <th>1</th>\n",
       "      <td>4</td>\n",
       "      <td>NaN</td>\n",
       "      <td>NaN</td>\n",
       "      <td>Forest fire near La Ronge Sask. Canada</td>\n",
       "      <td>1</td>\n",
       "    </tr>\n",
       "    <tr>\n",
       "      <th>2</th>\n",
       "      <td>5</td>\n",
       "      <td>NaN</td>\n",
       "      <td>NaN</td>\n",
       "      <td>All residents asked to 'shelter in place' are ...</td>\n",
       "      <td>1</td>\n",
       "    </tr>\n",
       "    <tr>\n",
       "      <th>3</th>\n",
       "      <td>6</td>\n",
       "      <td>NaN</td>\n",
       "      <td>NaN</td>\n",
       "      <td>13,000 people receive #wildfires evacuation or...</td>\n",
       "      <td>1</td>\n",
       "    </tr>\n",
       "    <tr>\n",
       "      <th>4</th>\n",
       "      <td>7</td>\n",
       "      <td>NaN</td>\n",
       "      <td>NaN</td>\n",
       "      <td>Just got sent this photo from Ruby #Alaska as ...</td>\n",
       "      <td>1</td>\n",
       "    </tr>\n",
       "  </tbody>\n",
       "</table>\n",
       "</div>"
      ],
      "text/plain": [
       "   id keyword location                                               text  \\\n",
       "0   1     NaN      NaN  Our Deeds are the Reason of this #earthquake M...   \n",
       "1   4     NaN      NaN             Forest fire near La Ronge Sask. Canada   \n",
       "2   5     NaN      NaN  All residents asked to 'shelter in place' are ...   \n",
       "3   6     NaN      NaN  13,000 people receive #wildfires evacuation or...   \n",
       "4   7     NaN      NaN  Just got sent this photo from Ruby #Alaska as ...   \n",
       "\n",
       "   target  \n",
       "0       1  \n",
       "1       1  \n",
       "2       1  \n",
       "3       1  \n",
       "4       1  "
      ]
     },
     "execution_count": 3,
     "metadata": {},
     "output_type": "execute_result"
    }
   ],
   "source": [
    "train.head()"
   ]
  },
  {
   "cell_type": "markdown",
   "metadata": {
    "colab_type": "text",
    "id": "Smnr3pgkKld_"
   },
   "source": [
    "<!-- ![purple-divider](https://user-images.githubusercontent.com/7065401/52071927-c1cd7100-2562-11e9-908a-dde91ba14e59.png)\n",
    "<a id='section3'></a>\n",
    "\n",
    "<div style=\"border-bottom:3px solid #000;\"> \n",
    "<div align=\"left\"><h2>Step 3: Feature engineering</h2></div>\n",
    "<div align=\"right\">(return to <a href='#top1'><b>Top</b></a>)</div>\n",
    "</div> -->"
   ]
  },
  {
   "cell_type": "code",
   "execution_count": 4,
   "metadata": {},
   "outputs": [],
   "source": [
    "# limpiamos la columna text eliminando algunos caracteres y la guardamos en 'text_clean'\n",
    "df = train\n",
    "df['text'] = df['text'].str.lower()\n",
    "df = df.drop(['id', 'location'], axis=1)"
   ]
  },
  {
   "cell_type": "code",
   "execution_count": 6,
   "metadata": {
    "scrolled": false
   },
   "outputs": [
    {
     "data": {
      "text/html": [
       "<div>\n",
       "<style scoped>\n",
       "    .dataframe tbody tr th:only-of-type {\n",
       "        vertical-align: middle;\n",
       "    }\n",
       "\n",
       "    .dataframe tbody tr th {\n",
       "        vertical-align: top;\n",
       "    }\n",
       "\n",
       "    .dataframe thead th {\n",
       "        text-align: right;\n",
       "    }\n",
       "</style>\n",
       "<table border=\"1\" class=\"dataframe\">\n",
       "  <thead>\n",
       "    <tr style=\"text-align: right;\">\n",
       "      <th></th>\n",
       "      <th>keyword</th>\n",
       "      <th>text</th>\n",
       "      <th>target</th>\n",
       "    </tr>\n",
       "  </thead>\n",
       "  <tbody>\n",
       "    <tr>\n",
       "      <th>5450</th>\n",
       "      <td>police</td>\n",
       "      <td>police kill gunman at nashville movie theatre ...</td>\n",
       "      <td>1</td>\n",
       "    </tr>\n",
       "    <tr>\n",
       "      <th>1929</th>\n",
       "      <td>curfew</td>\n",
       "      <td>it was past curfew\\nand we were at the grove</td>\n",
       "      <td>0</td>\n",
       "    </tr>\n",
       "    <tr>\n",
       "      <th>1791</th>\n",
       "      <td>crash</td>\n",
       "      <td>make man pikin crash ??????</td>\n",
       "      <td>1</td>\n",
       "    </tr>\n",
       "    <tr>\n",
       "      <th>5698</th>\n",
       "      <td>rescued</td>\n",
       "      <td>three beached whales rescued in kerry - http:/...</td>\n",
       "      <td>1</td>\n",
       "    </tr>\n",
       "    <tr>\n",
       "      <th>4293</th>\n",
       "      <td>hellfire</td>\n",
       "      <td>hellfire! we donûªt even want to think about ...</td>\n",
       "      <td>0</td>\n",
       "    </tr>\n",
       "    <tr>\n",
       "      <th>2072</th>\n",
       "      <td>dead</td>\n",
       "      <td>if itûªs a war you came to see you will never...</td>\n",
       "      <td>0</td>\n",
       "    </tr>\n",
       "    <tr>\n",
       "      <th>6714</th>\n",
       "      <td>thunderstorm</td>\n",
       "      <td>#usnwsgov severe weather statement issued augu...</td>\n",
       "      <td>1</td>\n",
       "    </tr>\n",
       "    <tr>\n",
       "      <th>6037</th>\n",
       "      <td>seismic</td>\n",
       "      <td>still no plans? don't worry we got you covered...</td>\n",
       "      <td>0</td>\n",
       "    </tr>\n",
       "  </tbody>\n",
       "</table>\n",
       "</div>"
      ],
      "text/plain": [
       "           keyword                                               text  target\n",
       "5450        police  police kill gunman at nashville movie theatre ...       1\n",
       "1929        curfew       it was past curfew\\nand we were at the grove       0\n",
       "1791         crash                        make man pikin crash ??????       1\n",
       "5698       rescued  three beached whales rescued in kerry - http:/...       1\n",
       "4293      hellfire  hellfire! we donûªt even want to think about ...       0\n",
       "2072          dead  if itûªs a war you came to see you will never...       0\n",
       "6714  thunderstorm  #usnwsgov severe weather statement issued augu...       1\n",
       "6037       seismic  still no plans? don't worry we got you covered...       0"
      ]
     },
     "execution_count": 6,
     "metadata": {},
     "output_type": "execute_result"
    }
   ],
   "source": [
    "df.sample(8)"
   ]
  },
  {
   "cell_type": "markdown",
   "metadata": {},
   "source": [
    "#### Generamos nuevas features sobre el texto"
   ]
  },
  {
   "cell_type": "code",
   "execution_count": 7,
   "metadata": {},
   "outputs": [],
   "source": [
    "# generamos una columna que indica la cantidad de links a  enlaces externos\n",
    "df['link'] = df['text'].apply(lambda x: x.count('http'))"
   ]
  },
  {
   "cell_type": "code",
   "execution_count": 8,
   "metadata": {},
   "outputs": [],
   "source": [
    "# generamos una columna que indica la cantidad de referencias a otras cuentas de twitter\n",
    "df['contact'] = df['text'].apply(lambda x: x.count('@'))"
   ]
  },
  {
   "cell_type": "code",
   "execution_count": 9,
   "metadata": {},
   "outputs": [],
   "source": [
    "# generamos una columna que indica la cantidad de hashtags\n",
    "df['hashtag'] = df['text'].apply(lambda x: x.count('#'))"
   ]
  },
  {
   "cell_type": "code",
   "execution_count": 10,
   "metadata": {},
   "outputs": [],
   "source": [
    "# generamos una columna que indica la cantidad de digitos\n",
    "df['numerics'] = df['text'].apply(lambda x: len([x for x in x.split() if x.isdigit()]))"
   ]
  },
  {
   "cell_type": "code",
   "execution_count": 11,
   "metadata": {},
   "outputs": [],
   "source": [
    "# calculamos la longitud del tweet andes de limpiar\n",
    "df['length'] = df['text'].str.len()"
   ]
  },
  {
   "cell_type": "code",
   "execution_count": 12,
   "metadata": {},
   "outputs": [],
   "source": [
    "# calculamos la cantidad de palabras antes de limpiar\n",
    "def count_words(text):\n",
    "    '''\n",
    "    Funcion que toma un texto y devuelve la cantidad de palabras\n",
    "    '''\n",
    "    word_counts = len(text.split(' '))\n",
    "    return word_counts\n",
    "\n",
    "df['words'] = df['text'].apply(count_words)"
   ]
  },
  {
   "cell_type": "code",
   "execution_count": 14,
   "metadata": {},
   "outputs": [],
   "source": [
    "# limpiamos el texto eliminando urls, cuentas, hashtags y numeros\n",
    "\n",
    "def clean_str(string):\n",
    "    string = re.sub(r'https?\\://\\S+', '', string)\n",
    "    string = re.sub(r'http?\\://\\S+', '', string)\n",
    "    string = re.sub(r'@\\w*\\s', '', string)\n",
    "    string = re.sub(r'#\\w*\\s', '', string)\n",
    "    string = re.sub(r'\\d', '', string)\n",
    "    return string\n",
    "\n",
    "df['text_clean'] = df['text'].apply(lambda x: clean_str(str(x)))"
   ]
  },
  {
   "cell_type": "code",
   "execution_count": 19,
   "metadata": {
    "scrolled": false
   },
   "outputs": [
    {
     "data": {
      "text/html": [
       "<div>\n",
       "<style scoped>\n",
       "    .dataframe tbody tr th:only-of-type {\n",
       "        vertical-align: middle;\n",
       "    }\n",
       "\n",
       "    .dataframe tbody tr th {\n",
       "        vertical-align: top;\n",
       "    }\n",
       "\n",
       "    .dataframe thead th {\n",
       "        text-align: right;\n",
       "    }\n",
       "</style>\n",
       "<table border=\"1\" class=\"dataframe\">\n",
       "  <thead>\n",
       "    <tr style=\"text-align: right;\">\n",
       "      <th></th>\n",
       "      <th>keyword</th>\n",
       "      <th>text</th>\n",
       "      <th>target</th>\n",
       "      <th>link</th>\n",
       "      <th>contact</th>\n",
       "      <th>hashtag</th>\n",
       "      <th>numerics</th>\n",
       "      <th>length</th>\n",
       "      <th>words</th>\n",
       "      <th>text_clean</th>\n",
       "    </tr>\n",
       "  </thead>\n",
       "  <tbody>\n",
       "    <tr>\n",
       "      <th>1555</th>\n",
       "      <td>chemical%20emergency</td>\n",
       "      <td>@laevantine fortunately i reworked the plumbin...</td>\n",
       "      <td>0</td>\n",
       "      <td>0</td>\n",
       "      <td>1</td>\n",
       "      <td>0</td>\n",
       "      <td>0</td>\n",
       "      <td>135</td>\n",
       "      <td>22</td>\n",
       "      <td>fortunately i reworked the plumbing on my emer...</td>\n",
       "    </tr>\n",
       "    <tr>\n",
       "      <th>7123</th>\n",
       "      <td>violent%20storm</td>\n",
       "      <td>dramatic video shows plane landing during viol...</td>\n",
       "      <td>1</td>\n",
       "      <td>1</td>\n",
       "      <td>0</td>\n",
       "      <td>0</td>\n",
       "      <td>0</td>\n",
       "      <td>78</td>\n",
       "      <td>9</td>\n",
       "      <td>dramatic video shows plane landing during viol...</td>\n",
       "    </tr>\n",
       "    <tr>\n",
       "      <th>1585</th>\n",
       "      <td>cliff%20fall</td>\n",
       "      <td>i hope u trip n fall of a cliff after this twe...</td>\n",
       "      <td>0</td>\n",
       "      <td>1</td>\n",
       "      <td>0</td>\n",
       "      <td>0</td>\n",
       "      <td>0</td>\n",
       "      <td>72</td>\n",
       "      <td>13</td>\n",
       "      <td>i hope u trip n fall of a cliff after this tweet</td>\n",
       "    </tr>\n",
       "    <tr>\n",
       "      <th>2322</th>\n",
       "      <td>demolished</td>\n",
       "      <td>@david5fernandez @theblaze trump will get abso...</td>\n",
       "      <td>0</td>\n",
       "      <td>0</td>\n",
       "      <td>2</td>\n",
       "      <td>0</td>\n",
       "      <td>0</td>\n",
       "      <td>86</td>\n",
       "      <td>11</td>\n",
       "      <td>trump will get absolutely demolished in a gene...</td>\n",
       "    </tr>\n",
       "    <tr>\n",
       "      <th>2020</th>\n",
       "      <td>damage</td>\n",
       "      <td>lmao fuckboy changed his @ for damage control\\...</td>\n",
       "      <td>0</td>\n",
       "      <td>0</td>\n",
       "      <td>2</td>\n",
       "      <td>0</td>\n",
       "      <td>0</td>\n",
       "      <td>58</td>\n",
       "      <td>8</td>\n",
       "      <td>lmao fuckboy changed his for damage control\\n@...</td>\n",
       "    </tr>\n",
       "  </tbody>\n",
       "</table>\n",
       "</div>"
      ],
      "text/plain": [
       "                   keyword                                               text  \\\n",
       "1555  chemical%20emergency  @laevantine fortunately i reworked the plumbin...   \n",
       "7123       violent%20storm  dramatic video shows plane landing during viol...   \n",
       "1585          cliff%20fall  i hope u trip n fall of a cliff after this twe...   \n",
       "2322            demolished  @david5fernandez @theblaze trump will get abso...   \n",
       "2020                damage  lmao fuckboy changed his @ for damage control\\...   \n",
       "\n",
       "      target  link  contact  hashtag  numerics  length  words  \\\n",
       "1555       0     0        1        0         0     135     22   \n",
       "7123       1     1        0        0         0      78      9   \n",
       "1585       0     1        0        0         0      72     13   \n",
       "2322       0     0        2        0         0      86     11   \n",
       "2020       0     0        2        0         0      58      8   \n",
       "\n",
       "                                             text_clean  \n",
       "1555  fortunately i reworked the plumbing on my emer...  \n",
       "7123  dramatic video shows plane landing during viol...  \n",
       "1585  i hope u trip n fall of a cliff after this tweet   \n",
       "2322  trump will get absolutely demolished in a gene...  \n",
       "2020  lmao fuckboy changed his for damage control\\n@...  "
      ]
     },
     "execution_count": 19,
     "metadata": {},
     "output_type": "execute_result"
    }
   ],
   "source": [
    "df.sample(5)"
   ]
  },
  {
   "cell_type": "markdown",
   "metadata": {},
   "source": [
    "<!-- ![purple-divider](https://user-images.githubusercontent.com/7065401/52071927-c1cd7100-2562-11e9-908a-dde91ba14e59.png)\n",
    "<a id='section4'></a>\n",
    "\n",
    "<div style=\"border-bottom:3px solid #000;\"> \n",
    "<div align=\"left\"><h2>Step 4: NLP</h2></div>\n",
    "<div align=\"right\">(return to <a href='#top1'><b>Top</b></a>)</div>\n",
    "</div> -->"
   ]
  },
  {
   "cell_type": "code",
   "execution_count": 20,
   "metadata": {},
   "outputs": [],
   "source": [
    "# eliminamos stopwords\n",
    "\n",
    "stop = stopwords.words('english')\n",
    "\n",
    "df['text_clean'] = df['text_clean'].apply(lambda x: ' '.join([word for word in x.split() if word not in (stop)]))"
   ]
  },
  {
   "cell_type": "code",
   "execution_count": 21,
   "metadata": {},
   "outputs": [],
   "source": [
    "# eliminamos signos de puntuacion y caracteres especiales\n",
    "df['text_clean'] = df['text_clean'].str.replace('[^\\w\\s]','')"
   ]
  },
  {
   "cell_type": "code",
   "execution_count": 22,
   "metadata": {},
   "outputs": [],
   "source": [
    "df['word_tokenize'] = df['text_clean'].apply(lambda x: word_tokenize(x))"
   ]
  },
  {
   "cell_type": "code",
   "execution_count": 23,
   "metadata": {},
   "outputs": [],
   "source": [
    "def word_lemmatizer(text):\n",
    "    lem_text = [WordNetLemmatizer().lemmatize(i) for i in text]\n",
    "    return lem_text"
   ]
  },
  {
   "cell_type": "code",
   "execution_count": 24,
   "metadata": {},
   "outputs": [],
   "source": [
    "# unificamos palabras que poseen la misma raiz aplicando la funcion word_lematizer\n",
    "df['word_lemmatizer'] = df['word_tokenize'].apply(lambda x: word_lemmatizer(x))"
   ]
  },
  {
   "cell_type": "code",
   "execution_count": 25,
   "metadata": {},
   "outputs": [],
   "source": [
    "# unificamos la lista de tokens para poder analizar el texto limpio\n",
    "df['text_clean'] = df['word_lemmatizer'].str.join(' ')"
   ]
  },
  {
   "cell_type": "code",
   "execution_count": 26,
   "metadata": {},
   "outputs": [],
   "source": [
    "# calculamos nuevamente la longuitud, pero ahora del texto limpio                       \n",
    "df['length-clean'] = df['text_clean'].str.len()"
   ]
  },
  {
   "cell_type": "code",
   "execution_count": 27,
   "metadata": {},
   "outputs": [],
   "source": [
    "df['words_clean'] = df['text_clean'].apply(count_words)"
   ]
  },
  {
   "cell_type": "code",
   "execution_count": 29,
   "metadata": {},
   "outputs": [],
   "source": [
    "pd.set_option('display.max_colwidth', 150)  "
   ]
  },
  {
   "cell_type": "code",
   "execution_count": 30,
   "metadata": {},
   "outputs": [
    {
     "data": {
      "text/html": [
       "<div>\n",
       "<style scoped>\n",
       "    .dataframe tbody tr th:only-of-type {\n",
       "        vertical-align: middle;\n",
       "    }\n",
       "\n",
       "    .dataframe tbody tr th {\n",
       "        vertical-align: top;\n",
       "    }\n",
       "\n",
       "    .dataframe thead th {\n",
       "        text-align: right;\n",
       "    }\n",
       "</style>\n",
       "<table border=\"1\" class=\"dataframe\">\n",
       "  <thead>\n",
       "    <tr style=\"text-align: right;\">\n",
       "      <th></th>\n",
       "      <th>text</th>\n",
       "      <th>text_clean</th>\n",
       "    </tr>\n",
       "  </thead>\n",
       "  <tbody>\n",
       "    <tr>\n",
       "      <th>5041</th>\n",
       "      <td>@mariankeyes rubber mudslide! still laughing!</td>\n",
       "      <td>rubber mudslide still laughing</td>\n",
       "    </tr>\n",
       "    <tr>\n",
       "      <th>4429</th>\n",
       "      <td>@susanj357 @msnbc @allinwithchris it's like watching a hostage video sometimes ... but not always ( at least not yet)</td>\n",
       "      <td>like watching hostage video sometimes always least yet</td>\n",
       "    </tr>\n",
       "    <tr>\n",
       "      <th>7497</th>\n",
       "      <td>a staged locomotive wreck what could possibly go wrong? http://t.co/ei9x4h8thm</td>\n",
       "      <td>staged locomotive wreck could possibly go wrong</td>\n",
       "    </tr>\n",
       "    <tr>\n",
       "      <th>3464</th>\n",
       "      <td>#dating #meet #sex hot teen ass exploded by fat cock http://t.co/x39jwsyrqr</td>\n",
       "      <td>hot teen as exploded fat cock</td>\n",
       "    </tr>\n",
       "    <tr>\n",
       "      <th>3915</th>\n",
       "      <td>a [small] flood with bigåêconsequences https://t.co/cvpdvhxd1r http://t.co/fdmxp4fcmo</td>\n",
       "      <td>small flood bigåêconsequences</td>\n",
       "    </tr>\n",
       "    <tr>\n",
       "      <th>3655</th>\n",
       "      <td>i fail to see how that would not bring the number of road fatalities down immensely</td>\n",
       "      <td>fail see would bring number road fatality immensely</td>\n",
       "    </tr>\n",
       "    <tr>\n",
       "      <th>345</th>\n",
       "      <td>well done celtic fingers crossed for aberdeen tomorrow night! \\narmageddon eh.... ??</td>\n",
       "      <td>well done celtic finger crossed aberdeen tomorrow night armageddon eh</td>\n",
       "    </tr>\n",
       "    <tr>\n",
       "      <th>1915</th>\n",
       "      <td>@keampurley thirst has no curfew</td>\n",
       "      <td>thirst curfew</td>\n",
       "    </tr>\n",
       "    <tr>\n",
       "      <th>3667</th>\n",
       "      <td>fatality!</td>\n",
       "      <td>fatality</td>\n",
       "    </tr>\n",
       "    <tr>\n",
       "      <th>3503</th>\n",
       "      <td>the gusto in persist had amongst empty-pated communication explosion: hpssjd</td>\n",
       "      <td>gusto persist amongst emptypated communication explosion hpssjd</td>\n",
       "    </tr>\n",
       "  </tbody>\n",
       "</table>\n",
       "</div>"
      ],
      "text/plain": [
       "                                                                                                                       text  \\\n",
       "5041                                                                          @mariankeyes rubber mudslide! still laughing!   \n",
       "4429  @susanj357 @msnbc @allinwithchris it's like watching a hostage video sometimes ... but not always ( at least not yet)   \n",
       "7497                                         a staged locomotive wreck what could possibly go wrong? http://t.co/ei9x4h8thm   \n",
       "3464                                            #dating #meet #sex hot teen ass exploded by fat cock http://t.co/x39jwsyrqr   \n",
       "3915                                  a [small] flood with bigåêconsequences https://t.co/cvpdvhxd1r http://t.co/fdmxp4fcmo   \n",
       "3655                                    i fail to see how that would not bring the number of road fatalities down immensely   \n",
       "345                                    well done celtic fingers crossed for aberdeen tomorrow night! \\narmageddon eh.... ??   \n",
       "1915                                                                                       @keampurley thirst has no curfew   \n",
       "3667                                                                                                              fatality!   \n",
       "3503                                           the gusto in persist had amongst empty-pated communication explosion: hpssjd   \n",
       "\n",
       "                                                                 text_clean  \n",
       "5041                                         rubber mudslide still laughing  \n",
       "4429                 like watching hostage video sometimes always least yet  \n",
       "7497                        staged locomotive wreck could possibly go wrong  \n",
       "3464                                          hot teen as exploded fat cock  \n",
       "3915                                          small flood bigåêconsequences  \n",
       "3655                    fail see would bring number road fatality immensely  \n",
       "345   well done celtic finger crossed aberdeen tomorrow night armageddon eh  \n",
       "1915                                                          thirst curfew  \n",
       "3667                                                               fatality  \n",
       "3503        gusto persist amongst emptypated communication explosion hpssjd  "
      ]
     },
     "execution_count": 30,
     "metadata": {},
     "output_type": "execute_result"
    }
   ],
   "source": [
    "df[['text', 'text_clean']].sample(10)"
   ]
  },
  {
   "cell_type": "code",
   "execution_count": 31,
   "metadata": {},
   "outputs": [],
   "source": [
    "df['keyword'] = df.keyword.str.replace('%20', '_')\n",
    "df['keyword'] = df.keyword.str.lower()"
   ]
  },
  {
   "cell_type": "code",
   "execution_count": 39,
   "metadata": {},
   "outputs": [
    {
     "data": {
      "text/html": [
       "<div>\n",
       "<style scoped>\n",
       "    .dataframe tbody tr th:only-of-type {\n",
       "        vertical-align: middle;\n",
       "    }\n",
       "\n",
       "    .dataframe tbody tr th {\n",
       "        vertical-align: top;\n",
       "    }\n",
       "\n",
       "    .dataframe thead th {\n",
       "        text-align: right;\n",
       "    }\n",
       "</style>\n",
       "<table border=\"1\" class=\"dataframe\">\n",
       "  <thead>\n",
       "    <tr style=\"text-align: right;\">\n",
       "      <th></th>\n",
       "      <th>keyword</th>\n",
       "      <th>text</th>\n",
       "      <th>target</th>\n",
       "      <th>link</th>\n",
       "      <th>contact</th>\n",
       "      <th>hashtag</th>\n",
       "      <th>numerics</th>\n",
       "      <th>length</th>\n",
       "      <th>words</th>\n",
       "      <th>text_clean</th>\n",
       "      <th>word_tokenize</th>\n",
       "      <th>word_lemmatizer</th>\n",
       "      <th>length-clean</th>\n",
       "      <th>words_clean</th>\n",
       "    </tr>\n",
       "  </thead>\n",
       "  <tbody>\n",
       "    <tr>\n",
       "      <th>3355</th>\n",
       "      <td>evacuated</td>\n",
       "      <td>good thing there was actually just a legit fire in the mall and nobody evacuated!!</td>\n",
       "      <td>1</td>\n",
       "      <td>0</td>\n",
       "      <td>0</td>\n",
       "      <td>0</td>\n",
       "      <td>0</td>\n",
       "      <td>82</td>\n",
       "      <td>15</td>\n",
       "      <td>good thing actually legit fire mall nobody evacuated</td>\n",
       "      <td>[good, thing, actually, legit, fire, mall, nobody, evacuated]</td>\n",
       "      <td>[good, thing, actually, legit, fire, mall, nobody, evacuated]</td>\n",
       "      <td>52</td>\n",
       "      <td>8</td>\n",
       "    </tr>\n",
       "    <tr>\n",
       "      <th>4482</th>\n",
       "      <td>hostages</td>\n",
       "      <td>nigerian military rescue 178 hostages from boko haram - florida sentinel bulletin: florid... http://t.co/kctigymahl #security #terrorism</td>\n",
       "      <td>1</td>\n",
       "      <td>1</td>\n",
       "      <td>0</td>\n",
       "      <td>2</td>\n",
       "      <td>1</td>\n",
       "      <td>136</td>\n",
       "      <td>16</td>\n",
       "      <td>nigerian military rescue hostage boko haram florida sentinel bulletin florid terrorism</td>\n",
       "      <td>[nigerian, military, rescue, hostages, boko, haram, florida, sentinel, bulletin, florid, terrorism]</td>\n",
       "      <td>[nigerian, military, rescue, hostage, boko, haram, florida, sentinel, bulletin, florid, terrorism]</td>\n",
       "      <td>86</td>\n",
       "      <td>11</td>\n",
       "    </tr>\n",
       "    <tr>\n",
       "      <th>1838</th>\n",
       "      <td>crashed</td>\n",
       "      <td>i just nearly crashed my car typing 'paul rudd attacked by flying ants' into notes on my phone.</td>\n",
       "      <td>0</td>\n",
       "      <td>0</td>\n",
       "      <td>0</td>\n",
       "      <td>0</td>\n",
       "      <td>0</td>\n",
       "      <td>95</td>\n",
       "      <td>18</td>\n",
       "      <td>nearly crashed car typing paul rudd attacked flying ant note phone</td>\n",
       "      <td>[nearly, crashed, car, typing, paul, rudd, attacked, flying, ants, notes, phone]</td>\n",
       "      <td>[nearly, crashed, car, typing, paul, rudd, attacked, flying, ant, note, phone]</td>\n",
       "      <td>66</td>\n",
       "      <td>11</td>\n",
       "    </tr>\n",
       "  </tbody>\n",
       "</table>\n",
       "</div>"
      ],
      "text/plain": [
       "        keyword  \\\n",
       "3355  evacuated   \n",
       "4482   hostages   \n",
       "1838    crashed   \n",
       "\n",
       "                                                                                                                                          text  \\\n",
       "3355                                                        good thing there was actually just a legit fire in the mall and nobody evacuated!!   \n",
       "4482  nigerian military rescue 178 hostages from boko haram - florida sentinel bulletin: florid... http://t.co/kctigymahl #security #terrorism   \n",
       "1838                                           i just nearly crashed my car typing 'paul rudd attacked by flying ants' into notes on my phone.   \n",
       "\n",
       "      target  link  contact  hashtag  numerics  length  words  \\\n",
       "3355       1     0        0        0         0      82     15   \n",
       "4482       1     1        0        2         1     136     16   \n",
       "1838       0     0        0        0         0      95     18   \n",
       "\n",
       "                                                                                  text_clean  \\\n",
       "3355                                    good thing actually legit fire mall nobody evacuated   \n",
       "4482  nigerian military rescue hostage boko haram florida sentinel bulletin florid terrorism   \n",
       "1838                      nearly crashed car typing paul rudd attacked flying ant note phone   \n",
       "\n",
       "                                                                                            word_tokenize  \\\n",
       "3355                                        [good, thing, actually, legit, fire, mall, nobody, evacuated]   \n",
       "4482  [nigerian, military, rescue, hostages, boko, haram, florida, sentinel, bulletin, florid, terrorism]   \n",
       "1838                     [nearly, crashed, car, typing, paul, rudd, attacked, flying, ants, notes, phone]   \n",
       "\n",
       "                                                                                         word_lemmatizer  \\\n",
       "3355                                       [good, thing, actually, legit, fire, mall, nobody, evacuated]   \n",
       "4482  [nigerian, military, rescue, hostage, boko, haram, florida, sentinel, bulletin, florid, terrorism]   \n",
       "1838                      [nearly, crashed, car, typing, paul, rudd, attacked, flying, ant, note, phone]   \n",
       "\n",
       "      length-clean  words_clean  \n",
       "3355            52            8  \n",
       "4482            86           11  \n",
       "1838            66           11  "
      ]
     },
     "execution_count": 39,
     "metadata": {},
     "output_type": "execute_result"
    }
   ],
   "source": [
    "df.sample(3)"
   ]
  },
  {
   "cell_type": "markdown",
   "metadata": {},
   "source": [
    "## Bag of Words"
   ]
  },
  {
   "cell_type": "code",
   "execution_count": null,
   "metadata": {},
   "outputs": [],
   "source": [
    "# bow = CountVectorizer(max_features=1000, ngram_range=(1,1),analyzer = \"word\")"
   ]
  },
  {
   "cell_type": "code",
   "execution_count": null,
   "metadata": {},
   "outputs": [],
   "source": [
    "# train_bow = bow.fit_transform(df['text'])                                                    #########  ESTA MAL #########"
   ]
  },
  {
   "cell_type": "code",
   "execution_count": null,
   "metadata": {},
   "outputs": [],
   "source": [
    "# df_bow = pd.DataFrame(data = train_bow.todense(), columns = bow.get_feature_names())"
   ]
  },
  {
   "cell_type": "markdown",
   "metadata": {},
   "source": [
    "## TF- IDF"
   ]
  },
  {
   "cell_type": "code",
   "execution_count": 32,
   "metadata": {},
   "outputs": [],
   "source": [
    "tfidf = TfidfVectorizer(max_features=1500, lowercase=True, analyzer='word', stop_words= 'english',ngram_range=(1,1))\n"
   ]
  },
  {
   "cell_type": "code",
   "execution_count": 33,
   "metadata": {},
   "outputs": [],
   "source": [
    "train_vect = tfidf.fit_transform(df['text_clean'])                                             "
   ]
  },
  {
   "cell_type": "code",
   "execution_count": null,
   "metadata": {},
   "outputs": [],
   "source": [
    "type(train_vect)"
   ]
  },
  {
   "cell_type": "code",
   "execution_count": 34,
   "metadata": {},
   "outputs": [],
   "source": [
    "df_tf_idf = pd.DataFrame(data = train_vect.todense(), columns = tfidf.get_feature_names())"
   ]
  },
  {
   "cell_type": "code",
   "execution_count": 35,
   "metadata": {},
   "outputs": [
    {
     "data": {
      "text/plain": [
       "(7613, 1500)"
      ]
     },
     "execution_count": 35,
     "metadata": {},
     "output_type": "execute_result"
    }
   ],
   "source": [
    "df_tf_idf.shape"
   ]
  },
  {
   "cell_type": "code",
   "execution_count": null,
   "metadata": {},
   "outputs": [],
   "source": [
    "df_tf_idf['target'].value_counts()"
   ]
  },
  {
   "cell_type": "code",
   "execution_count": 36,
   "metadata": {},
   "outputs": [
    {
     "data": {
      "text/html": [
       "<div>\n",
       "<style scoped>\n",
       "    .dataframe tbody tr th:only-of-type {\n",
       "        vertical-align: middle;\n",
       "    }\n",
       "\n",
       "    .dataframe tbody tr th {\n",
       "        vertical-align: top;\n",
       "    }\n",
       "\n",
       "    .dataframe thead th {\n",
       "        text-align: right;\n",
       "    }\n",
       "</style>\n",
       "<table border=\"1\" class=\"dataframe\">\n",
       "  <thead>\n",
       "    <tr style=\"text-align: right;\">\n",
       "      <th></th>\n",
       "      <th>aba</th>\n",
       "      <th>abandoned</th>\n",
       "      <th>abc</th>\n",
       "      <th>ablaze</th>\n",
       "      <th>able</th>\n",
       "      <th>absolutely</th>\n",
       "      <th>access</th>\n",
       "      <th>accident</th>\n",
       "      <th>according</th>\n",
       "      <th>account</th>\n",
       "      <th>...</th>\n",
       "      <th>york</th>\n",
       "      <th>young</th>\n",
       "      <th>youth</th>\n",
       "      <th>youtube</th>\n",
       "      <th>yr</th>\n",
       "      <th>zone</th>\n",
       "      <th>û_</th>\n",
       "      <th>ûïwhen</th>\n",
       "      <th>ûò</th>\n",
       "      <th>ûó</th>\n",
       "    </tr>\n",
       "  </thead>\n",
       "  <tbody>\n",
       "    <tr>\n",
       "      <th>0</th>\n",
       "      <td>0.0</td>\n",
       "      <td>0.0</td>\n",
       "      <td>0.0</td>\n",
       "      <td>0.0</td>\n",
       "      <td>0.0</td>\n",
       "      <td>0.0</td>\n",
       "      <td>0.0</td>\n",
       "      <td>0.0</td>\n",
       "      <td>0.0</td>\n",
       "      <td>0.0</td>\n",
       "      <td>...</td>\n",
       "      <td>0.0</td>\n",
       "      <td>0.0</td>\n",
       "      <td>0.0</td>\n",
       "      <td>0.0</td>\n",
       "      <td>0.0</td>\n",
       "      <td>0.0</td>\n",
       "      <td>0.0</td>\n",
       "      <td>0.0</td>\n",
       "      <td>0.0</td>\n",
       "      <td>0.0</td>\n",
       "    </tr>\n",
       "    <tr>\n",
       "      <th>1</th>\n",
       "      <td>0.0</td>\n",
       "      <td>0.0</td>\n",
       "      <td>0.0</td>\n",
       "      <td>0.0</td>\n",
       "      <td>0.0</td>\n",
       "      <td>0.0</td>\n",
       "      <td>0.0</td>\n",
       "      <td>0.0</td>\n",
       "      <td>0.0</td>\n",
       "      <td>0.0</td>\n",
       "      <td>...</td>\n",
       "      <td>0.0</td>\n",
       "      <td>0.0</td>\n",
       "      <td>0.0</td>\n",
       "      <td>0.0</td>\n",
       "      <td>0.0</td>\n",
       "      <td>0.0</td>\n",
       "      <td>0.0</td>\n",
       "      <td>0.0</td>\n",
       "      <td>0.0</td>\n",
       "      <td>0.0</td>\n",
       "    </tr>\n",
       "    <tr>\n",
       "      <th>2</th>\n",
       "      <td>0.0</td>\n",
       "      <td>0.0</td>\n",
       "      <td>0.0</td>\n",
       "      <td>0.0</td>\n",
       "      <td>0.0</td>\n",
       "      <td>0.0</td>\n",
       "      <td>0.0</td>\n",
       "      <td>0.0</td>\n",
       "      <td>0.0</td>\n",
       "      <td>0.0</td>\n",
       "      <td>...</td>\n",
       "      <td>0.0</td>\n",
       "      <td>0.0</td>\n",
       "      <td>0.0</td>\n",
       "      <td>0.0</td>\n",
       "      <td>0.0</td>\n",
       "      <td>0.0</td>\n",
       "      <td>0.0</td>\n",
       "      <td>0.0</td>\n",
       "      <td>0.0</td>\n",
       "      <td>0.0</td>\n",
       "    </tr>\n",
       "    <tr>\n",
       "      <th>3</th>\n",
       "      <td>0.0</td>\n",
       "      <td>0.0</td>\n",
       "      <td>0.0</td>\n",
       "      <td>0.0</td>\n",
       "      <td>0.0</td>\n",
       "      <td>0.0</td>\n",
       "      <td>0.0</td>\n",
       "      <td>0.0</td>\n",
       "      <td>0.0</td>\n",
       "      <td>0.0</td>\n",
       "      <td>...</td>\n",
       "      <td>0.0</td>\n",
       "      <td>0.0</td>\n",
       "      <td>0.0</td>\n",
       "      <td>0.0</td>\n",
       "      <td>0.0</td>\n",
       "      <td>0.0</td>\n",
       "      <td>0.0</td>\n",
       "      <td>0.0</td>\n",
       "      <td>0.0</td>\n",
       "      <td>0.0</td>\n",
       "    </tr>\n",
       "    <tr>\n",
       "      <th>4</th>\n",
       "      <td>0.0</td>\n",
       "      <td>0.0</td>\n",
       "      <td>0.0</td>\n",
       "      <td>0.0</td>\n",
       "      <td>0.0</td>\n",
       "      <td>0.0</td>\n",
       "      <td>0.0</td>\n",
       "      <td>0.0</td>\n",
       "      <td>0.0</td>\n",
       "      <td>0.0</td>\n",
       "      <td>...</td>\n",
       "      <td>0.0</td>\n",
       "      <td>0.0</td>\n",
       "      <td>0.0</td>\n",
       "      <td>0.0</td>\n",
       "      <td>0.0</td>\n",
       "      <td>0.0</td>\n",
       "      <td>0.0</td>\n",
       "      <td>0.0</td>\n",
       "      <td>0.0</td>\n",
       "      <td>0.0</td>\n",
       "    </tr>\n",
       "  </tbody>\n",
       "</table>\n",
       "<p>5 rows × 1500 columns</p>\n",
       "</div>"
      ],
      "text/plain": [
       "   aba  abandoned  abc  ablaze  able  absolutely  access  accident  according  \\\n",
       "0  0.0        0.0  0.0     0.0   0.0         0.0     0.0       0.0        0.0   \n",
       "1  0.0        0.0  0.0     0.0   0.0         0.0     0.0       0.0        0.0   \n",
       "2  0.0        0.0  0.0     0.0   0.0         0.0     0.0       0.0        0.0   \n",
       "3  0.0        0.0  0.0     0.0   0.0         0.0     0.0       0.0        0.0   \n",
       "4  0.0        0.0  0.0     0.0   0.0         0.0     0.0       0.0        0.0   \n",
       "\n",
       "   account  ...  york  young  youth  youtube   yr  zone   û_  ûïwhen   ûò   ûó  \n",
       "0      0.0  ...   0.0    0.0    0.0      0.0  0.0   0.0  0.0     0.0  0.0  0.0  \n",
       "1      0.0  ...   0.0    0.0    0.0      0.0  0.0   0.0  0.0     0.0  0.0  0.0  \n",
       "2      0.0  ...   0.0    0.0    0.0      0.0  0.0   0.0  0.0     0.0  0.0  0.0  \n",
       "3      0.0  ...   0.0    0.0    0.0      0.0  0.0   0.0  0.0     0.0  0.0  0.0  \n",
       "4      0.0  ...   0.0    0.0    0.0      0.0  0.0   0.0  0.0     0.0  0.0  0.0  \n",
       "\n",
       "[5 rows x 1500 columns]"
      ]
     },
     "execution_count": 36,
     "metadata": {},
     "output_type": "execute_result"
    }
   ],
   "source": [
    "df_tf_idf.head()"
   ]
  },
  {
   "cell_type": "code",
   "execution_count": 37,
   "metadata": {},
   "outputs": [
    {
     "data": {
      "text/plain": [
       "0    0.0\n",
       "1    0.0\n",
       "2    0.0\n",
       "3    0.0\n",
       "4    0.0\n",
       "Name: target, dtype: float64"
      ]
     },
     "execution_count": 37,
     "metadata": {},
     "output_type": "execute_result"
    }
   ],
   "source": [
    "df_tf_idf['target'].head()"
   ]
  },
  {
   "cell_type": "code",
   "execution_count": 38,
   "metadata": {},
   "outputs": [],
   "source": [
    "# como existe la columna target en el analisis tf-idf, la modifico para hacer el concat con 'target' y que no se duplique\n",
    "df_tf_idf['targ'] = df_tf_idf['target']\n",
    "df_tf_idf = df_tf_idf.drop(['target'], axis=1)"
   ]
  },
  {
   "cell_type": "markdown",
   "metadata": {},
   "source": [
    "Para no perder tantos registros, vamos a dejar de lado por ahora las columnas ``keyword``, ``location`` y ``text``. Tambien eliminamos ``id`` porque no aporta informacion al analisis"
   ]
  },
  {
   "cell_type": "code",
   "execution_count": 40,
   "metadata": {},
   "outputs": [],
   "source": [
    "df = df.drop([ 'keyword', 'text', 'text_clean', 'word_tokenize', 'word_lemmatizer'], axis=1)"
   ]
  },
  {
   "cell_type": "code",
   "execution_count": 41,
   "metadata": {
    "scrolled": true
   },
   "outputs": [
    {
     "data": {
      "text/plain": [
       "0    4342\n",
       "1    3271\n",
       "Name: target, dtype: int64"
      ]
     },
     "execution_count": 41,
     "metadata": {},
     "output_type": "execute_result"
    }
   ],
   "source": [
    "df['target'].value_counts()  # chequeamos si los labels estan balanceados"
   ]
  },
  {
   "cell_type": "code",
   "execution_count": 42,
   "metadata": {},
   "outputs": [],
   "source": [
    "df_train = pd.concat([df, df_tf_idf], axis=1)  # revisar porque aparecen dos columnas llamadas target"
   ]
  },
  {
   "cell_type": "code",
   "execution_count": 43,
   "metadata": {},
   "outputs": [
    {
     "data": {
      "text/plain": [
       "(7613, 1509)"
      ]
     },
     "execution_count": 43,
     "metadata": {},
     "output_type": "execute_result"
    }
   ],
   "source": [
    "df_train.shape"
   ]
  },
  {
   "cell_type": "markdown",
   "metadata": {},
   "source": [
    "<!-- ![purple-divider](https://user-images.githubusercontent.com/7065401/52071927-c1cd7100-2562-11e9-908a-dde91ba14e59.png)\n",
    "<a id='section5'></a>\n",
    "\n",
    "<div style=\"border-bottom:3px solid #000;\"> \n",
    "<div align=\"left\"><h2>Step 5: Modelos</h2></div>\n",
    "<div align=\"right\">(return to <a href='#top1'><b>Top</b></a>)</div>\n",
    "</div> -->"
   ]
  },
  {
   "cell_type": "markdown",
   "metadata": {},
   "source": [
    "## Train Test Split"
   ]
  },
  {
   "cell_type": "code",
   "execution_count": 44,
   "metadata": {
    "scrolled": true
   },
   "outputs": [],
   "source": [
    "# separamos el target del resto de los features\n",
    "\n",
    "y = df_train.target    \n",
    "X = df_train.drop('target', axis=1)"
   ]
  },
  {
   "cell_type": "code",
   "execution_count": 45,
   "metadata": {},
   "outputs": [
    {
     "data": {
      "text/plain": [
       "((7613, 1508), (7613,))"
      ]
     },
     "execution_count": 45,
     "metadata": {},
     "output_type": "execute_result"
    }
   ],
   "source": [
    "X.shape, y.shape"
   ]
  },
  {
   "cell_type": "code",
   "execution_count": 46,
   "metadata": {},
   "outputs": [],
   "source": [
    "# hacemos division entre train y test para cross validation\n",
    "X_train, X_test, y_train, y_test = train_test_split(X, y, test_size=0.3, random_state=7)      "
   ]
  },
  {
   "cell_type": "code",
   "execution_count": 47,
   "metadata": {},
   "outputs": [
    {
     "data": {
      "text/plain": [
       "((5329, 1508), (2284, 1508), (5329,), (2284,))"
      ]
     },
     "execution_count": 47,
     "metadata": {},
     "output_type": "execute_result"
    }
   ],
   "source": [
    "X_train.shape, X_test.shape, y_train.shape, y_test.shape"
   ]
  },
  {
   "cell_type": "code",
   "execution_count": 48,
   "metadata": {},
   "outputs": [],
   "source": [
    "# estandarizamos las features\n",
    "scaler = StandardScaler()\n",
    "\n",
    "X_train = scaler.fit_transform(X_train)\n",
    "\n",
    "X_test = scaler.transform(X_test) "
   ]
  },
  {
   "cell_type": "code",
   "execution_count": 49,
   "metadata": {},
   "outputs": [],
   "source": [
    "# definimos una \n",
    "cv = StratifiedKFold(n_splits=5, random_state=27, shuffle=True)"
   ]
  },
  {
   "cell_type": "markdown",
   "metadata": {},
   "source": [
    "## Random Forest"
   ]
  },
  {
   "cell_type": "code",
   "execution_count": 50,
   "metadata": {},
   "outputs": [],
   "source": [
    "rf = RandomForestClassifier(max_depth= 4, random_state=27)\n",
    "y_pred = rf.fit(X_train, y_train).predict(X_test)"
   ]
  },
  {
   "cell_type": "code",
   "execution_count": 51,
   "metadata": {},
   "outputs": [
    {
     "data": {
      "text/plain": [
       "(0.6209420153875024, 0.6190893169877408)"
      ]
     },
     "execution_count": 51,
     "metadata": {},
     "output_type": "execute_result"
    }
   ],
   "source": [
    "rf.score(X_train, y_train), rf.score(X_test,y_test)"
   ]
  },
  {
   "cell_type": "code",
   "execution_count": 52,
   "metadata": {},
   "outputs": [
    {
     "name": "stdout",
     "output_type": "stream",
     "text": [
      "              precision    recall  f1-score   support\n",
      "\n",
      "           0       0.60      1.00      0.75      1304\n",
      "           1       1.00      0.11      0.20       980\n",
      "\n",
      "    accuracy                           0.62      2284\n",
      "   macro avg       0.80      0.56      0.48      2284\n",
      "weighted avg       0.77      0.62      0.51      2284\n",
      "\n"
     ]
    }
   ],
   "source": [
    "print(classification_report(y_test, y_pred))"
   ]
  },
  {
   "cell_type": "code",
   "execution_count": 53,
   "metadata": {},
   "outputs": [],
   "source": [
    "param_grid = {'n_estimators': [50, 100, 200], \n",
    "              'max_features': [2, 3, 4], \n",
    "              'max_depth': [5, 10, 20], \n",
    "              'min_samples_leaf':[10, 20]}\n"
   ]
  },
  {
   "cell_type": "code",
   "execution_count": 54,
   "metadata": {},
   "outputs": [],
   "source": [
    "rf_grid_search = GridSearchCV(RandomForestClassifier(random_state=0), param_grid=param_grid, cv=cv, verbose=1, n_jobs=-1, scoring='accuracy')"
   ]
  },
  {
   "cell_type": "code",
   "execution_count": 55,
   "metadata": {},
   "outputs": [
    {
     "name": "stdout",
     "output_type": "stream",
     "text": [
      "Fitting 5 folds for each of 54 candidates, totalling 270 fits\n"
     ]
    },
    {
     "name": "stderr",
     "output_type": "stream",
     "text": [
      "[Parallel(n_jobs=-1)]: Using backend LokyBackend with 4 concurrent workers.\n",
      "[Parallel(n_jobs=-1)]: Done  42 tasks      | elapsed:   17.5s\n",
      "[Parallel(n_jobs=-1)]: Done 192 tasks      | elapsed:  1.2min\n",
      "[Parallel(n_jobs=-1)]: Done 270 out of 270 | elapsed:  1.7min finished\n"
     ]
    },
    {
     "data": {
      "text/plain": [
       "RandomForestClassifier(bootstrap=True, ccp_alpha=0.0, class_weight=None,\n",
       "                       criterion='gini', max_depth=5, max_features=2,\n",
       "                       max_leaf_nodes=None, max_samples=None,\n",
       "                       min_impurity_decrease=0.0, min_impurity_split=None,\n",
       "                       min_samples_leaf=10, min_samples_split=2,\n",
       "                       min_weight_fraction_leaf=0.0, n_estimators=50,\n",
       "                       n_jobs=None, oob_score=False, random_state=0, verbose=0,\n",
       "                       warm_start=False)"
      ]
     },
     "metadata": {},
     "output_type": "display_data"
    },
    {
     "name": "stdout",
     "output_type": "stream",
     "text": [
      "Wall time: 1min 41s\n"
     ]
    }
   ],
   "source": [
    "%%time\n",
    "rf_grid_search.fit(X_train, y_train)  \n",
    "display(rf_grid_search.best_estimator_)"
   ]
  },
  {
   "cell_type": "code",
   "execution_count": 56,
   "metadata": {},
   "outputs": [
    {
     "data": {
      "text/plain": [
       "{'max_depth': 5, 'max_features': 2, 'min_samples_leaf': 10, 'n_estimators': 50}"
      ]
     },
     "execution_count": 56,
     "metadata": {},
     "output_type": "execute_result"
    }
   ],
   "source": [
    "rf_grid_search.best_params_"
   ]
  },
  {
   "cell_type": "code",
   "execution_count": 57,
   "metadata": {},
   "outputs": [],
   "source": [
    "pred_grid = rf_grid_search.predict(X_test)"
   ]
  },
  {
   "cell_type": "code",
   "execution_count": 58,
   "metadata": {},
   "outputs": [
    {
     "data": {
      "text/plain": [
       "(0.570088196659786, 0.5709281961471103)"
      ]
     },
     "execution_count": 58,
     "metadata": {},
     "output_type": "execute_result"
    }
   ],
   "source": [
    "rf_grid_search.score(X_train, y_train), rf_grid_search.score(X_test,y_test)"
   ]
  },
  {
   "cell_type": "code",
   "execution_count": null,
   "metadata": {},
   "outputs": [],
   "source": []
  },
  {
   "cell_type": "markdown",
   "metadata": {},
   "source": [
    "## XGBoost"
   ]
  },
  {
   "cell_type": "code",
   "execution_count": 61,
   "metadata": {},
   "outputs": [],
   "source": [
    "model_xgb = xgb.XGBClassifier(n_jobs=-1, random_state=27)"
   ]
  },
  {
   "cell_type": "code",
   "execution_count": 65,
   "metadata": {},
   "outputs": [],
   "source": [
    "one_to_left = st.beta(10, 1) # Esta distribución nos dará valores entre 0 y 1 mayormente cercanos a 1\n",
    "\n",
    "params = {  \n",
    "    \"n_estimators\": st.randint(20,40), # Number of boosted trees to fit.\n",
    "    \"max_depth\": st.randint(3, 12),     # Maximum tree depth for base learners.\n",
    "    \"learning_rate\": st.uniform(0.05, 0.4), #     Boosting learning rate (xgb’s “eta”)\n",
    "    \"colsample_bytree\": one_to_left, #     Subsample ratio of columns when constructing each tree.\n",
    "    \"subsample\": one_to_left,     # Subsample ratio of the training instance.\n",
    "    \"gamma\": st.uniform(0, 10), #     Minimum loss reduction required to make a further partition on a leaf node of the tree.\n",
    "    'reg_alpha': st.uniform(0.05,10),   # L1 regularization term on weights\n",
    "    \"min_child_weight\": st.uniform(1,20), #    Minimum sum of instance weight(hessian) needed in a child.\n",
    "}"
   ]
  },
  {
   "cell_type": "code",
   "execution_count": 66,
   "metadata": {
    "scrolled": true
   },
   "outputs": [],
   "source": [
    "xgb_cv = RandomizedSearchCV(model_xgb, params, n_iter=25, verbose=True, scoring='accuracy', random_state=27)"
   ]
  },
  {
   "cell_type": "code",
   "execution_count": 67,
   "metadata": {},
   "outputs": [
    {
     "name": "stdout",
     "output_type": "stream",
     "text": [
      "Fitting 5 folds for each of 25 candidates, totalling 125 fits\n"
     ]
    },
    {
     "name": "stderr",
     "output_type": "stream",
     "text": [
      "[Parallel(n_jobs=1)]: Using backend SequentialBackend with 1 concurrent workers.\n",
      "[Parallel(n_jobs=1)]: Done 125 out of 125 | elapsed: 11.7min finished\n"
     ]
    },
    {
     "name": "stdout",
     "output_type": "stream",
     "text": [
      "Wall time: 11min 48s\n"
     ]
    },
    {
     "data": {
      "text/plain": [
       "RandomizedSearchCV(cv=None, error_score=nan,\n",
       "                   estimator=XGBClassifier(base_score=0.5, booster='gbtree',\n",
       "                                           colsample_bylevel=1,\n",
       "                                           colsample_bynode=1,\n",
       "                                           colsample_bytree=1, gamma=0,\n",
       "                                           learning_rate=0.1, max_delta_step=0,\n",
       "                                           max_depth=3, min_child_weight=1,\n",
       "                                           missing=None, n_estimators=100,\n",
       "                                           n_jobs=-1, nthread=None,\n",
       "                                           objective='binary:logistic',\n",
       "                                           random_state=27, reg_alpha=0,\n",
       "                                           reg_lambda...\n",
       "                                        'n_estimators': <scipy.stats._distn_infrastructure.rv_frozen object at 0x000001B3CEE94828>,\n",
       "                                        'reg_alpha': <scipy.stats._distn_infrastructure.rv_frozen object at 0x000001B3CEED57B8>,\n",
       "                                        'subsample': <scipy.stats._distn_infrastructure.rv_frozen object at 0x000001B3CEE94B00>},\n",
       "                   pre_dispatch='2*n_jobs', random_state=27, refit=True,\n",
       "                   return_train_score=False, scoring='accuracy', verbose=True)"
      ]
     },
     "execution_count": 67,
     "metadata": {},
     "output_type": "execute_result"
    }
   ],
   "source": [
    "%%time\n",
    "xgb_cv.fit(X_train,y_train)"
   ]
  },
  {
   "cell_type": "code",
   "execution_count": 68,
   "metadata": {
    "colab": {},
    "colab_type": "code",
    "id": "TWN_SYVkCfoM"
   },
   "outputs": [],
   "source": [
    "y_predicted_xgb = xgb_cv.predict_proba(X_test)"
   ]
  },
  {
   "cell_type": "code",
   "execution_count": 69,
   "metadata": {},
   "outputs": [],
   "source": [
    "y_pred_xgb = xgb_cv.predict(X_test)"
   ]
  },
  {
   "cell_type": "code",
   "execution_count": 71,
   "metadata": {
    "colab": {},
    "colab_type": "code",
    "id": "ZIV1v9ukCfor",
    "outputId": "d3530218-f0ce-46b4-8924-8a07665718d9"
   },
   "outputs": [
    {
     "data": {
      "image/png": "[encoded data removed]",
      "text/plain": [
       "<Figure size 432x288 with 1 Axes>"
      ]
     },
     "metadata": {
      "needs_background": "light"
     },
     "output_type": "display_data"
    }
   ],
   "source": [
    "xgb.plot_importance(xgb_cv.best_estimator_, height=0.8, max_num_features=5);"
   ]
  },
  {
   "cell_type": "code",
   "execution_count": 72,
   "metadata": {
    "colab": {},
    "colab_type": "code",
    "id": "ttPIpN_iCfoj",
    "outputId": "bddf28c8-dc31-4df9-a2e2-4b79c73ae726"
   },
   "outputs": [
    {
     "data": {
      "image/png": "[encoded data removed]",
      "text/plain": [
       "<Figure size 432x288 with 1 Axes>"
      ]
     },
     "metadata": {
      "needs_background": "light"
     },
     "output_type": "display_data"
    }
   ],
   "source": [
    "skplt.metrics.plot_roc(y_test, y_predicted_xgb, plot_micro=False, plot_macro=False);"
   ]
  },
  {
   "cell_type": "code",
   "execution_count": 70,
   "metadata": {},
   "outputs": [
    {
     "data": {
      "text/plain": [
       "(0.7397260273972602, 0.7031523642732049)"
      ]
     },
     "execution_count": 70,
     "metadata": {},
     "output_type": "execute_result"
    }
   ],
   "source": [
    "xgb_cv.score(X_train, y_train), xgb_cv.score(X_test,y_test)"
   ]
  },
  {
   "cell_type": "code",
   "execution_count": 86,
   "metadata": {},
   "outputs": [
    {
     "name": "stdout",
     "output_type": "stream",
     "text": [
      "              precision    recall  f1-score   support\n",
      "\n",
      "           0       0.71      0.81      0.76      1304\n",
      "           1       0.69      0.56      0.62       980\n",
      "\n",
      "    accuracy                           0.70      2284\n",
      "   macro avg       0.70      0.69      0.69      2284\n",
      "weighted avg       0.70      0.70      0.70      2284\n",
      "\n"
     ]
    }
   ],
   "source": [
    "print(classification_report(y_test, y_pred_xgb))"
   ]
  },
  {
   "cell_type": "code",
   "execution_count": 77,
   "metadata": {
    "colab": {},
    "colab_type": "code",
    "id": "iSPh4BliCfob",
    "outputId": "bbcae194-4930-4247-85de-2a8dfa40e9b1"
   },
   "outputs": [
    {
     "name": "stdout",
     "output_type": "stream",
     "text": [
      "El valor del AUC es:  0.7549803587079004\n"
     ]
    }
   ],
   "source": [
    "xgb_auc = roc_auc_score(y_test, y_predicted_xgb[:,1])\n",
    "print(\"El valor del AUC es: \", xgb_auc)"
   ]
  },
  {
   "cell_type": "markdown",
   "metadata": {},
   "source": [
    "## CatBoost"
   ]
  },
  {
   "cell_type": "code",
   "execution_count": 74,
   "metadata": {},
   "outputs": [],
   "source": [
    "model_cat = catb.CatBoostClassifier()"
   ]
  },
  {
   "cell_type": "code",
   "execution_count": 75,
   "metadata": {
    "collapsed": true
   },
   "outputs": [
    {
     "name": "stdout",
     "output_type": "stream",
     "text": [
      "Learning rate set to 0.026901\n",
      "0:\tlearn: 0.6899257\ttotal: 214ms\tremaining: 3m 33s\n",
      "1:\tlearn: 0.6872060\ttotal: 352ms\tremaining: 2m 55s\n",
      "2:\tlearn: 0.6841018\ttotal: 476ms\tremaining: 2m 38s\n",
      "3:\tlearn: 0.6811722\ttotal: 617ms\tremaining: 2m 33s\n",
      "4:\tlearn: 0.6786617\ttotal: 748ms\tremaining: 2m 28s\n",
      "5:\tlearn: 0.6754396\ttotal: 898ms\tremaining: 2m 28s\n",
      "6:\tlearn: 0.6731550\ttotal: 1.08s\tremaining: 2m 33s\n",
      "7:\tlearn: 0.6708433\ttotal: 1.22s\tremaining: 2m 31s\n",
      "8:\tlearn: 0.6680880\ttotal: 1.35s\tremaining: 2m 28s\n",
      "9:\tlearn: 0.6659282\ttotal: 1.5s\tremaining: 2m 28s\n",
      "10:\tlearn: 0.6634854\ttotal: 1.64s\tremaining: 2m 27s\n",
      "11:\tlearn: 0.6614379\ttotal: 1.79s\tremaining: 2m 27s\n",
      "12:\tlearn: 0.6600594\ttotal: 1.94s\tremaining: 2m 27s\n",
      "13:\tlearn: 0.6585267\ttotal: 2.07s\tremaining: 2m 25s\n",
      "14:\tlearn: 0.6565543\ttotal: 2.2s\tremaining: 2m 24s\n",
      "15:\tlearn: 0.6548567\ttotal: 2.35s\tremaining: 2m 24s\n",
      "16:\tlearn: 0.6534525\ttotal: 2.47s\tremaining: 2m 23s\n",
      "17:\tlearn: 0.6521807\ttotal: 2.62s\tremaining: 2m 23s\n",
      "18:\tlearn: 0.6505802\ttotal: 2.78s\tremaining: 2m 23s\n",
      "19:\tlearn: 0.6491314\ttotal: 2.93s\tremaining: 2m 23s\n",
      "20:\tlearn: 0.6474689\ttotal: 3.06s\tremaining: 2m 22s\n",
      "21:\tlearn: 0.6461225\ttotal: 3.21s\tremaining: 2m 22s\n",
      "22:\tlearn: 0.6450911\ttotal: 3.34s\tremaining: 2m 21s\n",
      "23:\tlearn: 0.6436749\ttotal: 3.49s\tremaining: 2m 21s\n",
      "24:\tlearn: 0.6423862\ttotal: 3.62s\tremaining: 2m 21s\n",
      "25:\tlearn: 0.6415716\ttotal: 3.77s\tremaining: 2m 21s\n",
      "26:\tlearn: 0.6398455\ttotal: 3.9s\tremaining: 2m 20s\n",
      "27:\tlearn: 0.6388133\ttotal: 4.05s\tremaining: 2m 20s\n",
      "28:\tlearn: 0.6376754\ttotal: 4.19s\tremaining: 2m 20s\n",
      "29:\tlearn: 0.6365291\ttotal: 4.33s\tremaining: 2m 20s\n",
      "30:\tlearn: 0.6356251\ttotal: 4.47s\tremaining: 2m 19s\n",
      "31:\tlearn: 0.6341473\ttotal: 4.6s\tremaining: 2m 19s\n",
      "32:\tlearn: 0.6328596\ttotal: 4.74s\tremaining: 2m 18s\n",
      "33:\tlearn: 0.6314496\ttotal: 4.88s\tremaining: 2m 18s\n",
      "34:\tlearn: 0.6308433\ttotal: 5.01s\tremaining: 2m 18s\n",
      "35:\tlearn: 0.6301055\ttotal: 5.16s\tremaining: 2m 18s\n",
      "36:\tlearn: 0.6291678\ttotal: 5.3s\tremaining: 2m 17s\n",
      "37:\tlearn: 0.6278279\ttotal: 5.44s\tremaining: 2m 17s\n",
      "38:\tlearn: 0.6268328\ttotal: 5.58s\tremaining: 2m 17s\n",
      "39:\tlearn: 0.6256709\ttotal: 5.72s\tremaining: 2m 17s\n",
      "40:\tlearn: 0.6247442\ttotal: 5.85s\tremaining: 2m 16s\n",
      "41:\tlearn: 0.6235918\ttotal: 6s\tremaining: 2m 16s\n",
      "42:\tlearn: 0.6226003\ttotal: 6.13s\tremaining: 2m 16s\n",
      "43:\tlearn: 0.6216099\ttotal: 6.28s\tremaining: 2m 16s\n",
      "44:\tlearn: 0.6205499\ttotal: 6.42s\tremaining: 2m 16s\n",
      "45:\tlearn: 0.6198809\ttotal: 6.58s\tremaining: 2m 16s\n",
      "46:\tlearn: 0.6185141\ttotal: 6.73s\tremaining: 2m 16s\n",
      "47:\tlearn: 0.6177626\ttotal: 6.91s\tremaining: 2m 16s\n",
      "48:\tlearn: 0.6170439\ttotal: 7.09s\tremaining: 2m 17s\n",
      "49:\tlearn: 0.6163772\ttotal: 7.24s\tremaining: 2m 17s\n",
      "50:\tlearn: 0.6153474\ttotal: 7.39s\tremaining: 2m 17s\n",
      "51:\tlearn: 0.6144868\ttotal: 7.56s\tremaining: 2m 17s\n",
      "52:\tlearn: 0.6134823\ttotal: 7.75s\tremaining: 2m 18s\n",
      "53:\tlearn: 0.6126179\ttotal: 7.91s\tremaining: 2m 18s\n",
      "54:\tlearn: 0.6117279\ttotal: 8.06s\tremaining: 2m 18s\n",
      "55:\tlearn: 0.6110626\ttotal: 8.23s\tremaining: 2m 18s\n",
      "56:\tlearn: 0.6101772\ttotal: 8.41s\tremaining: 2m 19s\n",
      "57:\tlearn: 0.6096422\ttotal: 8.56s\tremaining: 2m 18s\n",
      "58:\tlearn: 0.6092180\ttotal: 8.7s\tremaining: 2m 18s\n",
      "59:\tlearn: 0.6087552\ttotal: 8.87s\tremaining: 2m 18s\n",
      "60:\tlearn: 0.6080682\ttotal: 9.01s\tremaining: 2m 18s\n",
      "61:\tlearn: 0.6074328\ttotal: 9.18s\tremaining: 2m 18s\n",
      "62:\tlearn: 0.6067649\ttotal: 9.35s\tremaining: 2m 19s\n",
      "63:\tlearn: 0.6059897\ttotal: 9.52s\tremaining: 2m 19s\n",
      "64:\tlearn: 0.6052337\ttotal: 9.67s\tremaining: 2m 19s\n",
      "65:\tlearn: 0.6045930\ttotal: 9.85s\tremaining: 2m 19s\n",
      "66:\tlearn: 0.6034918\ttotal: 10s\tremaining: 2m 19s\n",
      "67:\tlearn: 0.6029120\ttotal: 10.2s\tremaining: 2m 19s\n",
      "68:\tlearn: 0.6024990\ttotal: 10.3s\tremaining: 2m 19s\n",
      "69:\tlearn: 0.6019067\ttotal: 10.5s\tremaining: 2m 19s\n",
      "70:\tlearn: 0.6013172\ttotal: 10.6s\tremaining: 2m 18s\n",
      "71:\tlearn: 0.6007549\ttotal: 10.8s\tremaining: 2m 18s\n",
      "72:\tlearn: 0.6000997\ttotal: 10.9s\tremaining: 2m 18s\n",
      "73:\tlearn: 0.5997312\ttotal: 11s\tremaining: 2m 18s\n",
      "74:\tlearn: 0.5993359\ttotal: 11.2s\tremaining: 2m 17s\n",
      "75:\tlearn: 0.5987830\ttotal: 11.3s\tremaining: 2m 17s\n",
      "76:\tlearn: 0.5980325\ttotal: 11.5s\tremaining: 2m 17s\n",
      "77:\tlearn: 0.5975116\ttotal: 11.6s\tremaining: 2m 17s\n",
      "78:\tlearn: 0.5970080\ttotal: 11.8s\tremaining: 2m 17s\n",
      "79:\tlearn: 0.5964274\ttotal: 11.9s\tremaining: 2m 17s\n",
      "80:\tlearn: 0.5960069\ttotal: 12.1s\tremaining: 2m 16s\n",
      "81:\tlearn: 0.5955265\ttotal: 12.2s\tremaining: 2m 16s\n",
      "82:\tlearn: 0.5951549\ttotal: 12.3s\tremaining: 2m 16s\n",
      "83:\tlearn: 0.5947252\ttotal: 12.5s\tremaining: 2m 16s\n",
      "84:\tlearn: 0.5942141\ttotal: 12.6s\tremaining: 2m 16s\n",
      "85:\tlearn: 0.5939217\ttotal: 12.8s\tremaining: 2m 15s\n",
      "86:\tlearn: 0.5934436\ttotal: 13s\tremaining: 2m 16s\n",
      "87:\tlearn: 0.5930476\ttotal: 13.1s\tremaining: 2m 15s\n",
      "88:\tlearn: 0.5925334\ttotal: 13.3s\tremaining: 2m 15s\n",
      "89:\tlearn: 0.5918971\ttotal: 13.4s\tremaining: 2m 15s\n",
      "90:\tlearn: 0.5910259\ttotal: 13.6s\tremaining: 2m 15s\n",
      "91:\tlearn: 0.5904517\ttotal: 13.7s\tremaining: 2m 15s\n",
      "92:\tlearn: 0.5900633\ttotal: 13.9s\tremaining: 2m 15s\n",
      "93:\tlearn: 0.5893851\ttotal: 14s\tremaining: 2m 14s\n",
      "94:\tlearn: 0.5889523\ttotal: 14.1s\tremaining: 2m 14s\n",
      "95:\tlearn: 0.5884125\ttotal: 14.3s\tremaining: 2m 14s\n",
      "96:\tlearn: 0.5876340\ttotal: 14.4s\tremaining: 2m 14s\n",
      "97:\tlearn: 0.5871503\ttotal: 14.6s\tremaining: 2m 14s\n",
      "98:\tlearn: 0.5867304\ttotal: 14.7s\tremaining: 2m 14s\n",
      "99:\tlearn: 0.5861733\ttotal: 14.9s\tremaining: 2m 13s\n",
      "100:\tlearn: 0.5858241\ttotal: 15s\tremaining: 2m 13s\n",
      "101:\tlearn: 0.5854565\ttotal: 15.2s\tremaining: 2m 13s\n",
      "102:\tlearn: 0.5850423\ttotal: 15.3s\tremaining: 2m 13s\n",
      "103:\tlearn: 0.5844588\ttotal: 15.5s\tremaining: 2m 13s\n",
      "104:\tlearn: 0.5841539\ttotal: 15.6s\tremaining: 2m 13s\n",
      "105:\tlearn: 0.5837776\ttotal: 15.8s\tremaining: 2m 13s\n",
      "106:\tlearn: 0.5832819\ttotal: 15.9s\tremaining: 2m 13s\n",
      "107:\tlearn: 0.5827247\ttotal: 16.1s\tremaining: 2m 12s\n",
      "108:\tlearn: 0.5823331\ttotal: 16.2s\tremaining: 2m 12s\n",
      "109:\tlearn: 0.5817807\ttotal: 16.4s\tremaining: 2m 12s\n",
      "110:\tlearn: 0.5813048\ttotal: 16.6s\tremaining: 2m 12s\n",
      "111:\tlearn: 0.5808391\ttotal: 16.7s\tremaining: 2m 12s\n",
      "112:\tlearn: 0.5804343\ttotal: 16.9s\tremaining: 2m 12s\n",
      "113:\tlearn: 0.5798728\ttotal: 17s\tremaining: 2m 12s\n",
      "114:\tlearn: 0.5793569\ttotal: 17.1s\tremaining: 2m 11s\n",
      "115:\tlearn: 0.5790682\ttotal: 17.3s\tremaining: 2m 11s\n",
      "116:\tlearn: 0.5786002\ttotal: 17.4s\tremaining: 2m 11s\n",
      "117:\tlearn: 0.5781974\ttotal: 17.6s\tremaining: 2m 11s\n",
      "118:\tlearn: 0.5777576\ttotal: 17.7s\tremaining: 2m 11s\n",
      "119:\tlearn: 0.5774424\ttotal: 17.8s\tremaining: 2m 10s\n",
      "120:\tlearn: 0.5770869\ttotal: 18s\tremaining: 2m 10s\n",
      "121:\tlearn: 0.5768968\ttotal: 18.1s\tremaining: 2m 10s\n",
      "122:\tlearn: 0.5764553\ttotal: 18.3s\tremaining: 2m 10s\n",
      "123:\tlearn: 0.5760130\ttotal: 18.4s\tremaining: 2m 9s\n",
      "124:\tlearn: 0.5756310\ttotal: 18.5s\tremaining: 2m 9s\n",
      "125:\tlearn: 0.5751936\ttotal: 18.6s\tremaining: 2m 9s\n",
      "126:\tlearn: 0.5749134\ttotal: 18.8s\tremaining: 2m 9s\n",
      "127:\tlearn: 0.5743154\ttotal: 18.9s\tremaining: 2m 8s\n",
      "128:\tlearn: 0.5738649\ttotal: 19s\tremaining: 2m 8s\n",
      "129:\tlearn: 0.5734298\ttotal: 19.2s\tremaining: 2m 8s\n",
      "130:\tlearn: 0.5730645\ttotal: 19.3s\tremaining: 2m 8s\n",
      "131:\tlearn: 0.5726119\ttotal: 19.4s\tremaining: 2m 7s\n",
      "132:\tlearn: 0.5722821\ttotal: 19.6s\tremaining: 2m 7s\n",
      "133:\tlearn: 0.5719467\ttotal: 19.7s\tremaining: 2m 7s\n",
      "134:\tlearn: 0.5717514\ttotal: 19.8s\tremaining: 2m 7s\n",
      "135:\tlearn: 0.5714642\ttotal: 20s\tremaining: 2m 6s\n",
      "136:\tlearn: 0.5712221\ttotal: 20.1s\tremaining: 2m 6s\n",
      "137:\tlearn: 0.5709072\ttotal: 20.2s\tremaining: 2m 6s\n",
      "138:\tlearn: 0.5706852\ttotal: 20.4s\tremaining: 2m 6s\n",
      "139:\tlearn: 0.5700536\ttotal: 20.5s\tremaining: 2m 5s\n",
      "140:\tlearn: 0.5696751\ttotal: 20.6s\tremaining: 2m 5s\n",
      "141:\tlearn: 0.5693310\ttotal: 20.7s\tremaining: 2m 5s\n",
      "142:\tlearn: 0.5688570\ttotal: 20.9s\tremaining: 2m 5s\n",
      "143:\tlearn: 0.5684522\ttotal: 21s\tremaining: 2m 4s\n",
      "144:\tlearn: 0.5680976\ttotal: 21.1s\tremaining: 2m 4s\n",
      "145:\tlearn: 0.5678322\ttotal: 21.3s\tremaining: 2m 4s\n",
      "146:\tlearn: 0.5674568\ttotal: 21.4s\tremaining: 2m 4s\n",
      "147:\tlearn: 0.5671691\ttotal: 21.5s\tremaining: 2m 3s\n",
      "148:\tlearn: 0.5668155\ttotal: 21.7s\tremaining: 2m 3s\n",
      "149:\tlearn: 0.5665336\ttotal: 21.8s\tremaining: 2m 3s\n",
      "150:\tlearn: 0.5661404\ttotal: 21.9s\tremaining: 2m 3s\n",
      "151:\tlearn: 0.5657821\ttotal: 22s\tremaining: 2m 2s\n",
      "152:\tlearn: 0.5654324\ttotal: 22.2s\tremaining: 2m 2s\n",
      "153:\tlearn: 0.5649651\ttotal: 22.3s\tremaining: 2m 2s\n",
      "154:\tlearn: 0.5645358\ttotal: 22.4s\tremaining: 2m 2s\n",
      "155:\tlearn: 0.5642720\ttotal: 22.6s\tremaining: 2m 2s\n",
      "156:\tlearn: 0.5639937\ttotal: 22.7s\tremaining: 2m 2s\n",
      "157:\tlearn: 0.5637147\ttotal: 22.9s\tremaining: 2m 1s\n"
     ]
    },
    {
     "name": "stdout",
     "output_type": "stream",
     "text": [
      "158:\tlearn: 0.5634248\ttotal: 23s\tremaining: 2m 1s\n",
      "159:\tlearn: 0.5630126\ttotal: 23.2s\tremaining: 2m 1s\n",
      "160:\tlearn: 0.5626819\ttotal: 23.3s\tremaining: 2m 1s\n",
      "161:\tlearn: 0.5622270\ttotal: 23.5s\tremaining: 2m 1s\n",
      "162:\tlearn: 0.5619617\ttotal: 23.6s\tremaining: 2m 1s\n",
      "163:\tlearn: 0.5616140\ttotal: 23.7s\tremaining: 2m 1s\n",
      "164:\tlearn: 0.5612606\ttotal: 23.9s\tremaining: 2m\n",
      "165:\tlearn: 0.5609089\ttotal: 24s\tremaining: 2m\n",
      "166:\tlearn: 0.5606453\ttotal: 24.2s\tremaining: 2m\n",
      "167:\tlearn: 0.5604836\ttotal: 24.3s\tremaining: 2m\n",
      "168:\tlearn: 0.5601258\ttotal: 24.5s\tremaining: 2m\n",
      "169:\tlearn: 0.5598166\ttotal: 24.6s\tremaining: 2m\n",
      "170:\tlearn: 0.5596524\ttotal: 24.7s\tremaining: 1m 59s\n",
      "171:\tlearn: 0.5594077\ttotal: 24.9s\tremaining: 1m 59s\n",
      "172:\tlearn: 0.5590586\ttotal: 25s\tremaining: 1m 59s\n",
      "173:\tlearn: 0.5588863\ttotal: 25.2s\tremaining: 1m 59s\n",
      "174:\tlearn: 0.5584181\ttotal: 25.3s\tremaining: 1m 59s\n",
      "175:\tlearn: 0.5580866\ttotal: 25.4s\tremaining: 1m 59s\n",
      "176:\tlearn: 0.5576437\ttotal: 25.6s\tremaining: 1m 59s\n",
      "177:\tlearn: 0.5573318\ttotal: 25.7s\tremaining: 1m 58s\n",
      "178:\tlearn: 0.5570554\ttotal: 25.9s\tremaining: 1m 58s\n",
      "179:\tlearn: 0.5566677\ttotal: 26s\tremaining: 1m 58s\n",
      "180:\tlearn: 0.5564247\ttotal: 26.2s\tremaining: 1m 58s\n",
      "181:\tlearn: 0.5561459\ttotal: 26.3s\tremaining: 1m 58s\n",
      "182:\tlearn: 0.5556928\ttotal: 26.4s\tremaining: 1m 58s\n",
      "183:\tlearn: 0.5554892\ttotal: 26.6s\tremaining: 1m 57s\n",
      "184:\tlearn: 0.5552619\ttotal: 26.7s\tremaining: 1m 57s\n",
      "185:\tlearn: 0.5549442\ttotal: 26.8s\tremaining: 1m 57s\n",
      "186:\tlearn: 0.5548223\ttotal: 27s\tremaining: 1m 57s\n",
      "187:\tlearn: 0.5545601\ttotal: 27.1s\tremaining: 1m 57s\n",
      "188:\tlearn: 0.5543584\ttotal: 27.2s\tremaining: 1m 56s\n",
      "189:\tlearn: 0.5541096\ttotal: 27.3s\tremaining: 1m 56s\n",
      "190:\tlearn: 0.5540238\ttotal: 27.5s\tremaining: 1m 56s\n",
      "191:\tlearn: 0.5537373\ttotal: 27.6s\tremaining: 1m 56s\n",
      "192:\tlearn: 0.5533966\ttotal: 27.7s\tremaining: 1m 55s\n",
      "193:\tlearn: 0.5532254\ttotal: 27.9s\tremaining: 1m 55s\n",
      "194:\tlearn: 0.5530003\ttotal: 28s\tremaining: 1m 55s\n",
      "195:\tlearn: 0.5527993\ttotal: 28.1s\tremaining: 1m 55s\n",
      "196:\tlearn: 0.5524968\ttotal: 28.2s\tremaining: 1m 55s\n",
      "197:\tlearn: 0.5520647\ttotal: 28.4s\tremaining: 1m 54s\n",
      "198:\tlearn: 0.5516985\ttotal: 28.5s\tremaining: 1m 54s\n",
      "199:\tlearn: 0.5513354\ttotal: 28.6s\tremaining: 1m 54s\n",
      "200:\tlearn: 0.5510365\ttotal: 28.8s\tremaining: 1m 54s\n",
      "201:\tlearn: 0.5507446\ttotal: 28.9s\tremaining: 1m 54s\n",
      "202:\tlearn: 0.5505925\ttotal: 29s\tremaining: 1m 53s\n",
      "203:\tlearn: 0.5503010\ttotal: 29.1s\tremaining: 1m 53s\n",
      "204:\tlearn: 0.5500616\ttotal: 29.3s\tremaining: 1m 53s\n",
      "205:\tlearn: 0.5499109\ttotal: 29.4s\tremaining: 1m 53s\n",
      "206:\tlearn: 0.5495952\ttotal: 29.5s\tremaining: 1m 53s\n",
      "207:\tlearn: 0.5493498\ttotal: 29.7s\tremaining: 1m 52s\n",
      "208:\tlearn: 0.5491510\ttotal: 29.8s\tremaining: 1m 52s\n",
      "209:\tlearn: 0.5488587\ttotal: 29.9s\tremaining: 1m 52s\n",
      "210:\tlearn: 0.5485225\ttotal: 30s\tremaining: 1m 52s\n",
      "211:\tlearn: 0.5482591\ttotal: 30.2s\tremaining: 1m 52s\n",
      "212:\tlearn: 0.5480625\ttotal: 30.3s\tremaining: 1m 51s\n",
      "213:\tlearn: 0.5478257\ttotal: 30.4s\tremaining: 1m 51s\n",
      "214:\tlearn: 0.5475017\ttotal: 30.6s\tremaining: 1m 51s\n",
      "215:\tlearn: 0.5473000\ttotal: 30.7s\tremaining: 1m 51s\n",
      "216:\tlearn: 0.5470810\ttotal: 30.8s\tremaining: 1m 51s\n",
      "217:\tlearn: 0.5467902\ttotal: 31s\tremaining: 1m 51s\n",
      "218:\tlearn: 0.5465246\ttotal: 31.1s\tremaining: 1m 50s\n",
      "219:\tlearn: 0.5463062\ttotal: 31.2s\tremaining: 1m 50s\n",
      "220:\tlearn: 0.5459635\ttotal: 31.4s\tremaining: 1m 50s\n",
      "221:\tlearn: 0.5457240\ttotal: 31.5s\tremaining: 1m 50s\n",
      "222:\tlearn: 0.5456400\ttotal: 31.6s\tremaining: 1m 50s\n",
      "223:\tlearn: 0.5453084\ttotal: 31.7s\tremaining: 1m 49s\n",
      "224:\tlearn: 0.5449474\ttotal: 31.9s\tremaining: 1m 49s\n",
      "225:\tlearn: 0.5444541\ttotal: 32s\tremaining: 1m 49s\n",
      "226:\tlearn: 0.5442256\ttotal: 32.1s\tremaining: 1m 49s\n",
      "227:\tlearn: 0.5439767\ttotal: 32.3s\tremaining: 1m 49s\n",
      "228:\tlearn: 0.5437276\ttotal: 32.4s\tremaining: 1m 49s\n",
      "229:\tlearn: 0.5434497\ttotal: 32.5s\tremaining: 1m 48s\n",
      "230:\tlearn: 0.5432159\ttotal: 32.7s\tremaining: 1m 48s\n",
      "231:\tlearn: 0.5428673\ttotal: 32.8s\tremaining: 1m 48s\n",
      "232:\tlearn: 0.5426582\ttotal: 32.9s\tremaining: 1m 48s\n",
      "233:\tlearn: 0.5425256\ttotal: 33s\tremaining: 1m 48s\n",
      "234:\tlearn: 0.5423637\ttotal: 33.2s\tremaining: 1m 48s\n",
      "235:\tlearn: 0.5421308\ttotal: 33.3s\tremaining: 1m 47s\n",
      "236:\tlearn: 0.5419094\ttotal: 33.4s\tremaining: 1m 47s\n",
      "237:\tlearn: 0.5417901\ttotal: 33.6s\tremaining: 1m 47s\n",
      "238:\tlearn: 0.5415465\ttotal: 33.7s\tremaining: 1m 47s\n",
      "239:\tlearn: 0.5411516\ttotal: 33.8s\tremaining: 1m 47s\n",
      "240:\tlearn: 0.5409287\ttotal: 34s\tremaining: 1m 46s\n",
      "241:\tlearn: 0.5407287\ttotal: 34.1s\tremaining: 1m 46s\n",
      "242:\tlearn: 0.5405030\ttotal: 34.2s\tremaining: 1m 46s\n",
      "243:\tlearn: 0.5403365\ttotal: 34.3s\tremaining: 1m 46s\n",
      "244:\tlearn: 0.5400718\ttotal: 34.5s\tremaining: 1m 46s\n",
      "245:\tlearn: 0.5398389\ttotal: 34.6s\tremaining: 1m 46s\n",
      "246:\tlearn: 0.5395123\ttotal: 34.7s\tremaining: 1m 45s\n",
      "247:\tlearn: 0.5392495\ttotal: 34.9s\tremaining: 1m 45s\n",
      "248:\tlearn: 0.5390171\ttotal: 35s\tremaining: 1m 45s\n",
      "249:\tlearn: 0.5387333\ttotal: 35.1s\tremaining: 1m 45s\n",
      "250:\tlearn: 0.5385375\ttotal: 35.3s\tremaining: 1m 45s\n",
      "251:\tlearn: 0.5383107\ttotal: 35.4s\tremaining: 1m 45s\n",
      "252:\tlearn: 0.5379817\ttotal: 35.5s\tremaining: 1m 44s\n",
      "253:\tlearn: 0.5376320\ttotal: 35.6s\tremaining: 1m 44s\n",
      "254:\tlearn: 0.5373636\ttotal: 35.8s\tremaining: 1m 44s\n",
      "255:\tlearn: 0.5370516\ttotal: 35.9s\tremaining: 1m 44s\n",
      "256:\tlearn: 0.5369429\ttotal: 36s\tremaining: 1m 44s\n",
      "257:\tlearn: 0.5367405\ttotal: 36.2s\tremaining: 1m 44s\n",
      "258:\tlearn: 0.5363831\ttotal: 36.3s\tremaining: 1m 43s\n",
      "259:\tlearn: 0.5360023\ttotal: 36.4s\tremaining: 1m 43s\n",
      "260:\tlearn: 0.5357397\ttotal: 36.6s\tremaining: 1m 43s\n",
      "261:\tlearn: 0.5354647\ttotal: 36.7s\tremaining: 1m 43s\n",
      "262:\tlearn: 0.5352054\ttotal: 36.8s\tremaining: 1m 43s\n",
      "263:\tlearn: 0.5350184\ttotal: 36.9s\tremaining: 1m 42s\n",
      "264:\tlearn: 0.5347365\ttotal: 37.1s\tremaining: 1m 42s\n",
      "265:\tlearn: 0.5345492\ttotal: 37.2s\tremaining: 1m 42s\n",
      "266:\tlearn: 0.5342392\ttotal: 37.3s\tremaining: 1m 42s\n",
      "267:\tlearn: 0.5340254\ttotal: 37.5s\tremaining: 1m 42s\n",
      "268:\tlearn: 0.5337370\ttotal: 37.6s\tremaining: 1m 42s\n",
      "269:\tlearn: 0.5334051\ttotal: 37.7s\tremaining: 1m 42s\n",
      "270:\tlearn: 0.5331703\ttotal: 37.9s\tremaining: 1m 41s\n",
      "271:\tlearn: 0.5329504\ttotal: 38s\tremaining: 1m 41s\n",
      "272:\tlearn: 0.5328280\ttotal: 38.1s\tremaining: 1m 41s\n",
      "273:\tlearn: 0.5326664\ttotal: 38.3s\tremaining: 1m 41s\n",
      "274:\tlearn: 0.5322502\ttotal: 38.4s\tremaining: 1m 41s\n",
      "275:\tlearn: 0.5319141\ttotal: 38.5s\tremaining: 1m 41s\n",
      "276:\tlearn: 0.5318012\ttotal: 38.7s\tremaining: 1m 41s\n",
      "277:\tlearn: 0.5314920\ttotal: 38.8s\tremaining: 1m 40s\n",
      "278:\tlearn: 0.5312520\ttotal: 39s\tremaining: 1m 40s\n",
      "279:\tlearn: 0.5310072\ttotal: 39.1s\tremaining: 1m 40s\n",
      "280:\tlearn: 0.5307870\ttotal: 39.3s\tremaining: 1m 40s\n",
      "281:\tlearn: 0.5306401\ttotal: 39.4s\tremaining: 1m 40s\n",
      "282:\tlearn: 0.5304704\ttotal: 39.6s\tremaining: 1m 40s\n",
      "283:\tlearn: 0.5301823\ttotal: 39.7s\tremaining: 1m 40s\n",
      "284:\tlearn: 0.5299824\ttotal: 39.9s\tremaining: 1m 40s\n",
      "285:\tlearn: 0.5298487\ttotal: 40s\tremaining: 1m 39s\n",
      "286:\tlearn: 0.5296370\ttotal: 40.2s\tremaining: 1m 39s\n",
      "287:\tlearn: 0.5294600\ttotal: 40.3s\tremaining: 1m 39s\n",
      "288:\tlearn: 0.5293200\ttotal: 40.5s\tremaining: 1m 39s\n",
      "289:\tlearn: 0.5290836\ttotal: 40.6s\tremaining: 1m 39s\n",
      "290:\tlearn: 0.5288392\ttotal: 40.8s\tremaining: 1m 39s\n",
      "291:\tlearn: 0.5286100\ttotal: 40.9s\tremaining: 1m 39s\n",
      "292:\tlearn: 0.5283266\ttotal: 41.1s\tremaining: 1m 39s\n",
      "293:\tlearn: 0.5280377\ttotal: 41.2s\tremaining: 1m 38s\n",
      "294:\tlearn: 0.5278825\ttotal: 41.4s\tremaining: 1m 38s\n",
      "295:\tlearn: 0.5277610\ttotal: 41.5s\tremaining: 1m 38s\n",
      "296:\tlearn: 0.5274374\ttotal: 41.7s\tremaining: 1m 38s\n",
      "297:\tlearn: 0.5271055\ttotal: 41.8s\tremaining: 1m 38s\n",
      "298:\tlearn: 0.5267449\ttotal: 42s\tremaining: 1m 38s\n",
      "299:\tlearn: 0.5265583\ttotal: 42.1s\tremaining: 1m 38s\n",
      "300:\tlearn: 0.5263011\ttotal: 42.2s\tremaining: 1m 38s\n",
      "301:\tlearn: 0.5259090\ttotal: 42.3s\tremaining: 1m 37s\n",
      "302:\tlearn: 0.5256395\ttotal: 42.5s\tremaining: 1m 37s\n",
      "303:\tlearn: 0.5253764\ttotal: 42.6s\tremaining: 1m 37s\n",
      "304:\tlearn: 0.5250700\ttotal: 42.7s\tremaining: 1m 37s\n",
      "305:\tlearn: 0.5248881\ttotal: 42.9s\tremaining: 1m 37s\n",
      "306:\tlearn: 0.5246653\ttotal: 43s\tremaining: 1m 37s\n",
      "307:\tlearn: 0.5245196\ttotal: 43.1s\tremaining: 1m 36s\n",
      "308:\tlearn: 0.5242352\ttotal: 43.3s\tremaining: 1m 36s\n",
      "309:\tlearn: 0.5240388\ttotal: 43.4s\tremaining: 1m 36s\n",
      "310:\tlearn: 0.5239048\ttotal: 43.5s\tremaining: 1m 36s\n",
      "311:\tlearn: 0.5237473\ttotal: 43.7s\tremaining: 1m 36s\n",
      "312:\tlearn: 0.5234096\ttotal: 43.8s\tremaining: 1m 36s\n",
      "313:\tlearn: 0.5231179\ttotal: 43.9s\tremaining: 1m 35s\n"
     ]
    },
    {
     "name": "stdout",
     "output_type": "stream",
     "text": [
      "314:\tlearn: 0.5229250\ttotal: 44.1s\tremaining: 1m 35s\n",
      "315:\tlearn: 0.5225921\ttotal: 44.2s\tremaining: 1m 35s\n",
      "316:\tlearn: 0.5223429\ttotal: 44.3s\tremaining: 1m 35s\n",
      "317:\tlearn: 0.5219020\ttotal: 44.4s\tremaining: 1m 35s\n",
      "318:\tlearn: 0.5215881\ttotal: 44.6s\tremaining: 1m 35s\n",
      "319:\tlearn: 0.5212481\ttotal: 44.7s\tremaining: 1m 35s\n",
      "320:\tlearn: 0.5211824\ttotal: 44.8s\tremaining: 1m 34s\n",
      "321:\tlearn: 0.5209798\ttotal: 45s\tremaining: 1m 34s\n",
      "322:\tlearn: 0.5207231\ttotal: 45.1s\tremaining: 1m 34s\n",
      "323:\tlearn: 0.5204641\ttotal: 45.2s\tremaining: 1m 34s\n",
      "324:\tlearn: 0.5201908\ttotal: 45.4s\tremaining: 1m 34s\n",
      "325:\tlearn: 0.5199878\ttotal: 45.5s\tremaining: 1m 34s\n",
      "326:\tlearn: 0.5197865\ttotal: 45.6s\tremaining: 1m 33s\n",
      "327:\tlearn: 0.5194913\ttotal: 45.7s\tremaining: 1m 33s\n",
      "328:\tlearn: 0.5192096\ttotal: 45.9s\tremaining: 1m 33s\n",
      "329:\tlearn: 0.5189740\ttotal: 46s\tremaining: 1m 33s\n",
      "330:\tlearn: 0.5186248\ttotal: 46.2s\tremaining: 1m 33s\n",
      "331:\tlearn: 0.5182998\ttotal: 46.3s\tremaining: 1m 33s\n",
      "332:\tlearn: 0.5180113\ttotal: 46.4s\tremaining: 1m 32s\n",
      "333:\tlearn: 0.5178670\ttotal: 46.5s\tremaining: 1m 32s\n",
      "334:\tlearn: 0.5176278\ttotal: 46.7s\tremaining: 1m 32s\n",
      "335:\tlearn: 0.5172678\ttotal: 46.8s\tremaining: 1m 32s\n",
      "336:\tlearn: 0.5170046\ttotal: 46.9s\tremaining: 1m 32s\n",
      "337:\tlearn: 0.5168341\ttotal: 47.1s\tremaining: 1m 32s\n",
      "338:\tlearn: 0.5166029\ttotal: 47.2s\tremaining: 1m 32s\n",
      "339:\tlearn: 0.5164268\ttotal: 47.3s\tremaining: 1m 31s\n",
      "340:\tlearn: 0.5160787\ttotal: 47.4s\tremaining: 1m 31s\n",
      "341:\tlearn: 0.5157728\ttotal: 47.6s\tremaining: 1m 31s\n",
      "342:\tlearn: 0.5154991\ttotal: 47.7s\tremaining: 1m 31s\n",
      "343:\tlearn: 0.5154409\ttotal: 47.8s\tremaining: 1m 31s\n",
      "344:\tlearn: 0.5150979\ttotal: 48s\tremaining: 1m 31s\n",
      "345:\tlearn: 0.5148266\ttotal: 48.1s\tremaining: 1m 30s\n",
      "346:\tlearn: 0.5146550\ttotal: 48.2s\tremaining: 1m 30s\n",
      "347:\tlearn: 0.5143593\ttotal: 48.4s\tremaining: 1m 30s\n",
      "348:\tlearn: 0.5142244\ttotal: 48.5s\tremaining: 1m 30s\n",
      "349:\tlearn: 0.5139294\ttotal: 48.6s\tremaining: 1m 30s\n",
      "350:\tlearn: 0.5135747\ttotal: 48.8s\tremaining: 1m 30s\n",
      "351:\tlearn: 0.5132497\ttotal: 48.9s\tremaining: 1m 29s\n",
      "352:\tlearn: 0.5129911\ttotal: 49s\tremaining: 1m 29s\n",
      "353:\tlearn: 0.5127565\ttotal: 49.1s\tremaining: 1m 29s\n",
      "354:\tlearn: 0.5125019\ttotal: 49.3s\tremaining: 1m 29s\n",
      "355:\tlearn: 0.5122862\ttotal: 49.4s\tremaining: 1m 29s\n",
      "356:\tlearn: 0.5120248\ttotal: 49.5s\tremaining: 1m 29s\n",
      "357:\tlearn: 0.5117207\ttotal: 49.7s\tremaining: 1m 29s\n",
      "358:\tlearn: 0.5114423\ttotal: 49.8s\tremaining: 1m 28s\n",
      "359:\tlearn: 0.5111909\ttotal: 49.9s\tremaining: 1m 28s\n",
      "360:\tlearn: 0.5110235\ttotal: 50.1s\tremaining: 1m 28s\n",
      "361:\tlearn: 0.5108310\ttotal: 50.2s\tremaining: 1m 28s\n",
      "362:\tlearn: 0.5106147\ttotal: 50.3s\tremaining: 1m 28s\n",
      "363:\tlearn: 0.5104498\ttotal: 50.4s\tremaining: 1m 28s\n",
      "364:\tlearn: 0.5101492\ttotal: 50.6s\tremaining: 1m 28s\n",
      "365:\tlearn: 0.5099380\ttotal: 50.7s\tremaining: 1m 27s\n",
      "366:\tlearn: 0.5095571\ttotal: 50.8s\tremaining: 1m 27s\n",
      "367:\tlearn: 0.5092793\ttotal: 51s\tremaining: 1m 27s\n",
      "368:\tlearn: 0.5089815\ttotal: 51.1s\tremaining: 1m 27s\n",
      "369:\tlearn: 0.5086649\ttotal: 51.2s\tremaining: 1m 27s\n",
      "370:\tlearn: 0.5084020\ttotal: 51.4s\tremaining: 1m 27s\n",
      "371:\tlearn: 0.5081063\ttotal: 51.5s\tremaining: 1m 26s\n",
      "372:\tlearn: 0.5077952\ttotal: 51.6s\tremaining: 1m 26s\n",
      "373:\tlearn: 0.5076324\ttotal: 51.8s\tremaining: 1m 26s\n",
      "374:\tlearn: 0.5074044\ttotal: 51.9s\tremaining: 1m 26s\n",
      "375:\tlearn: 0.5071878\ttotal: 52s\tremaining: 1m 26s\n",
      "376:\tlearn: 0.5070466\ttotal: 52.1s\tremaining: 1m 26s\n",
      "377:\tlearn: 0.5067287\ttotal: 52.3s\tremaining: 1m 25s\n",
      "378:\tlearn: 0.5065333\ttotal: 52.4s\tremaining: 1m 25s\n",
      "379:\tlearn: 0.5063394\ttotal: 52.5s\tremaining: 1m 25s\n",
      "380:\tlearn: 0.5060772\ttotal: 52.6s\tremaining: 1m 25s\n",
      "381:\tlearn: 0.5057771\ttotal: 52.8s\tremaining: 1m 25s\n",
      "382:\tlearn: 0.5054448\ttotal: 52.9s\tremaining: 1m 25s\n",
      "383:\tlearn: 0.5052572\ttotal: 53s\tremaining: 1m 25s\n",
      "384:\tlearn: 0.5051206\ttotal: 53.2s\tremaining: 1m 24s\n",
      "385:\tlearn: 0.5049807\ttotal: 53.3s\tremaining: 1m 24s\n",
      "386:\tlearn: 0.5047957\ttotal: 53.4s\tremaining: 1m 24s\n",
      "387:\tlearn: 0.5046639\ttotal: 53.5s\tremaining: 1m 24s\n",
      "388:\tlearn: 0.5044590\ttotal: 53.7s\tremaining: 1m 24s\n",
      "389:\tlearn: 0.5042431\ttotal: 53.8s\tremaining: 1m 24s\n",
      "390:\tlearn: 0.5039913\ttotal: 53.9s\tremaining: 1m 24s\n",
      "391:\tlearn: 0.5036532\ttotal: 54.1s\tremaining: 1m 23s\n",
      "392:\tlearn: 0.5034306\ttotal: 54.2s\tremaining: 1m 23s\n",
      "393:\tlearn: 0.5032715\ttotal: 54.3s\tremaining: 1m 23s\n",
      "394:\tlearn: 0.5029435\ttotal: 54.5s\tremaining: 1m 23s\n",
      "395:\tlearn: 0.5027281\ttotal: 54.6s\tremaining: 1m 23s\n",
      "396:\tlearn: 0.5025706\ttotal: 54.8s\tremaining: 1m 23s\n",
      "397:\tlearn: 0.5024034\ttotal: 54.9s\tremaining: 1m 23s\n",
      "398:\tlearn: 0.5019666\ttotal: 55.1s\tremaining: 1m 22s\n",
      "399:\tlearn: 0.5018590\ttotal: 55.2s\tremaining: 1m 22s\n",
      "400:\tlearn: 0.5016023\ttotal: 55.4s\tremaining: 1m 22s\n",
      "401:\tlearn: 0.5014714\ttotal: 55.5s\tremaining: 1m 22s\n",
      "402:\tlearn: 0.5013020\ttotal: 55.6s\tremaining: 1m 22s\n",
      "403:\tlearn: 0.5011598\ttotal: 55.8s\tremaining: 1m 22s\n",
      "404:\tlearn: 0.5008998\ttotal: 55.9s\tremaining: 1m 22s\n",
      "405:\tlearn: 0.5006999\ttotal: 56.1s\tremaining: 1m 22s\n",
      "406:\tlearn: 0.5004375\ttotal: 56.2s\tremaining: 1m 21s\n",
      "407:\tlearn: 0.5001941\ttotal: 56.4s\tremaining: 1m 21s\n",
      "408:\tlearn: 0.4998717\ttotal: 56.5s\tremaining: 1m 21s\n",
      "409:\tlearn: 0.4996132\ttotal: 56.7s\tremaining: 1m 21s\n",
      "410:\tlearn: 0.4993437\ttotal: 56.8s\tremaining: 1m 21s\n",
      "411:\tlearn: 0.4990914\ttotal: 57s\tremaining: 1m 21s\n",
      "412:\tlearn: 0.4988061\ttotal: 57.1s\tremaining: 1m 21s\n",
      "413:\tlearn: 0.4984843\ttotal: 57.2s\tremaining: 1m 21s\n",
      "414:\tlearn: 0.4981996\ttotal: 57.4s\tremaining: 1m 20s\n",
      "415:\tlearn: 0.4980642\ttotal: 57.5s\tremaining: 1m 20s\n",
      "416:\tlearn: 0.4978273\ttotal: 57.7s\tremaining: 1m 20s\n",
      "417:\tlearn: 0.4976826\ttotal: 57.8s\tremaining: 1m 20s\n",
      "418:\tlearn: 0.4976144\ttotal: 58s\tremaining: 1m 20s\n",
      "419:\tlearn: 0.4973559\ttotal: 58.1s\tremaining: 1m 20s\n",
      "420:\tlearn: 0.4972214\ttotal: 58.2s\tremaining: 1m 20s\n",
      "421:\tlearn: 0.4971533\ttotal: 58.4s\tremaining: 1m 19s\n",
      "422:\tlearn: 0.4968337\ttotal: 58.5s\tremaining: 1m 19s\n",
      "423:\tlearn: 0.4965978\ttotal: 58.6s\tremaining: 1m 19s\n",
      "424:\tlearn: 0.4961275\ttotal: 58.8s\tremaining: 1m 19s\n",
      "425:\tlearn: 0.4958417\ttotal: 58.9s\tremaining: 1m 19s\n",
      "426:\tlearn: 0.4955574\ttotal: 59s\tremaining: 1m 19s\n",
      "427:\tlearn: 0.4952269\ttotal: 59.2s\tremaining: 1m 19s\n",
      "428:\tlearn: 0.4950872\ttotal: 59.3s\tremaining: 1m 18s\n",
      "429:\tlearn: 0.4948596\ttotal: 59.4s\tremaining: 1m 18s\n",
      "430:\tlearn: 0.4946106\ttotal: 59.5s\tremaining: 1m 18s\n",
      "431:\tlearn: 0.4942693\ttotal: 59.7s\tremaining: 1m 18s\n",
      "432:\tlearn: 0.4941006\ttotal: 59.8s\tremaining: 1m 18s\n",
      "433:\tlearn: 0.4938439\ttotal: 59.9s\tremaining: 1m 18s\n",
      "434:\tlearn: 0.4935236\ttotal: 1m\tremaining: 1m 17s\n",
      "435:\tlearn: 0.4934503\ttotal: 1m\tremaining: 1m 17s\n",
      "436:\tlearn: 0.4932844\ttotal: 1m\tremaining: 1m 17s\n",
      "437:\tlearn: 0.4932026\ttotal: 1m\tremaining: 1m 17s\n",
      "438:\tlearn: 0.4929675\ttotal: 1m\tremaining: 1m 17s\n",
      "439:\tlearn: 0.4927779\ttotal: 1m\tremaining: 1m 17s\n",
      "440:\tlearn: 0.4924861\ttotal: 1m\tremaining: 1m 17s\n",
      "441:\tlearn: 0.4922207\ttotal: 1m\tremaining: 1m 16s\n",
      "442:\tlearn: 0.4919387\ttotal: 1m 1s\tremaining: 1m 16s\n",
      "443:\tlearn: 0.4917056\ttotal: 1m 1s\tremaining: 1m 16s\n",
      "444:\tlearn: 0.4914567\ttotal: 1m 1s\tremaining: 1m 16s\n",
      "445:\tlearn: 0.4911948\ttotal: 1m 1s\tremaining: 1m 16s\n",
      "446:\tlearn: 0.4910453\ttotal: 1m 1s\tremaining: 1m 16s\n",
      "447:\tlearn: 0.4907640\ttotal: 1m 1s\tremaining: 1m 16s\n",
      "448:\tlearn: 0.4906013\ttotal: 1m 1s\tremaining: 1m 15s\n",
      "449:\tlearn: 0.4903860\ttotal: 1m 2s\tremaining: 1m 15s\n",
      "450:\tlearn: 0.4901832\ttotal: 1m 2s\tremaining: 1m 15s\n",
      "451:\tlearn: 0.4899452\ttotal: 1m 2s\tremaining: 1m 15s\n",
      "452:\tlearn: 0.4897588\ttotal: 1m 2s\tremaining: 1m 15s\n",
      "453:\tlearn: 0.4894266\ttotal: 1m 2s\tremaining: 1m 15s\n",
      "454:\tlearn: 0.4892250\ttotal: 1m 2s\tremaining: 1m 15s\n",
      "455:\tlearn: 0.4889760\ttotal: 1m 2s\tremaining: 1m 14s\n",
      "456:\tlearn: 0.4887257\ttotal: 1m 2s\tremaining: 1m 14s\n",
      "457:\tlearn: 0.4885449\ttotal: 1m 3s\tremaining: 1m 14s\n",
      "458:\tlearn: 0.4883847\ttotal: 1m 3s\tremaining: 1m 14s\n",
      "459:\tlearn: 0.4880392\ttotal: 1m 3s\tremaining: 1m 14s\n",
      "460:\tlearn: 0.4878156\ttotal: 1m 3s\tremaining: 1m 14s\n",
      "461:\tlearn: 0.4875968\ttotal: 1m 3s\tremaining: 1m 14s\n",
      "462:\tlearn: 0.4873891\ttotal: 1m 3s\tremaining: 1m 13s\n",
      "463:\tlearn: 0.4871245\ttotal: 1m 3s\tremaining: 1m 13s\n",
      "464:\tlearn: 0.4869826\ttotal: 1m 3s\tremaining: 1m 13s\n",
      "465:\tlearn: 0.4867154\ttotal: 1m 4s\tremaining: 1m 13s\n",
      "466:\tlearn: 0.4865284\ttotal: 1m 4s\tremaining: 1m 13s\n",
      "467:\tlearn: 0.4863558\ttotal: 1m 4s\tremaining: 1m 13s\n",
      "468:\tlearn: 0.4861810\ttotal: 1m 4s\tremaining: 1m 13s\n",
      "469:\tlearn: 0.4860324\ttotal: 1m 4s\tremaining: 1m 12s\n"
     ]
    },
    {
     "name": "stdout",
     "output_type": "stream",
     "text": [
      "470:\tlearn: 0.4857838\ttotal: 1m 4s\tremaining: 1m 12s\n",
      "471:\tlearn: 0.4856540\ttotal: 1m 4s\tremaining: 1m 12s\n",
      "472:\tlearn: 0.4852102\ttotal: 1m 5s\tremaining: 1m 12s\n",
      "473:\tlearn: 0.4850102\ttotal: 1m 5s\tremaining: 1m 12s\n",
      "474:\tlearn: 0.4847628\ttotal: 1m 5s\tremaining: 1m 12s\n",
      "475:\tlearn: 0.4845451\ttotal: 1m 5s\tremaining: 1m 11s\n",
      "476:\tlearn: 0.4842750\ttotal: 1m 5s\tremaining: 1m 11s\n",
      "477:\tlearn: 0.4842291\ttotal: 1m 5s\tremaining: 1m 11s\n",
      "478:\tlearn: 0.4840604\ttotal: 1m 5s\tremaining: 1m 11s\n",
      "479:\tlearn: 0.4838135\ttotal: 1m 5s\tremaining: 1m 11s\n",
      "480:\tlearn: 0.4835668\ttotal: 1m 6s\tremaining: 1m 11s\n",
      "481:\tlearn: 0.4834112\ttotal: 1m 6s\tremaining: 1m 11s\n",
      "482:\tlearn: 0.4831676\ttotal: 1m 6s\tremaining: 1m 10s\n",
      "483:\tlearn: 0.4828707\ttotal: 1m 6s\tremaining: 1m 10s\n",
      "484:\tlearn: 0.4826873\ttotal: 1m 6s\tremaining: 1m 10s\n",
      "485:\tlearn: 0.4824513\ttotal: 1m 6s\tremaining: 1m 10s\n",
      "486:\tlearn: 0.4822943\ttotal: 1m 6s\tremaining: 1m 10s\n",
      "487:\tlearn: 0.4821353\ttotal: 1m 6s\tremaining: 1m 10s\n",
      "488:\tlearn: 0.4819530\ttotal: 1m 7s\tremaining: 1m 10s\n",
      "489:\tlearn: 0.4817314\ttotal: 1m 7s\tremaining: 1m 9s\n",
      "490:\tlearn: 0.4814987\ttotal: 1m 7s\tremaining: 1m 9s\n",
      "491:\tlearn: 0.4812609\ttotal: 1m 7s\tremaining: 1m 9s\n",
      "492:\tlearn: 0.4810237\ttotal: 1m 7s\tremaining: 1m 9s\n",
      "493:\tlearn: 0.4809179\ttotal: 1m 7s\tremaining: 1m 9s\n",
      "494:\tlearn: 0.4806436\ttotal: 1m 7s\tremaining: 1m 9s\n",
      "495:\tlearn: 0.4805183\ttotal: 1m 7s\tremaining: 1m 9s\n",
      "496:\tlearn: 0.4803363\ttotal: 1m 8s\tremaining: 1m 8s\n",
      "497:\tlearn: 0.4801532\ttotal: 1m 8s\tremaining: 1m 8s\n",
      "498:\tlearn: 0.4800366\ttotal: 1m 8s\tremaining: 1m 8s\n",
      "499:\tlearn: 0.4798708\ttotal: 1m 8s\tremaining: 1m 8s\n",
      "500:\tlearn: 0.4796158\ttotal: 1m 8s\tremaining: 1m 8s\n",
      "501:\tlearn: 0.4793773\ttotal: 1m 8s\tremaining: 1m 8s\n",
      "502:\tlearn: 0.4791607\ttotal: 1m 8s\tremaining: 1m 8s\n",
      "503:\tlearn: 0.4790885\ttotal: 1m 9s\tremaining: 1m 7s\n",
      "504:\tlearn: 0.4789086\ttotal: 1m 9s\tremaining: 1m 7s\n",
      "505:\tlearn: 0.4786855\ttotal: 1m 9s\tremaining: 1m 7s\n",
      "506:\tlearn: 0.4784730\ttotal: 1m 9s\tremaining: 1m 7s\n",
      "507:\tlearn: 0.4782521\ttotal: 1m 9s\tremaining: 1m 7s\n",
      "508:\tlearn: 0.4781002\ttotal: 1m 9s\tremaining: 1m 7s\n",
      "509:\tlearn: 0.4779711\ttotal: 1m 9s\tremaining: 1m 7s\n",
      "510:\tlearn: 0.4778037\ttotal: 1m 9s\tremaining: 1m 6s\n",
      "511:\tlearn: 0.4777508\ttotal: 1m 10s\tremaining: 1m 6s\n",
      "512:\tlearn: 0.4775094\ttotal: 1m 10s\tremaining: 1m 6s\n",
      "513:\tlearn: 0.4773176\ttotal: 1m 10s\tremaining: 1m 6s\n",
      "514:\tlearn: 0.4770293\ttotal: 1m 10s\tremaining: 1m 6s\n",
      "515:\tlearn: 0.4767506\ttotal: 1m 10s\tremaining: 1m 6s\n",
      "516:\tlearn: 0.4766254\ttotal: 1m 10s\tremaining: 1m 6s\n",
      "517:\tlearn: 0.4763052\ttotal: 1m 10s\tremaining: 1m 5s\n",
      "518:\tlearn: 0.4760649\ttotal: 1m 11s\tremaining: 1m 5s\n",
      "519:\tlearn: 0.4758609\ttotal: 1m 11s\tremaining: 1m 5s\n",
      "520:\tlearn: 0.4756759\ttotal: 1m 11s\tremaining: 1m 5s\n",
      "521:\tlearn: 0.4754167\ttotal: 1m 11s\tremaining: 1m 5s\n",
      "522:\tlearn: 0.4751844\ttotal: 1m 11s\tremaining: 1m 5s\n",
      "523:\tlearn: 0.4749612\ttotal: 1m 11s\tremaining: 1m 5s\n",
      "524:\tlearn: 0.4747614\ttotal: 1m 11s\tremaining: 1m 5s\n",
      "525:\tlearn: 0.4745704\ttotal: 1m 12s\tremaining: 1m 4s\n",
      "526:\tlearn: 0.4744485\ttotal: 1m 12s\tremaining: 1m 4s\n",
      "527:\tlearn: 0.4742437\ttotal: 1m 12s\tremaining: 1m 4s\n",
      "528:\tlearn: 0.4741311\ttotal: 1m 12s\tremaining: 1m 4s\n",
      "529:\tlearn: 0.4740515\ttotal: 1m 12s\tremaining: 1m 4s\n",
      "530:\tlearn: 0.4737979\ttotal: 1m 12s\tremaining: 1m 4s\n",
      "531:\tlearn: 0.4736936\ttotal: 1m 12s\tremaining: 1m 4s\n",
      "532:\tlearn: 0.4734809\ttotal: 1m 13s\tremaining: 1m 4s\n",
      "533:\tlearn: 0.4733189\ttotal: 1m 13s\tremaining: 1m 3s\n",
      "534:\tlearn: 0.4730496\ttotal: 1m 13s\tremaining: 1m 3s\n",
      "535:\tlearn: 0.4727734\ttotal: 1m 13s\tremaining: 1m 3s\n",
      "536:\tlearn: 0.4724758\ttotal: 1m 13s\tremaining: 1m 3s\n",
      "537:\tlearn: 0.4723494\ttotal: 1m 13s\tremaining: 1m 3s\n",
      "538:\tlearn: 0.4721557\ttotal: 1m 13s\tremaining: 1m 3s\n",
      "539:\tlearn: 0.4720878\ttotal: 1m 14s\tremaining: 1m 3s\n",
      "540:\tlearn: 0.4719092\ttotal: 1m 14s\tremaining: 1m 2s\n",
      "541:\tlearn: 0.4717515\ttotal: 1m 14s\tremaining: 1m 2s\n",
      "542:\tlearn: 0.4716410\ttotal: 1m 14s\tremaining: 1m 2s\n",
      "543:\tlearn: 0.4715479\ttotal: 1m 14s\tremaining: 1m 2s\n",
      "544:\tlearn: 0.4712651\ttotal: 1m 14s\tremaining: 1m 2s\n",
      "545:\tlearn: 0.4710552\ttotal: 1m 14s\tremaining: 1m 2s\n",
      "546:\tlearn: 0.4709370\ttotal: 1m 14s\tremaining: 1m 2s\n",
      "547:\tlearn: 0.4707755\ttotal: 1m 15s\tremaining: 1m 1s\n",
      "548:\tlearn: 0.4705634\ttotal: 1m 15s\tremaining: 1m 1s\n",
      "549:\tlearn: 0.4704216\ttotal: 1m 15s\tremaining: 1m 1s\n",
      "550:\tlearn: 0.4702418\ttotal: 1m 15s\tremaining: 1m 1s\n",
      "551:\tlearn: 0.4701105\ttotal: 1m 15s\tremaining: 1m 1s\n",
      "552:\tlearn: 0.4699411\ttotal: 1m 15s\tremaining: 1m 1s\n",
      "553:\tlearn: 0.4698340\ttotal: 1m 15s\tremaining: 1m 1s\n",
      "554:\tlearn: 0.4696679\ttotal: 1m 16s\tremaining: 1m\n",
      "555:\tlearn: 0.4695035\ttotal: 1m 16s\tremaining: 1m\n",
      "556:\tlearn: 0.4693109\ttotal: 1m 16s\tremaining: 1m\n",
      "557:\tlearn: 0.4692578\ttotal: 1m 16s\tremaining: 1m\n",
      "558:\tlearn: 0.4690486\ttotal: 1m 16s\tremaining: 1m\n",
      "559:\tlearn: 0.4689673\ttotal: 1m 16s\tremaining: 1m\n",
      "560:\tlearn: 0.4688819\ttotal: 1m 16s\tremaining: 1m\n",
      "561:\tlearn: 0.4686643\ttotal: 1m 16s\tremaining: 60s\n",
      "562:\tlearn: 0.4686227\ttotal: 1m 17s\tremaining: 59.8s\n",
      "563:\tlearn: 0.4685035\ttotal: 1m 17s\tremaining: 59.7s\n",
      "564:\tlearn: 0.4683517\ttotal: 1m 17s\tremaining: 59.5s\n",
      "565:\tlearn: 0.4682268\ttotal: 1m 17s\tremaining: 59.4s\n",
      "566:\tlearn: 0.4680357\ttotal: 1m 17s\tremaining: 59.3s\n",
      "567:\tlearn: 0.4678854\ttotal: 1m 17s\tremaining: 59.1s\n",
      "568:\tlearn: 0.4677434\ttotal: 1m 17s\tremaining: 59s\n",
      "569:\tlearn: 0.4675031\ttotal: 1m 17s\tremaining: 58.8s\n",
      "570:\tlearn: 0.4674659\ttotal: 1m 18s\tremaining: 58.7s\n",
      "571:\tlearn: 0.4673538\ttotal: 1m 18s\tremaining: 58.6s\n",
      "572:\tlearn: 0.4671731\ttotal: 1m 18s\tremaining: 58.4s\n",
      "573:\tlearn: 0.4670386\ttotal: 1m 18s\tremaining: 58.3s\n",
      "574:\tlearn: 0.4668110\ttotal: 1m 18s\tremaining: 58.1s\n",
      "575:\tlearn: 0.4666466\ttotal: 1m 18s\tremaining: 58s\n",
      "576:\tlearn: 0.4665315\ttotal: 1m 18s\tremaining: 57.9s\n",
      "577:\tlearn: 0.4663613\ttotal: 1m 19s\tremaining: 57.7s\n",
      "578:\tlearn: 0.4661895\ttotal: 1m 19s\tremaining: 57.6s\n",
      "579:\tlearn: 0.4659899\ttotal: 1m 19s\tremaining: 57.4s\n",
      "580:\tlearn: 0.4658677\ttotal: 1m 19s\tremaining: 57.3s\n",
      "581:\tlearn: 0.4656458\ttotal: 1m 19s\tremaining: 57.1s\n",
      "582:\tlearn: 0.4655025\ttotal: 1m 19s\tremaining: 57s\n",
      "583:\tlearn: 0.4653998\ttotal: 1m 19s\tremaining: 56.9s\n",
      "584:\tlearn: 0.4652419\ttotal: 1m 19s\tremaining: 56.7s\n",
      "585:\tlearn: 0.4649844\ttotal: 1m 20s\tremaining: 56.6s\n",
      "586:\tlearn: 0.4648816\ttotal: 1m 20s\tremaining: 56.4s\n",
      "587:\tlearn: 0.4647152\ttotal: 1m 20s\tremaining: 56.3s\n",
      "588:\tlearn: 0.4645004\ttotal: 1m 20s\tremaining: 56.2s\n",
      "589:\tlearn: 0.4643715\ttotal: 1m 20s\tremaining: 56s\n",
      "590:\tlearn: 0.4641581\ttotal: 1m 20s\tremaining: 55.9s\n",
      "591:\tlearn: 0.4640023\ttotal: 1m 20s\tremaining: 55.8s\n",
      "592:\tlearn: 0.4638439\ttotal: 1m 21s\tremaining: 55.6s\n",
      "593:\tlearn: 0.4636971\ttotal: 1m 21s\tremaining: 55.5s\n",
      "594:\tlearn: 0.4636036\ttotal: 1m 21s\tremaining: 55.3s\n",
      "595:\tlearn: 0.4634115\ttotal: 1m 21s\tremaining: 55.2s\n",
      "596:\tlearn: 0.4632763\ttotal: 1m 21s\tremaining: 55.1s\n",
      "597:\tlearn: 0.4631442\ttotal: 1m 21s\tremaining: 54.9s\n",
      "598:\tlearn: 0.4630162\ttotal: 1m 21s\tremaining: 54.8s\n",
      "599:\tlearn: 0.4627971\ttotal: 1m 21s\tremaining: 54.6s\n",
      "600:\tlearn: 0.4625851\ttotal: 1m 22s\tremaining: 54.5s\n",
      "601:\tlearn: 0.4624976\ttotal: 1m 22s\tremaining: 54.4s\n",
      "602:\tlearn: 0.4622813\ttotal: 1m 22s\tremaining: 54.2s\n",
      "603:\tlearn: 0.4622078\ttotal: 1m 22s\tremaining: 54.1s\n",
      "604:\tlearn: 0.4620730\ttotal: 1m 22s\tremaining: 53.9s\n",
      "605:\tlearn: 0.4620241\ttotal: 1m 22s\tremaining: 53.8s\n",
      "606:\tlearn: 0.4618191\ttotal: 1m 22s\tremaining: 53.7s\n",
      "607:\tlearn: 0.4616672\ttotal: 1m 22s\tremaining: 53.5s\n",
      "608:\tlearn: 0.4615617\ttotal: 1m 23s\tremaining: 53.4s\n",
      "609:\tlearn: 0.4613571\ttotal: 1m 23s\tremaining: 53.2s\n",
      "610:\tlearn: 0.4611297\ttotal: 1m 23s\tremaining: 53.1s\n",
      "611:\tlearn: 0.4610294\ttotal: 1m 23s\tremaining: 53s\n",
      "612:\tlearn: 0.4609072\ttotal: 1m 23s\tremaining: 52.8s\n",
      "613:\tlearn: 0.4607928\ttotal: 1m 23s\tremaining: 52.7s\n",
      "614:\tlearn: 0.4606657\ttotal: 1m 23s\tremaining: 52.5s\n",
      "615:\tlearn: 0.4605628\ttotal: 1m 24s\tremaining: 52.4s\n",
      "616:\tlearn: 0.4604518\ttotal: 1m 24s\tremaining: 52.3s\n",
      "617:\tlearn: 0.4603568\ttotal: 1m 24s\tremaining: 52.1s\n",
      "618:\tlearn: 0.4601822\ttotal: 1m 24s\tremaining: 52s\n",
      "619:\tlearn: 0.4600845\ttotal: 1m 24s\tremaining: 51.8s\n",
      "620:\tlearn: 0.4599363\ttotal: 1m 24s\tremaining: 51.7s\n",
      "621:\tlearn: 0.4598375\ttotal: 1m 24s\tremaining: 51.6s\n",
      "622:\tlearn: 0.4597712\ttotal: 1m 24s\tremaining: 51.4s\n",
      "623:\tlearn: 0.4596253\ttotal: 1m 25s\tremaining: 51.3s\n",
      "624:\tlearn: 0.4594679\ttotal: 1m 25s\tremaining: 51.1s\n",
      "625:\tlearn: 0.4594003\ttotal: 1m 25s\tremaining: 51s\n"
     ]
    },
    {
     "name": "stdout",
     "output_type": "stream",
     "text": [
      "626:\tlearn: 0.4591689\ttotal: 1m 25s\tremaining: 50.9s\n",
      "627:\tlearn: 0.4590622\ttotal: 1m 25s\tremaining: 50.7s\n",
      "628:\tlearn: 0.4589348\ttotal: 1m 25s\tremaining: 50.6s\n",
      "629:\tlearn: 0.4588889\ttotal: 1m 25s\tremaining: 50.4s\n",
      "630:\tlearn: 0.4587786\ttotal: 1m 26s\tremaining: 50.3s\n",
      "631:\tlearn: 0.4586075\ttotal: 1m 26s\tremaining: 50.2s\n",
      "632:\tlearn: 0.4584688\ttotal: 1m 26s\tremaining: 50s\n",
      "633:\tlearn: 0.4583927\ttotal: 1m 26s\tremaining: 49.9s\n",
      "634:\tlearn: 0.4583301\ttotal: 1m 26s\tremaining: 49.8s\n",
      "635:\tlearn: 0.4582527\ttotal: 1m 26s\tremaining: 49.7s\n",
      "636:\tlearn: 0.4581210\ttotal: 1m 26s\tremaining: 49.6s\n",
      "637:\tlearn: 0.4580555\ttotal: 1m 27s\tremaining: 49.4s\n",
      "638:\tlearn: 0.4579649\ttotal: 1m 27s\tremaining: 49.3s\n",
      "639:\tlearn: 0.4578973\ttotal: 1m 27s\tremaining: 49.1s\n",
      "640:\tlearn: 0.4577863\ttotal: 1m 27s\tremaining: 49s\n",
      "641:\tlearn: 0.4577005\ttotal: 1m 27s\tremaining: 48.9s\n",
      "642:\tlearn: 0.4575143\ttotal: 1m 27s\tremaining: 48.8s\n",
      "643:\tlearn: 0.4573600\ttotal: 1m 27s\tremaining: 48.6s\n",
      "644:\tlearn: 0.4572640\ttotal: 1m 28s\tremaining: 48.5s\n",
      "645:\tlearn: 0.4571112\ttotal: 1m 28s\tremaining: 48.4s\n",
      "646:\tlearn: 0.4568015\ttotal: 1m 28s\tremaining: 48.2s\n",
      "647:\tlearn: 0.4566486\ttotal: 1m 28s\tremaining: 48.1s\n",
      "648:\tlearn: 0.4564116\ttotal: 1m 28s\tremaining: 48s\n",
      "649:\tlearn: 0.4563568\ttotal: 1m 28s\tremaining: 47.8s\n",
      "650:\tlearn: 0.4562818\ttotal: 1m 28s\tremaining: 47.7s\n",
      "651:\tlearn: 0.4561783\ttotal: 1m 29s\tremaining: 47.6s\n",
      "652:\tlearn: 0.4560903\ttotal: 1m 29s\tremaining: 47.4s\n",
      "653:\tlearn: 0.4558699\ttotal: 1m 29s\tremaining: 47.3s\n",
      "654:\tlearn: 0.4557594\ttotal: 1m 29s\tremaining: 47.2s\n",
      "655:\tlearn: 0.4556358\ttotal: 1m 29s\tremaining: 47s\n",
      "656:\tlearn: 0.4554816\ttotal: 1m 29s\tremaining: 46.9s\n",
      "657:\tlearn: 0.4553974\ttotal: 1m 29s\tremaining: 46.8s\n",
      "658:\tlearn: 0.4553606\ttotal: 1m 30s\tremaining: 46.6s\n",
      "659:\tlearn: 0.4551339\ttotal: 1m 30s\tremaining: 46.5s\n",
      "660:\tlearn: 0.4550529\ttotal: 1m 30s\tremaining: 46.3s\n",
      "661:\tlearn: 0.4550115\ttotal: 1m 30s\tremaining: 46.2s\n",
      "662:\tlearn: 0.4549575\ttotal: 1m 30s\tremaining: 46.1s\n",
      "663:\tlearn: 0.4547795\ttotal: 1m 30s\tremaining: 45.9s\n",
      "664:\tlearn: 0.4546249\ttotal: 1m 30s\tremaining: 45.8s\n",
      "665:\tlearn: 0.4544360\ttotal: 1m 31s\tremaining: 45.7s\n",
      "666:\tlearn: 0.4543269\ttotal: 1m 31s\tremaining: 45.5s\n",
      "667:\tlearn: 0.4541293\ttotal: 1m 31s\tremaining: 45.4s\n",
      "668:\tlearn: 0.4540879\ttotal: 1m 31s\tremaining: 45.2s\n",
      "669:\tlearn: 0.4539273\ttotal: 1m 31s\tremaining: 45.1s\n",
      "670:\tlearn: 0.4537685\ttotal: 1m 31s\tremaining: 45s\n",
      "671:\tlearn: 0.4537342\ttotal: 1m 31s\tremaining: 44.8s\n",
      "672:\tlearn: 0.4536523\ttotal: 1m 31s\tremaining: 44.7s\n",
      "673:\tlearn: 0.4535141\ttotal: 1m 32s\tremaining: 44.5s\n",
      "674:\tlearn: 0.4533940\ttotal: 1m 32s\tremaining: 44.4s\n",
      "675:\tlearn: 0.4531450\ttotal: 1m 32s\tremaining: 44.3s\n",
      "676:\tlearn: 0.4531022\ttotal: 1m 32s\tremaining: 44.1s\n",
      "677:\tlearn: 0.4530102\ttotal: 1m 32s\tremaining: 44s\n",
      "678:\tlearn: 0.4527493\ttotal: 1m 32s\tremaining: 43.9s\n",
      "679:\tlearn: 0.4526419\ttotal: 1m 32s\tremaining: 43.7s\n",
      "680:\tlearn: 0.4525763\ttotal: 1m 33s\tremaining: 43.6s\n",
      "681:\tlearn: 0.4524504\ttotal: 1m 33s\tremaining: 43.4s\n",
      "682:\tlearn: 0.4523807\ttotal: 1m 33s\tremaining: 43.3s\n",
      "683:\tlearn: 0.4522672\ttotal: 1m 33s\tremaining: 43.1s\n",
      "684:\tlearn: 0.4521736\ttotal: 1m 33s\tremaining: 43s\n",
      "685:\tlearn: 0.4520879\ttotal: 1m 33s\tremaining: 42.9s\n",
      "686:\tlearn: 0.4519003\ttotal: 1m 33s\tremaining: 42.8s\n",
      "687:\tlearn: 0.4517889\ttotal: 1m 34s\tremaining: 42.7s\n",
      "688:\tlearn: 0.4516547\ttotal: 1m 34s\tremaining: 42.5s\n",
      "689:\tlearn: 0.4514664\ttotal: 1m 34s\tremaining: 42.4s\n",
      "690:\tlearn: 0.4514071\ttotal: 1m 34s\tremaining: 42.3s\n",
      "691:\tlearn: 0.4511581\ttotal: 1m 34s\tremaining: 42.1s\n",
      "692:\tlearn: 0.4510289\ttotal: 1m 34s\tremaining: 42s\n",
      "693:\tlearn: 0.4508704\ttotal: 1m 34s\tremaining: 41.9s\n",
      "694:\tlearn: 0.4507351\ttotal: 1m 35s\tremaining: 41.7s\n",
      "695:\tlearn: 0.4505267\ttotal: 1m 35s\tremaining: 41.6s\n",
      "696:\tlearn: 0.4503652\ttotal: 1m 35s\tremaining: 41.5s\n",
      "697:\tlearn: 0.4503127\ttotal: 1m 35s\tremaining: 41.3s\n",
      "698:\tlearn: 0.4501629\ttotal: 1m 35s\tremaining: 41.2s\n",
      "699:\tlearn: 0.4500020\ttotal: 1m 35s\tremaining: 41s\n",
      "700:\tlearn: 0.4499299\ttotal: 1m 35s\tremaining: 40.9s\n",
      "701:\tlearn: 0.4497263\ttotal: 1m 36s\tremaining: 40.8s\n",
      "702:\tlearn: 0.4496208\ttotal: 1m 36s\tremaining: 40.6s\n",
      "703:\tlearn: 0.4495816\ttotal: 1m 36s\tremaining: 40.5s\n",
      "704:\tlearn: 0.4494672\ttotal: 1m 36s\tremaining: 40.4s\n",
      "705:\tlearn: 0.4494386\ttotal: 1m 36s\tremaining: 40.2s\n",
      "706:\tlearn: 0.4494068\ttotal: 1m 36s\tremaining: 40.1s\n",
      "707:\tlearn: 0.4491964\ttotal: 1m 36s\tremaining: 39.9s\n",
      "708:\tlearn: 0.4490730\ttotal: 1m 36s\tremaining: 39.8s\n",
      "709:\tlearn: 0.4489547\ttotal: 1m 37s\tremaining: 39.7s\n",
      "710:\tlearn: 0.4488786\ttotal: 1m 37s\tremaining: 39.5s\n",
      "711:\tlearn: 0.4487256\ttotal: 1m 37s\tremaining: 39.4s\n",
      "712:\tlearn: 0.4485433\ttotal: 1m 37s\tremaining: 39.2s\n",
      "713:\tlearn: 0.4483674\ttotal: 1m 37s\tremaining: 39.1s\n",
      "714:\tlearn: 0.4481019\ttotal: 1m 37s\tremaining: 39s\n",
      "715:\tlearn: 0.4480086\ttotal: 1m 37s\tremaining: 38.8s\n",
      "716:\tlearn: 0.4478086\ttotal: 1m 38s\tremaining: 38.7s\n",
      "717:\tlearn: 0.4477297\ttotal: 1m 38s\tremaining: 38.6s\n",
      "718:\tlearn: 0.4475054\ttotal: 1m 38s\tremaining: 38.4s\n",
      "719:\tlearn: 0.4474795\ttotal: 1m 38s\tremaining: 38.3s\n",
      "720:\tlearn: 0.4473188\ttotal: 1m 38s\tremaining: 38.1s\n",
      "721:\tlearn: 0.4472423\ttotal: 1m 38s\tremaining: 38s\n",
      "722:\tlearn: 0.4470785\ttotal: 1m 38s\tremaining: 37.9s\n",
      "723:\tlearn: 0.4468955\ttotal: 1m 39s\tremaining: 37.7s\n",
      "724:\tlearn: 0.4466990\ttotal: 1m 39s\tremaining: 37.6s\n",
      "725:\tlearn: 0.4466515\ttotal: 1m 39s\tremaining: 37.5s\n",
      "726:\tlearn: 0.4465021\ttotal: 1m 39s\tremaining: 37.4s\n",
      "727:\tlearn: 0.4463772\ttotal: 1m 39s\tremaining: 37.2s\n",
      "728:\tlearn: 0.4463015\ttotal: 1m 39s\tremaining: 37.1s\n",
      "729:\tlearn: 0.4462173\ttotal: 1m 39s\tremaining: 37s\n",
      "730:\tlearn: 0.4460261\ttotal: 1m 40s\tremaining: 36.8s\n",
      "731:\tlearn: 0.4459768\ttotal: 1m 40s\tremaining: 36.7s\n",
      "732:\tlearn: 0.4458670\ttotal: 1m 40s\tremaining: 36.5s\n",
      "733:\tlearn: 0.4456785\ttotal: 1m 40s\tremaining: 36.4s\n",
      "734:\tlearn: 0.4455473\ttotal: 1m 40s\tremaining: 36.3s\n",
      "735:\tlearn: 0.4454923\ttotal: 1m 40s\tremaining: 36.1s\n",
      "736:\tlearn: 0.4453663\ttotal: 1m 40s\tremaining: 36s\n",
      "737:\tlearn: 0.4452466\ttotal: 1m 40s\tremaining: 35.9s\n",
      "738:\tlearn: 0.4451157\ttotal: 1m 41s\tremaining: 35.7s\n",
      "739:\tlearn: 0.4449720\ttotal: 1m 41s\tremaining: 35.6s\n",
      "740:\tlearn: 0.4449328\ttotal: 1m 41s\tremaining: 35.4s\n",
      "741:\tlearn: 0.4448595\ttotal: 1m 41s\tremaining: 35.3s\n",
      "742:\tlearn: 0.4447695\ttotal: 1m 41s\tremaining: 35.2s\n",
      "743:\tlearn: 0.4446484\ttotal: 1m 41s\tremaining: 35s\n",
      "744:\tlearn: 0.4445206\ttotal: 1m 41s\tremaining: 34.9s\n",
      "745:\tlearn: 0.4444596\ttotal: 1m 42s\tremaining: 34.8s\n",
      "746:\tlearn: 0.4443197\ttotal: 1m 42s\tremaining: 34.6s\n",
      "747:\tlearn: 0.4442539\ttotal: 1m 42s\tremaining: 34.5s\n",
      "748:\tlearn: 0.4440753\ttotal: 1m 42s\tremaining: 34.4s\n",
      "749:\tlearn: 0.4439631\ttotal: 1m 42s\tremaining: 34.2s\n",
      "750:\tlearn: 0.4438377\ttotal: 1m 42s\tremaining: 34.1s\n",
      "751:\tlearn: 0.4437230\ttotal: 1m 42s\tremaining: 34s\n",
      "752:\tlearn: 0.4436948\ttotal: 1m 43s\tremaining: 33.8s\n",
      "753:\tlearn: 0.4436049\ttotal: 1m 43s\tremaining: 33.7s\n",
      "754:\tlearn: 0.4434262\ttotal: 1m 43s\tremaining: 33.6s\n",
      "755:\tlearn: 0.4433212\ttotal: 1m 43s\tremaining: 33.4s\n",
      "756:\tlearn: 0.4432277\ttotal: 1m 43s\tremaining: 33.3s\n",
      "757:\tlearn: 0.4430585\ttotal: 1m 43s\tremaining: 33.2s\n",
      "758:\tlearn: 0.4429519\ttotal: 1m 44s\tremaining: 33s\n",
      "759:\tlearn: 0.4428346\ttotal: 1m 44s\tremaining: 32.9s\n",
      "760:\tlearn: 0.4426285\ttotal: 1m 44s\tremaining: 32.8s\n",
      "761:\tlearn: 0.4425672\ttotal: 1m 44s\tremaining: 32.6s\n",
      "762:\tlearn: 0.4424759\ttotal: 1m 44s\tremaining: 32.5s\n",
      "763:\tlearn: 0.4422691\ttotal: 1m 44s\tremaining: 32.4s\n",
      "764:\tlearn: 0.4420114\ttotal: 1m 44s\tremaining: 32.2s\n",
      "765:\tlearn: 0.4418896\ttotal: 1m 45s\tremaining: 32.1s\n",
      "766:\tlearn: 0.4417940\ttotal: 1m 45s\tremaining: 32s\n",
      "767:\tlearn: 0.4416792\ttotal: 1m 45s\tremaining: 31.8s\n",
      "768:\tlearn: 0.4415269\ttotal: 1m 45s\tremaining: 31.7s\n",
      "769:\tlearn: 0.4414088\ttotal: 1m 45s\tremaining: 31.6s\n",
      "770:\tlearn: 0.4412653\ttotal: 1m 45s\tremaining: 31.4s\n",
      "771:\tlearn: 0.4411820\ttotal: 1m 45s\tremaining: 31.3s\n",
      "772:\tlearn: 0.4411141\ttotal: 1m 46s\tremaining: 31.1s\n",
      "773:\tlearn: 0.4409851\ttotal: 1m 46s\tremaining: 31s\n",
      "774:\tlearn: 0.4408929\ttotal: 1m 46s\tremaining: 30.9s\n",
      "775:\tlearn: 0.4408056\ttotal: 1m 46s\tremaining: 30.7s\n",
      "776:\tlearn: 0.4407672\ttotal: 1m 46s\tremaining: 30.6s\n",
      "777:\tlearn: 0.4406240\ttotal: 1m 46s\tremaining: 30.5s\n",
      "778:\tlearn: 0.4405594\ttotal: 1m 46s\tremaining: 30.3s\n",
      "779:\tlearn: 0.4404324\ttotal: 1m 47s\tremaining: 30.2s\n",
      "780:\tlearn: 0.4403490\ttotal: 1m 47s\tremaining: 30.1s\n",
      "781:\tlearn: 0.4402893\ttotal: 1m 47s\tremaining: 29.9s\n"
     ]
    },
    {
     "name": "stdout",
     "output_type": "stream",
     "text": [
      "782:\tlearn: 0.4401323\ttotal: 1m 47s\tremaining: 29.8s\n",
      "783:\tlearn: 0.4399491\ttotal: 1m 47s\tremaining: 29.7s\n",
      "784:\tlearn: 0.4398062\ttotal: 1m 47s\tremaining: 29.6s\n",
      "785:\tlearn: 0.4397608\ttotal: 1m 48s\tremaining: 29.4s\n",
      "786:\tlearn: 0.4396737\ttotal: 1m 48s\tremaining: 29.3s\n",
      "787:\tlearn: 0.4395581\ttotal: 1m 48s\tremaining: 29.2s\n",
      "788:\tlearn: 0.4393645\ttotal: 1m 48s\tremaining: 29s\n",
      "789:\tlearn: 0.4391889\ttotal: 1m 48s\tremaining: 28.9s\n",
      "790:\tlearn: 0.4391030\ttotal: 1m 48s\tremaining: 28.8s\n",
      "791:\tlearn: 0.4390655\ttotal: 1m 49s\tremaining: 28.6s\n",
      "792:\tlearn: 0.4389572\ttotal: 1m 49s\tremaining: 28.5s\n",
      "793:\tlearn: 0.4389393\ttotal: 1m 49s\tremaining: 28.4s\n",
      "794:\tlearn: 0.4388879\ttotal: 1m 49s\tremaining: 28.2s\n",
      "795:\tlearn: 0.4388478\ttotal: 1m 49s\tremaining: 28.1s\n",
      "796:\tlearn: 0.4387337\ttotal: 1m 49s\tremaining: 28s\n",
      "797:\tlearn: 0.4386580\ttotal: 1m 49s\tremaining: 27.8s\n",
      "798:\tlearn: 0.4385596\ttotal: 1m 50s\tremaining: 27.7s\n",
      "799:\tlearn: 0.4384068\ttotal: 1m 50s\tremaining: 27.5s\n",
      "800:\tlearn: 0.4383469\ttotal: 1m 50s\tremaining: 27.4s\n",
      "801:\tlearn: 0.4382946\ttotal: 1m 50s\tremaining: 27.3s\n",
      "802:\tlearn: 0.4382175\ttotal: 1m 50s\tremaining: 27.1s\n",
      "803:\tlearn: 0.4381678\ttotal: 1m 50s\tremaining: 27s\n",
      "804:\tlearn: 0.4378989\ttotal: 1m 50s\tremaining: 26.9s\n",
      "805:\tlearn: 0.4378187\ttotal: 1m 50s\tremaining: 26.7s\n",
      "806:\tlearn: 0.4376793\ttotal: 1m 51s\tremaining: 26.6s\n",
      "807:\tlearn: 0.4375594\ttotal: 1m 51s\tremaining: 26.4s\n",
      "808:\tlearn: 0.4374398\ttotal: 1m 51s\tremaining: 26.3s\n",
      "809:\tlearn: 0.4373080\ttotal: 1m 51s\tremaining: 26.2s\n",
      "810:\tlearn: 0.4371301\ttotal: 1m 51s\tremaining: 26s\n",
      "811:\tlearn: 0.4370521\ttotal: 1m 51s\tremaining: 25.9s\n",
      "812:\tlearn: 0.4369536\ttotal: 1m 51s\tremaining: 25.7s\n",
      "813:\tlearn: 0.4369213\ttotal: 1m 52s\tremaining: 25.6s\n",
      "814:\tlearn: 0.4368696\ttotal: 1m 52s\tremaining: 25.5s\n",
      "815:\tlearn: 0.4367463\ttotal: 1m 52s\tremaining: 25.3s\n",
      "816:\tlearn: 0.4365504\ttotal: 1m 52s\tremaining: 25.2s\n",
      "817:\tlearn: 0.4364069\ttotal: 1m 52s\tremaining: 25s\n",
      "818:\tlearn: 0.4362772\ttotal: 1m 52s\tremaining: 24.9s\n",
      "819:\tlearn: 0.4361570\ttotal: 1m 52s\tremaining: 24.8s\n",
      "820:\tlearn: 0.4360085\ttotal: 1m 52s\tremaining: 24.6s\n",
      "821:\tlearn: 0.4359370\ttotal: 1m 53s\tremaining: 24.5s\n",
      "822:\tlearn: 0.4357824\ttotal: 1m 53s\tremaining: 24.3s\n",
      "823:\tlearn: 0.4356555\ttotal: 1m 53s\tremaining: 24.2s\n",
      "824:\tlearn: 0.4355938\ttotal: 1m 53s\tremaining: 24.1s\n",
      "825:\tlearn: 0.4355010\ttotal: 1m 53s\tremaining: 23.9s\n",
      "826:\tlearn: 0.4354331\ttotal: 1m 53s\tremaining: 23.8s\n",
      "827:\tlearn: 0.4352057\ttotal: 1m 53s\tremaining: 23.7s\n",
      "828:\tlearn: 0.4350031\ttotal: 1m 54s\tremaining: 23.5s\n",
      "829:\tlearn: 0.4349427\ttotal: 1m 54s\tremaining: 23.4s\n",
      "830:\tlearn: 0.4348451\ttotal: 1m 54s\tremaining: 23.2s\n",
      "831:\tlearn: 0.4347548\ttotal: 1m 54s\tremaining: 23.1s\n",
      "832:\tlearn: 0.4345714\ttotal: 1m 54s\tremaining: 23s\n",
      "833:\tlearn: 0.4344940\ttotal: 1m 54s\tremaining: 22.8s\n",
      "834:\tlearn: 0.4343957\ttotal: 1m 54s\tremaining: 22.7s\n",
      "835:\tlearn: 0.4343355\ttotal: 1m 54s\tremaining: 22.5s\n",
      "836:\tlearn: 0.4342239\ttotal: 1m 55s\tremaining: 22.4s\n",
      "837:\tlearn: 0.4341471\ttotal: 1m 55s\tremaining: 22.3s\n",
      "838:\tlearn: 0.4340916\ttotal: 1m 55s\tremaining: 22.1s\n",
      "839:\tlearn: 0.4340435\ttotal: 1m 55s\tremaining: 22s\n",
      "840:\tlearn: 0.4340150\ttotal: 1m 55s\tremaining: 21.9s\n",
      "841:\tlearn: 0.4338769\ttotal: 1m 55s\tremaining: 21.7s\n",
      "842:\tlearn: 0.4337590\ttotal: 1m 55s\tremaining: 21.6s\n",
      "843:\tlearn: 0.4336959\ttotal: 1m 55s\tremaining: 21.4s\n",
      "844:\tlearn: 0.4336145\ttotal: 1m 56s\tremaining: 21.3s\n",
      "845:\tlearn: 0.4334902\ttotal: 1m 56s\tremaining: 21.2s\n",
      "846:\tlearn: 0.4334533\ttotal: 1m 56s\tremaining: 21s\n",
      "847:\tlearn: 0.4334243\ttotal: 1m 56s\tremaining: 20.9s\n",
      "848:\tlearn: 0.4333299\ttotal: 1m 56s\tremaining: 20.7s\n",
      "849:\tlearn: 0.4332015\ttotal: 1m 56s\tremaining: 20.6s\n",
      "850:\tlearn: 0.4330542\ttotal: 1m 56s\tremaining: 20.5s\n",
      "851:\tlearn: 0.4329843\ttotal: 1m 57s\tremaining: 20.3s\n",
      "852:\tlearn: 0.4328160\ttotal: 1m 57s\tremaining: 20.2s\n",
      "853:\tlearn: 0.4327349\ttotal: 1m 57s\tremaining: 20.1s\n",
      "854:\tlearn: 0.4326961\ttotal: 1m 57s\tremaining: 19.9s\n",
      "855:\tlearn: 0.4326074\ttotal: 1m 57s\tremaining: 19.8s\n",
      "856:\tlearn: 0.4325353\ttotal: 1m 57s\tremaining: 19.6s\n",
      "857:\tlearn: 0.4323915\ttotal: 1m 57s\tremaining: 19.5s\n",
      "858:\tlearn: 0.4322308\ttotal: 1m 57s\tremaining: 19.4s\n",
      "859:\tlearn: 0.4321442\ttotal: 1m 58s\tremaining: 19.2s\n",
      "860:\tlearn: 0.4319932\ttotal: 1m 58s\tremaining: 19.1s\n",
      "861:\tlearn: 0.4318001\ttotal: 1m 58s\tremaining: 19s\n",
      "862:\tlearn: 0.4317341\ttotal: 1m 58s\tremaining: 18.8s\n",
      "863:\tlearn: 0.4316381\ttotal: 1m 58s\tremaining: 18.7s\n",
      "864:\tlearn: 0.4314502\ttotal: 1m 58s\tremaining: 18.6s\n",
      "865:\tlearn: 0.4314273\ttotal: 1m 59s\tremaining: 18.4s\n",
      "866:\tlearn: 0.4313049\ttotal: 1m 59s\tremaining: 18.3s\n",
      "867:\tlearn: 0.4311886\ttotal: 1m 59s\tremaining: 18.1s\n",
      "868:\tlearn: 0.4311194\ttotal: 1m 59s\tremaining: 18s\n",
      "869:\tlearn: 0.4310664\ttotal: 1m 59s\tremaining: 17.9s\n",
      "870:\tlearn: 0.4309504\ttotal: 1m 59s\tremaining: 17.7s\n",
      "871:\tlearn: 0.4308670\ttotal: 1m 59s\tremaining: 17.6s\n",
      "872:\tlearn: 0.4308199\ttotal: 2m\tremaining: 17.5s\n",
      "873:\tlearn: 0.4307092\ttotal: 2m\tremaining: 17.3s\n",
      "874:\tlearn: 0.4306059\ttotal: 2m\tremaining: 17.2s\n",
      "875:\tlearn: 0.4303329\ttotal: 2m\tremaining: 17.1s\n",
      "876:\tlearn: 0.4301745\ttotal: 2m\tremaining: 16.9s\n",
      "877:\tlearn: 0.4300238\ttotal: 2m\tremaining: 16.8s\n",
      "878:\tlearn: 0.4299948\ttotal: 2m 1s\tremaining: 16.7s\n",
      "879:\tlearn: 0.4299123\ttotal: 2m 1s\tremaining: 16.5s\n",
      "880:\tlearn: 0.4298221\ttotal: 2m 1s\tremaining: 16.4s\n",
      "881:\tlearn: 0.4297312\ttotal: 2m 1s\tremaining: 16.3s\n",
      "882:\tlearn: 0.4296606\ttotal: 2m 1s\tremaining: 16.1s\n",
      "883:\tlearn: 0.4295780\ttotal: 2m 1s\tremaining: 16s\n",
      "884:\tlearn: 0.4295058\ttotal: 2m 1s\tremaining: 15.8s\n",
      "885:\tlearn: 0.4294580\ttotal: 2m 2s\tremaining: 15.7s\n",
      "886:\tlearn: 0.4293428\ttotal: 2m 2s\tremaining: 15.6s\n",
      "887:\tlearn: 0.4291680\ttotal: 2m 2s\tremaining: 15.4s\n",
      "888:\tlearn: 0.4290975\ttotal: 2m 2s\tremaining: 15.3s\n",
      "889:\tlearn: 0.4290271\ttotal: 2m 2s\tremaining: 15.1s\n",
      "890:\tlearn: 0.4289965\ttotal: 2m 2s\tremaining: 15s\n",
      "891:\tlearn: 0.4288287\ttotal: 2m 2s\tremaining: 14.9s\n",
      "892:\tlearn: 0.4287369\ttotal: 2m 2s\tremaining: 14.7s\n",
      "893:\tlearn: 0.4286810\ttotal: 2m 3s\tremaining: 14.6s\n",
      "894:\tlearn: 0.4285935\ttotal: 2m 3s\tremaining: 14.5s\n",
      "895:\tlearn: 0.4285707\ttotal: 2m 3s\tremaining: 14.3s\n",
      "896:\tlearn: 0.4284262\ttotal: 2m 3s\tremaining: 14.2s\n",
      "897:\tlearn: 0.4283924\ttotal: 2m 3s\tremaining: 14s\n",
      "898:\tlearn: 0.4283350\ttotal: 2m 3s\tremaining: 13.9s\n",
      "899:\tlearn: 0.4283106\ttotal: 2m 3s\tremaining: 13.8s\n",
      "900:\tlearn: 0.4282138\ttotal: 2m 4s\tremaining: 13.6s\n",
      "901:\tlearn: 0.4280631\ttotal: 2m 4s\tremaining: 13.5s\n",
      "902:\tlearn: 0.4279571\ttotal: 2m 4s\tremaining: 13.4s\n",
      "903:\tlearn: 0.4279348\ttotal: 2m 4s\tremaining: 13.2s\n",
      "904:\tlearn: 0.4278837\ttotal: 2m 4s\tremaining: 13.1s\n",
      "905:\tlearn: 0.4277242\ttotal: 2m 4s\tremaining: 12.9s\n",
      "906:\tlearn: 0.4276305\ttotal: 2m 4s\tremaining: 12.8s\n",
      "907:\tlearn: 0.4274271\ttotal: 2m 4s\tremaining: 12.7s\n",
      "908:\tlearn: 0.4271948\ttotal: 2m 5s\tremaining: 12.5s\n",
      "909:\tlearn: 0.4270760\ttotal: 2m 5s\tremaining: 12.4s\n",
      "910:\tlearn: 0.4269938\ttotal: 2m 5s\tremaining: 12.2s\n",
      "911:\tlearn: 0.4269466\ttotal: 2m 5s\tremaining: 12.1s\n",
      "912:\tlearn: 0.4268513\ttotal: 2m 5s\tremaining: 12s\n",
      "913:\tlearn: 0.4267589\ttotal: 2m 5s\tremaining: 11.8s\n",
      "914:\tlearn: 0.4266614\ttotal: 2m 5s\tremaining: 11.7s\n",
      "915:\tlearn: 0.4266297\ttotal: 2m 6s\tremaining: 11.6s\n",
      "916:\tlearn: 0.4265063\ttotal: 2m 6s\tremaining: 11.4s\n",
      "917:\tlearn: 0.4264829\ttotal: 2m 6s\tremaining: 11.3s\n",
      "918:\tlearn: 0.4264568\ttotal: 2m 6s\tremaining: 11.1s\n",
      "919:\tlearn: 0.4263927\ttotal: 2m 6s\tremaining: 11s\n",
      "920:\tlearn: 0.4262675\ttotal: 2m 6s\tremaining: 10.9s\n",
      "921:\tlearn: 0.4261731\ttotal: 2m 6s\tremaining: 10.7s\n",
      "922:\tlearn: 0.4261159\ttotal: 2m 6s\tremaining: 10.6s\n",
      "923:\tlearn: 0.4259907\ttotal: 2m 7s\tremaining: 10.5s\n",
      "924:\tlearn: 0.4259607\ttotal: 2m 7s\tremaining: 10.3s\n",
      "925:\tlearn: 0.4258942\ttotal: 2m 7s\tremaining: 10.2s\n",
      "926:\tlearn: 0.4258552\ttotal: 2m 7s\tremaining: 10s\n",
      "927:\tlearn: 0.4256782\ttotal: 2m 7s\tremaining: 9.9s\n",
      "928:\tlearn: 0.4255636\ttotal: 2m 7s\tremaining: 9.76s\n",
      "929:\tlearn: 0.4255014\ttotal: 2m 7s\tremaining: 9.62s\n",
      "930:\tlearn: 0.4253948\ttotal: 2m 7s\tremaining: 9.49s\n",
      "931:\tlearn: 0.4253111\ttotal: 2m 8s\tremaining: 9.35s\n",
      "932:\tlearn: 0.4252741\ttotal: 2m 8s\tremaining: 9.21s\n",
      "933:\tlearn: 0.4252069\ttotal: 2m 8s\tremaining: 9.07s\n",
      "934:\tlearn: 0.4251004\ttotal: 2m 8s\tremaining: 8.93s\n",
      "935:\tlearn: 0.4250315\ttotal: 2m 8s\tremaining: 8.8s\n",
      "936:\tlearn: 0.4249052\ttotal: 2m 8s\tremaining: 8.66s\n",
      "937:\tlearn: 0.4248366\ttotal: 2m 8s\tremaining: 8.52s\n",
      "938:\tlearn: 0.4248190\ttotal: 2m 9s\tremaining: 8.38s\n"
     ]
    },
    {
     "name": "stdout",
     "output_type": "stream",
     "text": [
      "939:\tlearn: 0.4247651\ttotal: 2m 9s\tremaining: 8.24s\n",
      "940:\tlearn: 0.4247135\ttotal: 2m 9s\tremaining: 8.11s\n",
      "941:\tlearn: 0.4246541\ttotal: 2m 9s\tremaining: 7.97s\n",
      "942:\tlearn: 0.4245802\ttotal: 2m 9s\tremaining: 7.83s\n",
      "943:\tlearn: 0.4244743\ttotal: 2m 9s\tremaining: 7.69s\n",
      "944:\tlearn: 0.4243754\ttotal: 2m 9s\tremaining: 7.56s\n",
      "945:\tlearn: 0.4243079\ttotal: 2m 9s\tremaining: 7.42s\n",
      "946:\tlearn: 0.4240982\ttotal: 2m 10s\tremaining: 7.28s\n",
      "947:\tlearn: 0.4240185\ttotal: 2m 10s\tremaining: 7.14s\n",
      "948:\tlearn: 0.4239019\ttotal: 2m 10s\tremaining: 7.01s\n",
      "949:\tlearn: 0.4238553\ttotal: 2m 10s\tremaining: 6.87s\n",
      "950:\tlearn: 0.4237591\ttotal: 2m 10s\tremaining: 6.73s\n",
      "951:\tlearn: 0.4236964\ttotal: 2m 10s\tremaining: 6.59s\n",
      "952:\tlearn: 0.4236165\ttotal: 2m 10s\tremaining: 6.46s\n",
      "953:\tlearn: 0.4235053\ttotal: 2m 11s\tremaining: 6.32s\n",
      "954:\tlearn: 0.4233237\ttotal: 2m 11s\tremaining: 6.18s\n",
      "955:\tlearn: 0.4232745\ttotal: 2m 11s\tremaining: 6.04s\n",
      "956:\tlearn: 0.4232345\ttotal: 2m 11s\tremaining: 5.91s\n",
      "957:\tlearn: 0.4231839\ttotal: 2m 11s\tremaining: 5.77s\n",
      "958:\tlearn: 0.4231139\ttotal: 2m 11s\tremaining: 5.63s\n",
      "959:\tlearn: 0.4229657\ttotal: 2m 11s\tremaining: 5.49s\n",
      "960:\tlearn: 0.4228791\ttotal: 2m 11s\tremaining: 5.35s\n",
      "961:\tlearn: 0.4227503\ttotal: 2m 12s\tremaining: 5.22s\n",
      "962:\tlearn: 0.4226899\ttotal: 2m 12s\tremaining: 5.08s\n",
      "963:\tlearn: 0.4224422\ttotal: 2m 12s\tremaining: 4.94s\n",
      "964:\tlearn: 0.4223396\ttotal: 2m 12s\tremaining: 4.8s\n",
      "965:\tlearn: 0.4223065\ttotal: 2m 12s\tremaining: 4.67s\n",
      "966:\tlearn: 0.4222473\ttotal: 2m 12s\tremaining: 4.53s\n",
      "967:\tlearn: 0.4221729\ttotal: 2m 12s\tremaining: 4.39s\n",
      "968:\tlearn: 0.4220972\ttotal: 2m 12s\tremaining: 4.25s\n",
      "969:\tlearn: 0.4219672\ttotal: 2m 13s\tremaining: 4.12s\n",
      "970:\tlearn: 0.4219298\ttotal: 2m 13s\tremaining: 3.98s\n",
      "971:\tlearn: 0.4218136\ttotal: 2m 13s\tremaining: 3.84s\n",
      "972:\tlearn: 0.4217442\ttotal: 2m 13s\tremaining: 3.71s\n",
      "973:\tlearn: 0.4216292\ttotal: 2m 13s\tremaining: 3.57s\n",
      "974:\tlearn: 0.4216097\ttotal: 2m 13s\tremaining: 3.43s\n",
      "975:\tlearn: 0.4215431\ttotal: 2m 13s\tremaining: 3.29s\n",
      "976:\tlearn: 0.4214498\ttotal: 2m 14s\tremaining: 3.16s\n",
      "977:\tlearn: 0.4211849\ttotal: 2m 14s\tremaining: 3.02s\n",
      "978:\tlearn: 0.4211099\ttotal: 2m 14s\tremaining: 2.88s\n",
      "979:\tlearn: 0.4210118\ttotal: 2m 14s\tremaining: 2.75s\n",
      "980:\tlearn: 0.4209575\ttotal: 2m 14s\tremaining: 2.61s\n",
      "981:\tlearn: 0.4208022\ttotal: 2m 14s\tremaining: 2.47s\n",
      "982:\tlearn: 0.4206878\ttotal: 2m 14s\tremaining: 2.33s\n",
      "983:\tlearn: 0.4206349\ttotal: 2m 15s\tremaining: 2.2s\n",
      "984:\tlearn: 0.4206098\ttotal: 2m 15s\tremaining: 2.06s\n",
      "985:\tlearn: 0.4205935\ttotal: 2m 15s\tremaining: 1.92s\n",
      "986:\tlearn: 0.4205563\ttotal: 2m 15s\tremaining: 1.78s\n",
      "987:\tlearn: 0.4203694\ttotal: 2m 15s\tremaining: 1.65s\n",
      "988:\tlearn: 0.4202612\ttotal: 2m 15s\tremaining: 1.51s\n",
      "989:\tlearn: 0.4201903\ttotal: 2m 16s\tremaining: 1.37s\n",
      "990:\tlearn: 0.4200973\ttotal: 2m 16s\tremaining: 1.24s\n",
      "991:\tlearn: 0.4200306\ttotal: 2m 16s\tremaining: 1.1s\n",
      "992:\tlearn: 0.4199497\ttotal: 2m 16s\tremaining: 962ms\n",
      "993:\tlearn: 0.4198457\ttotal: 2m 16s\tremaining: 825ms\n",
      "994:\tlearn: 0.4197822\ttotal: 2m 16s\tremaining: 687ms\n",
      "995:\tlearn: 0.4196432\ttotal: 2m 16s\tremaining: 550ms\n",
      "996:\tlearn: 0.4194953\ttotal: 2m 17s\tremaining: 412ms\n",
      "997:\tlearn: 0.4194209\ttotal: 2m 17s\tremaining: 275ms\n",
      "998:\tlearn: 0.4194114\ttotal: 2m 17s\tremaining: 137ms\n",
      "999:\tlearn: 0.4193227\ttotal: 2m 17s\tremaining: 0us\n"
     ]
    },
    {
     "data": {
      "text/plain": [
       "<catboost.core.CatBoostClassifier at 0x1b3c837fdd8>"
      ]
     },
     "execution_count": 75,
     "metadata": {},
     "output_type": "execute_result"
    }
   ],
   "source": [
    "model_cat.fit(X_train, y_train)"
   ]
  },
  {
   "cell_type": "code",
   "execution_count": 76,
   "metadata": {
    "colab": {},
    "colab_type": "code",
    "id": "PO-Lgg1UCfrD"
   },
   "outputs": [],
   "source": [
    "y_predicted_cat = model_cat.predict_proba(X_test)"
   ]
  },
  {
   "cell_type": "code",
   "execution_count": 87,
   "metadata": {},
   "outputs": [],
   "source": [
    "y_pred_cat = model_cat.predict(X_test)"
   ]
  },
  {
   "cell_type": "markdown",
   "metadata": {},
   "source": [
    "<!-- ![purple-divider](https://user-images.githubusercontent.com/7065401/52071927-c1cd7100-2562-11e9-908a-dde91ba14e59.png)\n",
    "<a id='section6'></a>\n",
    "\n",
    "<div style=\"border-bottom:3px solid #000;\"> \n",
    "<div align=\"left\"><h2>Step 6: Scoring</h2></div>\n",
    "<div align=\"right\">(return to <a href='#top1'><b>Top</b></a>)</div>\n",
    "</div> -->"
   ]
  },
  {
   "cell_type": "code",
   "execution_count": 81,
   "metadata": {},
   "outputs": [
    {
     "data": {
      "text/plain": [
       "(0.8427472321261025, 0.7631348511383538)"
      ]
     },
     "execution_count": 81,
     "metadata": {},
     "output_type": "execute_result"
    }
   ],
   "source": [
    "model_cat.score(X_train, y_train), model_cat.score(X_test,y_test)"
   ]
  },
  {
   "cell_type": "code",
   "execution_count": 82,
   "metadata": {
    "colab": {},
    "colab_type": "code",
    "id": "cuieQuKuCfrG",
    "outputId": "9c2be831-e129-4b2b-8a7d-ef8f3dbeeaab"
   },
   "outputs": [
    {
     "name": "stdout",
     "output_type": "stream",
     "text": [
      "El valor del AUC es:  0.8214610460748717\n"
     ]
    }
   ],
   "source": [
    "cat_auc = roc_auc_score(y_test,y_predicted_cat[:,1])\n",
    "print(\"El valor del AUC es: \", cat_auc)"
   ]
  },
  {
   "cell_type": "code",
   "execution_count": 85,
   "metadata": {},
   "outputs": [
    {
     "data": {
      "image/png": "[encoded data removed]",
      "text/plain": [
       "<Figure size 432x288 with 1 Axes>"
      ]
     },
     "metadata": {
      "needs_background": "light"
     },
     "output_type": "display_data"
    },
    {
     "data": {
      "image/png": "[encoded data removed]",
      "text/plain": [
       "<Figure size 432x288 with 1 Axes>"
      ]
     },
     "metadata": {
      "needs_background": "light"
     },
     "output_type": "display_data"
    }
   ],
   "source": [
    "skplt.metrics.plot_roc(y_test, y_predicted_xgb, plot_micro=False, plot_macro=False, title = 'ROC Curves XGBoost')\n",
    "skplt.metrics.plot_roc(y_test, y_predicted_cat, plot_micro=False, plot_macro=False, title = 'ROC Curves CatBoost');"
   ]
  },
  {
   "cell_type": "markdown",
   "metadata": {},
   "source": [
    "### Resumen de este commit"
   ]
  },
  {
   "cell_type": "markdown",
   "metadata": {},
   "source": [
    "Hasta ahora probamos:  \n",
    "* Crear varias features derivadas del texto e incluimos la matriz de TF-IDF  \n",
    "* BOW lo deje asi... vemos si lo borramos\n",
    "* Por ahora eliminamos **keywords** y **location**  \n",
    "* Podemos probar hacer algun analisis de keywords mas frecuentes o algo asi  \n",
    "* De los tres modelos hasta ahora el mejor es CatBoost sin tunear  \n",
    "* Probar con alguna red neuronal"
   ]
  },
  {
   "cell_type": "code",
   "execution_count": null,
   "metadata": {},
   "outputs": [],
   "source": []
  }
 ],
 "metadata": {
  "kernelspec": {
   "display_name": "Python 3",
   "language": "python",
   "name": "python3"
  },
  "language_info": {
   "codemirror_mode": {
    "name": "ipython",
    "version": 3
   },
   "file_extension": ".py",
   "mimetype": "text/x-python",
   "name": "python",
   "nbconvert_exporter": "python",
   "pygments_lexer": "ipython3",
   "version": "3.7.3"
  }
 },
 "nbformat": 4,
 "nbformat_minor": 2
}
