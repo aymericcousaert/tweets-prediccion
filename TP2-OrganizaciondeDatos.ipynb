{
 "cells": [
  {
   "cell_type": "markdown",
   "metadata": {},
   "source": [
    "Descomentar el index con ``ctrl+/``"
   ]
  },
  {
   "cell_type": "markdown",
   "metadata": {
    "colab_type": "text",
    "id": "tVklpFMEDRGs"
   },
   "source": [
    "<!-- ![purple-divider](https://user-images.githubusercontent.com/7065401/52071927-c1cd7100-2562-11e9-908a-dde91ba14e59.png)\n",
    "<a id='top1'></a>\n",
    "# <center>75.06/95.58 Organización de Datos - TP 2\n",
    "\n",
    "<div style=\"border-bottom:3px solid #000;\">  -->"
   ]
  },
  {
   "cell_type": "markdown",
   "metadata": {
    "colab_type": "text",
    "id": "FG8K-aqRDSlF"
   },
   "source": [
    "<!-- ## Index\n",
    "  \n",
    "<a href='#section1'>**Step 1:**</a>   Equipo    \n",
    "<a href='#section2'>**Step 2:**</a>   Import de librerias  \n",
    "<a href='#section3'>**Step 3:**</a>   Feature engineering  \n",
    "<a href='#section4'>**Step 4:**</a>   NLP  \n",
    "<a href='#section5'>**Step 5:**</a>   Modelos  \n",
    "<a href='#section6'>**Step 6:**</a>   Scoring -->"
   ]
  },
  {
   "cell_type": "markdown",
   "metadata": {
    "colab_type": "text",
    "id": "lIW-x65dDhoH"
   },
   "source": [
    "<!-- ![purple-divider](https://user-images.githubusercontent.com/7065401/52071927-c1cd7100-2562-11e9-908a-dde91ba14e59.png)\n",
    "<a id='section1'></a>\n",
    "\n",
    "<div style=\"border-bottom:3px solid #000;\"> \n",
    "<div align=\"left\"><h2>Step 1: Equipo</h2></div>\n",
    "<div align=\"right\">(return to <a href='#top1'><b>Top</b></a>)</div>\n",
    "</div> -->"
   ]
  },
  {
   "cell_type": "markdown",
   "metadata": {},
   "source": [
    "# Oh La La... Data!\n",
    "\n",
    "* **Hamma AALI CHTOUKI** --- *Padrón 106607 - Alumno regular de intercambio.*  \n",
    "* **Aymeryc COUSAERT** ------  *Padrón 105464 - Alumno regular de intercambio.*\n",
    "* **Mariana VINYOLAS**  ---------  *Alumna oyente.*"
   ]
  },
  {
   "cell_type": "markdown",
   "metadata": {
    "colab_type": "text",
    "id": "d3aDXdkY2bsU"
   },
   "source": [
    "<!-- ![purple-divider](https://user-images.githubusercontent.com/7065401/52071927-c1cd7100-2562-11e9-908a-dde91ba14e59.png)\n",
    "<a id='section2'></a>\n",
    "\n",
    "<div style=\"border-bottom:3px solid #000;\"> \n",
    "<div align=\"left\"><h2>Step 2: Import de librerias </h2></div>\n",
    "<div align=\"right\">(return to <a href='#top1'><b>Top</b></a>)</div>\n",
    "</div> -->\n",
    "\n"
   ]
  },
  {
   "cell_type": "code",
   "execution_count": 61,
   "metadata": {
    "scrolled": true
   },
   "outputs": [
    {
     "name": "stderr",
     "output_type": "stream",
     "text": [
      "[nltk_data] Downloading package punkt to\n",
      "[nltk_data]     C:\\Users\\user\\AppData\\Roaming\\nltk_data...\n",
      "[nltk_data]   Package punkt is already up-to-date!\n",
      "[nltk_data] Downloading package wordnet to\n",
      "[nltk_data]     C:\\Users\\user\\AppData\\Roaming\\nltk_data...\n",
      "[nltk_data]   Package wordnet is already up-to-date!\n",
      "[nltk_data] Downloading package stopwords to\n",
      "[nltk_data]     C:\\Users\\user\\AppData\\Roaming\\nltk_data...\n",
      "[nltk_data]   Package stopwords is already up-to-date!\n"
     ]
    }
   ],
   "source": [
    "import pandas as pd\n",
    "import numpy as np\n",
    "import scipy.stats as st\n",
    "import matplotlib.pyplot as plt\n",
    "import seaborn as sns\n",
    "\n",
    "import re\n",
    "import nltk.corpus\n",
    "from nltk.corpus import stopwords\n",
    "from nltk.tokenize import word_tokenize\n",
    "from nltk.tokenize import sent_tokenize, word_tokenize\n",
    "from nltk.stem import WordNetLemmatizer\n",
    "\n",
    "nltk.download('punkt')\n",
    "nltk.download('wordnet')\n",
    "nltk.download('stopwords')\n",
    "\n",
    "from sklearn.feature_extraction.text import CountVectorizer, TfidfVectorizer\n",
    "\n",
    "from sklearn.ensemble import RandomForestClassifier\n",
    "import xgboost as xgb\n",
    "import catboost as catb\n",
    "\n",
    "\n",
    "# from scikitplot.metrics import plot_roc\n",
    "from sklearn.metrics import roc_auc_score\n",
    "from sklearn.preprocessing import StandardScaler\n",
    "from sklearn.metrics import accuracy_score,classification_report\n",
    "from sklearn.model_selection import GridSearchCV, RandomizedSearchCV\n",
    "from sklearn.model_selection import train_test_split, cross_val_score, StratifiedKFold"
   ]
  },
  {
   "cell_type": "code",
   "execution_count": 2,
   "metadata": {},
   "outputs": [],
   "source": [
    "train = pd.read_csv('train.csv')\n",
    "test = pd.read_csv('test.csv')"
   ]
  },
  {
   "cell_type": "code",
   "execution_count": 3,
   "metadata": {},
   "outputs": [
    {
     "data": {
      "text/html": [
       "<div>\n",
       "<style scoped>\n",
       "    .dataframe tbody tr th:only-of-type {\n",
       "        vertical-align: middle;\n",
       "    }\n",
       "\n",
       "    .dataframe tbody tr th {\n",
       "        vertical-align: top;\n",
       "    }\n",
       "\n",
       "    .dataframe thead th {\n",
       "        text-align: right;\n",
       "    }\n",
       "</style>\n",
       "<table border=\"1\" class=\"dataframe\">\n",
       "  <thead>\n",
       "    <tr style=\"text-align: right;\">\n",
       "      <th></th>\n",
       "      <th>id</th>\n",
       "      <th>keyword</th>\n",
       "      <th>location</th>\n",
       "      <th>text</th>\n",
       "      <th>target</th>\n",
       "    </tr>\n",
       "  </thead>\n",
       "  <tbody>\n",
       "    <tr>\n",
       "      <th>0</th>\n",
       "      <td>1</td>\n",
       "      <td>NaN</td>\n",
       "      <td>NaN</td>\n",
       "      <td>Our Deeds are the Reason of this #earthquake M...</td>\n",
       "      <td>1</td>\n",
       "    </tr>\n",
       "    <tr>\n",
       "      <th>1</th>\n",
       "      <td>4</td>\n",
       "      <td>NaN</td>\n",
       "      <td>NaN</td>\n",
       "      <td>Forest fire near La Ronge Sask. Canada</td>\n",
       "      <td>1</td>\n",
       "    </tr>\n",
       "    <tr>\n",
       "      <th>2</th>\n",
       "      <td>5</td>\n",
       "      <td>NaN</td>\n",
       "      <td>NaN</td>\n",
       "      <td>All residents asked to 'shelter in place' are ...</td>\n",
       "      <td>1</td>\n",
       "    </tr>\n",
       "    <tr>\n",
       "      <th>3</th>\n",
       "      <td>6</td>\n",
       "      <td>NaN</td>\n",
       "      <td>NaN</td>\n",
       "      <td>13,000 people receive #wildfires evacuation or...</td>\n",
       "      <td>1</td>\n",
       "    </tr>\n",
       "    <tr>\n",
       "      <th>4</th>\n",
       "      <td>7</td>\n",
       "      <td>NaN</td>\n",
       "      <td>NaN</td>\n",
       "      <td>Just got sent this photo from Ruby #Alaska as ...</td>\n",
       "      <td>1</td>\n",
       "    </tr>\n",
       "  </tbody>\n",
       "</table>\n",
       "</div>"
      ],
      "text/plain": [
       "   id keyword location                                               text  \\\n",
       "0   1     NaN      NaN  Our Deeds are the Reason of this #earthquake M...   \n",
       "1   4     NaN      NaN             Forest fire near La Ronge Sask. Canada   \n",
       "2   5     NaN      NaN  All residents asked to 'shelter in place' are ...   \n",
       "3   6     NaN      NaN  13,000 people receive #wildfires evacuation or...   \n",
       "4   7     NaN      NaN  Just got sent this photo from Ruby #Alaska as ...   \n",
       "\n",
       "   target  \n",
       "0       1  \n",
       "1       1  \n",
       "2       1  \n",
       "3       1  \n",
       "4       1  "
      ]
     },
     "execution_count": 3,
     "metadata": {},
     "output_type": "execute_result"
    }
   ],
   "source": [
    "train.head()"
   ]
  },
  {
   "cell_type": "markdown",
   "metadata": {
    "colab_type": "text",
    "id": "Smnr3pgkKld_"
   },
   "source": [
    "<!-- ![purple-divider](https://user-images.githubusercontent.com/7065401/52071927-c1cd7100-2562-11e9-908a-dde91ba14e59.png)\n",
    "<a id='section3'></a>\n",
    "\n",
    "<div style=\"border-bottom:3px solid #000;\"> \n",
    "<div align=\"left\"><h2>Step 3: Feature engineering</h2></div>\n",
    "<div align=\"right\">(return to <a href='#top1'><b>Top</b></a>)</div>\n",
    "</div> -->"
   ]
  },
  {
   "cell_type": "code",
   "execution_count": 4,
   "metadata": {},
   "outputs": [],
   "source": [
    "# limpiamos la columna text eliminando algunos caracteres y la guardamos en 'text_clean'\n",
    "df = train\n",
    "df['text'] = df['text'].str.lower()\n"
   ]
  },
  {
   "cell_type": "code",
   "execution_count": 5,
   "metadata": {},
   "outputs": [
    {
     "data": {
      "text/html": [
       "<div>\n",
       "<style scoped>\n",
       "    .dataframe tbody tr th:only-of-type {\n",
       "        vertical-align: middle;\n",
       "    }\n",
       "\n",
       "    .dataframe tbody tr th {\n",
       "        vertical-align: top;\n",
       "    }\n",
       "\n",
       "    .dataframe thead th {\n",
       "        text-align: right;\n",
       "    }\n",
       "</style>\n",
       "<table border=\"1\" class=\"dataframe\">\n",
       "  <thead>\n",
       "    <tr style=\"text-align: right;\">\n",
       "      <th></th>\n",
       "      <th>id</th>\n",
       "      <th>keyword</th>\n",
       "      <th>location</th>\n",
       "      <th>text</th>\n",
       "      <th>target</th>\n",
       "    </tr>\n",
       "  </thead>\n",
       "  <tbody>\n",
       "    <tr>\n",
       "      <th>0</th>\n",
       "      <td>1</td>\n",
       "      <td>NaN</td>\n",
       "      <td>NaN</td>\n",
       "      <td>our deeds are the reason of this #earthquake m...</td>\n",
       "      <td>1</td>\n",
       "    </tr>\n",
       "    <tr>\n",
       "      <th>1</th>\n",
       "      <td>4</td>\n",
       "      <td>NaN</td>\n",
       "      <td>NaN</td>\n",
       "      <td>forest fire near la ronge sask. canada</td>\n",
       "      <td>1</td>\n",
       "    </tr>\n",
       "    <tr>\n",
       "      <th>2</th>\n",
       "      <td>5</td>\n",
       "      <td>NaN</td>\n",
       "      <td>NaN</td>\n",
       "      <td>all residents asked to 'shelter in place' are ...</td>\n",
       "      <td>1</td>\n",
       "    </tr>\n",
       "    <tr>\n",
       "      <th>3</th>\n",
       "      <td>6</td>\n",
       "      <td>NaN</td>\n",
       "      <td>NaN</td>\n",
       "      <td>13,000 people receive #wildfires evacuation or...</td>\n",
       "      <td>1</td>\n",
       "    </tr>\n",
       "    <tr>\n",
       "      <th>4</th>\n",
       "      <td>7</td>\n",
       "      <td>NaN</td>\n",
       "      <td>NaN</td>\n",
       "      <td>just got sent this photo from ruby #alaska as ...</td>\n",
       "      <td>1</td>\n",
       "    </tr>\n",
       "  </tbody>\n",
       "</table>\n",
       "</div>"
      ],
      "text/plain": [
       "   id keyword location                                               text  \\\n",
       "0   1     NaN      NaN  our deeds are the reason of this #earthquake m...   \n",
       "1   4     NaN      NaN             forest fire near la ronge sask. canada   \n",
       "2   5     NaN      NaN  all residents asked to 'shelter in place' are ...   \n",
       "3   6     NaN      NaN  13,000 people receive #wildfires evacuation or...   \n",
       "4   7     NaN      NaN  just got sent this photo from ruby #alaska as ...   \n",
       "\n",
       "   target  \n",
       "0       1  \n",
       "1       1  \n",
       "2       1  \n",
       "3       1  \n",
       "4       1  "
      ]
     },
     "execution_count": 5,
     "metadata": {},
     "output_type": "execute_result"
    }
   ],
   "source": [
    "df.head()"
   ]
  },
  {
   "cell_type": "code",
   "execution_count": 6,
   "metadata": {},
   "outputs": [],
   "source": [
    "# generamos una columna que indica con un 1 si el texto posee un link a un enlace externo\n",
    "df['link'] = df['text'].apply(lambda x: x.count('http'))"
   ]
  },
  {
   "cell_type": "code",
   "execution_count": 7,
   "metadata": {},
   "outputs": [],
   "source": [
    "df['contact'] = df['text'].apply(lambda x: x.count('@'))"
   ]
  },
  {
   "cell_type": "code",
   "execution_count": 8,
   "metadata": {},
   "outputs": [],
   "source": [
    "df['hashtag'] = df['text'].apply(lambda x: x.count('#'))"
   ]
  },
  {
   "cell_type": "code",
   "execution_count": 9,
   "metadata": {},
   "outputs": [],
   "source": [
    "df['keyword'] = df.keyword.str.replace('%20', '_')\n",
    "df['keyword'] = df.keyword.str.lower()"
   ]
  },
  {
   "cell_type": "code",
   "execution_count": 10,
   "metadata": {},
   "outputs": [],
   "source": [
    "df['length'] = df['text'].str.len()"
   ]
  },
  {
   "cell_type": "code",
   "execution_count": 11,
   "metadata": {},
   "outputs": [],
   "source": [
    "def count_words(text):\n",
    "    '''\n",
    "    Funcion que toma un texto y devuelve la cantidad de palabras\n",
    "    '''\n",
    "    word_counts = len(text.split(' '))\n",
    "    return word_counts"
   ]
  },
  {
   "cell_type": "code",
   "execution_count": 12,
   "metadata": {},
   "outputs": [],
   "source": [
    "df['words'] = df['text'].apply(count_words)"
   ]
  },
  {
   "cell_type": "code",
   "execution_count": 13,
   "metadata": {},
   "outputs": [],
   "source": [
    "def avg_word(texto):\n",
    "    words = texto.split()\n",
    "    return (sum(len(word) for word in words)/len(words))"
   ]
  },
  {
   "cell_type": "code",
   "execution_count": 14,
   "metadata": {},
   "outputs": [],
   "source": [
    "df['average_word'] = df['text'].apply(lambda x: avg_word(x))"
   ]
  },
  {
   "cell_type": "code",
   "execution_count": 15,
   "metadata": {},
   "outputs": [],
   "source": [
    "df['numerics'] = df['text'].apply(lambda x: len([x for x in x.split() if x.isdigit()]))"
   ]
  },
  {
   "cell_type": "code",
   "execution_count": 16,
   "metadata": {},
   "outputs": [
    {
     "data": {
      "text/html": [
       "<div>\n",
       "<style scoped>\n",
       "    .dataframe tbody tr th:only-of-type {\n",
       "        vertical-align: middle;\n",
       "    }\n",
       "\n",
       "    .dataframe tbody tr th {\n",
       "        vertical-align: top;\n",
       "    }\n",
       "\n",
       "    .dataframe thead th {\n",
       "        text-align: right;\n",
       "    }\n",
       "</style>\n",
       "<table border=\"1\" class=\"dataframe\">\n",
       "  <thead>\n",
       "    <tr style=\"text-align: right;\">\n",
       "      <th></th>\n",
       "      <th>id</th>\n",
       "      <th>keyword</th>\n",
       "      <th>location</th>\n",
       "      <th>text</th>\n",
       "      <th>target</th>\n",
       "      <th>link</th>\n",
       "      <th>contact</th>\n",
       "      <th>hashtag</th>\n",
       "      <th>length</th>\n",
       "      <th>words</th>\n",
       "      <th>average_word</th>\n",
       "      <th>numerics</th>\n",
       "    </tr>\n",
       "  </thead>\n",
       "  <tbody>\n",
       "    <tr>\n",
       "      <th>4258</th>\n",
       "      <td>6050</td>\n",
       "      <td>heat_wave</td>\n",
       "      <td>Crayford, London</td>\n",
       "      <td>@hollywarnexx mini heat wave apaz</td>\n",
       "      <td>1</td>\n",
       "      <td>0</td>\n",
       "      <td>1</td>\n",
       "      <td>0</td>\n",
       "      <td>33</td>\n",
       "      <td>5</td>\n",
       "      <td>5.800000</td>\n",
       "      <td>0</td>\n",
       "    </tr>\n",
       "    <tr>\n",
       "      <th>1777</th>\n",
       "      <td>2552</td>\n",
       "      <td>collision</td>\n",
       "      <td>btwn a rock and a hard place</td>\n",
       "      <td>sometimes in space celestial bodies with separ...</td>\n",
       "      <td>0</td>\n",
       "      <td>0</td>\n",
       "      <td>0</td>\n",
       "      <td>0</td>\n",
       "      <td>137</td>\n",
       "      <td>20</td>\n",
       "      <td>5.900000</td>\n",
       "      <td>0</td>\n",
       "    </tr>\n",
       "    <tr>\n",
       "      <th>1716</th>\n",
       "      <td>2476</td>\n",
       "      <td>collided</td>\n",
       "      <td>Cape Cod, Massachusetts USA</td>\n",
       "      <td>'car vs motorcycle in harwich port' harwich po...</td>\n",
       "      <td>1</td>\n",
       "      <td>1</td>\n",
       "      <td>0</td>\n",
       "      <td>0</td>\n",
       "      <td>142</td>\n",
       "      <td>21</td>\n",
       "      <td>5.809524</td>\n",
       "      <td>0</td>\n",
       "    </tr>\n",
       "    <tr>\n",
       "      <th>3305</th>\n",
       "      <td>4736</td>\n",
       "      <td>evacuate</td>\n",
       "      <td>Sevier County.</td>\n",
       "      <td>so all the store's fire alarms went off today ...</td>\n",
       "      <td>1</td>\n",
       "      <td>0</td>\n",
       "      <td>0</td>\n",
       "      <td>0</td>\n",
       "      <td>123</td>\n",
       "      <td>23</td>\n",
       "      <td>4.391304</td>\n",
       "      <td>0</td>\n",
       "    </tr>\n",
       "    <tr>\n",
       "      <th>3037</th>\n",
       "      <td>4358</td>\n",
       "      <td>earthquake</td>\n",
       "      <td>California, USA</td>\n",
       "      <td>usgs eq: m 0.6 - 8km ssw of anza california: t...</td>\n",
       "      <td>1</td>\n",
       "      <td>1</td>\n",
       "      <td>0</td>\n",
       "      <td>1</td>\n",
       "      <td>135</td>\n",
       "      <td>17</td>\n",
       "      <td>7.000000</td>\n",
       "      <td>0</td>\n",
       "    </tr>\n",
       "  </tbody>\n",
       "</table>\n",
       "</div>"
      ],
      "text/plain": [
       "        id     keyword                      location  \\\n",
       "4258  6050   heat_wave              Crayford, London   \n",
       "1777  2552   collision  btwn a rock and a hard place   \n",
       "1716  2476    collided   Cape Cod, Massachusetts USA   \n",
       "3305  4736    evacuate                Sevier County.   \n",
       "3037  4358  earthquake               California, USA   \n",
       "\n",
       "                                                   text  target  link  \\\n",
       "4258                  @hollywarnexx mini heat wave apaz       1     0   \n",
       "1777  sometimes in space celestial bodies with separ...       0     0   \n",
       "1716  'car vs motorcycle in harwich port' harwich po...       1     1   \n",
       "3305  so all the store's fire alarms went off today ...       1     0   \n",
       "3037  usgs eq: m 0.6 - 8km ssw of anza california: t...       1     1   \n",
       "\n",
       "      contact  hashtag  length  words  average_word  numerics  \n",
       "4258        1        0      33      5      5.800000         0  \n",
       "1777        0        0     137     20      5.900000         0  \n",
       "1716        0        0     142     21      5.809524         0  \n",
       "3305        0        0     123     23      4.391304         0  \n",
       "3037        0        1     135     17      7.000000         0  "
      ]
     },
     "execution_count": 16,
     "metadata": {},
     "output_type": "execute_result"
    }
   ],
   "source": [
    "df.sample(5)"
   ]
  },
  {
   "cell_type": "markdown",
   "metadata": {},
   "source": [
    "<!-- ![purple-divider](https://user-images.githubusercontent.com/7065401/52071927-c1cd7100-2562-11e9-908a-dde91ba14e59.png)\n",
    "<a id='section4'></a>\n",
    "\n",
    "<div style=\"border-bottom:3px solid #000;\"> \n",
    "<div align=\"left\"><h2>Step 4: NLP</h2></div>\n",
    "<div align=\"right\">(return to <a href='#top1'><b>Top</b></a>)</div>\n",
    "</div> -->"
   ]
  },
  {
   "cell_type": "code",
   "execution_count": 17,
   "metadata": {},
   "outputs": [],
   "source": [
    "# eliminamos stopwords\n",
    "\n",
    "stop = stopwords.words('english')\n",
    "\n",
    "df['text_clean'] = df['text'].apply(lambda x: ' '.join([word for word in x.split() if word not in (stop)]))"
   ]
  },
  {
   "cell_type": "code",
   "execution_count": 18,
   "metadata": {},
   "outputs": [],
   "source": [
    "# eliminamos signos de puntuacion y caracteres especiales\n",
    "df['text_clean'] = df['text_clean'].str.replace('[^\\w\\s]','')"
   ]
  },
  {
   "cell_type": "code",
   "execution_count": 19,
   "metadata": {},
   "outputs": [],
   "source": [
    "df['text_clean'] = df['text_clean'].apply(lambda x: word_tokenize(x))"
   ]
  },
  {
   "cell_type": "code",
   "execution_count": 20,
   "metadata": {},
   "outputs": [],
   "source": [
    "def word_lemmatizer(text):\n",
    "    lem_text = [WordNetLemmatizer().lemmatize(i) for i in text]\n",
    "    return lem_text"
   ]
  },
  {
   "cell_type": "code",
   "execution_count": 21,
   "metadata": {},
   "outputs": [],
   "source": [
    "# unificamos palabras que poseen la misma raiz aplicando la funcion word_lematizer\n",
    "df['text_clean'] = df['text_clean'].apply(lambda x: word_lemmatizer(x))"
   ]
  },
  {
   "cell_type": "code",
   "execution_count": 22,
   "metadata": {},
   "outputs": [],
   "source": [
    "# calculamos nuevamente la longuitud, pero ahora del texto limpio                               #########  ESTA MAL #########\n",
    "df['length-clean'] = df['text_clean'].str.len()"
   ]
  },
  {
   "cell_type": "code",
   "execution_count": 23,
   "metadata": {},
   "outputs": [],
   "source": [
    "df['words_clean'] = df['text_clean'].apply(len)"
   ]
  },
  {
   "cell_type": "code",
   "execution_count": 24,
   "metadata": {},
   "outputs": [],
   "source": [
    "def avg_word(texto):\n",
    "   \n",
    "    return (sum(len(texto) for word in texto)/len(texto))"
   ]
  },
  {
   "cell_type": "code",
   "execution_count": 25,
   "metadata": {},
   "outputs": [],
   "source": [
    "df['average_word_clean'] = df['text_clean'].apply(lambda x: avg_word(x))                       #########  ESTA MAL #########"
   ]
  },
  {
   "cell_type": "code",
   "execution_count": 26,
   "metadata": {},
   "outputs": [
    {
     "data": {
      "text/html": [
       "<div>\n",
       "<style scoped>\n",
       "    .dataframe tbody tr th:only-of-type {\n",
       "        vertical-align: middle;\n",
       "    }\n",
       "\n",
       "    .dataframe tbody tr th {\n",
       "        vertical-align: top;\n",
       "    }\n",
       "\n",
       "    .dataframe thead th {\n",
       "        text-align: right;\n",
       "    }\n",
       "</style>\n",
       "<table border=\"1\" class=\"dataframe\">\n",
       "  <thead>\n",
       "    <tr style=\"text-align: right;\">\n",
       "      <th></th>\n",
       "      <th>id</th>\n",
       "      <th>keyword</th>\n",
       "      <th>location</th>\n",
       "      <th>text</th>\n",
       "      <th>target</th>\n",
       "      <th>link</th>\n",
       "      <th>contact</th>\n",
       "      <th>hashtag</th>\n",
       "      <th>length</th>\n",
       "      <th>words</th>\n",
       "      <th>average_word</th>\n",
       "      <th>numerics</th>\n",
       "      <th>text_clean</th>\n",
       "      <th>length-clean</th>\n",
       "      <th>words_clean</th>\n",
       "      <th>average_word_clean</th>\n",
       "    </tr>\n",
       "  </thead>\n",
       "  <tbody>\n",
       "    <tr>\n",
       "      <th>498</th>\n",
       "      <td>721</td>\n",
       "      <td>attacked</td>\n",
       "      <td>Peshawar</td>\n",
       "      <td>ik only troll his pol rivals never literally a...</td>\n",
       "      <td>0</td>\n",
       "      <td>0</td>\n",
       "      <td>0</td>\n",
       "      <td>0</td>\n",
       "      <td>130</td>\n",
       "      <td>22</td>\n",
       "      <td>4.954545</td>\n",
       "      <td>0</td>\n",
       "      <td>[ik, troll, pol, rival, never, literally, abus...</td>\n",
       "      <td>13</td>\n",
       "      <td>13</td>\n",
       "      <td>13.0</td>\n",
       "    </tr>\n",
       "    <tr>\n",
       "      <th>579</th>\n",
       "      <td>837</td>\n",
       "      <td>bioterror</td>\n",
       "      <td>Silver Spring, MD</td>\n",
       "      <td>.@aphl responds: fedex no longer to transport ...</td>\n",
       "      <td>1</td>\n",
       "      <td>1</td>\n",
       "      <td>1</td>\n",
       "      <td>0</td>\n",
       "      <td>115</td>\n",
       "      <td>16</td>\n",
       "      <td>6.250000</td>\n",
       "      <td>0</td>\n",
       "      <td>[aphl, responds, fedex, longer, transport, bio...</td>\n",
       "      <td>12</td>\n",
       "      <td>12</td>\n",
       "      <td>12.0</td>\n",
       "    </tr>\n",
       "    <tr>\n",
       "      <th>2131</th>\n",
       "      <td>3059</td>\n",
       "      <td>deaths</td>\n",
       "      <td>AsunciÌ_n-PY / TÌ_bingen-GER</td>\n",
       "      <td>breast milk is the original #superfood but rat...</td>\n",
       "      <td>0</td>\n",
       "      <td>0</td>\n",
       "      <td>0</td>\n",
       "      <td>1</td>\n",
       "      <td>138</td>\n",
       "      <td>22</td>\n",
       "      <td>5.318182</td>\n",
       "      <td>1</td>\n",
       "      <td>[breast, milk, original, superfood, rate, worl...</td>\n",
       "      <td>14</td>\n",
       "      <td>14</td>\n",
       "      <td>14.0</td>\n",
       "    </tr>\n",
       "    <tr>\n",
       "      <th>7252</th>\n",
       "      <td>10382</td>\n",
       "      <td>weapons</td>\n",
       "      <td>California</td>\n",
       "      <td>navy: no charges against officer for weapons v...</td>\n",
       "      <td>1</td>\n",
       "      <td>1</td>\n",
       "      <td>0</td>\n",
       "      <td>0</td>\n",
       "      <td>101</td>\n",
       "      <td>12</td>\n",
       "      <td>7.416667</td>\n",
       "      <td>0</td>\n",
       "      <td>[navy, charge, officer, weapon, violation, cha...</td>\n",
       "      <td>8</td>\n",
       "      <td>8</td>\n",
       "      <td>8.0</td>\n",
       "    </tr>\n",
       "    <tr>\n",
       "      <th>6949</th>\n",
       "      <td>9971</td>\n",
       "      <td>tsunami</td>\n",
       "      <td>Louavul, KY</td>\n",
       "      <td>#bbshelli seems pretty sure she's the one that...</td>\n",
       "      <td>0</td>\n",
       "      <td>0</td>\n",
       "      <td>0</td>\n",
       "      <td>2</td>\n",
       "      <td>69</td>\n",
       "      <td>12</td>\n",
       "      <td>4.833333</td>\n",
       "      <td>0</td>\n",
       "      <td>[bbshelli, seems, pretty, sure, one, thats, go...</td>\n",
       "      <td>9</td>\n",
       "      <td>9</td>\n",
       "      <td>9.0</td>\n",
       "    </tr>\n",
       "  </tbody>\n",
       "</table>\n",
       "</div>"
      ],
      "text/plain": [
       "         id    keyword                      location  \\\n",
       "498     721   attacked                      Peshawar   \n",
       "579     837  bioterror             Silver Spring, MD   \n",
       "2131   3059     deaths  AsunciÌ_n-PY / TÌ_bingen-GER   \n",
       "7252  10382    weapons                    California   \n",
       "6949   9971    tsunami                   Louavul, KY   \n",
       "\n",
       "                                                   text  target  link  \\\n",
       "498   ik only troll his pol rivals never literally a...       0     0   \n",
       "579   .@aphl responds: fedex no longer to transport ...       1     1   \n",
       "2131  breast milk is the original #superfood but rat...       0     0   \n",
       "7252  navy: no charges against officer for weapons v...       1     1   \n",
       "6949  #bbshelli seems pretty sure she's the one that...       0     0   \n",
       "\n",
       "      contact  hashtag  length  words  average_word  numerics  \\\n",
       "498         0        0     130     22      4.954545         0   \n",
       "579         1        0     115     16      6.250000         0   \n",
       "2131        0        1     138     22      5.318182         1   \n",
       "7252        0        0     101     12      7.416667         0   \n",
       "6949        0        2      69     12      4.833333         0   \n",
       "\n",
       "                                             text_clean  length-clean  \\\n",
       "498   [ik, troll, pol, rival, never, literally, abus...            13   \n",
       "579   [aphl, responds, fedex, longer, transport, bio...            12   \n",
       "2131  [breast, milk, original, superfood, rate, worl...            14   \n",
       "7252  [navy, charge, officer, weapon, violation, cha...             8   \n",
       "6949  [bbshelli, seems, pretty, sure, one, thats, go...             9   \n",
       "\n",
       "      words_clean  average_word_clean  \n",
       "498            13                13.0  \n",
       "579            12                12.0  \n",
       "2131           14                14.0  \n",
       "7252            8                 8.0  \n",
       "6949            9                 9.0  "
      ]
     },
     "execution_count": 26,
     "metadata": {},
     "output_type": "execute_result"
    }
   ],
   "source": [
    "df.sample(5)"
   ]
  },
  {
   "cell_type": "markdown",
   "metadata": {},
   "source": [
    "## Bag of Words"
   ]
  },
  {
   "cell_type": "code",
   "execution_count": 27,
   "metadata": {},
   "outputs": [],
   "source": [
    "bow = CountVectorizer(max_features=1000, ngram_range=(1,1),analyzer = \"word\")"
   ]
  },
  {
   "cell_type": "code",
   "execution_count": 28,
   "metadata": {},
   "outputs": [],
   "source": [
    "train_bow = bow.fit_transform(df['text'])                                                    #########  ESTA MAL #########"
   ]
  },
  {
   "cell_type": "code",
   "execution_count": 29,
   "metadata": {},
   "outputs": [],
   "source": [
    "df_bow = pd.DataFrame(data = train_bow.todense(), columns = bow.get_feature_names())"
   ]
  },
  {
   "cell_type": "markdown",
   "metadata": {},
   "source": [
    "## TF- IDF"
   ]
  },
  {
   "cell_type": "code",
   "execution_count": 30,
   "metadata": {},
   "outputs": [],
   "source": [
    "tfidf = TfidfVectorizer(max_features=1500, lowercase=True, analyzer='word',\n",
    " stop_words= 'english',ngram_range=(1,1))\n"
   ]
  },
  {
   "cell_type": "code",
   "execution_count": 31,
   "metadata": {},
   "outputs": [],
   "source": [
    "train_vect = tfidf.fit_transform(df['text'])                                                 #########  ESTA MAL #########"
   ]
  },
  {
   "cell_type": "code",
   "execution_count": 32,
   "metadata": {},
   "outputs": [
    {
     "data": {
      "text/plain": [
       "scipy.sparse.csr.csr_matrix"
      ]
     },
     "execution_count": 32,
     "metadata": {},
     "output_type": "execute_result"
    }
   ],
   "source": [
    "type(train_vect)"
   ]
  },
  {
   "cell_type": "code",
   "execution_count": 33,
   "metadata": {},
   "outputs": [],
   "source": [
    "df_tf_idf = pd.DataFrame(data = train_vect.todense(), columns = tfidf.get_feature_names())"
   ]
  },
  {
   "cell_type": "code",
   "execution_count": 34,
   "metadata": {},
   "outputs": [
    {
     "data": {
      "text/plain": [
       "(7613, 1500)"
      ]
     },
     "execution_count": 34,
     "metadata": {},
     "output_type": "execute_result"
    }
   ],
   "source": [
    "df_tf_idf.shape"
   ]
  },
  {
   "cell_type": "code",
   "execution_count": 35,
   "metadata": {},
   "outputs": [
    {
     "data": {
      "text/plain": [
       "0.000000    7604\n",
       "0.641083       2\n",
       "0.767244       1\n",
       "0.418858       1\n",
       "0.772605       1\n",
       "0.340252       1\n",
       "0.566981       1\n",
       "0.520574       1\n",
       "0.746818       1\n",
       "Name: target, dtype: int64"
      ]
     },
     "execution_count": 35,
     "metadata": {},
     "output_type": "execute_result"
    }
   ],
   "source": [
    "df_tf_idf['target'].value_counts()"
   ]
  },
  {
   "cell_type": "code",
   "execution_count": 36,
   "metadata": {},
   "outputs": [
    {
     "name": "stdout",
     "output_type": "stream",
     "text": [
      "<class 'pandas.core.frame.DataFrame'>\n",
      "RangeIndex: 7613 entries, 0 to 7612\n",
      "Data columns (total 16 columns):\n",
      "id                    7613 non-null int64\n",
      "keyword               7552 non-null object\n",
      "location              5080 non-null object\n",
      "text                  7613 non-null object\n",
      "target                7613 non-null int64\n",
      "link                  7613 non-null int64\n",
      "contact               7613 non-null int64\n",
      "hashtag               7613 non-null int64\n",
      "length                7613 non-null int64\n",
      "words                 7613 non-null int64\n",
      "average_word          7613 non-null float64\n",
      "numerics              7613 non-null int64\n",
      "text_clean            7613 non-null object\n",
      "length-clean          7613 non-null int64\n",
      "words_clean           7613 non-null int64\n",
      "average_word_clean    7613 non-null float64\n",
      "dtypes: float64(2), int64(10), object(4)\n",
      "memory usage: 951.8+ KB\n"
     ]
    }
   ],
   "source": [
    "df.info()"
   ]
  },
  {
   "cell_type": "markdown",
   "metadata": {},
   "source": [
    "Para no perder tantos registros, vamos a dejar de lado por ahora las columnas ``keyword``, ``location`` y ``text``. Tambien eliminamos ``id`` porque no aporta informacion al analisis"
   ]
  },
  {
   "cell_type": "code",
   "execution_count": 37,
   "metadata": {},
   "outputs": [],
   "source": [
    "df = df.drop(['id', 'keyword', 'location', 'text', 'text_clean'], axis=1)"
   ]
  },
  {
   "cell_type": "code",
   "execution_count": 38,
   "metadata": {
    "scrolled": true
   },
   "outputs": [
    {
     "data": {
      "text/plain": [
       "0    4342\n",
       "1    3271\n",
       "Name: target, dtype: int64"
      ]
     },
     "execution_count": 38,
     "metadata": {},
     "output_type": "execute_result"
    }
   ],
   "source": [
    "df['target'].value_counts()  # chequeamos si los labels estan balanceados"
   ]
  },
  {
   "cell_type": "code",
   "execution_count": 39,
   "metadata": {},
   "outputs": [],
   "source": [
    "# df_train = pd.concat([df, df_tf_idf], axis=1)  # revisar porque aparecen dos columnas llamadas target"
   ]
  },
  {
   "cell_type": "code",
   "execution_count": 40,
   "metadata": {},
   "outputs": [],
   "source": [
    "# df_train.shape"
   ]
  },
  {
   "cell_type": "markdown",
   "metadata": {},
   "source": [
    "<!-- ![purple-divider](https://user-images.githubusercontent.com/7065401/52071927-c1cd7100-2562-11e9-908a-dde91ba14e59.png)\n",
    "<a id='section5'></a>\n",
    "\n",
    "<div style=\"border-bottom:3px solid #000;\"> \n",
    "<div align=\"left\"><h2>Step 5: Modelos</h2></div>\n",
    "<div align=\"right\">(return to <a href='#top1'><b>Top</b></a>)</div>\n",
    "</div> -->"
   ]
  },
  {
   "cell_type": "code",
   "execution_count": 42,
   "metadata": {
    "scrolled": true
   },
   "outputs": [],
   "source": [
    "# separamos el target del resto de los features\n",
    "\n",
    "y = df.target    \n",
    "X = df.drop('target', axis=1)"
   ]
  },
  {
   "cell_type": "code",
   "execution_count": 43,
   "metadata": {},
   "outputs": [
    {
     "data": {
      "text/plain": [
       "((7613, 10), (7613,))"
      ]
     },
     "execution_count": 43,
     "metadata": {},
     "output_type": "execute_result"
    }
   ],
   "source": [
    "X.shape, y.shape"
   ]
  },
  {
   "cell_type": "code",
   "execution_count": 44,
   "metadata": {},
   "outputs": [],
   "source": [
    "# hacemos division entre train y test para cross validation\n",
    "X_train, X_test, y_train, y_test = train_test_split(X, y, test_size=0.3, random_state=7)      "
   ]
  },
  {
   "cell_type": "code",
   "execution_count": 45,
   "metadata": {},
   "outputs": [
    {
     "data": {
      "text/plain": [
       "((5329, 10), (2284, 10), (5329,), (2284,))"
      ]
     },
     "execution_count": 45,
     "metadata": {},
     "output_type": "execute_result"
    }
   ],
   "source": [
    "X_train.shape, X_test.shape, y_train.shape, y_test.shape"
   ]
  },
  {
   "cell_type": "code",
   "execution_count": 46,
   "metadata": {},
   "outputs": [],
   "source": [
    "# estandarizamos las features\n",
    "scaler = StandardScaler()\n",
    "\n",
    "X_train = scaler.fit_transform(X_train)\n",
    "\n",
    "X_test = scaler.transform(X_test) "
   ]
  },
  {
   "cell_type": "code",
   "execution_count": 47,
   "metadata": {},
   "outputs": [],
   "source": [
    "# definimos una \n",
    "cv = StratifiedKFold(n_splits=5, random_state=27, shuffle=True)"
   ]
  },
  {
   "cell_type": "markdown",
   "metadata": {},
   "source": [
    "## Random Forest"
   ]
  },
  {
   "cell_type": "code",
   "execution_count": 48,
   "metadata": {},
   "outputs": [],
   "source": [
    "rf = RandomForestClassifier(max_depth= 4, random_state=27)\n",
    "y_pred = rf.fit(X_train, y_train).predict(X_test)"
   ]
  },
  {
   "cell_type": "code",
   "execution_count": 49,
   "metadata": {},
   "outputs": [
    {
     "data": {
      "text/plain": [
       "(0.6678551322949897, 0.659369527145359)"
      ]
     },
     "execution_count": 49,
     "metadata": {},
     "output_type": "execute_result"
    }
   ],
   "source": [
    "rf.score(X_train, y_train), rf.score(X_test,y_test)"
   ]
  },
  {
   "cell_type": "code",
   "execution_count": 50,
   "metadata": {},
   "outputs": [
    {
     "name": "stdout",
     "output_type": "stream",
     "text": [
      "              precision    recall  f1-score   support\n",
      "\n",
      "           0       0.69      0.74      0.71      1304\n",
      "           1       0.61      0.56      0.58       980\n",
      "\n",
      "    accuracy                           0.66      2284\n",
      "   macro avg       0.65      0.65      0.65      2284\n",
      "weighted avg       0.66      0.66      0.66      2284\n",
      "\n"
     ]
    }
   ],
   "source": [
    "print(classification_report(y_test, y_pred))"
   ]
  },
  {
   "cell_type": "code",
   "execution_count": 51,
   "metadata": {},
   "outputs": [],
   "source": [
    "param_grid = {'n_estimators': [50, 100, 200], \n",
    "              'max_features': [2, 3, 4], \n",
    "              'max_depth': [5, 10, 20], \n",
    "              'min_samples_leaf':[10, 20]}\n"
   ]
  },
  {
   "cell_type": "code",
   "execution_count": 52,
   "metadata": {},
   "outputs": [],
   "source": [
    "rf_grid_search = GridSearchCV(RandomForestClassifier(random_state=0), param_grid=param_grid, cv=cv, verbose=1, n_jobs=-1, scoring='accuracy')"
   ]
  },
  {
   "cell_type": "code",
   "execution_count": 53,
   "metadata": {},
   "outputs": [
    {
     "name": "stdout",
     "output_type": "stream",
     "text": [
      "Fitting 5 folds for each of 54 candidates, totalling 270 fits\n"
     ]
    },
    {
     "name": "stderr",
     "output_type": "stream",
     "text": [
      "[Parallel(n_jobs=-1)]: Using backend LokyBackend with 4 concurrent workers.\n",
      "[Parallel(n_jobs=-1)]: Done  42 tasks      | elapsed:   15.5s\n",
      "[Parallel(n_jobs=-1)]: Done 192 tasks      | elapsed:  1.1min\n",
      "[Parallel(n_jobs=-1)]: Done 270 out of 270 | elapsed:  1.6min finished\n"
     ]
    },
    {
     "data": {
      "text/plain": [
       "RandomForestClassifier(bootstrap=True, ccp_alpha=0.0, class_weight=None,\n",
       "                       criterion='gini', max_depth=10, max_features=3,\n",
       "                       max_leaf_nodes=None, max_samples=None,\n",
       "                       min_impurity_decrease=0.0, min_impurity_split=None,\n",
       "                       min_samples_leaf=10, min_samples_split=2,\n",
       "                       min_weight_fraction_leaf=0.0, n_estimators=200,\n",
       "                       n_jobs=None, oob_score=False, random_state=0, verbose=0,\n",
       "                       warm_start=False)"
      ]
     },
     "metadata": {},
     "output_type": "display_data"
    },
    {
     "name": "stdout",
     "output_type": "stream",
     "text": [
      "Wall time: 1min 39s\n"
     ]
    }
   ],
   "source": [
    "%%time\n",
    "rf_grid_search.fit(X_train, y_train)  \n",
    "display(rf_grid_search.best_estimator_)"
   ]
  },
  {
   "cell_type": "code",
   "execution_count": 54,
   "metadata": {},
   "outputs": [
    {
     "data": {
      "text/plain": [
       "{'max_depth': 10,\n",
       " 'max_features': 3,\n",
       " 'min_samples_leaf': 10,\n",
       " 'n_estimators': 200}"
      ]
     },
     "execution_count": 54,
     "metadata": {},
     "output_type": "execute_result"
    }
   ],
   "source": [
    "rf_grid_search.best_params_"
   ]
  },
  {
   "cell_type": "code",
   "execution_count": 55,
   "metadata": {},
   "outputs": [],
   "source": [
    "pred_grid = rf_grid_search.predict(X_test)"
   ]
  },
  {
   "cell_type": "code",
   "execution_count": 56,
   "metadata": {},
   "outputs": [
    {
     "data": {
      "text/plain": [
       "(0.733345843497842, 0.6764448336252189)"
      ]
     },
     "execution_count": 56,
     "metadata": {},
     "output_type": "execute_result"
    }
   ],
   "source": [
    "rf_grid_search.score(X_train, y_train), rf_grid_search.score(X_test,y_test)"
   ]
  },
  {
   "cell_type": "code",
   "execution_count": 57,
   "metadata": {},
   "outputs": [
    {
     "name": "stdout",
     "output_type": "stream",
     "text": [
      "              precision    recall  f1-score   support\n",
      "\n",
      "           0       0.70      0.75      0.73      1304\n",
      "           1       0.64      0.58      0.60       980\n",
      "\n",
      "    accuracy                           0.68      2284\n",
      "   macro avg       0.67      0.66      0.67      2284\n",
      "weighted avg       0.67      0.68      0.67      2284\n",
      "\n"
     ]
    }
   ],
   "source": [
    "print(classification_report(y_test, pred_grid))"
   ]
  },
  {
   "cell_type": "code",
   "execution_count": null,
   "metadata": {},
   "outputs": [],
   "source": []
  },
  {
   "cell_type": "markdown",
   "metadata": {},
   "source": [
    "## XGBoost"
   ]
  },
  {
   "cell_type": "code",
   "execution_count": 59,
   "metadata": {},
   "outputs": [],
   "source": [
    "model_xgb = xgb.XGBClassifier(n_jobs=-1)"
   ]
  },
  {
   "cell_type": "code",
   "execution_count": 62,
   "metadata": {},
   "outputs": [],
   "source": [
    "one_to_left = st.beta(10, 1) # Esta distribución nos dará valores entre 0 y 1 mayormente cercanos a 1\n",
    "\n",
    "params = {  \n",
    "    \"n_estimators\": st.randint(20,40), # Number of boosted trees to fit.\n",
    "    \"max_depth\": st.randint(3, 12),     # Maximum tree depth for base learners.\n",
    "    \"learning_rate\": st.uniform(0.05, 0.4), #     Boosting learning rate (xgb’s “eta”)\n",
    "    \"colsample_bytree\": one_to_left, #     Subsample ratio of columns when constructing each tree.\n",
    "    \"subsample\": one_to_left,     # Subsample ratio of the training instance.\n",
    "    \"gamma\": st.uniform(0, 10), #     Minimum loss reduction required to make a further partition on a leaf node of the tree.\n",
    "    'reg_alpha': st.uniform(0.05,10),   # L1 regularization term on weights\n",
    "    \"min_child_weight\": st.uniform(1,20), #    Minimum sum of instance weight(hessian) needed in a child.\n",
    "}"
   ]
  },
  {
   "cell_type": "code",
   "execution_count": 63,
   "metadata": {},
   "outputs": [],
   "source": [
    "xgb_cv = RandomizedSearchCV(model_xgb, params, n_iter=25, verbose=True)"
   ]
  },
  {
   "cell_type": "code",
   "execution_count": 65,
   "metadata": {},
   "outputs": [
    {
     "name": "stdout",
     "output_type": "stream",
     "text": [
      "Fitting 5 folds for each of 25 candidates, totalling 125 fits\n"
     ]
    },
    {
     "name": "stderr",
     "output_type": "stream",
     "text": [
      "[Parallel(n_jobs=1)]: Using backend SequentialBackend with 1 concurrent workers.\n",
      "[Parallel(n_jobs=1)]: Done 125 out of 125 | elapsed:   24.7s finished\n"
     ]
    },
    {
     "name": "stdout",
     "output_type": "stream",
     "text": [
      "Wall time: 25.1 s\n"
     ]
    },
    {
     "data": {
      "text/plain": [
       "RandomizedSearchCV(cv=None, error_score=nan,\n",
       "                   estimator=XGBClassifier(base_score=0.5, booster='gbtree',\n",
       "                                           colsample_bylevel=1,\n",
       "                                           colsample_bynode=1,\n",
       "                                           colsample_bytree=1, gamma=0,\n",
       "                                           learning_rate=0.1, max_delta_step=0,\n",
       "                                           max_depth=3, min_child_weight=1,\n",
       "                                           missing=None, n_estimators=100,\n",
       "                                           n_jobs=-1, nthread=None,\n",
       "                                           objective='binary:logistic',\n",
       "                                           random_state=0, reg_alpha=0,\n",
       "                                           reg_lambda=...\n",
       "                                        'n_estimators': <scipy.stats._distn_infrastructure.rv_frozen object at 0x0000024264E77198>,\n",
       "                                        'reg_alpha': <scipy.stats._distn_infrastructure.rv_frozen object at 0x0000024264E89EB8>,\n",
       "                                        'subsample': <scipy.stats._distn_infrastructure.rv_frozen object at 0x0000024264E77D30>},\n",
       "                   pre_dispatch='2*n_jobs', random_state=None, refit=True,\n",
       "                   return_train_score=False, scoring=None, verbose=True)"
      ]
     },
     "execution_count": 65,
     "metadata": {},
     "output_type": "execute_result"
    }
   ],
   "source": [
    "%%time\n",
    "xgb_cv.fit(X_train,y_train)"
   ]
  },
  {
   "cell_type": "code",
   "execution_count": 66,
   "metadata": {
    "colab": {},
    "colab_type": "code",
    "id": "TWN_SYVkCfoM"
   },
   "outputs": [],
   "source": [
    "y_predicted_xgb = xgb_cv.predict_proba(X_test)"
   ]
  },
  {
   "cell_type": "code",
   "execution_count": 67,
   "metadata": {
    "colab": {},
    "colab_type": "code",
    "id": "ZIV1v9ukCfor",
    "outputId": "d3530218-f0ce-46b4-8924-8a07665718d9"
   },
   "outputs": [
    {
     "data": {
      "image/png": "[encoded data removed]",
      "text/plain": [
       "<Figure size 432x288 with 1 Axes>"
      ]
     },
     "metadata": {
      "needs_background": "light"
     },
     "output_type": "display_data"
    }
   ],
   "source": [
    "xgb.plot_importance(xgb_cv.best_estimator_, height=0.8, max_num_features=5);"
   ]
  },
  {
   "cell_type": "code",
   "execution_count": null,
   "metadata": {},
   "outputs": [],
   "source": []
  },
  {
   "cell_type": "markdown",
   "metadata": {},
   "source": [
    "## CatBoost"
   ]
  },
  {
   "cell_type": "code",
   "execution_count": 68,
   "metadata": {},
   "outputs": [],
   "source": [
    "model_cat = catb.CatBoostClassifier()"
   ]
  },
  {
   "cell_type": "code",
   "execution_count": 69,
   "metadata": {},
   "outputs": [
    {
     "name": "stdout",
     "output_type": "stream",
     "text": [
      "Learning rate set to 0.026901\n",
      "0:\tlearn: 0.6899777\ttotal: 161ms\tremaining: 2m 41s\n",
      "1:\tlearn: 0.6867776\ttotal: 226ms\tremaining: 1m 52s\n",
      "2:\tlearn: 0.6837193\ttotal: 294ms\tremaining: 1m 37s\n",
      "3:\tlearn: 0.6806678\ttotal: 361ms\tremaining: 1m 29s\n",
      "4:\tlearn: 0.6776087\ttotal: 440ms\tremaining: 1m 27s\n",
      "5:\tlearn: 0.6749487\ttotal: 540ms\tremaining: 1m 29s\n",
      "6:\tlearn: 0.6724324\ttotal: 617ms\tremaining: 1m 27s\n",
      "7:\tlearn: 0.6701674\ttotal: 669ms\tremaining: 1m 22s\n",
      "8:\tlearn: 0.6680301\ttotal: 732ms\tremaining: 1m 20s\n",
      "9:\tlearn: 0.6661244\ttotal: 796ms\tremaining: 1m 18s\n",
      "10:\tlearn: 0.6639730\ttotal: 861ms\tremaining: 1m 17s\n",
      "11:\tlearn: 0.6621680\ttotal: 933ms\tremaining: 1m 16s\n",
      "12:\tlearn: 0.6599422\ttotal: 995ms\tremaining: 1m 15s\n",
      "13:\tlearn: 0.6581530\ttotal: 1.05s\tremaining: 1m 13s\n",
      "14:\tlearn: 0.6564553\ttotal: 1.11s\tremaining: 1m 13s\n",
      "15:\tlearn: 0.6548863\ttotal: 1.18s\tremaining: 1m 12s\n",
      "16:\tlearn: 0.6531614\ttotal: 1.25s\tremaining: 1m 12s\n",
      "17:\tlearn: 0.6517186\ttotal: 1.31s\tremaining: 1m 11s\n",
      "18:\tlearn: 0.6501429\ttotal: 1.37s\tremaining: 1m 10s\n",
      "19:\tlearn: 0.6489266\ttotal: 1.43s\tremaining: 1m 10s\n",
      "20:\tlearn: 0.6477203\ttotal: 1.52s\tremaining: 1m 10s\n",
      "21:\tlearn: 0.6462849\ttotal: 1.58s\tremaining: 1m 10s\n",
      "22:\tlearn: 0.6451504\ttotal: 1.64s\tremaining: 1m 9s\n",
      "23:\tlearn: 0.6439659\ttotal: 1.71s\tremaining: 1m 9s\n",
      "24:\tlearn: 0.6431387\ttotal: 1.76s\tremaining: 1m 8s\n",
      "25:\tlearn: 0.6421354\ttotal: 1.82s\tremaining: 1m 8s\n",
      "26:\tlearn: 0.6415305\ttotal: 1.85s\tremaining: 1m 6s\n",
      "27:\tlearn: 0.6404133\ttotal: 1.92s\tremaining: 1m 6s\n",
      "28:\tlearn: 0.6392571\ttotal: 1.98s\tremaining: 1m 6s\n",
      "29:\tlearn: 0.6382764\ttotal: 2.04s\tremaining: 1m 6s\n",
      "30:\tlearn: 0.6375244\ttotal: 2.1s\tremaining: 1m 5s\n",
      "31:\tlearn: 0.6364944\ttotal: 2.17s\tremaining: 1m 5s\n",
      "32:\tlearn: 0.6356553\ttotal: 2.23s\tremaining: 1m 5s\n",
      "33:\tlearn: 0.6350292\ttotal: 2.3s\tremaining: 1m 5s\n",
      "34:\tlearn: 0.6345085\ttotal: 2.36s\tremaining: 1m 4s\n",
      "35:\tlearn: 0.6337322\ttotal: 2.43s\tremaining: 1m 5s\n",
      "36:\tlearn: 0.6329308\ttotal: 2.49s\tremaining: 1m 4s\n",
      "37:\tlearn: 0.6322756\ttotal: 2.56s\tremaining: 1m 4s\n",
      "38:\tlearn: 0.6317251\ttotal: 2.64s\tremaining: 1m 5s\n",
      "39:\tlearn: 0.6310386\ttotal: 2.7s\tremaining: 1m 4s\n",
      "40:\tlearn: 0.6307420\ttotal: 2.74s\tremaining: 1m 4s\n",
      "41:\tlearn: 0.6298312\ttotal: 2.8s\tremaining: 1m 3s\n",
      "42:\tlearn: 0.6292073\ttotal: 2.86s\tremaining: 1m 3s\n",
      "43:\tlearn: 0.6287726\ttotal: 2.92s\tremaining: 1m 3s\n",
      "44:\tlearn: 0.6279974\ttotal: 2.99s\tremaining: 1m 3s\n",
      "45:\tlearn: 0.6275616\ttotal: 3.05s\tremaining: 1m 3s\n",
      "46:\tlearn: 0.6271453\ttotal: 3.12s\tremaining: 1m 3s\n",
      "47:\tlearn: 0.6266457\ttotal: 3.21s\tremaining: 1m 3s\n",
      "48:\tlearn: 0.6262548\ttotal: 3.28s\tremaining: 1m 3s\n",
      "49:\tlearn: 0.6258100\ttotal: 3.33s\tremaining: 1m 3s\n",
      "50:\tlearn: 0.6253603\ttotal: 3.4s\tremaining: 1m 3s\n",
      "51:\tlearn: 0.6246341\ttotal: 3.45s\tremaining: 1m 2s\n",
      "52:\tlearn: 0.6242104\ttotal: 3.52s\tremaining: 1m 2s\n",
      "53:\tlearn: 0.6238166\ttotal: 3.59s\tremaining: 1m 2s\n",
      "54:\tlearn: 0.6230907\ttotal: 3.65s\tremaining: 1m 2s\n",
      "55:\tlearn: 0.6227641\ttotal: 3.71s\tremaining: 1m 2s\n",
      "56:\tlearn: 0.6225073\ttotal: 3.77s\tremaining: 1m 2s\n",
      "57:\tlearn: 0.6221120\ttotal: 3.84s\tremaining: 1m 2s\n",
      "58:\tlearn: 0.6217033\ttotal: 3.9s\tremaining: 1m 2s\n",
      "59:\tlearn: 0.6211045\ttotal: 3.96s\tremaining: 1m 1s\n",
      "60:\tlearn: 0.6205372\ttotal: 4.07s\tremaining: 1m 2s\n",
      "61:\tlearn: 0.6201018\ttotal: 4.16s\tremaining: 1m 2s\n",
      "62:\tlearn: 0.6199027\ttotal: 4.21s\tremaining: 1m 2s\n",
      "63:\tlearn: 0.6196175\ttotal: 4.28s\tremaining: 1m 2s\n",
      "64:\tlearn: 0.6193540\ttotal: 4.34s\tremaining: 1m 2s\n",
      "65:\tlearn: 0.6189902\ttotal: 4.43s\tremaining: 1m 2s\n",
      "66:\tlearn: 0.6186372\ttotal: 4.5s\tremaining: 1m 2s\n",
      "67:\tlearn: 0.6182619\ttotal: 4.58s\tremaining: 1m 2s\n",
      "68:\tlearn: 0.6181433\ttotal: 4.64s\tremaining: 1m 2s\n",
      "69:\tlearn: 0.6178234\ttotal: 4.73s\tremaining: 1m 2s\n",
      "70:\tlearn: 0.6176057\ttotal: 4.79s\tremaining: 1m 2s\n",
      "71:\tlearn: 0.6172869\ttotal: 4.85s\tremaining: 1m 2s\n",
      "72:\tlearn: 0.6171385\ttotal: 4.93s\tremaining: 1m 2s\n",
      "73:\tlearn: 0.6169016\ttotal: 5s\tremaining: 1m 2s\n",
      "74:\tlearn: 0.6164589\ttotal: 5.05s\tremaining: 1m 2s\n",
      "75:\tlearn: 0.6163347\ttotal: 5.11s\tremaining: 1m 2s\n",
      "76:\tlearn: 0.6160187\ttotal: 5.18s\tremaining: 1m 2s\n",
      "77:\tlearn: 0.6155447\ttotal: 5.26s\tremaining: 1m 2s\n",
      "78:\tlearn: 0.6153836\ttotal: 5.32s\tremaining: 1m 2s\n",
      "79:\tlearn: 0.6151621\ttotal: 5.36s\tremaining: 1m 1s\n",
      "80:\tlearn: 0.6149596\ttotal: 5.42s\tremaining: 1m 1s\n",
      "81:\tlearn: 0.6147894\ttotal: 5.49s\tremaining: 1m 1s\n",
      "82:\tlearn: 0.6145643\ttotal: 5.55s\tremaining: 1m 1s\n",
      "83:\tlearn: 0.6142317\ttotal: 5.61s\tremaining: 1m 1s\n",
      "84:\tlearn: 0.6140672\ttotal: 5.67s\tremaining: 1m\n",
      "85:\tlearn: 0.6139317\ttotal: 5.76s\tremaining: 1m 1s\n",
      "86:\tlearn: 0.6136957\ttotal: 5.82s\tremaining: 1m 1s\n",
      "87:\tlearn: 0.6135219\ttotal: 5.87s\tremaining: 1m\n",
      "88:\tlearn: 0.6132328\ttotal: 5.93s\tremaining: 1m\n",
      "89:\tlearn: 0.6128208\ttotal: 6s\tremaining: 1m\n",
      "90:\tlearn: 0.6126791\ttotal: 6.09s\tremaining: 1m\n",
      "91:\tlearn: 0.6124846\ttotal: 6.14s\tremaining: 1m\n",
      "92:\tlearn: 0.6121664\ttotal: 6.2s\tremaining: 1m\n",
      "93:\tlearn: 0.6119779\ttotal: 6.25s\tremaining: 1m\n",
      "94:\tlearn: 0.6118744\ttotal: 6.32s\tremaining: 1m\n",
      "95:\tlearn: 0.6118155\ttotal: 6.38s\tremaining: 1m\n",
      "96:\tlearn: 0.6116659\ttotal: 6.44s\tremaining: 60s\n",
      "97:\tlearn: 0.6114743\ttotal: 6.5s\tremaining: 59.8s\n",
      "98:\tlearn: 0.6113890\ttotal: 6.54s\tremaining: 59.6s\n",
      "99:\tlearn: 0.6110536\ttotal: 6.61s\tremaining: 59.5s\n",
      "100:\tlearn: 0.6108792\ttotal: 6.66s\tremaining: 59.3s\n",
      "101:\tlearn: 0.6106718\ttotal: 6.71s\tremaining: 59.1s\n",
      "102:\tlearn: 0.6105785\ttotal: 6.77s\tremaining: 59s\n",
      "103:\tlearn: 0.6104849\ttotal: 6.84s\tremaining: 59s\n",
      "104:\tlearn: 0.6103633\ttotal: 6.9s\tremaining: 58.8s\n",
      "105:\tlearn: 0.6101539\ttotal: 6.96s\tremaining: 58.7s\n",
      "106:\tlearn: 0.6101031\ttotal: 7.05s\tremaining: 58.8s\n",
      "107:\tlearn: 0.6099788\ttotal: 7.12s\tremaining: 58.8s\n",
      "108:\tlearn: 0.6099226\ttotal: 7.18s\tremaining: 58.7s\n",
      "109:\tlearn: 0.6097903\ttotal: 7.24s\tremaining: 58.5s\n",
      "110:\tlearn: 0.6096019\ttotal: 7.3s\tremaining: 58.4s\n",
      "111:\tlearn: 0.6095679\ttotal: 7.36s\tremaining: 58.3s\n",
      "112:\tlearn: 0.6094624\ttotal: 7.41s\tremaining: 58.2s\n",
      "113:\tlearn: 0.6093541\ttotal: 7.48s\tremaining: 58.2s\n",
      "114:\tlearn: 0.6092144\ttotal: 7.57s\tremaining: 58.2s\n",
      "115:\tlearn: 0.6090133\ttotal: 7.64s\tremaining: 58.2s\n",
      "116:\tlearn: 0.6087990\ttotal: 7.71s\tremaining: 58.2s\n",
      "117:\tlearn: 0.6086907\ttotal: 7.77s\tremaining: 58.1s\n",
      "118:\tlearn: 0.6084904\ttotal: 7.83s\tremaining: 58s\n",
      "119:\tlearn: 0.6083822\ttotal: 7.91s\tremaining: 58s\n",
      "120:\tlearn: 0.6083174\ttotal: 7.98s\tremaining: 58s\n",
      "121:\tlearn: 0.6082178\ttotal: 8.04s\tremaining: 57.9s\n",
      "122:\tlearn: 0.6080064\ttotal: 8.1s\tremaining: 57.7s\n",
      "123:\tlearn: 0.6079506\ttotal: 8.18s\tremaining: 57.8s\n",
      "124:\tlearn: 0.6079149\ttotal: 8.24s\tremaining: 57.7s\n",
      "125:\tlearn: 0.6076774\ttotal: 8.32s\tremaining: 57.7s\n",
      "126:\tlearn: 0.6076379\ttotal: 8.36s\tremaining: 57.5s\n",
      "127:\tlearn: 0.6075270\ttotal: 8.42s\tremaining: 57.3s\n",
      "128:\tlearn: 0.6074564\ttotal: 8.48s\tremaining: 57.2s\n",
      "129:\tlearn: 0.6074480\ttotal: 8.53s\tremaining: 57.1s\n",
      "130:\tlearn: 0.6071925\ttotal: 8.58s\tremaining: 56.9s\n",
      "131:\tlearn: 0.6071432\ttotal: 8.64s\tremaining: 56.8s\n",
      "132:\tlearn: 0.6070293\ttotal: 8.72s\tremaining: 56.8s\n",
      "133:\tlearn: 0.6070122\ttotal: 8.75s\tremaining: 56.6s\n",
      "134:\tlearn: 0.6069086\ttotal: 8.82s\tremaining: 56.5s\n",
      "135:\tlearn: 0.6068506\ttotal: 8.86s\tremaining: 56.3s\n",
      "136:\tlearn: 0.6067177\ttotal: 8.92s\tremaining: 56.2s\n",
      "137:\tlearn: 0.6066343\ttotal: 8.97s\tremaining: 56s\n",
      "138:\tlearn: 0.6065973\ttotal: 9.04s\tremaining: 56s\n",
      "139:\tlearn: 0.6065463\ttotal: 9.08s\tremaining: 55.8s\n",
      "140:\tlearn: 0.6063884\ttotal: 9.15s\tremaining: 55.7s\n",
      "141:\tlearn: 0.6062907\ttotal: 9.24s\tremaining: 55.8s\n",
      "142:\tlearn: 0.6061235\ttotal: 9.33s\tremaining: 55.9s\n",
      "143:\tlearn: 0.6060692\ttotal: 9.37s\tremaining: 55.7s\n",
      "144:\tlearn: 0.6060403\ttotal: 9.42s\tremaining: 55.5s\n",
      "145:\tlearn: 0.6059570\ttotal: 9.47s\tremaining: 55.4s\n",
      "146:\tlearn: 0.6057578\ttotal: 9.53s\tremaining: 55.3s\n",
      "147:\tlearn: 0.6056278\ttotal: 9.59s\tremaining: 55.2s\n",
      "148:\tlearn: 0.6054981\ttotal: 9.65s\tremaining: 55.1s\n",
      "149:\tlearn: 0.6054018\ttotal: 9.7s\tremaining: 55s\n",
      "150:\tlearn: 0.6052739\ttotal: 9.77s\tremaining: 54.9s\n",
      "151:\tlearn: 0.6052257\ttotal: 9.84s\tremaining: 54.9s\n",
      "152:\tlearn: 0.6050146\ttotal: 9.91s\tremaining: 54.9s\n",
      "153:\tlearn: 0.6048869\ttotal: 10s\tremaining: 54.9s\n",
      "154:\tlearn: 0.6047229\ttotal: 10.1s\tremaining: 54.9s\n",
      "155:\tlearn: 0.6045736\ttotal: 10.2s\tremaining: 54.9s\n",
      "156:\tlearn: 0.6045621\ttotal: 10.2s\tremaining: 54.8s\n",
      "157:\tlearn: 0.6044257\ttotal: 10.3s\tremaining: 54.8s\n",
      "158:\tlearn: 0.6042832\ttotal: 10.3s\tremaining: 54.7s\n",
      "159:\tlearn: 0.6042585\ttotal: 10.4s\tremaining: 54.6s\n"
     ]
    },
    {
     "name": "stdout",
     "output_type": "stream",
     "text": [
      "160:\tlearn: 0.6039950\ttotal: 10.5s\tremaining: 54.5s\n",
      "161:\tlearn: 0.6039127\ttotal: 10.5s\tremaining: 54.5s\n",
      "162:\tlearn: 0.6038294\ttotal: 10.6s\tremaining: 54.4s\n",
      "163:\tlearn: 0.6037149\ttotal: 10.6s\tremaining: 54.2s\n",
      "164:\tlearn: 0.6036528\ttotal: 10.7s\tremaining: 54.2s\n",
      "165:\tlearn: 0.6034335\ttotal: 10.8s\tremaining: 54.1s\n",
      "166:\tlearn: 0.6033650\ttotal: 10.8s\tremaining: 54.1s\n",
      "167:\tlearn: 0.6032395\ttotal: 10.9s\tremaining: 54s\n",
      "168:\tlearn: 0.6031602\ttotal: 11s\tremaining: 53.9s\n",
      "169:\tlearn: 0.6031114\ttotal: 11s\tremaining: 53.8s\n",
      "170:\tlearn: 0.6030961\ttotal: 11.1s\tremaining: 53.7s\n",
      "171:\tlearn: 0.6029092\ttotal: 11.1s\tremaining: 53.6s\n",
      "172:\tlearn: 0.6029078\ttotal: 11.1s\tremaining: 53.3s\n",
      "173:\tlearn: 0.6028389\ttotal: 11.2s\tremaining: 53.3s\n",
      "174:\tlearn: 0.6028152\ttotal: 11.3s\tremaining: 53.2s\n",
      "175:\tlearn: 0.6026709\ttotal: 11.4s\tremaining: 53.2s\n",
      "176:\tlearn: 0.6026434\ttotal: 11.4s\tremaining: 53s\n",
      "177:\tlearn: 0.6026075\ttotal: 11.4s\tremaining: 52.8s\n",
      "178:\tlearn: 0.6025349\ttotal: 11.5s\tremaining: 52.7s\n",
      "179:\tlearn: 0.6024795\ttotal: 11.5s\tremaining: 52.5s\n",
      "180:\tlearn: 0.6023364\ttotal: 11.6s\tremaining: 52.5s\n",
      "181:\tlearn: 0.6021422\ttotal: 11.7s\tremaining: 52.4s\n",
      "182:\tlearn: 0.6020346\ttotal: 11.7s\tremaining: 52.4s\n",
      "183:\tlearn: 0.6018880\ttotal: 11.8s\tremaining: 52.3s\n",
      "184:\tlearn: 0.6017072\ttotal: 11.9s\tremaining: 52.2s\n",
      "185:\tlearn: 0.6014264\ttotal: 11.9s\tremaining: 52.2s\n",
      "186:\tlearn: 0.6013354\ttotal: 12s\tremaining: 52.1s\n",
      "187:\tlearn: 0.6012720\ttotal: 12s\tremaining: 52s\n",
      "188:\tlearn: 0.6011360\ttotal: 12.1s\tremaining: 51.9s\n",
      "189:\tlearn: 0.6010454\ttotal: 12.2s\tremaining: 51.8s\n",
      "190:\tlearn: 0.6010135\ttotal: 12.2s\tremaining: 51.8s\n",
      "191:\tlearn: 0.6010046\ttotal: 12.3s\tremaining: 51.7s\n",
      "192:\tlearn: 0.6009629\ttotal: 12.4s\tremaining: 51.7s\n",
      "193:\tlearn: 0.6008868\ttotal: 12.5s\tremaining: 51.8s\n",
      "194:\tlearn: 0.6007818\ttotal: 12.6s\tremaining: 51.8s\n",
      "195:\tlearn: 0.6006818\ttotal: 12.6s\tremaining: 51.8s\n",
      "196:\tlearn: 0.6005664\ttotal: 12.7s\tremaining: 51.8s\n",
      "197:\tlearn: 0.6004555\ttotal: 12.7s\tremaining: 51.6s\n",
      "198:\tlearn: 0.6003784\ttotal: 12.8s\tremaining: 51.6s\n",
      "199:\tlearn: 0.6003267\ttotal: 12.9s\tremaining: 51.6s\n",
      "200:\tlearn: 0.6002679\ttotal: 13s\tremaining: 51.5s\n",
      "201:\tlearn: 0.6001961\ttotal: 13s\tremaining: 51.5s\n",
      "202:\tlearn: 0.6001957\ttotal: 13.1s\tremaining: 51.3s\n",
      "203:\tlearn: 0.6001736\ttotal: 13.1s\tremaining: 51.2s\n",
      "204:\tlearn: 0.6001606\ttotal: 13.2s\tremaining: 51.1s\n",
      "205:\tlearn: 0.6001107\ttotal: 13.2s\tremaining: 51s\n",
      "206:\tlearn: 0.6000761\ttotal: 13.3s\tremaining: 51s\n",
      "207:\tlearn: 0.6000239\ttotal: 13.4s\tremaining: 50.9s\n",
      "208:\tlearn: 0.6000189\ttotal: 13.4s\tremaining: 50.8s\n",
      "209:\tlearn: 0.5999332\ttotal: 13.5s\tremaining: 50.7s\n",
      "210:\tlearn: 0.5998663\ttotal: 13.5s\tremaining: 50.6s\n",
      "211:\tlearn: 0.5997548\ttotal: 13.6s\tremaining: 50.5s\n",
      "212:\tlearn: 0.5996887\ttotal: 13.7s\tremaining: 50.5s\n",
      "213:\tlearn: 0.5996540\ttotal: 13.7s\tremaining: 50.3s\n",
      "214:\tlearn: 0.5995619\ttotal: 13.8s\tremaining: 50.3s\n",
      "215:\tlearn: 0.5994570\ttotal: 13.9s\tremaining: 50.3s\n",
      "216:\tlearn: 0.5993820\ttotal: 13.9s\tremaining: 50.2s\n",
      "217:\tlearn: 0.5993493\ttotal: 14s\tremaining: 50.1s\n",
      "218:\tlearn: 0.5992185\ttotal: 14s\tremaining: 50s\n",
      "219:\tlearn: 0.5991356\ttotal: 14.1s\tremaining: 49.9s\n",
      "220:\tlearn: 0.5990901\ttotal: 14.2s\tremaining: 49.9s\n",
      "221:\tlearn: 0.5989834\ttotal: 14.2s\tremaining: 49.9s\n",
      "222:\tlearn: 0.5988637\ttotal: 14.3s\tremaining: 49.8s\n",
      "223:\tlearn: 0.5988354\ttotal: 14.4s\tremaining: 49.7s\n",
      "224:\tlearn: 0.5987043\ttotal: 14.4s\tremaining: 49.7s\n",
      "225:\tlearn: 0.5986070\ttotal: 14.5s\tremaining: 49.6s\n",
      "226:\tlearn: 0.5985633\ttotal: 14.6s\tremaining: 49.6s\n",
      "227:\tlearn: 0.5984973\ttotal: 14.6s\tremaining: 49.5s\n",
      "228:\tlearn: 0.5984539\ttotal: 14.7s\tremaining: 49.4s\n",
      "229:\tlearn: 0.5984232\ttotal: 14.7s\tremaining: 49.4s\n",
      "230:\tlearn: 0.5982834\ttotal: 14.8s\tremaining: 49.3s\n",
      "231:\tlearn: 0.5982189\ttotal: 14.9s\tremaining: 49.2s\n",
      "232:\tlearn: 0.5981009\ttotal: 14.9s\tremaining: 49.2s\n",
      "233:\tlearn: 0.5980237\ttotal: 15s\tremaining: 49.2s\n",
      "234:\tlearn: 0.5979729\ttotal: 15.1s\tremaining: 49.1s\n",
      "235:\tlearn: 0.5979530\ttotal: 15.2s\tremaining: 49.1s\n",
      "236:\tlearn: 0.5978436\ttotal: 15.2s\tremaining: 49s\n",
      "237:\tlearn: 0.5977219\ttotal: 15.3s\tremaining: 48.9s\n",
      "238:\tlearn: 0.5977045\ttotal: 15.3s\tremaining: 48.9s\n",
      "239:\tlearn: 0.5976871\ttotal: 15.4s\tremaining: 48.8s\n",
      "240:\tlearn: 0.5976731\ttotal: 15.5s\tremaining: 48.8s\n",
      "241:\tlearn: 0.5974728\ttotal: 15.6s\tremaining: 48.7s\n",
      "242:\tlearn: 0.5973585\ttotal: 15.6s\tremaining: 48.7s\n",
      "243:\tlearn: 0.5973177\ttotal: 15.7s\tremaining: 48.6s\n",
      "244:\tlearn: 0.5973116\ttotal: 15.7s\tremaining: 48.5s\n",
      "245:\tlearn: 0.5972905\ttotal: 15.8s\tremaining: 48.4s\n",
      "246:\tlearn: 0.5972597\ttotal: 15.9s\tremaining: 48.4s\n",
      "247:\tlearn: 0.5972159\ttotal: 15.9s\tremaining: 48.3s\n",
      "248:\tlearn: 0.5971568\ttotal: 16s\tremaining: 48.2s\n",
      "249:\tlearn: 0.5970832\ttotal: 16.1s\tremaining: 48.2s\n",
      "250:\tlearn: 0.5969618\ttotal: 16.1s\tremaining: 48.1s\n",
      "251:\tlearn: 0.5969435\ttotal: 16.2s\tremaining: 48s\n",
      "252:\tlearn: 0.5969282\ttotal: 16.2s\tremaining: 48s\n",
      "253:\tlearn: 0.5968612\ttotal: 16.3s\tremaining: 47.9s\n",
      "254:\tlearn: 0.5968297\ttotal: 16.4s\tremaining: 47.8s\n",
      "255:\tlearn: 0.5968015\ttotal: 16.4s\tremaining: 47.7s\n",
      "256:\tlearn: 0.5967956\ttotal: 16.5s\tremaining: 47.7s\n",
      "257:\tlearn: 0.5967432\ttotal: 16.6s\tremaining: 47.7s\n",
      "258:\tlearn: 0.5967308\ttotal: 16.6s\tremaining: 47.5s\n",
      "259:\tlearn: 0.5967048\ttotal: 16.7s\tremaining: 47.5s\n",
      "260:\tlearn: 0.5966326\ttotal: 16.8s\tremaining: 47.4s\n",
      "261:\tlearn: 0.5965413\ttotal: 16.8s\tremaining: 47.4s\n",
      "262:\tlearn: 0.5964747\ttotal: 16.9s\tremaining: 47.3s\n",
      "263:\tlearn: 0.5963906\ttotal: 16.9s\tremaining: 47.3s\n",
      "264:\tlearn: 0.5963715\ttotal: 17s\tremaining: 47.2s\n",
      "265:\tlearn: 0.5963237\ttotal: 17.1s\tremaining: 47.2s\n",
      "266:\tlearn: 0.5963133\ttotal: 17.2s\tremaining: 47.1s\n",
      "267:\tlearn: 0.5962791\ttotal: 17.2s\tremaining: 47.1s\n",
      "268:\tlearn: 0.5962772\ttotal: 17.3s\tremaining: 46.9s\n",
      "269:\tlearn: 0.5962587\ttotal: 17.3s\tremaining: 46.9s\n",
      "270:\tlearn: 0.5961307\ttotal: 17.4s\tremaining: 46.8s\n",
      "271:\tlearn: 0.5960701\ttotal: 17.5s\tremaining: 46.8s\n",
      "272:\tlearn: 0.5960295\ttotal: 17.5s\tremaining: 46.7s\n",
      "273:\tlearn: 0.5959890\ttotal: 17.6s\tremaining: 46.6s\n",
      "274:\tlearn: 0.5958850\ttotal: 17.7s\tremaining: 46.6s\n",
      "275:\tlearn: 0.5958779\ttotal: 17.7s\tremaining: 46.5s\n",
      "276:\tlearn: 0.5958436\ttotal: 17.8s\tremaining: 46.4s\n",
      "277:\tlearn: 0.5957332\ttotal: 17.9s\tremaining: 46.4s\n",
      "278:\tlearn: 0.5957300\ttotal: 17.9s\tremaining: 46.3s\n",
      "279:\tlearn: 0.5956034\ttotal: 18s\tremaining: 46.3s\n",
      "280:\tlearn: 0.5955955\ttotal: 18.1s\tremaining: 46.3s\n",
      "281:\tlearn: 0.5954733\ttotal: 18.2s\tremaining: 46.2s\n",
      "282:\tlearn: 0.5954482\ttotal: 18.2s\tremaining: 46.1s\n",
      "283:\tlearn: 0.5953999\ttotal: 18.3s\tremaining: 46.1s\n",
      "284:\tlearn: 0.5953454\ttotal: 18.3s\tremaining: 46s\n",
      "285:\tlearn: 0.5952770\ttotal: 18.4s\tremaining: 45.9s\n",
      "286:\tlearn: 0.5952304\ttotal: 18.5s\tremaining: 45.9s\n",
      "287:\tlearn: 0.5951846\ttotal: 18.5s\tremaining: 45.8s\n",
      "288:\tlearn: 0.5950171\ttotal: 18.6s\tremaining: 45.8s\n",
      "289:\tlearn: 0.5950081\ttotal: 18.7s\tremaining: 45.7s\n",
      "290:\tlearn: 0.5949668\ttotal: 18.7s\tremaining: 45.6s\n",
      "291:\tlearn: 0.5948815\ttotal: 18.8s\tremaining: 45.5s\n",
      "292:\tlearn: 0.5948615\ttotal: 18.9s\tremaining: 45.5s\n",
      "293:\tlearn: 0.5947632\ttotal: 18.9s\tremaining: 45.4s\n",
      "294:\tlearn: 0.5947168\ttotal: 19s\tremaining: 45.3s\n",
      "295:\tlearn: 0.5946082\ttotal: 19s\tremaining: 45.2s\n",
      "296:\tlearn: 0.5945872\ttotal: 19.1s\tremaining: 45.2s\n",
      "297:\tlearn: 0.5945799\ttotal: 19.2s\tremaining: 45.1s\n",
      "298:\tlearn: 0.5945315\ttotal: 19.2s\tremaining: 45s\n",
      "299:\tlearn: 0.5944451\ttotal: 19.3s\tremaining: 45s\n",
      "300:\tlearn: 0.5944205\ttotal: 19.4s\tremaining: 45s\n",
      "301:\tlearn: 0.5943966\ttotal: 19.4s\tremaining: 44.9s\n",
      "302:\tlearn: 0.5943938\ttotal: 19.5s\tremaining: 44.8s\n",
      "303:\tlearn: 0.5943793\ttotal: 19.6s\tremaining: 44.8s\n",
      "304:\tlearn: 0.5943563\ttotal: 19.6s\tremaining: 44.7s\n",
      "305:\tlearn: 0.5942447\ttotal: 19.7s\tremaining: 44.7s\n",
      "306:\tlearn: 0.5941763\ttotal: 19.8s\tremaining: 44.6s\n",
      "307:\tlearn: 0.5941660\ttotal: 19.8s\tremaining: 44.5s\n",
      "308:\tlearn: 0.5941206\ttotal: 19.9s\tremaining: 44.5s\n",
      "309:\tlearn: 0.5941020\ttotal: 20s\tremaining: 44.5s\n",
      "310:\tlearn: 0.5940267\ttotal: 20s\tremaining: 44.4s\n",
      "311:\tlearn: 0.5940081\ttotal: 20.1s\tremaining: 44.3s\n",
      "312:\tlearn: 0.5939477\ttotal: 20.2s\tremaining: 44.3s\n",
      "313:\tlearn: 0.5939418\ttotal: 20.2s\tremaining: 44.2s\n",
      "314:\tlearn: 0.5938773\ttotal: 20.3s\tremaining: 44.2s\n",
      "315:\tlearn: 0.5938297\ttotal: 20.4s\tremaining: 44.1s\n",
      "316:\tlearn: 0.5937234\ttotal: 20.4s\tremaining: 44s\n",
      "317:\tlearn: 0.5937228\ttotal: 20.5s\tremaining: 43.9s\n",
      "318:\tlearn: 0.5936385\ttotal: 20.5s\tremaining: 43.9s\n",
      "319:\tlearn: 0.5935905\ttotal: 20.6s\tremaining: 43.8s\n",
      "320:\tlearn: 0.5935636\ttotal: 20.7s\tremaining: 43.7s\n",
      "321:\tlearn: 0.5934812\ttotal: 20.7s\tremaining: 43.6s\n"
     ]
    },
    {
     "name": "stdout",
     "output_type": "stream",
     "text": [
      "322:\tlearn: 0.5934406\ttotal: 20.8s\tremaining: 43.6s\n",
      "323:\tlearn: 0.5933978\ttotal: 20.9s\tremaining: 43.5s\n",
      "324:\tlearn: 0.5933498\ttotal: 20.9s\tremaining: 43.4s\n",
      "325:\tlearn: 0.5933493\ttotal: 21s\tremaining: 43.3s\n",
      "326:\tlearn: 0.5933453\ttotal: 21s\tremaining: 43.3s\n",
      "327:\tlearn: 0.5932946\ttotal: 21.1s\tremaining: 43.2s\n",
      "328:\tlearn: 0.5932851\ttotal: 21.2s\tremaining: 43.1s\n",
      "329:\tlearn: 0.5932106\ttotal: 21.2s\tremaining: 43.1s\n",
      "330:\tlearn: 0.5929849\ttotal: 21.3s\tremaining: 43.1s\n",
      "331:\tlearn: 0.5929691\ttotal: 21.4s\tremaining: 43s\n",
      "332:\tlearn: 0.5929533\ttotal: 21.4s\tremaining: 42.9s\n",
      "333:\tlearn: 0.5929481\ttotal: 21.5s\tremaining: 42.8s\n",
      "334:\tlearn: 0.5929200\ttotal: 21.5s\tremaining: 42.7s\n",
      "335:\tlearn: 0.5928842\ttotal: 21.6s\tremaining: 42.7s\n",
      "336:\tlearn: 0.5928365\ttotal: 21.6s\tremaining: 42.6s\n",
      "337:\tlearn: 0.5928195\ttotal: 21.7s\tremaining: 42.5s\n",
      "338:\tlearn: 0.5927431\ttotal: 21.8s\tremaining: 42.5s\n",
      "339:\tlearn: 0.5926666\ttotal: 21.8s\tremaining: 42.4s\n",
      "340:\tlearn: 0.5926352\ttotal: 21.9s\tremaining: 42.3s\n",
      "341:\tlearn: 0.5926013\ttotal: 22s\tremaining: 42.2s\n",
      "342:\tlearn: 0.5925563\ttotal: 22s\tremaining: 42.2s\n",
      "343:\tlearn: 0.5924801\ttotal: 22.1s\tremaining: 42.2s\n",
      "344:\tlearn: 0.5923844\ttotal: 22.2s\tremaining: 42.1s\n",
      "345:\tlearn: 0.5922985\ttotal: 22.3s\tremaining: 42.1s\n",
      "346:\tlearn: 0.5922656\ttotal: 22.3s\tremaining: 42s\n",
      "347:\tlearn: 0.5922177\ttotal: 22.4s\tremaining: 42s\n",
      "348:\tlearn: 0.5921875\ttotal: 22.5s\tremaining: 41.9s\n",
      "349:\tlearn: 0.5921641\ttotal: 22.5s\tremaining: 41.8s\n",
      "350:\tlearn: 0.5920970\ttotal: 22.6s\tremaining: 41.7s\n",
      "351:\tlearn: 0.5920638\ttotal: 22.6s\tremaining: 41.6s\n",
      "352:\tlearn: 0.5919958\ttotal: 22.7s\tremaining: 41.6s\n",
      "353:\tlearn: 0.5919853\ttotal: 22.8s\tremaining: 41.6s\n",
      "354:\tlearn: 0.5919077\ttotal: 22.8s\tremaining: 41.5s\n",
      "355:\tlearn: 0.5919070\ttotal: 22.9s\tremaining: 41.4s\n",
      "356:\tlearn: 0.5917735\ttotal: 22.9s\tremaining: 41.3s\n",
      "357:\tlearn: 0.5916899\ttotal: 23s\tremaining: 41.3s\n",
      "358:\tlearn: 0.5916554\ttotal: 23.1s\tremaining: 41.2s\n",
      "359:\tlearn: 0.5915753\ttotal: 23.1s\tremaining: 41.1s\n",
      "360:\tlearn: 0.5914909\ttotal: 23.2s\tremaining: 41.1s\n",
      "361:\tlearn: 0.5914065\ttotal: 23.3s\tremaining: 41s\n",
      "362:\tlearn: 0.5913929\ttotal: 23.3s\tremaining: 41s\n",
      "363:\tlearn: 0.5913690\ttotal: 23.4s\tremaining: 40.9s\n",
      "364:\tlearn: 0.5913529\ttotal: 23.5s\tremaining: 40.9s\n",
      "365:\tlearn: 0.5913484\ttotal: 23.6s\tremaining: 40.8s\n",
      "366:\tlearn: 0.5913457\ttotal: 23.6s\tremaining: 40.7s\n",
      "367:\tlearn: 0.5913453\ttotal: 23.7s\tremaining: 40.6s\n",
      "368:\tlearn: 0.5912370\ttotal: 23.7s\tremaining: 40.6s\n",
      "369:\tlearn: 0.5911588\ttotal: 23.8s\tremaining: 40.5s\n",
      "370:\tlearn: 0.5911396\ttotal: 23.8s\tremaining: 40.4s\n",
      "371:\tlearn: 0.5911119\ttotal: 23.9s\tremaining: 40.4s\n",
      "372:\tlearn: 0.5910845\ttotal: 24s\tremaining: 40.3s\n",
      "373:\tlearn: 0.5910397\ttotal: 24s\tremaining: 40.2s\n",
      "374:\tlearn: 0.5909213\ttotal: 24.1s\tremaining: 40.2s\n",
      "375:\tlearn: 0.5908383\ttotal: 24.1s\tremaining: 40.1s\n",
      "376:\tlearn: 0.5908356\ttotal: 24.2s\tremaining: 40s\n",
      "377:\tlearn: 0.5908055\ttotal: 24.3s\tremaining: 39.9s\n",
      "378:\tlearn: 0.5908039\ttotal: 24.3s\tremaining: 39.9s\n",
      "379:\tlearn: 0.5907886\ttotal: 24.4s\tremaining: 39.8s\n",
      "380:\tlearn: 0.5907293\ttotal: 24.5s\tremaining: 39.7s\n",
      "381:\tlearn: 0.5906943\ttotal: 24.5s\tremaining: 39.7s\n",
      "382:\tlearn: 0.5906723\ttotal: 24.6s\tremaining: 39.6s\n",
      "383:\tlearn: 0.5906685\ttotal: 24.7s\tremaining: 39.6s\n",
      "384:\tlearn: 0.5906446\ttotal: 24.7s\tremaining: 39.5s\n",
      "385:\tlearn: 0.5905962\ttotal: 24.8s\tremaining: 39.4s\n",
      "386:\tlearn: 0.5905899\ttotal: 24.9s\tremaining: 39.4s\n",
      "387:\tlearn: 0.5905176\ttotal: 24.9s\tremaining: 39.3s\n",
      "388:\tlearn: 0.5904725\ttotal: 25s\tremaining: 39.2s\n",
      "389:\tlearn: 0.5904009\ttotal: 25s\tremaining: 39.1s\n",
      "390:\tlearn: 0.5903952\ttotal: 25.1s\tremaining: 39.1s\n",
      "391:\tlearn: 0.5903782\ttotal: 25.2s\tremaining: 39s\n",
      "392:\tlearn: 0.5903370\ttotal: 25.2s\tremaining: 39s\n",
      "393:\tlearn: 0.5901832\ttotal: 25.3s\tremaining: 38.9s\n",
      "394:\tlearn: 0.5901669\ttotal: 25.4s\tremaining: 38.8s\n",
      "395:\tlearn: 0.5901644\ttotal: 25.4s\tremaining: 38.8s\n",
      "396:\tlearn: 0.5901422\ttotal: 25.5s\tremaining: 38.7s\n",
      "397:\tlearn: 0.5900112\ttotal: 25.5s\tremaining: 38.6s\n",
      "398:\tlearn: 0.5899648\ttotal: 25.6s\tremaining: 38.6s\n",
      "399:\tlearn: 0.5898290\ttotal: 25.7s\tremaining: 38.5s\n",
      "400:\tlearn: 0.5897161\ttotal: 25.7s\tremaining: 38.4s\n",
      "401:\tlearn: 0.5897151\ttotal: 25.8s\tremaining: 38.3s\n",
      "402:\tlearn: 0.5896909\ttotal: 25.8s\tremaining: 38.2s\n",
      "403:\tlearn: 0.5896899\ttotal: 25.9s\tremaining: 38.1s\n",
      "404:\tlearn: 0.5896365\ttotal: 25.9s\tremaining: 38.1s\n",
      "405:\tlearn: 0.5896086\ttotal: 26s\tremaining: 38s\n",
      "406:\tlearn: 0.5896013\ttotal: 26s\tremaining: 37.9s\n",
      "407:\tlearn: 0.5893493\ttotal: 26.1s\tremaining: 37.8s\n",
      "408:\tlearn: 0.5892684\ttotal: 26.1s\tremaining: 37.8s\n",
      "409:\tlearn: 0.5891506\ttotal: 26.2s\tremaining: 37.7s\n",
      "410:\tlearn: 0.5890949\ttotal: 26.3s\tremaining: 37.7s\n",
      "411:\tlearn: 0.5890181\ttotal: 26.4s\tremaining: 37.6s\n",
      "412:\tlearn: 0.5889803\ttotal: 26.4s\tremaining: 37.6s\n",
      "413:\tlearn: 0.5888664\ttotal: 26.5s\tremaining: 37.5s\n",
      "414:\tlearn: 0.5887676\ttotal: 26.5s\tremaining: 37.4s\n",
      "415:\tlearn: 0.5887386\ttotal: 26.6s\tremaining: 37.4s\n",
      "416:\tlearn: 0.5885772\ttotal: 26.7s\tremaining: 37.3s\n",
      "417:\tlearn: 0.5885120\ttotal: 26.8s\tremaining: 37.3s\n",
      "418:\tlearn: 0.5884287\ttotal: 26.8s\tremaining: 37.2s\n",
      "419:\tlearn: 0.5883557\ttotal: 26.9s\tremaining: 37.1s\n",
      "420:\tlearn: 0.5881719\ttotal: 26.9s\tremaining: 37s\n",
      "421:\tlearn: 0.5880971\ttotal: 27s\tremaining: 37s\n",
      "422:\tlearn: 0.5880915\ttotal: 27.1s\tremaining: 36.9s\n",
      "423:\tlearn: 0.5880709\ttotal: 27.1s\tremaining: 36.8s\n",
      "424:\tlearn: 0.5879869\ttotal: 27.2s\tremaining: 36.8s\n",
      "425:\tlearn: 0.5878983\ttotal: 27.2s\tremaining: 36.7s\n",
      "426:\tlearn: 0.5877356\ttotal: 27.3s\tremaining: 36.6s\n",
      "427:\tlearn: 0.5876377\ttotal: 27.4s\tremaining: 36.6s\n",
      "428:\tlearn: 0.5875718\ttotal: 27.4s\tremaining: 36.5s\n",
      "429:\tlearn: 0.5875381\ttotal: 27.5s\tremaining: 36.5s\n",
      "430:\tlearn: 0.5875367\ttotal: 27.6s\tremaining: 36.4s\n",
      "431:\tlearn: 0.5874152\ttotal: 27.6s\tremaining: 36.3s\n",
      "432:\tlearn: 0.5873730\ttotal: 27.7s\tremaining: 36.3s\n",
      "433:\tlearn: 0.5873382\ttotal: 27.8s\tremaining: 36.2s\n",
      "434:\tlearn: 0.5872537\ttotal: 27.8s\tremaining: 36.1s\n",
      "435:\tlearn: 0.5871452\ttotal: 27.9s\tremaining: 36.1s\n",
      "436:\tlearn: 0.5870814\ttotal: 28s\tremaining: 36s\n",
      "437:\tlearn: 0.5869705\ttotal: 28s\tremaining: 36s\n",
      "438:\tlearn: 0.5869623\ttotal: 28.1s\tremaining: 35.9s\n",
      "439:\tlearn: 0.5869058\ttotal: 28.2s\tremaining: 35.9s\n",
      "440:\tlearn: 0.5868342\ttotal: 28.3s\tremaining: 35.8s\n",
      "441:\tlearn: 0.5867313\ttotal: 28.3s\tremaining: 35.8s\n",
      "442:\tlearn: 0.5867227\ttotal: 28.4s\tremaining: 35.7s\n",
      "443:\tlearn: 0.5867225\ttotal: 28.4s\tremaining: 35.6s\n",
      "444:\tlearn: 0.5866623\ttotal: 28.5s\tremaining: 35.5s\n",
      "445:\tlearn: 0.5866008\ttotal: 28.5s\tremaining: 35.4s\n",
      "446:\tlearn: 0.5865593\ttotal: 28.6s\tremaining: 35.4s\n",
      "447:\tlearn: 0.5865515\ttotal: 28.7s\tremaining: 35.3s\n",
      "448:\tlearn: 0.5864508\ttotal: 28.7s\tremaining: 35.2s\n",
      "449:\tlearn: 0.5864089\ttotal: 28.8s\tremaining: 35.2s\n",
      "450:\tlearn: 0.5863417\ttotal: 28.8s\tremaining: 35.1s\n",
      "451:\tlearn: 0.5862711\ttotal: 28.9s\tremaining: 35s\n",
      "452:\tlearn: 0.5862168\ttotal: 29s\tremaining: 35s\n",
      "453:\tlearn: 0.5861147\ttotal: 29s\tremaining: 34.9s\n",
      "454:\tlearn: 0.5860600\ttotal: 29.1s\tremaining: 34.8s\n",
      "455:\tlearn: 0.5860520\ttotal: 29.1s\tremaining: 34.8s\n",
      "456:\tlearn: 0.5860435\ttotal: 29.2s\tremaining: 34.7s\n",
      "457:\tlearn: 0.5860041\ttotal: 29.3s\tremaining: 34.6s\n",
      "458:\tlearn: 0.5859529\ttotal: 29.3s\tremaining: 34.6s\n",
      "459:\tlearn: 0.5859500\ttotal: 29.4s\tremaining: 34.5s\n",
      "460:\tlearn: 0.5858937\ttotal: 29.4s\tremaining: 34.4s\n",
      "461:\tlearn: 0.5857613\ttotal: 29.5s\tremaining: 34.3s\n",
      "462:\tlearn: 0.5855948\ttotal: 29.6s\tremaining: 34.3s\n",
      "463:\tlearn: 0.5855698\ttotal: 29.7s\tremaining: 34.3s\n",
      "464:\tlearn: 0.5854692\ttotal: 29.7s\tremaining: 34.2s\n",
      "465:\tlearn: 0.5854680\ttotal: 29.8s\tremaining: 34.1s\n",
      "466:\tlearn: 0.5854452\ttotal: 29.8s\tremaining: 34s\n",
      "467:\tlearn: 0.5851566\ttotal: 29.9s\tremaining: 34s\n",
      "468:\tlearn: 0.5850917\ttotal: 30s\tremaining: 33.9s\n",
      "469:\tlearn: 0.5849411\ttotal: 30s\tremaining: 33.8s\n",
      "470:\tlearn: 0.5847983\ttotal: 30.1s\tremaining: 33.8s\n",
      "471:\tlearn: 0.5847548\ttotal: 30.1s\tremaining: 33.7s\n",
      "472:\tlearn: 0.5847263\ttotal: 30.2s\tremaining: 33.6s\n",
      "473:\tlearn: 0.5846905\ttotal: 30.3s\tremaining: 33.6s\n",
      "474:\tlearn: 0.5846027\ttotal: 30.3s\tremaining: 33.5s\n",
      "475:\tlearn: 0.5846002\ttotal: 30.4s\tremaining: 33.4s\n",
      "476:\tlearn: 0.5845956\ttotal: 30.4s\tremaining: 33.3s\n",
      "477:\tlearn: 0.5845520\ttotal: 30.5s\tremaining: 33.3s\n",
      "478:\tlearn: 0.5845501\ttotal: 30.6s\tremaining: 33.3s\n",
      "479:\tlearn: 0.5845380\ttotal: 30.6s\tremaining: 33.2s\n",
      "480:\tlearn: 0.5845152\ttotal: 30.7s\tremaining: 33.1s\n",
      "481:\tlearn: 0.5844549\ttotal: 30.8s\tremaining: 33.1s\n",
      "482:\tlearn: 0.5844245\ttotal: 30.9s\tremaining: 33.1s\n"
     ]
    },
    {
     "name": "stdout",
     "output_type": "stream",
     "text": [
      "483:\tlearn: 0.5843673\ttotal: 30.9s\tremaining: 33s\n",
      "484:\tlearn: 0.5843019\ttotal: 31s\tremaining: 32.9s\n",
      "485:\tlearn: 0.5842739\ttotal: 31.1s\tremaining: 32.9s\n",
      "486:\tlearn: 0.5842329\ttotal: 31.2s\tremaining: 32.8s\n",
      "487:\tlearn: 0.5840998\ttotal: 31.2s\tremaining: 32.8s\n",
      "488:\tlearn: 0.5840870\ttotal: 31.3s\tremaining: 32.7s\n",
      "489:\tlearn: 0.5839826\ttotal: 31.4s\tremaining: 32.6s\n",
      "490:\tlearn: 0.5839130\ttotal: 31.4s\tremaining: 32.6s\n",
      "491:\tlearn: 0.5838777\ttotal: 31.5s\tremaining: 32.5s\n",
      "492:\tlearn: 0.5837215\ttotal: 31.6s\tremaining: 32.5s\n",
      "493:\tlearn: 0.5836868\ttotal: 31.6s\tremaining: 32.4s\n",
      "494:\tlearn: 0.5836564\ttotal: 31.7s\tremaining: 32.3s\n",
      "495:\tlearn: 0.5836444\ttotal: 31.8s\tremaining: 32.3s\n",
      "496:\tlearn: 0.5836195\ttotal: 31.9s\tremaining: 32.3s\n",
      "497:\tlearn: 0.5835894\ttotal: 31.9s\tremaining: 32.2s\n",
      "498:\tlearn: 0.5835776\ttotal: 32s\tremaining: 32.1s\n",
      "499:\tlearn: 0.5834631\ttotal: 32.1s\tremaining: 32.1s\n",
      "500:\tlearn: 0.5834210\ttotal: 32.1s\tremaining: 32s\n",
      "501:\tlearn: 0.5833475\ttotal: 32.2s\tremaining: 31.9s\n",
      "502:\tlearn: 0.5833437\ttotal: 32.3s\tremaining: 31.9s\n",
      "503:\tlearn: 0.5832899\ttotal: 32.4s\tremaining: 31.8s\n",
      "504:\tlearn: 0.5832819\ttotal: 32.4s\tremaining: 31.8s\n",
      "505:\tlearn: 0.5832027\ttotal: 32.5s\tremaining: 31.7s\n",
      "506:\tlearn: 0.5829862\ttotal: 32.6s\tremaining: 31.7s\n",
      "507:\tlearn: 0.5827782\ttotal: 32.7s\tremaining: 31.6s\n",
      "508:\tlearn: 0.5826706\ttotal: 32.7s\tremaining: 31.6s\n",
      "509:\tlearn: 0.5826686\ttotal: 32.8s\tremaining: 31.5s\n",
      "510:\tlearn: 0.5826249\ttotal: 32.9s\tremaining: 31.4s\n",
      "511:\tlearn: 0.5826206\ttotal: 32.9s\tremaining: 31.4s\n",
      "512:\tlearn: 0.5824966\ttotal: 33s\tremaining: 31.3s\n",
      "513:\tlearn: 0.5823424\ttotal: 33s\tremaining: 31.2s\n",
      "514:\tlearn: 0.5822468\ttotal: 33.1s\tremaining: 31.2s\n",
      "515:\tlearn: 0.5822374\ttotal: 33.2s\tremaining: 31.1s\n",
      "516:\tlearn: 0.5821794\ttotal: 33.3s\tremaining: 31.1s\n",
      "517:\tlearn: 0.5821382\ttotal: 33.3s\tremaining: 31s\n",
      "518:\tlearn: 0.5821143\ttotal: 33.4s\tremaining: 30.9s\n",
      "519:\tlearn: 0.5820606\ttotal: 33.4s\tremaining: 30.9s\n",
      "520:\tlearn: 0.5820354\ttotal: 33.5s\tremaining: 30.8s\n",
      "521:\tlearn: 0.5820082\ttotal: 33.6s\tremaining: 30.7s\n",
      "522:\tlearn: 0.5819314\ttotal: 33.6s\tremaining: 30.7s\n",
      "523:\tlearn: 0.5818371\ttotal: 33.7s\tremaining: 30.6s\n",
      "524:\tlearn: 0.5818285\ttotal: 33.8s\tremaining: 30.5s\n",
      "525:\tlearn: 0.5817924\ttotal: 33.8s\tremaining: 30.5s\n",
      "526:\tlearn: 0.5816765\ttotal: 33.9s\tremaining: 30.4s\n",
      "527:\tlearn: 0.5816416\ttotal: 33.9s\tremaining: 30.3s\n",
      "528:\tlearn: 0.5815658\ttotal: 34s\tremaining: 30.3s\n",
      "529:\tlearn: 0.5815536\ttotal: 34.1s\tremaining: 30.2s\n",
      "530:\tlearn: 0.5814206\ttotal: 34.1s\tremaining: 30.2s\n",
      "531:\tlearn: 0.5814202\ttotal: 34.2s\tremaining: 30.1s\n",
      "532:\tlearn: 0.5813604\ttotal: 34.3s\tremaining: 30s\n",
      "533:\tlearn: 0.5813285\ttotal: 34.3s\tremaining: 29.9s\n",
      "534:\tlearn: 0.5813031\ttotal: 34.4s\tremaining: 29.9s\n",
      "535:\tlearn: 0.5812422\ttotal: 34.4s\tremaining: 29.8s\n",
      "536:\tlearn: 0.5812049\ttotal: 34.5s\tremaining: 29.7s\n",
      "537:\tlearn: 0.5811858\ttotal: 34.6s\tremaining: 29.7s\n",
      "538:\tlearn: 0.5811369\ttotal: 34.6s\tremaining: 29.6s\n",
      "539:\tlearn: 0.5811193\ttotal: 34.7s\tremaining: 29.5s\n",
      "540:\tlearn: 0.5810643\ttotal: 34.7s\tremaining: 29.5s\n",
      "541:\tlearn: 0.5810604\ttotal: 34.8s\tremaining: 29.4s\n",
      "542:\tlearn: 0.5810097\ttotal: 34.9s\tremaining: 29.3s\n",
      "543:\tlearn: 0.5809566\ttotal: 34.9s\tremaining: 29.3s\n",
      "544:\tlearn: 0.5809405\ttotal: 35s\tremaining: 29.2s\n",
      "545:\tlearn: 0.5808895\ttotal: 35.1s\tremaining: 29.2s\n",
      "546:\tlearn: 0.5808358\ttotal: 35.1s\tremaining: 29.1s\n",
      "547:\tlearn: 0.5808134\ttotal: 35.2s\tremaining: 29s\n",
      "548:\tlearn: 0.5807912\ttotal: 35.2s\tremaining: 29s\n",
      "549:\tlearn: 0.5806749\ttotal: 35.3s\tremaining: 28.9s\n",
      "550:\tlearn: 0.5806720\ttotal: 35.4s\tremaining: 28.8s\n",
      "551:\tlearn: 0.5806607\ttotal: 35.4s\tremaining: 28.8s\n",
      "552:\tlearn: 0.5806327\ttotal: 35.5s\tremaining: 28.7s\n",
      "553:\tlearn: 0.5806211\ttotal: 35.5s\tremaining: 28.6s\n",
      "554:\tlearn: 0.5805572\ttotal: 35.6s\tremaining: 28.5s\n",
      "555:\tlearn: 0.5805489\ttotal: 35.7s\tremaining: 28.5s\n",
      "556:\tlearn: 0.5804710\ttotal: 35.7s\tremaining: 28.4s\n",
      "557:\tlearn: 0.5804433\ttotal: 35.8s\tremaining: 28.4s\n",
      "558:\tlearn: 0.5803360\ttotal: 35.9s\tremaining: 28.3s\n",
      "559:\tlearn: 0.5803189\ttotal: 36s\tremaining: 28.2s\n",
      "560:\tlearn: 0.5803169\ttotal: 36s\tremaining: 28.2s\n",
      "561:\tlearn: 0.5802749\ttotal: 36s\tremaining: 28.1s\n",
      "562:\tlearn: 0.5802232\ttotal: 36.1s\tremaining: 28s\n",
      "563:\tlearn: 0.5800913\ttotal: 36.2s\tremaining: 28s\n",
      "564:\tlearn: 0.5800898\ttotal: 36.2s\tremaining: 27.9s\n",
      "565:\tlearn: 0.5800018\ttotal: 36.3s\tremaining: 27.8s\n",
      "566:\tlearn: 0.5799897\ttotal: 36.4s\tremaining: 27.8s\n",
      "567:\tlearn: 0.5799872\ttotal: 36.4s\tremaining: 27.7s\n",
      "568:\tlearn: 0.5799841\ttotal: 36.5s\tremaining: 27.6s\n",
      "569:\tlearn: 0.5798064\ttotal: 36.6s\tremaining: 27.6s\n",
      "570:\tlearn: 0.5797606\ttotal: 36.6s\tremaining: 27.5s\n",
      "571:\tlearn: 0.5797388\ttotal: 36.7s\tremaining: 27.5s\n",
      "572:\tlearn: 0.5795390\ttotal: 36.8s\tremaining: 27.4s\n",
      "573:\tlearn: 0.5795175\ttotal: 36.9s\tremaining: 27.4s\n",
      "574:\tlearn: 0.5794131\ttotal: 36.9s\tremaining: 27.3s\n",
      "575:\tlearn: 0.5793711\ttotal: 37s\tremaining: 27.2s\n",
      "576:\tlearn: 0.5793670\ttotal: 37s\tremaining: 27.2s\n",
      "577:\tlearn: 0.5793541\ttotal: 37.1s\tremaining: 27.1s\n",
      "578:\tlearn: 0.5793270\ttotal: 37.1s\tremaining: 27s\n",
      "579:\tlearn: 0.5792279\ttotal: 37.2s\tremaining: 26.9s\n",
      "580:\tlearn: 0.5792173\ttotal: 37.3s\tremaining: 26.9s\n",
      "581:\tlearn: 0.5791770\ttotal: 37.3s\tremaining: 26.8s\n",
      "582:\tlearn: 0.5791721\ttotal: 37.4s\tremaining: 26.7s\n",
      "583:\tlearn: 0.5790239\ttotal: 37.5s\tremaining: 26.7s\n",
      "584:\tlearn: 0.5789693\ttotal: 37.5s\tremaining: 26.6s\n",
      "585:\tlearn: 0.5789129\ttotal: 37.6s\tremaining: 26.6s\n",
      "586:\tlearn: 0.5789017\ttotal: 37.6s\tremaining: 26.5s\n",
      "587:\tlearn: 0.5788633\ttotal: 37.7s\tremaining: 26.4s\n",
      "588:\tlearn: 0.5788627\ttotal: 37.7s\tremaining: 26.3s\n",
      "589:\tlearn: 0.5787251\ttotal: 37.8s\tremaining: 26.3s\n",
      "590:\tlearn: 0.5787037\ttotal: 37.9s\tremaining: 26.2s\n",
      "591:\tlearn: 0.5787034\ttotal: 37.9s\tremaining: 26.1s\n",
      "592:\tlearn: 0.5786973\ttotal: 38s\tremaining: 26.1s\n",
      "593:\tlearn: 0.5786219\ttotal: 38.1s\tremaining: 26s\n",
      "594:\tlearn: 0.5785520\ttotal: 38.1s\tremaining: 25.9s\n",
      "595:\tlearn: 0.5785510\ttotal: 38.2s\tremaining: 25.9s\n",
      "596:\tlearn: 0.5785019\ttotal: 38.2s\tremaining: 25.8s\n",
      "597:\tlearn: 0.5784503\ttotal: 38.3s\tremaining: 25.7s\n",
      "598:\tlearn: 0.5784248\ttotal: 38.4s\tremaining: 25.7s\n",
      "599:\tlearn: 0.5783889\ttotal: 38.4s\tremaining: 25.6s\n",
      "600:\tlearn: 0.5783539\ttotal: 38.5s\tremaining: 25.6s\n",
      "601:\tlearn: 0.5783409\ttotal: 38.6s\tremaining: 25.5s\n",
      "602:\tlearn: 0.5782749\ttotal: 38.6s\tremaining: 25.4s\n",
      "603:\tlearn: 0.5781639\ttotal: 38.7s\tremaining: 25.4s\n",
      "604:\tlearn: 0.5781375\ttotal: 38.8s\tremaining: 25.3s\n",
      "605:\tlearn: 0.5781028\ttotal: 38.8s\tremaining: 25.2s\n",
      "606:\tlearn: 0.5780325\ttotal: 38.9s\tremaining: 25.2s\n",
      "607:\tlearn: 0.5779671\ttotal: 38.9s\tremaining: 25.1s\n",
      "608:\tlearn: 0.5779621\ttotal: 39s\tremaining: 25s\n",
      "609:\tlearn: 0.5779504\ttotal: 39.1s\tremaining: 25s\n",
      "610:\tlearn: 0.5779301\ttotal: 39.1s\tremaining: 24.9s\n",
      "611:\tlearn: 0.5779132\ttotal: 39.2s\tremaining: 24.8s\n",
      "612:\tlearn: 0.5778836\ttotal: 39.2s\tremaining: 24.8s\n",
      "613:\tlearn: 0.5778742\ttotal: 39.3s\tremaining: 24.7s\n",
      "614:\tlearn: 0.5778340\ttotal: 39.4s\tremaining: 24.6s\n",
      "615:\tlearn: 0.5778173\ttotal: 39.4s\tremaining: 24.6s\n",
      "616:\tlearn: 0.5777904\ttotal: 39.5s\tremaining: 24.5s\n",
      "617:\tlearn: 0.5777829\ttotal: 39.5s\tremaining: 24.4s\n",
      "618:\tlearn: 0.5777223\ttotal: 39.6s\tremaining: 24.4s\n",
      "619:\tlearn: 0.5777021\ttotal: 39.7s\tremaining: 24.3s\n",
      "620:\tlearn: 0.5776736\ttotal: 39.7s\tremaining: 24.3s\n",
      "621:\tlearn: 0.5776150\ttotal: 39.8s\tremaining: 24.2s\n",
      "622:\tlearn: 0.5773424\ttotal: 39.9s\tremaining: 24.1s\n",
      "623:\tlearn: 0.5772794\ttotal: 39.9s\tremaining: 24.1s\n",
      "624:\tlearn: 0.5772413\ttotal: 40s\tremaining: 24s\n",
      "625:\tlearn: 0.5772202\ttotal: 40.1s\tremaining: 23.9s\n",
      "626:\tlearn: 0.5770904\ttotal: 40.1s\tremaining: 23.9s\n",
      "627:\tlearn: 0.5770715\ttotal: 40.2s\tremaining: 23.8s\n",
      "628:\tlearn: 0.5770647\ttotal: 40.2s\tremaining: 23.7s\n",
      "629:\tlearn: 0.5770433\ttotal: 40.3s\tremaining: 23.7s\n",
      "630:\tlearn: 0.5770033\ttotal: 40.3s\tremaining: 23.6s\n",
      "631:\tlearn: 0.5769999\ttotal: 40.4s\tremaining: 23.5s\n",
      "632:\tlearn: 0.5769972\ttotal: 40.5s\tremaining: 23.5s\n",
      "633:\tlearn: 0.5769893\ttotal: 40.5s\tremaining: 23.4s\n",
      "634:\tlearn: 0.5769552\ttotal: 40.6s\tremaining: 23.3s\n",
      "635:\tlearn: 0.5769241\ttotal: 40.6s\tremaining: 23.3s\n",
      "636:\tlearn: 0.5769017\ttotal: 40.7s\tremaining: 23.2s\n",
      "637:\tlearn: 0.5768104\ttotal: 40.8s\tremaining: 23.1s\n",
      "638:\tlearn: 0.5768048\ttotal: 40.8s\tremaining: 23.1s\n",
      "639:\tlearn: 0.5768030\ttotal: 40.9s\tremaining: 23s\n",
      "640:\tlearn: 0.5767996\ttotal: 40.9s\tremaining: 22.9s\n",
      "641:\tlearn: 0.5767966\ttotal: 41s\tremaining: 22.8s\n",
      "642:\tlearn: 0.5767694\ttotal: 41s\tremaining: 22.8s\n"
     ]
    },
    {
     "name": "stdout",
     "output_type": "stream",
     "text": [
      "643:\tlearn: 0.5767176\ttotal: 41.1s\tremaining: 22.7s\n",
      "644:\tlearn: 0.5767120\ttotal: 41.2s\tremaining: 22.7s\n",
      "645:\tlearn: 0.5766457\ttotal: 41.3s\tremaining: 22.6s\n",
      "646:\tlearn: 0.5765754\ttotal: 41.3s\tremaining: 22.5s\n",
      "647:\tlearn: 0.5764350\ttotal: 41.4s\tremaining: 22.5s\n",
      "648:\tlearn: 0.5764023\ttotal: 41.4s\tremaining: 22.4s\n",
      "649:\tlearn: 0.5763139\ttotal: 41.5s\tremaining: 22.3s\n",
      "650:\tlearn: 0.5762077\ttotal: 41.6s\tremaining: 22.3s\n",
      "651:\tlearn: 0.5761695\ttotal: 41.6s\tremaining: 22.2s\n",
      "652:\tlearn: 0.5761256\ttotal: 41.7s\tremaining: 22.2s\n",
      "653:\tlearn: 0.5761041\ttotal: 41.8s\tremaining: 22.1s\n",
      "654:\tlearn: 0.5760437\ttotal: 41.8s\tremaining: 22s\n",
      "655:\tlearn: 0.5760358\ttotal: 41.9s\tremaining: 22s\n",
      "656:\tlearn: 0.5760096\ttotal: 42s\tremaining: 21.9s\n",
      "657:\tlearn: 0.5759389\ttotal: 42s\tremaining: 21.8s\n",
      "658:\tlearn: 0.5759350\ttotal: 42.1s\tremaining: 21.8s\n",
      "659:\tlearn: 0.5758270\ttotal: 42.2s\tremaining: 21.7s\n",
      "660:\tlearn: 0.5758016\ttotal: 42.2s\tremaining: 21.7s\n",
      "661:\tlearn: 0.5757685\ttotal: 42.3s\tremaining: 21.6s\n",
      "662:\tlearn: 0.5757443\ttotal: 42.3s\tremaining: 21.5s\n",
      "663:\tlearn: 0.5756523\ttotal: 42.4s\tremaining: 21.4s\n",
      "664:\tlearn: 0.5756417\ttotal: 42.5s\tremaining: 21.4s\n",
      "665:\tlearn: 0.5756220\ttotal: 42.5s\tremaining: 21.3s\n",
      "666:\tlearn: 0.5756095\ttotal: 42.6s\tremaining: 21.3s\n",
      "667:\tlearn: 0.5755894\ttotal: 42.7s\tremaining: 21.2s\n",
      "668:\tlearn: 0.5755563\ttotal: 42.7s\tremaining: 21.1s\n",
      "669:\tlearn: 0.5755478\ttotal: 42.8s\tremaining: 21.1s\n",
      "670:\tlearn: 0.5755133\ttotal: 42.9s\tremaining: 21s\n",
      "671:\tlearn: 0.5753470\ttotal: 42.9s\tremaining: 20.9s\n",
      "672:\tlearn: 0.5752768\ttotal: 43s\tremaining: 20.9s\n",
      "673:\tlearn: 0.5752663\ttotal: 43s\tremaining: 20.8s\n",
      "674:\tlearn: 0.5752371\ttotal: 43.1s\tremaining: 20.7s\n",
      "675:\tlearn: 0.5752316\ttotal: 43.2s\tremaining: 20.7s\n",
      "676:\tlearn: 0.5752170\ttotal: 43.2s\tremaining: 20.6s\n",
      "677:\tlearn: 0.5751717\ttotal: 43.3s\tremaining: 20.6s\n",
      "678:\tlearn: 0.5751334\ttotal: 43.4s\tremaining: 20.5s\n",
      "679:\tlearn: 0.5751237\ttotal: 43.4s\tremaining: 20.4s\n",
      "680:\tlearn: 0.5751096\ttotal: 43.5s\tremaining: 20.4s\n",
      "681:\tlearn: 0.5750345\ttotal: 43.5s\tremaining: 20.3s\n",
      "682:\tlearn: 0.5748941\ttotal: 43.6s\tremaining: 20.2s\n",
      "683:\tlearn: 0.5748666\ttotal: 43.7s\tremaining: 20.2s\n",
      "684:\tlearn: 0.5748552\ttotal: 43.7s\tremaining: 20.1s\n",
      "685:\tlearn: 0.5748357\ttotal: 43.8s\tremaining: 20s\n",
      "686:\tlearn: 0.5748025\ttotal: 43.8s\tremaining: 20s\n",
      "687:\tlearn: 0.5746942\ttotal: 43.9s\tremaining: 19.9s\n",
      "688:\tlearn: 0.5746795\ttotal: 44s\tremaining: 19.9s\n",
      "689:\tlearn: 0.5746773\ttotal: 44.1s\tremaining: 19.8s\n",
      "690:\tlearn: 0.5745977\ttotal: 44.1s\tremaining: 19.7s\n",
      "691:\tlearn: 0.5745840\ttotal: 44.2s\tremaining: 19.7s\n",
      "692:\tlearn: 0.5745814\ttotal: 44.3s\tremaining: 19.6s\n",
      "693:\tlearn: 0.5745325\ttotal: 44.3s\tremaining: 19.5s\n",
      "694:\tlearn: 0.5744929\ttotal: 44.4s\tremaining: 19.5s\n",
      "695:\tlearn: 0.5744499\ttotal: 44.5s\tremaining: 19.4s\n",
      "696:\tlearn: 0.5743882\ttotal: 44.5s\tremaining: 19.4s\n",
      "697:\tlearn: 0.5743811\ttotal: 44.6s\tremaining: 19.3s\n",
      "698:\tlearn: 0.5743779\ttotal: 44.6s\tremaining: 19.2s\n",
      "699:\tlearn: 0.5743718\ttotal: 44.7s\tremaining: 19.2s\n",
      "700:\tlearn: 0.5743410\ttotal: 44.8s\tremaining: 19.1s\n",
      "701:\tlearn: 0.5743244\ttotal: 44.8s\tremaining: 19s\n",
      "702:\tlearn: 0.5742969\ttotal: 44.9s\tremaining: 19s\n",
      "703:\tlearn: 0.5742918\ttotal: 45s\tremaining: 18.9s\n",
      "704:\tlearn: 0.5741798\ttotal: 45s\tremaining: 18.8s\n",
      "705:\tlearn: 0.5740672\ttotal: 45.1s\tremaining: 18.8s\n",
      "706:\tlearn: 0.5740141\ttotal: 45.2s\tremaining: 18.7s\n",
      "707:\tlearn: 0.5739157\ttotal: 45.2s\tremaining: 18.6s\n",
      "708:\tlearn: 0.5738879\ttotal: 45.3s\tremaining: 18.6s\n",
      "709:\tlearn: 0.5738834\ttotal: 45.4s\tremaining: 18.5s\n",
      "710:\tlearn: 0.5738809\ttotal: 45.4s\tremaining: 18.5s\n",
      "711:\tlearn: 0.5738753\ttotal: 45.5s\tremaining: 18.4s\n",
      "712:\tlearn: 0.5738464\ttotal: 45.5s\tremaining: 18.3s\n",
      "713:\tlearn: 0.5738282\ttotal: 45.6s\tremaining: 18.3s\n",
      "714:\tlearn: 0.5738193\ttotal: 45.7s\tremaining: 18.2s\n",
      "715:\tlearn: 0.5738006\ttotal: 45.7s\tremaining: 18.1s\n",
      "716:\tlearn: 0.5737754\ttotal: 45.8s\tremaining: 18.1s\n",
      "717:\tlearn: 0.5737700\ttotal: 45.8s\tremaining: 18s\n",
      "718:\tlearn: 0.5736185\ttotal: 45.9s\tremaining: 17.9s\n",
      "719:\tlearn: 0.5735938\ttotal: 46s\tremaining: 17.9s\n",
      "720:\tlearn: 0.5735924\ttotal: 46s\tremaining: 17.8s\n",
      "721:\tlearn: 0.5735625\ttotal: 46.1s\tremaining: 17.8s\n",
      "722:\tlearn: 0.5735480\ttotal: 46.2s\tremaining: 17.7s\n",
      "723:\tlearn: 0.5735219\ttotal: 46.3s\tremaining: 17.6s\n",
      "724:\tlearn: 0.5734924\ttotal: 46.3s\tremaining: 17.6s\n",
      "725:\tlearn: 0.5734849\ttotal: 46.4s\tremaining: 17.5s\n",
      "726:\tlearn: 0.5734226\ttotal: 46.5s\tremaining: 17.4s\n",
      "727:\tlearn: 0.5733949\ttotal: 46.5s\tremaining: 17.4s\n",
      "728:\tlearn: 0.5733765\ttotal: 46.6s\tremaining: 17.3s\n",
      "729:\tlearn: 0.5733288\ttotal: 46.7s\tremaining: 17.3s\n",
      "730:\tlearn: 0.5733226\ttotal: 46.7s\tremaining: 17.2s\n",
      "731:\tlearn: 0.5732931\ttotal: 46.8s\tremaining: 17.1s\n",
      "732:\tlearn: 0.5732759\ttotal: 46.9s\tremaining: 17.1s\n",
      "733:\tlearn: 0.5732735\ttotal: 46.9s\tremaining: 17s\n",
      "734:\tlearn: 0.5732558\ttotal: 47s\tremaining: 16.9s\n",
      "735:\tlearn: 0.5732410\ttotal: 47s\tremaining: 16.9s\n",
      "736:\tlearn: 0.5732383\ttotal: 47.1s\tremaining: 16.8s\n",
      "737:\tlearn: 0.5731815\ttotal: 47.2s\tremaining: 16.7s\n",
      "738:\tlearn: 0.5731421\ttotal: 47.2s\tremaining: 16.7s\n",
      "739:\tlearn: 0.5731311\ttotal: 47.3s\tremaining: 16.6s\n",
      "740:\tlearn: 0.5730669\ttotal: 47.4s\tremaining: 16.6s\n",
      "741:\tlearn: 0.5730068\ttotal: 47.4s\tremaining: 16.5s\n",
      "742:\tlearn: 0.5730067\ttotal: 47.5s\tremaining: 16.4s\n",
      "743:\tlearn: 0.5729805\ttotal: 47.5s\tremaining: 16.4s\n",
      "744:\tlearn: 0.5729668\ttotal: 47.6s\tremaining: 16.3s\n",
      "745:\tlearn: 0.5729627\ttotal: 47.7s\tremaining: 16.2s\n",
      "746:\tlearn: 0.5729588\ttotal: 47.7s\tremaining: 16.2s\n",
      "747:\tlearn: 0.5729557\ttotal: 47.8s\tremaining: 16.1s\n",
      "748:\tlearn: 0.5728330\ttotal: 47.9s\tremaining: 16s\n",
      "749:\tlearn: 0.5728112\ttotal: 47.9s\tremaining: 16s\n",
      "750:\tlearn: 0.5727967\ttotal: 48s\tremaining: 15.9s\n",
      "751:\tlearn: 0.5727874\ttotal: 48.1s\tremaining: 15.9s\n",
      "752:\tlearn: 0.5727844\ttotal: 48.1s\tremaining: 15.8s\n",
      "753:\tlearn: 0.5727810\ttotal: 48.2s\tremaining: 15.7s\n",
      "754:\tlearn: 0.5727545\ttotal: 48.2s\tremaining: 15.6s\n",
      "755:\tlearn: 0.5726932\ttotal: 48.3s\tremaining: 15.6s\n",
      "756:\tlearn: 0.5726713\ttotal: 48.4s\tremaining: 15.5s\n",
      "757:\tlearn: 0.5725838\ttotal: 48.4s\tremaining: 15.5s\n",
      "758:\tlearn: 0.5725732\ttotal: 48.5s\tremaining: 15.4s\n",
      "759:\tlearn: 0.5725534\ttotal: 48.5s\tremaining: 15.3s\n",
      "760:\tlearn: 0.5725263\ttotal: 48.6s\tremaining: 15.3s\n",
      "761:\tlearn: 0.5724304\ttotal: 48.7s\tremaining: 15.2s\n",
      "762:\tlearn: 0.5724188\ttotal: 48.7s\tremaining: 15.1s\n",
      "763:\tlearn: 0.5723873\ttotal: 48.8s\tremaining: 15.1s\n",
      "764:\tlearn: 0.5723622\ttotal: 48.9s\tremaining: 15s\n",
      "765:\tlearn: 0.5722768\ttotal: 48.9s\tremaining: 14.9s\n",
      "766:\tlearn: 0.5722661\ttotal: 49s\tremaining: 14.9s\n",
      "767:\tlearn: 0.5722543\ttotal: 49.1s\tremaining: 14.8s\n",
      "768:\tlearn: 0.5721837\ttotal: 49.1s\tremaining: 14.8s\n",
      "769:\tlearn: 0.5721665\ttotal: 49.2s\tremaining: 14.7s\n",
      "770:\tlearn: 0.5721603\ttotal: 49.2s\tremaining: 14.6s\n",
      "771:\tlearn: 0.5721136\ttotal: 49.3s\tremaining: 14.6s\n",
      "772:\tlearn: 0.5720995\ttotal: 49.4s\tremaining: 14.5s\n",
      "773:\tlearn: 0.5720923\ttotal: 49.4s\tremaining: 14.4s\n",
      "774:\tlearn: 0.5720276\ttotal: 49.5s\tremaining: 14.4s\n",
      "775:\tlearn: 0.5719956\ttotal: 49.5s\tremaining: 14.3s\n",
      "776:\tlearn: 0.5718770\ttotal: 49.6s\tremaining: 14.2s\n",
      "777:\tlearn: 0.5717895\ttotal: 49.7s\tremaining: 14.2s\n",
      "778:\tlearn: 0.5717584\ttotal: 49.7s\tremaining: 14.1s\n",
      "779:\tlearn: 0.5717183\ttotal: 49.8s\tremaining: 14s\n",
      "780:\tlearn: 0.5717131\ttotal: 49.9s\tremaining: 14s\n",
      "781:\tlearn: 0.5716719\ttotal: 49.9s\tremaining: 13.9s\n",
      "782:\tlearn: 0.5716328\ttotal: 50s\tremaining: 13.9s\n",
      "783:\tlearn: 0.5716283\ttotal: 50.1s\tremaining: 13.8s\n",
      "784:\tlearn: 0.5716093\ttotal: 50.1s\tremaining: 13.7s\n",
      "785:\tlearn: 0.5716088\ttotal: 50.2s\tremaining: 13.7s\n",
      "786:\tlearn: 0.5716011\ttotal: 50.2s\tremaining: 13.6s\n",
      "787:\tlearn: 0.5715873\ttotal: 50.3s\tremaining: 13.5s\n",
      "788:\tlearn: 0.5715803\ttotal: 50.4s\tremaining: 13.5s\n",
      "789:\tlearn: 0.5715301\ttotal: 50.4s\tremaining: 13.4s\n",
      "790:\tlearn: 0.5715240\ttotal: 50.5s\tremaining: 13.3s\n",
      "791:\tlearn: 0.5715096\ttotal: 50.6s\tremaining: 13.3s\n",
      "792:\tlearn: 0.5715062\ttotal: 50.6s\tremaining: 13.2s\n",
      "793:\tlearn: 0.5714560\ttotal: 50.7s\tremaining: 13.2s\n",
      "794:\tlearn: 0.5713224\ttotal: 50.8s\tremaining: 13.1s\n",
      "795:\tlearn: 0.5712936\ttotal: 50.8s\tremaining: 13s\n",
      "796:\tlearn: 0.5712177\ttotal: 50.9s\tremaining: 13s\n",
      "797:\tlearn: 0.5711022\ttotal: 51s\tremaining: 12.9s\n",
      "798:\tlearn: 0.5710955\ttotal: 51s\tremaining: 12.8s\n",
      "799:\tlearn: 0.5710916\ttotal: 51.1s\tremaining: 12.8s\n",
      "800:\tlearn: 0.5710497\ttotal: 51.2s\tremaining: 12.7s\n",
      "801:\tlearn: 0.5710379\ttotal: 51.2s\tremaining: 12.7s\n",
      "802:\tlearn: 0.5710378\ttotal: 51.3s\tremaining: 12.6s\n",
      "803:\tlearn: 0.5710319\ttotal: 51.3s\tremaining: 12.5s\n",
      "804:\tlearn: 0.5710198\ttotal: 51.4s\tremaining: 12.4s\n"
     ]
    },
    {
     "name": "stdout",
     "output_type": "stream",
     "text": [
      "805:\tlearn: 0.5710106\ttotal: 51.5s\tremaining: 12.4s\n",
      "806:\tlearn: 0.5709748\ttotal: 51.5s\tremaining: 12.3s\n",
      "807:\tlearn: 0.5709285\ttotal: 51.6s\tremaining: 12.3s\n",
      "808:\tlearn: 0.5709256\ttotal: 51.7s\tremaining: 12.2s\n",
      "809:\tlearn: 0.5708306\ttotal: 51.7s\tremaining: 12.1s\n",
      "810:\tlearn: 0.5708220\ttotal: 51.8s\tremaining: 12.1s\n",
      "811:\tlearn: 0.5708119\ttotal: 51.9s\tremaining: 12s\n",
      "812:\tlearn: 0.5708088\ttotal: 51.9s\tremaining: 11.9s\n",
      "813:\tlearn: 0.5707940\ttotal: 52s\tremaining: 11.9s\n",
      "814:\tlearn: 0.5707450\ttotal: 52.1s\tremaining: 11.8s\n",
      "815:\tlearn: 0.5706932\ttotal: 52.2s\tremaining: 11.8s\n",
      "816:\tlearn: 0.5706592\ttotal: 52.3s\tremaining: 11.7s\n",
      "817:\tlearn: 0.5706027\ttotal: 52.3s\tremaining: 11.6s\n",
      "818:\tlearn: 0.5705729\ttotal: 52.4s\tremaining: 11.6s\n",
      "819:\tlearn: 0.5705720\ttotal: 52.5s\tremaining: 11.5s\n",
      "820:\tlearn: 0.5705686\ttotal: 52.5s\tremaining: 11.5s\n",
      "821:\tlearn: 0.5705585\ttotal: 52.6s\tremaining: 11.4s\n",
      "822:\tlearn: 0.5705510\ttotal: 52.7s\tremaining: 11.3s\n",
      "823:\tlearn: 0.5705449\ttotal: 52.7s\tremaining: 11.3s\n",
      "824:\tlearn: 0.5705219\ttotal: 52.8s\tremaining: 11.2s\n",
      "825:\tlearn: 0.5705175\ttotal: 52.9s\tremaining: 11.1s\n",
      "826:\tlearn: 0.5704902\ttotal: 52.9s\tremaining: 11.1s\n",
      "827:\tlearn: 0.5704868\ttotal: 53s\tremaining: 11s\n",
      "828:\tlearn: 0.5704780\ttotal: 53.1s\tremaining: 10.9s\n",
      "829:\tlearn: 0.5704768\ttotal: 53.1s\tremaining: 10.9s\n",
      "830:\tlearn: 0.5704767\ttotal: 53.2s\tremaining: 10.8s\n",
      "831:\tlearn: 0.5704641\ttotal: 53.2s\tremaining: 10.7s\n",
      "832:\tlearn: 0.5703962\ttotal: 53.3s\tremaining: 10.7s\n",
      "833:\tlearn: 0.5703812\ttotal: 53.4s\tremaining: 10.6s\n",
      "834:\tlearn: 0.5703738\ttotal: 53.4s\tremaining: 10.6s\n",
      "835:\tlearn: 0.5703631\ttotal: 53.5s\tremaining: 10.5s\n",
      "836:\tlearn: 0.5703103\ttotal: 53.6s\tremaining: 10.4s\n",
      "837:\tlearn: 0.5703027\ttotal: 53.6s\tremaining: 10.4s\n",
      "838:\tlearn: 0.5702655\ttotal: 53.7s\tremaining: 10.3s\n",
      "839:\tlearn: 0.5702616\ttotal: 53.8s\tremaining: 10.2s\n",
      "840:\tlearn: 0.5702602\ttotal: 53.8s\tremaining: 10.2s\n",
      "841:\tlearn: 0.5702554\ttotal: 53.9s\tremaining: 10.1s\n",
      "842:\tlearn: 0.5702485\ttotal: 54s\tremaining: 10s\n",
      "843:\tlearn: 0.5702355\ttotal: 54s\tremaining: 9.98s\n",
      "844:\tlearn: 0.5701924\ttotal: 54.1s\tremaining: 9.92s\n",
      "845:\tlearn: 0.5701908\ttotal: 54.1s\tremaining: 9.86s\n",
      "846:\tlearn: 0.5701545\ttotal: 54.2s\tremaining: 9.79s\n",
      "847:\tlearn: 0.5701488\ttotal: 54.3s\tremaining: 9.73s\n",
      "848:\tlearn: 0.5701487\ttotal: 54.3s\tremaining: 9.66s\n",
      "849:\tlearn: 0.5701429\ttotal: 54.4s\tremaining: 9.6s\n",
      "850:\tlearn: 0.5701219\ttotal: 54.5s\tremaining: 9.54s\n",
      "851:\tlearn: 0.5700100\ttotal: 54.5s\tremaining: 9.47s\n",
      "852:\tlearn: 0.5700099\ttotal: 54.6s\tremaining: 9.4s\n",
      "853:\tlearn: 0.5700048\ttotal: 54.6s\tremaining: 9.34s\n",
      "854:\tlearn: 0.5700047\ttotal: 54.7s\tremaining: 9.27s\n",
      "855:\tlearn: 0.5699730\ttotal: 54.7s\tremaining: 9.21s\n",
      "856:\tlearn: 0.5699697\ttotal: 54.8s\tremaining: 9.14s\n",
      "857:\tlearn: 0.5699129\ttotal: 54.9s\tremaining: 9.08s\n",
      "858:\tlearn: 0.5699077\ttotal: 54.9s\tremaining: 9.02s\n",
      "859:\tlearn: 0.5698924\ttotal: 55s\tremaining: 8.95s\n",
      "860:\tlearn: 0.5698890\ttotal: 55.1s\tremaining: 8.89s\n",
      "861:\tlearn: 0.5698714\ttotal: 55.1s\tremaining: 8.82s\n",
      "862:\tlearn: 0.5698392\ttotal: 55.2s\tremaining: 8.76s\n",
      "863:\tlearn: 0.5698360\ttotal: 55.2s\tremaining: 8.7s\n",
      "864:\tlearn: 0.5697908\ttotal: 55.3s\tremaining: 8.63s\n",
      "865:\tlearn: 0.5697799\ttotal: 55.4s\tremaining: 8.57s\n",
      "866:\tlearn: 0.5697295\ttotal: 55.4s\tremaining: 8.51s\n",
      "867:\tlearn: 0.5697169\ttotal: 55.5s\tremaining: 8.44s\n",
      "868:\tlearn: 0.5697144\ttotal: 55.6s\tremaining: 8.38s\n",
      "869:\tlearn: 0.5696925\ttotal: 55.6s\tremaining: 8.31s\n",
      "870:\tlearn: 0.5696847\ttotal: 55.7s\tremaining: 8.25s\n",
      "871:\tlearn: 0.5696483\ttotal: 55.8s\tremaining: 8.19s\n",
      "872:\tlearn: 0.5696476\ttotal: 55.9s\tremaining: 8.13s\n",
      "873:\tlearn: 0.5696011\ttotal: 55.9s\tremaining: 8.06s\n",
      "874:\tlearn: 0.5695852\ttotal: 56s\tremaining: 8s\n",
      "875:\tlearn: 0.5695842\ttotal: 56s\tremaining: 7.93s\n",
      "876:\tlearn: 0.5695803\ttotal: 56.1s\tremaining: 7.87s\n",
      "877:\tlearn: 0.5695597\ttotal: 56.2s\tremaining: 7.8s\n",
      "878:\tlearn: 0.5695513\ttotal: 56.2s\tremaining: 7.74s\n",
      "879:\tlearn: 0.5695303\ttotal: 56.3s\tremaining: 7.67s\n",
      "880:\tlearn: 0.5694992\ttotal: 56.3s\tremaining: 7.61s\n",
      "881:\tlearn: 0.5694833\ttotal: 56.4s\tremaining: 7.55s\n",
      "882:\tlearn: 0.5694832\ttotal: 56.5s\tremaining: 7.48s\n",
      "883:\tlearn: 0.5694792\ttotal: 56.5s\tremaining: 7.42s\n",
      "884:\tlearn: 0.5694652\ttotal: 56.6s\tremaining: 7.35s\n",
      "885:\tlearn: 0.5694382\ttotal: 56.6s\tremaining: 7.29s\n",
      "886:\tlearn: 0.5692732\ttotal: 56.7s\tremaining: 7.22s\n",
      "887:\tlearn: 0.5692694\ttotal: 56.8s\tremaining: 7.16s\n",
      "888:\tlearn: 0.5692672\ttotal: 56.8s\tremaining: 7.09s\n",
      "889:\tlearn: 0.5692121\ttotal: 56.9s\tremaining: 7.03s\n",
      "890:\tlearn: 0.5691989\ttotal: 57s\tremaining: 6.97s\n",
      "891:\tlearn: 0.5691723\ttotal: 57s\tremaining: 6.9s\n",
      "892:\tlearn: 0.5691488\ttotal: 57.1s\tremaining: 6.84s\n",
      "893:\tlearn: 0.5691271\ttotal: 57.1s\tremaining: 6.77s\n",
      "894:\tlearn: 0.5691074\ttotal: 57.2s\tremaining: 6.71s\n",
      "895:\tlearn: 0.5690941\ttotal: 57.3s\tremaining: 6.65s\n",
      "896:\tlearn: 0.5690832\ttotal: 57.3s\tremaining: 6.58s\n",
      "897:\tlearn: 0.5690744\ttotal: 57.4s\tremaining: 6.52s\n",
      "898:\tlearn: 0.5690593\ttotal: 57.5s\tremaining: 6.46s\n",
      "899:\tlearn: 0.5689954\ttotal: 57.5s\tremaining: 6.39s\n",
      "900:\tlearn: 0.5689911\ttotal: 57.6s\tremaining: 6.33s\n",
      "901:\tlearn: 0.5689168\ttotal: 57.7s\tremaining: 6.26s\n",
      "902:\tlearn: 0.5689120\ttotal: 57.7s\tremaining: 6.2s\n",
      "903:\tlearn: 0.5689117\ttotal: 57.8s\tremaining: 6.14s\n",
      "904:\tlearn: 0.5689023\ttotal: 57.9s\tremaining: 6.07s\n",
      "905:\tlearn: 0.5688889\ttotal: 57.9s\tremaining: 6.01s\n",
      "906:\tlearn: 0.5687824\ttotal: 58s\tremaining: 5.95s\n",
      "907:\tlearn: 0.5687392\ttotal: 58.1s\tremaining: 5.88s\n",
      "908:\tlearn: 0.5686780\ttotal: 58.1s\tremaining: 5.82s\n",
      "909:\tlearn: 0.5686748\ttotal: 58.2s\tremaining: 5.76s\n",
      "910:\tlearn: 0.5686674\ttotal: 58.3s\tremaining: 5.69s\n",
      "911:\tlearn: 0.5686649\ttotal: 58.3s\tremaining: 5.63s\n",
      "912:\tlearn: 0.5686577\ttotal: 58.4s\tremaining: 5.56s\n",
      "913:\tlearn: 0.5685358\ttotal: 58.5s\tremaining: 5.5s\n",
      "914:\tlearn: 0.5685220\ttotal: 58.5s\tremaining: 5.44s\n",
      "915:\tlearn: 0.5685199\ttotal: 58.6s\tremaining: 5.37s\n",
      "916:\tlearn: 0.5685093\ttotal: 58.7s\tremaining: 5.31s\n",
      "917:\tlearn: 0.5685029\ttotal: 58.7s\tremaining: 5.25s\n",
      "918:\tlearn: 0.5684807\ttotal: 58.8s\tremaining: 5.18s\n",
      "919:\tlearn: 0.5684624\ttotal: 58.9s\tremaining: 5.12s\n",
      "920:\tlearn: 0.5684612\ttotal: 58.9s\tremaining: 5.05s\n",
      "921:\tlearn: 0.5684605\ttotal: 59s\tremaining: 4.99s\n",
      "922:\tlearn: 0.5684088\ttotal: 59.1s\tremaining: 4.93s\n",
      "923:\tlearn: 0.5684063\ttotal: 59.1s\tremaining: 4.86s\n",
      "924:\tlearn: 0.5684031\ttotal: 59.2s\tremaining: 4.8s\n",
      "925:\tlearn: 0.5683984\ttotal: 59.3s\tremaining: 4.74s\n",
      "926:\tlearn: 0.5683888\ttotal: 59.3s\tremaining: 4.67s\n",
      "927:\tlearn: 0.5683852\ttotal: 59.4s\tremaining: 4.61s\n",
      "928:\tlearn: 0.5683594\ttotal: 59.4s\tremaining: 4.54s\n",
      "929:\tlearn: 0.5683373\ttotal: 59.5s\tremaining: 4.48s\n",
      "930:\tlearn: 0.5683241\ttotal: 59.6s\tremaining: 4.41s\n",
      "931:\tlearn: 0.5683227\ttotal: 59.6s\tremaining: 4.35s\n",
      "932:\tlearn: 0.5683226\ttotal: 59.7s\tremaining: 4.28s\n",
      "933:\tlearn: 0.5683106\ttotal: 59.7s\tremaining: 4.22s\n",
      "934:\tlearn: 0.5683090\ttotal: 59.8s\tremaining: 4.16s\n",
      "935:\tlearn: 0.5683014\ttotal: 59.9s\tremaining: 4.09s\n",
      "936:\tlearn: 0.5682974\ttotal: 59.9s\tremaining: 4.03s\n",
      "937:\tlearn: 0.5682950\ttotal: 60s\tremaining: 3.96s\n",
      "938:\tlearn: 0.5682931\ttotal: 1m\tremaining: 3.9s\n",
      "939:\tlearn: 0.5682845\ttotal: 1m\tremaining: 3.84s\n",
      "940:\tlearn: 0.5682808\ttotal: 1m\tremaining: 3.77s\n",
      "941:\tlearn: 0.5682532\ttotal: 1m\tremaining: 3.71s\n",
      "942:\tlearn: 0.5682209\ttotal: 1m\tremaining: 3.65s\n",
      "943:\tlearn: 0.5681536\ttotal: 1m\tremaining: 3.58s\n",
      "944:\tlearn: 0.5680895\ttotal: 1m\tremaining: 3.52s\n",
      "945:\tlearn: 0.5680859\ttotal: 1m\tremaining: 3.45s\n",
      "946:\tlearn: 0.5680774\ttotal: 1m\tremaining: 3.39s\n",
      "947:\tlearn: 0.5680752\ttotal: 1m\tremaining: 3.33s\n",
      "948:\tlearn: 0.5680729\ttotal: 1m\tremaining: 3.26s\n",
      "949:\tlearn: 0.5680690\ttotal: 1m\tremaining: 3.2s\n",
      "950:\tlearn: 0.5680618\ttotal: 1m\tremaining: 3.13s\n",
      "951:\tlearn: 0.5680587\ttotal: 1m\tremaining: 3.07s\n",
      "952:\tlearn: 0.5680579\ttotal: 1m\tremaining: 3.01s\n",
      "953:\tlearn: 0.5680172\ttotal: 1m 1s\tremaining: 2.94s\n",
      "954:\tlearn: 0.5680096\ttotal: 1m 1s\tremaining: 2.88s\n",
      "955:\tlearn: 0.5680095\ttotal: 1m 1s\tremaining: 2.81s\n",
      "956:\tlearn: 0.5679498\ttotal: 1m 1s\tremaining: 2.75s\n",
      "957:\tlearn: 0.5679183\ttotal: 1m 1s\tremaining: 2.69s\n",
      "958:\tlearn: 0.5679159\ttotal: 1m 1s\tremaining: 2.62s\n",
      "959:\tlearn: 0.5678823\ttotal: 1m 1s\tremaining: 2.56s\n",
      "960:\tlearn: 0.5678809\ttotal: 1m 1s\tremaining: 2.49s\n",
      "961:\tlearn: 0.5678797\ttotal: 1m 1s\tremaining: 2.43s\n",
      "962:\tlearn: 0.5678787\ttotal: 1m 1s\tremaining: 2.37s\n",
      "963:\tlearn: 0.5678395\ttotal: 1m 1s\tremaining: 2.3s\n",
      "964:\tlearn: 0.5678363\ttotal: 1m 1s\tremaining: 2.24s\n",
      "965:\tlearn: 0.5678362\ttotal: 1m 1s\tremaining: 2.17s\n",
      "966:\tlearn: 0.5678273\ttotal: 1m 1s\tremaining: 2.11s\n"
     ]
    },
    {
     "name": "stdout",
     "output_type": "stream",
     "text": [
      "967:\tlearn: 0.5678225\ttotal: 1m 1s\tremaining: 2.04s\n",
      "968:\tlearn: 0.5678209\ttotal: 1m 1s\tremaining: 1.98s\n",
      "969:\tlearn: 0.5678073\ttotal: 1m 1s\tremaining: 1.92s\n",
      "970:\tlearn: 0.5677926\ttotal: 1m 2s\tremaining: 1.85s\n",
      "971:\tlearn: 0.5677888\ttotal: 1m 2s\tremaining: 1.79s\n",
      "972:\tlearn: 0.5677694\ttotal: 1m 2s\tremaining: 1.73s\n",
      "973:\tlearn: 0.5677673\ttotal: 1m 2s\tremaining: 1.66s\n",
      "974:\tlearn: 0.5677673\ttotal: 1m 2s\tremaining: 1.6s\n",
      "975:\tlearn: 0.5677405\ttotal: 1m 2s\tremaining: 1.53s\n",
      "976:\tlearn: 0.5677180\ttotal: 1m 2s\tremaining: 1.47s\n",
      "977:\tlearn: 0.5676746\ttotal: 1m 2s\tremaining: 1.41s\n",
      "978:\tlearn: 0.5676558\ttotal: 1m 2s\tremaining: 1.34s\n",
      "979:\tlearn: 0.5676541\ttotal: 1m 2s\tremaining: 1.28s\n",
      "980:\tlearn: 0.5676463\ttotal: 1m 2s\tremaining: 1.21s\n",
      "981:\tlearn: 0.5676450\ttotal: 1m 2s\tremaining: 1.15s\n",
      "982:\tlearn: 0.5676312\ttotal: 1m 2s\tremaining: 1.09s\n",
      "983:\tlearn: 0.5676231\ttotal: 1m 2s\tremaining: 1.02s\n",
      "984:\tlearn: 0.5676209\ttotal: 1m 2s\tremaining: 958ms\n",
      "985:\tlearn: 0.5676133\ttotal: 1m 2s\tremaining: 894ms\n",
      "986:\tlearn: 0.5675987\ttotal: 1m 3s\tremaining: 830ms\n",
      "987:\tlearn: 0.5675689\ttotal: 1m 3s\tremaining: 767ms\n",
      "988:\tlearn: 0.5675658\ttotal: 1m 3s\tremaining: 703ms\n",
      "989:\tlearn: 0.5675606\ttotal: 1m 3s\tremaining: 639ms\n",
      "990:\tlearn: 0.5675384\ttotal: 1m 3s\tremaining: 575ms\n",
      "991:\tlearn: 0.5675226\ttotal: 1m 3s\tremaining: 511ms\n",
      "992:\tlearn: 0.5674808\ttotal: 1m 3s\tremaining: 447ms\n",
      "993:\tlearn: 0.5674806\ttotal: 1m 3s\tremaining: 383ms\n",
      "994:\tlearn: 0.5674481\ttotal: 1m 3s\tremaining: 319ms\n",
      "995:\tlearn: 0.5673834\ttotal: 1m 3s\tremaining: 255ms\n",
      "996:\tlearn: 0.5673668\ttotal: 1m 3s\tremaining: 192ms\n",
      "997:\tlearn: 0.5673654\ttotal: 1m 3s\tremaining: 128ms\n",
      "998:\tlearn: 0.5673640\ttotal: 1m 3s\tremaining: 63.8ms\n",
      "999:\tlearn: 0.5673637\ttotal: 1m 3s\tremaining: 0us\n"
     ]
    },
    {
     "data": {
      "text/plain": [
       "<catboost.core.CatBoostClassifier at 0x24264d86048>"
      ]
     },
     "execution_count": 69,
     "metadata": {},
     "output_type": "execute_result"
    }
   ],
   "source": [
    "model_cat.fit(X_train, y_train)"
   ]
  },
  {
   "cell_type": "code",
   "execution_count": 70,
   "metadata": {
    "colab": {},
    "colab_type": "code",
    "id": "PO-Lgg1UCfrD"
   },
   "outputs": [],
   "source": [
    "y_predicted_cat = model_cat.predict_proba(X_test)"
   ]
  },
  {
   "cell_type": "code",
   "execution_count": null,
   "metadata": {},
   "outputs": [],
   "source": []
  },
  {
   "cell_type": "markdown",
   "metadata": {},
   "source": [
    "<!-- ![purple-divider](https://user-images.githubusercontent.com/7065401/52071927-c1cd7100-2562-11e9-908a-dde91ba14e59.png)\n",
    "<a id='section6'></a>\n",
    "\n",
    "<div style=\"border-bottom:3px solid #000;\"> \n",
    "<div align=\"left\"><h2>Step 6: Scoring</h2></div>\n",
    "<div align=\"right\">(return to <a href='#top1'><b>Top</b></a>)</div>\n",
    "</div> -->"
   ]
  },
  {
   "cell_type": "code",
   "execution_count": 71,
   "metadata": {
    "colab": {},
    "colab_type": "code",
    "id": "ttPIpN_iCfoj",
    "outputId": "bddf28c8-dc31-4df9-a2e2-4b79c73ae726"
   },
   "outputs": [
    {
     "ename": "NameError",
     "evalue": "name 'plot_roc' is not defined",
     "output_type": "error",
     "traceback": [
      "\u001b[1;31m---------------------------------------------------------------------------\u001b[0m",
      "\u001b[1;31mNameError\u001b[0m                                 Traceback (most recent call last)",
      "\u001b[1;32m<ipython-input-71-b8cc54d63627>\u001b[0m in \u001b[0;36m<module>\u001b[1;34m\u001b[0m\n\u001b[1;32m----> 1\u001b[1;33m \u001b[0mplot_roc\u001b[0m\u001b[1;33m(\u001b[0m\u001b[0my_test\u001b[0m\u001b[1;33m,\u001b[0m \u001b[0my_predicted_xgb\u001b[0m\u001b[1;33m,\u001b[0m \u001b[0mplot_micro\u001b[0m\u001b[1;33m=\u001b[0m\u001b[1;32mFalse\u001b[0m\u001b[1;33m,\u001b[0m \u001b[0mplot_macro\u001b[0m\u001b[1;33m=\u001b[0m\u001b[1;32mFalse\u001b[0m\u001b[1;33m)\u001b[0m\u001b[1;33m;\u001b[0m\u001b[1;33m\u001b[0m\u001b[1;33m\u001b[0m\u001b[0m\n\u001b[0m",
      "\u001b[1;31mNameError\u001b[0m: name 'plot_roc' is not defined"
     ]
    }
   ],
   "source": [
    "plot_roc(y_test, y_predicted_xgb, plot_micro=False, plot_macro=False);"
   ]
  },
  {
   "cell_type": "code",
   "execution_count": 72,
   "metadata": {
    "colab": {},
    "colab_type": "code",
    "id": "iSPh4BliCfob",
    "outputId": "bbcae194-4930-4247-85de-2a8dfa40e9b1"
   },
   "outputs": [
    {
     "name": "stdout",
     "output_type": "stream",
     "text": [
      "El valor del AUC es:  0.7149962438963315\n"
     ]
    }
   ],
   "source": [
    "xgb_auc = roc_auc_score(y_test, y_predicted_xgb[:,1])\n",
    "print(\"El valor del AUC es: \", xgb_auc)"
   ]
  },
  {
   "cell_type": "code",
   "execution_count": 73,
   "metadata": {
    "colab": {},
    "colab_type": "code",
    "id": "cuieQuKuCfrG",
    "outputId": "9c2be831-e129-4b2b-8a7d-ef8f3dbeeaab"
   },
   "outputs": [
    {
     "name": "stdout",
     "output_type": "stream",
     "text": [
      "El valor del AUC es:  0.7164043915112057\n"
     ]
    }
   ],
   "source": [
    "cat_auc = roc_auc_score(y_test,y_predicted_cat[:,1])\n",
    "print(\"El valor del AUC es: \", cat_auc)"
   ]
  },
  {
   "cell_type": "code",
   "execution_count": null,
   "metadata": {},
   "outputs": [],
   "source": []
  },
  {
   "cell_type": "code",
   "execution_count": null,
   "metadata": {},
   "outputs": [],
   "source": []
  },
  {
   "cell_type": "code",
   "execution_count": null,
   "metadata": {},
   "outputs": [],
   "source": []
  },
  {
   "cell_type": "code",
   "execution_count": null,
   "metadata": {},
   "outputs": [],
   "source": []
  },
  {
   "cell_type": "code",
   "execution_count": null,
   "metadata": {},
   "outputs": [],
   "source": []
  },
  {
   "cell_type": "code",
   "execution_count": null,
   "metadata": {},
   "outputs": [],
   "source": []
  },
  {
   "cell_type": "code",
   "execution_count": null,
   "metadata": {},
   "outputs": [],
   "source": []
  },
  {
   "cell_type": "code",
   "execution_count": null,
   "metadata": {},
   "outputs": [],
   "source": []
  }
 ],
 "metadata": {
  "kernelspec": {
   "display_name": "Python 3",
   "language": "python",
   "name": "python3"
  },
  "language_info": {
   "codemirror_mode": {
    "name": "ipython",
    "version": 3
   },
   "file_extension": ".py",
   "mimetype": "text/x-python",
   "name": "python",
   "nbconvert_exporter": "python",
   "pygments_lexer": "ipython3",
   "version": "3.7.3"
  }
 },
 "nbformat": 4,
 "nbformat_minor": 2
}
