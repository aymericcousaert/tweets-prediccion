{
 "cells": [
  {
   "cell_type": "markdown",
   "metadata": {},
   "source": [
    "# TP-2 Organización de Datos"
   ]
  },
  {
   "cell_type": "markdown",
   "metadata": {},
   "source": [
    "# Oh La La... Data!\n",
    "\n",
    "* **Hamma AALI CHTOUKI** --- *Padrón 106607 - Alumno regular de intercambio.*  \n",
    "* **Aymeryc COUSAERT** ------  *Padrón 105464 - Alumno regular de intercambio.*\n",
    "* **Mariana VINYOLAS**  ---------  *Alumna oyente.*"
   ]
  },
  {
   "cell_type": "markdown",
   "metadata": {
    "colab_type": "text",
    "id": "d3aDXdkY2bsU"
   },
   "source": [
    "<!-- ![purple-divider](https://user-images.githubusercontent.com/7065401/52071927-c1cd7100-2562-11e9-908a-dde91ba14e59.png)\n",
    "<a id='section2'></a>\n",
    "\n",
    "<div style=\"border-bottom:3px solid #000;\"> \n",
    "<div align=\"left\"><h2>Step 2: Import de librerias </h2></div>\n",
    "<div align=\"right\">(return to <a href='#top1'><b>Top</b></a>)</div>\n",
    "</div> -->\n",
    "\n"
   ]
  },
  {
   "cell_type": "code",
   "execution_count": 1,
   "metadata": {
    "scrolled": true
   },
   "outputs": [
    {
     "name": "stderr",
     "output_type": "stream",
     "text": [
      "C:\\anaconda\\Anaconda3\\lib\\site-packages\\statsmodels\\tools\\_testing.py:19: FutureWarning: pandas.util.testing is deprecated. Use the functions in the public API at pandas.testing instead.\n",
      "  import pandas.util.testing as tm\n",
      "[nltk_data] Downloading package punkt to\n",
      "[nltk_data]     C:\\Users\\user\\AppData\\Roaming\\nltk_data...\n",
      "[nltk_data]   Package punkt is already up-to-date!\n",
      "[nltk_data] Downloading package wordnet to\n",
      "[nltk_data]     C:\\Users\\user\\AppData\\Roaming\\nltk_data...\n",
      "[nltk_data]   Package wordnet is already up-to-date!\n",
      "[nltk_data] Downloading package stopwords to\n",
      "[nltk_data]     C:\\Users\\user\\AppData\\Roaming\\nltk_data...\n",
      "[nltk_data]   Package stopwords is already up-to-date!\n"
     ]
    }
   ],
   "source": [
    "import pandas as pd\n",
    "import numpy as np\n",
    "import scipy.stats as st\n",
    "import matplotlib.pyplot as plt\n",
    "import seaborn as sns\n",
    "\n",
    "\n",
    "import re\n",
    "import nltk.corpus\n",
    "from nltk.corpus import stopwords\n",
    "from nltk.tokenize import word_tokenize\n",
    "from nltk.tokenize import sent_tokenize, word_tokenize\n",
    "from nltk.stem import WordNetLemmatizer\n",
    "\n",
    "nltk.download('punkt')\n",
    "nltk.download('wordnet')\n",
    "nltk.download('stopwords')\n",
    "\n",
    "from sklearn.feature_extraction.text import CountVectorizer, TfidfVectorizer\n",
    "\n",
    "from sklearn.ensemble import RandomForestClassifier\n",
    "import xgboost as xgb\n",
    "import catboost as catb\n",
    "import lightgbm as lgbm\n",
    "\n",
    "import scikitplot as skplt\n",
    "from scikitplot.metrics import plot_roc\n",
    "from sklearn.metrics import roc_auc_score\n",
    "from sklearn.preprocessing import StandardScaler\n",
    "from sklearn.metrics import accuracy_score,classification_report\n",
    "from sklearn.model_selection import GridSearchCV, RandomizedSearchCV\n",
    "from sklearn.model_selection import train_test_split, cross_val_score, StratifiedKFold"
   ]
  },
  {
   "cell_type": "code",
   "execution_count": 2,
   "metadata": {},
   "outputs": [],
   "source": [
    "train = pd.read_csv('train.csv')\n",
    "test = pd.read_csv('test.csv')"
   ]
  },
  {
   "cell_type": "code",
   "execution_count": 3,
   "metadata": {
    "scrolled": true
   },
   "outputs": [
    {
     "data": {
      "text/html": [
       "<div>\n",
       "<style scoped>\n",
       "    .dataframe tbody tr th:only-of-type {\n",
       "        vertical-align: middle;\n",
       "    }\n",
       "\n",
       "    .dataframe tbody tr th {\n",
       "        vertical-align: top;\n",
       "    }\n",
       "\n",
       "    .dataframe thead th {\n",
       "        text-align: right;\n",
       "    }\n",
       "</style>\n",
       "<table border=\"1\" class=\"dataframe\">\n",
       "  <thead>\n",
       "    <tr style=\"text-align: right;\">\n",
       "      <th></th>\n",
       "      <th>id</th>\n",
       "      <th>keyword</th>\n",
       "      <th>location</th>\n",
       "      <th>text</th>\n",
       "      <th>target</th>\n",
       "    </tr>\n",
       "  </thead>\n",
       "  <tbody>\n",
       "    <tr>\n",
       "      <th>0</th>\n",
       "      <td>1</td>\n",
       "      <td>NaN</td>\n",
       "      <td>NaN</td>\n",
       "      <td>Our Deeds are the Reason of this #earthquake M...</td>\n",
       "      <td>1</td>\n",
       "    </tr>\n",
       "    <tr>\n",
       "      <th>1</th>\n",
       "      <td>4</td>\n",
       "      <td>NaN</td>\n",
       "      <td>NaN</td>\n",
       "      <td>Forest fire near La Ronge Sask. Canada</td>\n",
       "      <td>1</td>\n",
       "    </tr>\n",
       "    <tr>\n",
       "      <th>2</th>\n",
       "      <td>5</td>\n",
       "      <td>NaN</td>\n",
       "      <td>NaN</td>\n",
       "      <td>All residents asked to 'shelter in place' are ...</td>\n",
       "      <td>1</td>\n",
       "    </tr>\n",
       "    <tr>\n",
       "      <th>3</th>\n",
       "      <td>6</td>\n",
       "      <td>NaN</td>\n",
       "      <td>NaN</td>\n",
       "      <td>13,000 people receive #wildfires evacuation or...</td>\n",
       "      <td>1</td>\n",
       "    </tr>\n",
       "    <tr>\n",
       "      <th>4</th>\n",
       "      <td>7</td>\n",
       "      <td>NaN</td>\n",
       "      <td>NaN</td>\n",
       "      <td>Just got sent this photo from Ruby #Alaska as ...</td>\n",
       "      <td>1</td>\n",
       "    </tr>\n",
       "  </tbody>\n",
       "</table>\n",
       "</div>"
      ],
      "text/plain": [
       "   id keyword location                                               text  \\\n",
       "0   1     NaN      NaN  Our Deeds are the Reason of this #earthquake M...   \n",
       "1   4     NaN      NaN             Forest fire near La Ronge Sask. Canada   \n",
       "2   5     NaN      NaN  All residents asked to 'shelter in place' are ...   \n",
       "3   6     NaN      NaN  13,000 people receive #wildfires evacuation or...   \n",
       "4   7     NaN      NaN  Just got sent this photo from Ruby #Alaska as ...   \n",
       "\n",
       "   target  \n",
       "0       1  \n",
       "1       1  \n",
       "2       1  \n",
       "3       1  \n",
       "4       1  "
      ]
     },
     "execution_count": 3,
     "metadata": {},
     "output_type": "execute_result"
    }
   ],
   "source": [
    "train.head()"
   ]
  },
  {
   "cell_type": "code",
   "execution_count": 4,
   "metadata": {},
   "outputs": [
    {
     "data": {
      "text/html": [
       "<div>\n",
       "<style scoped>\n",
       "    .dataframe tbody tr th:only-of-type {\n",
       "        vertical-align: middle;\n",
       "    }\n",
       "\n",
       "    .dataframe tbody tr th {\n",
       "        vertical-align: top;\n",
       "    }\n",
       "\n",
       "    .dataframe thead th {\n",
       "        text-align: right;\n",
       "    }\n",
       "</style>\n",
       "<table border=\"1\" class=\"dataframe\">\n",
       "  <thead>\n",
       "    <tr style=\"text-align: right;\">\n",
       "      <th></th>\n",
       "      <th>id</th>\n",
       "      <th>keyword</th>\n",
       "      <th>location</th>\n",
       "      <th>text</th>\n",
       "    </tr>\n",
       "  </thead>\n",
       "  <tbody>\n",
       "    <tr>\n",
       "      <th>0</th>\n",
       "      <td>0</td>\n",
       "      <td>NaN</td>\n",
       "      <td>NaN</td>\n",
       "      <td>Just happened a terrible car crash</td>\n",
       "    </tr>\n",
       "    <tr>\n",
       "      <th>1</th>\n",
       "      <td>2</td>\n",
       "      <td>NaN</td>\n",
       "      <td>NaN</td>\n",
       "      <td>Heard about #earthquake is different cities, s...</td>\n",
       "    </tr>\n",
       "    <tr>\n",
       "      <th>2</th>\n",
       "      <td>3</td>\n",
       "      <td>NaN</td>\n",
       "      <td>NaN</td>\n",
       "      <td>there is a forest fire at spot pond, geese are...</td>\n",
       "    </tr>\n",
       "    <tr>\n",
       "      <th>3</th>\n",
       "      <td>9</td>\n",
       "      <td>NaN</td>\n",
       "      <td>NaN</td>\n",
       "      <td>Apocalypse lighting. #Spokane #wildfires</td>\n",
       "    </tr>\n",
       "    <tr>\n",
       "      <th>4</th>\n",
       "      <td>11</td>\n",
       "      <td>NaN</td>\n",
       "      <td>NaN</td>\n",
       "      <td>Typhoon Soudelor kills 28 in China and Taiwan</td>\n",
       "    </tr>\n",
       "  </tbody>\n",
       "</table>\n",
       "</div>"
      ],
      "text/plain": [
       "   id keyword location                                               text\n",
       "0   0     NaN      NaN                 Just happened a terrible car crash\n",
       "1   2     NaN      NaN  Heard about #earthquake is different cities, s...\n",
       "2   3     NaN      NaN  there is a forest fire at spot pond, geese are...\n",
       "3   9     NaN      NaN           Apocalypse lighting. #Spokane #wildfires\n",
       "4  11     NaN      NaN      Typhoon Soudelor kills 28 in China and Taiwan"
      ]
     },
     "execution_count": 4,
     "metadata": {},
     "output_type": "execute_result"
    }
   ],
   "source": [
    "test.head()"
   ]
  },
  {
   "cell_type": "markdown",
   "metadata": {
    "colab_type": "text",
    "id": "Smnr3pgkKld_"
   },
   "source": [
    "<!-- ![purple-divider](https://user-images.githubusercontent.com/7065401/52071927-c1cd7100-2562-11e9-908a-dde91ba14e59.png)\n",
    "<a id='section3'></a>\n",
    "\n",
    "<div style=\"border-bottom:3px solid #000;\"> \n",
    "<div align=\"left\"><h2>Step 3: Feature engineering</h2></div>\n",
    "<div align=\"right\">(return to <a href='#top1'><b>Top</b></a>)</div>\n",
    "</div> -->"
   ]
  },
  {
   "cell_type": "code",
   "execution_count": 5,
   "metadata": {},
   "outputs": [],
   "source": [
    "\n",
    "df = train\n",
    "df['text'] = df['text'].str.lower()   # pasamos a lowercase\n",
    "df = df.drop(['id', 'location'], axis=1)"
   ]
  },
  {
   "cell_type": "code",
   "execution_count": 6,
   "metadata": {
    "scrolled": false
   },
   "outputs": [
    {
     "data": {
      "text/html": [
       "<div>\n",
       "<style scoped>\n",
       "    .dataframe tbody tr th:only-of-type {\n",
       "        vertical-align: middle;\n",
       "    }\n",
       "\n",
       "    .dataframe tbody tr th {\n",
       "        vertical-align: top;\n",
       "    }\n",
       "\n",
       "    .dataframe thead th {\n",
       "        text-align: right;\n",
       "    }\n",
       "</style>\n",
       "<table border=\"1\" class=\"dataframe\">\n",
       "  <thead>\n",
       "    <tr style=\"text-align: right;\">\n",
       "      <th></th>\n",
       "      <th>keyword</th>\n",
       "      <th>text</th>\n",
       "      <th>target</th>\n",
       "    </tr>\n",
       "  </thead>\n",
       "  <tbody>\n",
       "    <tr>\n",
       "      <th>2100</th>\n",
       "      <td>death</td>\n",
       "      <td>i liked a @youtube video from @jeromekem http:...</td>\n",
       "      <td>0</td>\n",
       "    </tr>\n",
       "    <tr>\n",
       "      <th>7418</th>\n",
       "      <td>wounded</td>\n",
       "      <td>police officer wounded suspect dead after exch...</td>\n",
       "      <td>1</td>\n",
       "    </tr>\n",
       "    <tr>\n",
       "      <th>4228</th>\n",
       "      <td>hazardous</td>\n",
       "      <td>jkl issues hazardous weather outlook (hwo)  ht...</td>\n",
       "      <td>1</td>\n",
       "    </tr>\n",
       "    <tr>\n",
       "      <th>2023</th>\n",
       "      <td>danger</td>\n",
       "      <td>@blizzheroes @dustinbrowder dad. i won't chase...</td>\n",
       "      <td>0</td>\n",
       "    </tr>\n",
       "    <tr>\n",
       "      <th>7415</th>\n",
       "      <td>wounded</td>\n",
       "      <td>descriptions of 'wounded cats being 'exciting'...</td>\n",
       "      <td>0</td>\n",
       "    </tr>\n",
       "    <tr>\n",
       "      <th>5022</th>\n",
       "      <td>mudslide</td>\n",
       "      <td>flood and mudslide warning for east fjords | i...</td>\n",
       "      <td>1</td>\n",
       "    </tr>\n",
       "    <tr>\n",
       "      <th>6581</th>\n",
       "      <td>survivors</td>\n",
       "      <td>as anniversary nears atomic bomb survivors spe...</td>\n",
       "      <td>1</td>\n",
       "    </tr>\n",
       "    <tr>\n",
       "      <th>7374</th>\n",
       "      <td>windstorm</td>\n",
       "      <td>one thing i wanna see before i die&amp;gt; #trump ...</td>\n",
       "      <td>0</td>\n",
       "    </tr>\n",
       "  </tbody>\n",
       "</table>\n",
       "</div>"
      ],
      "text/plain": [
       "        keyword                                               text  target\n",
       "2100      death  i liked a @youtube video from @jeromekem http:...       0\n",
       "7418    wounded  police officer wounded suspect dead after exch...       1\n",
       "4228  hazardous  jkl issues hazardous weather outlook (hwo)  ht...       1\n",
       "2023     danger  @blizzheroes @dustinbrowder dad. i won't chase...       0\n",
       "7415    wounded  descriptions of 'wounded cats being 'exciting'...       0\n",
       "5022   mudslide  flood and mudslide warning for east fjords | i...       1\n",
       "6581  survivors  as anniversary nears atomic bomb survivors spe...       1\n",
       "7374  windstorm  one thing i wanna see before i die&gt; #trump ...       0"
      ]
     },
     "execution_count": 6,
     "metadata": {},
     "output_type": "execute_result"
    }
   ],
   "source": [
    "df.sample(8)"
   ]
  },
  {
   "cell_type": "markdown",
   "metadata": {},
   "source": [
    "#### Generamos nuevas features sobre el texto"
   ]
  },
  {
   "cell_type": "code",
   "execution_count": 7,
   "metadata": {},
   "outputs": [],
   "source": [
    "# generamos una columna que indica la cantidad de links a  enlaces externos\n",
    "df['link'] = df['text'].apply(lambda x: x.count('http'))\n",
    "\n",
    "# generamos una columna que indica la cantidad de referencias a otras cuentas de twitter\n",
    "df['contact'] = df['text'].apply(lambda x: x.count('@'))\n",
    "\n",
    "# generamos una columna que indica la cantidad de hashtags\n",
    "df['hashtag'] = df['text'].apply(lambda x: x.count('#'))\n",
    "\n",
    "# generamos una columna que indica la cantidad de digitos\n",
    "df['numerics'] = df['text'].apply(lambda x: len([x for x in x.split() if x.isdigit()]))\n",
    "\n",
    "# calculamos la longitud del tweet andes de limpiar\n",
    "df['length'] = df['text'].str.len()"
   ]
  },
  {
   "cell_type": "code",
   "execution_count": 8,
   "metadata": {},
   "outputs": [],
   "source": [
    "# calculamos la cantidad de palabras antes de limpiar\n",
    "def count_words(text):\n",
    "    '''\n",
    "    Funcion que toma un texto y devuelve la cantidad de palabras\n",
    "    '''\n",
    "    word_counts = len(text.split(' '))\n",
    "    return word_counts\n",
    "\n",
    "df['words'] = df['text'].apply(count_words)"
   ]
  },
  {
   "cell_type": "code",
   "execution_count": 9,
   "metadata": {},
   "outputs": [],
   "source": [
    "# limpiamos el texto eliminando urls, cuentas, hashtags y numeros\n",
    "\n",
    "def clean_str(string):\n",
    "    string = re.sub(r'https?\\://\\S+', '', string)\n",
    "    string = re.sub(r'http?\\://\\S+', '', string)\n",
    "    string = re.sub(r'@\\w*\\s', '', string)\n",
    "    string = re.sub(r'#\\w*\\s', '', string)\n",
    "    string = re.sub(r'\\d', '', string)\n",
    "    return string\n",
    "\n",
    "df['text_clean'] = df['text'].apply(lambda x: clean_str(str(x)))"
   ]
  },
  {
   "cell_type": "code",
   "execution_count": 10,
   "metadata": {
    "scrolled": false
   },
   "outputs": [
    {
     "data": {
      "text/html": [
       "<div>\n",
       "<style scoped>\n",
       "    .dataframe tbody tr th:only-of-type {\n",
       "        vertical-align: middle;\n",
       "    }\n",
       "\n",
       "    .dataframe tbody tr th {\n",
       "        vertical-align: top;\n",
       "    }\n",
       "\n",
       "    .dataframe thead th {\n",
       "        text-align: right;\n",
       "    }\n",
       "</style>\n",
       "<table border=\"1\" class=\"dataframe\">\n",
       "  <thead>\n",
       "    <tr style=\"text-align: right;\">\n",
       "      <th></th>\n",
       "      <th>keyword</th>\n",
       "      <th>text</th>\n",
       "      <th>target</th>\n",
       "      <th>link</th>\n",
       "      <th>contact</th>\n",
       "      <th>hashtag</th>\n",
       "      <th>numerics</th>\n",
       "      <th>length</th>\n",
       "      <th>words</th>\n",
       "      <th>text_clean</th>\n",
       "    </tr>\n",
       "  </thead>\n",
       "  <tbody>\n",
       "    <tr>\n",
       "      <th>4856</th>\n",
       "      <td>mass%20murderer</td>\n",
       "      <td>.@libertygeek83 something about kissing the as...</td>\n",
       "      <td>0</td>\n",
       "      <td>1</td>\n",
       "      <td>2</td>\n",
       "      <td>0</td>\n",
       "      <td>0</td>\n",
       "      <td>139</td>\n",
       "      <td>20</td>\n",
       "      <td>.something about kissing the ass of mass murde...</td>\n",
       "    </tr>\n",
       "    <tr>\n",
       "      <th>614</th>\n",
       "      <td>bioterrorism</td>\n",
       "      <td>@cagov if 90blks&amp;amp;8whts colluded 2 take wht...</td>\n",
       "      <td>1</td>\n",
       "      <td>0</td>\n",
       "      <td>3</td>\n",
       "      <td>0</td>\n",
       "      <td>1</td>\n",
       "      <td>151</td>\n",
       "      <td>22</td>\n",
       "      <td>if blks&amp;amp;whts colluded  take wht f auth hos...</td>\n",
       "    </tr>\n",
       "    <tr>\n",
       "      <th>2583</th>\n",
       "      <td>destroyed</td>\n",
       "      <td>hero you can 't swim lonely guy help me my sol...</td>\n",
       "      <td>0</td>\n",
       "      <td>1</td>\n",
       "      <td>0</td>\n",
       "      <td>0</td>\n",
       "      <td>0</td>\n",
       "      <td>137</td>\n",
       "      <td>23</td>\n",
       "      <td>hero you can 't swim lonely guy help me my sol...</td>\n",
       "    </tr>\n",
       "    <tr>\n",
       "      <th>1544</th>\n",
       "      <td>chemical%20emergency</td>\n",
       "      <td>@pjcoyle ... need to be included in emergency ...</td>\n",
       "      <td>0</td>\n",
       "      <td>1</td>\n",
       "      <td>1</td>\n",
       "      <td>0</td>\n",
       "      <td>0</td>\n",
       "      <td>107</td>\n",
       "      <td>15</td>\n",
       "      <td>... need to be included in emergency planning ...</td>\n",
       "    </tr>\n",
       "    <tr>\n",
       "      <th>3708</th>\n",
       "      <td>fear</td>\n",
       "      <td>@luzukokoti it's all  about understanding umnt...</td>\n",
       "      <td>0</td>\n",
       "      <td>0</td>\n",
       "      <td>1</td>\n",
       "      <td>0</td>\n",
       "      <td>0</td>\n",
       "      <td>140</td>\n",
       "      <td>27</td>\n",
       "      <td>it's all  about understanding umntu wakho. if ...</td>\n",
       "    </tr>\n",
       "  </tbody>\n",
       "</table>\n",
       "</div>"
      ],
      "text/plain": [
       "                   keyword                                               text  \\\n",
       "4856       mass%20murderer  .@libertygeek83 something about kissing the as...   \n",
       "614           bioterrorism  @cagov if 90blks&amp;8whts colluded 2 take wht...   \n",
       "2583             destroyed  hero you can 't swim lonely guy help me my sol...   \n",
       "1544  chemical%20emergency  @pjcoyle ... need to be included in emergency ...   \n",
       "3708                  fear  @luzukokoti it's all  about understanding umnt...   \n",
       "\n",
       "      target  link  contact  hashtag  numerics  length  words  \\\n",
       "4856       0     1        2        0         0     139     20   \n",
       "614        1     0        3        0         1     151     22   \n",
       "2583       0     1        0        0         0     137     23   \n",
       "1544       0     1        1        0         0     107     15   \n",
       "3708       0     0        1        0         0     140     27   \n",
       "\n",
       "                                             text_clean  \n",
       "4856  .something about kissing the ass of mass murde...  \n",
       "614   if blks&amp;whts colluded  take wht f auth hos...  \n",
       "2583  hero you can 't swim lonely guy help me my sol...  \n",
       "1544  ... need to be included in emergency planning ...  \n",
       "3708  it's all  about understanding umntu wakho. if ...  "
      ]
     },
     "execution_count": 10,
     "metadata": {},
     "output_type": "execute_result"
    }
   ],
   "source": [
    "df.sample(5)"
   ]
  },
  {
   "cell_type": "markdown",
   "metadata": {},
   "source": [
    "<!-- ![purple-divider](https://user-images.githubusercontent.com/7065401/52071927-c1cd7100-2562-11e9-908a-dde91ba14e59.png)\n",
    "<a id='section4'></a>\n",
    "\n",
    "<div style=\"border-bottom:3px solid #000;\"> \n",
    "<div align=\"left\"><h2>Step 4: NLP</h2></div>\n",
    "<div align=\"right\">(return to <a href='#top1'><b>Top</b></a>)</div>\n",
    "</div> -->"
   ]
  },
  {
   "cell_type": "code",
   "execution_count": 11,
   "metadata": {},
   "outputs": [],
   "source": [
    "# eliminamos stopwords\n",
    "\n",
    "stop = stopwords.words('english')\n",
    "\n",
    "df['text_clean'] = df['text_clean'].apply(lambda x: ' '.join([word for word in x.split() if word not in (stop)]))"
   ]
  },
  {
   "cell_type": "code",
   "execution_count": 12,
   "metadata": {},
   "outputs": [],
   "source": [
    "# eliminamos signos de puntuacion y caracteres especiales\n",
    "df['text_clean'] = df['text_clean'].str.replace('[^\\w\\s]','')"
   ]
  },
  {
   "cell_type": "code",
   "execution_count": 13,
   "metadata": {},
   "outputs": [],
   "source": [
    "df['word_tokenize'] = df['text_clean'].apply(lambda x: word_tokenize(x))"
   ]
  },
  {
   "cell_type": "code",
   "execution_count": 14,
   "metadata": {},
   "outputs": [],
   "source": [
    "def word_lemmatizer(text):\n",
    "    lem_text = [WordNetLemmatizer().lemmatize(i) for i in text]\n",
    "    return lem_text"
   ]
  },
  {
   "cell_type": "code",
   "execution_count": 15,
   "metadata": {},
   "outputs": [],
   "source": [
    "# unificamos palabras que poseen la misma raiz aplicando la funcion word_lematizer\n",
    "df['word_lemmatizer'] = df['word_tokenize'].apply(lambda x: word_lemmatizer(x))"
   ]
  },
  {
   "cell_type": "code",
   "execution_count": 16,
   "metadata": {},
   "outputs": [],
   "source": [
    "# unificamos la lista de tokens para poder analizar el texto limpio\n",
    "df['text_clean'] = df['word_lemmatizer'].str.join(' ')"
   ]
  },
  {
   "cell_type": "code",
   "execution_count": 17,
   "metadata": {},
   "outputs": [],
   "source": [
    "# calculamos nuevamente la longuitud, pero ahora del texto limpio                       \n",
    "df['length-clean'] = df['text_clean'].str.len()"
   ]
  },
  {
   "cell_type": "code",
   "execution_count": 18,
   "metadata": {},
   "outputs": [],
   "source": [
    "df['words_clean'] = df['text_clean'].apply(count_words)"
   ]
  },
  {
   "cell_type": "code",
   "execution_count": 19,
   "metadata": {},
   "outputs": [],
   "source": [
    "pd.set_option('display.max_colwidth', 150)  "
   ]
  },
  {
   "cell_type": "code",
   "execution_count": 20,
   "metadata": {},
   "outputs": [
    {
     "data": {
      "text/html": [
       "<div>\n",
       "<style scoped>\n",
       "    .dataframe tbody tr th:only-of-type {\n",
       "        vertical-align: middle;\n",
       "    }\n",
       "\n",
       "    .dataframe tbody tr th {\n",
       "        vertical-align: top;\n",
       "    }\n",
       "\n",
       "    .dataframe thead th {\n",
       "        text-align: right;\n",
       "    }\n",
       "</style>\n",
       "<table border=\"1\" class=\"dataframe\">\n",
       "  <thead>\n",
       "    <tr style=\"text-align: right;\">\n",
       "      <th></th>\n",
       "      <th>text</th>\n",
       "      <th>text_clean</th>\n",
       "    </tr>\n",
       "  </thead>\n",
       "  <tbody>\n",
       "    <tr>\n",
       "      <th>5175</th>\n",
       "      <td>meek mill begging nicki minaj to let him obliterate... #ovofest #nowplaying http://t.co/xomi4zqzgp http://t.co/0m1tw3datd</td>\n",
       "      <td>meek mill begging nicki minaj let obliterate</td>\n",
       "    </tr>\n",
       "    <tr>\n",
       "      <th>2245</th>\n",
       "      <td>#glimpses: hyderabad deluged by heavy rainfall | http://t.co/dctv1ujlhc http://t.co/qox1jnqsau</td>\n",
       "      <td>glimpse hyderabad deluged heavy rainfall</td>\n",
       "    </tr>\n",
       "    <tr>\n",
       "      <th>435</th>\n",
       "      <td>@_doofus_ @diamorfiend im jokin still cant be on moves:/</td>\n",
       "      <td>im jokin still cant move</td>\n",
       "    </tr>\n",
       "    <tr>\n",
       "      <th>5749</th>\n",
       "      <td>@dani_riot keep an eye out we'll be looking for lots of new team members in coming days/weeks :)</td>\n",
       "      <td>keep eye well looking lot new team member coming daysweeks</td>\n",
       "    </tr>\n",
       "    <tr>\n",
       "      <th>1917</th>\n",
       "      <td>@michelleellle ?? shut up freshman its past ur curfew. u need some sleep!! u spend too much of ur time watching tv instead of going outside ??</td>\n",
       "      <td>shut freshman past ur curfew u need sleep u spend much ur time watching tv instead going outside</td>\n",
       "    </tr>\n",
       "    <tr>\n",
       "      <th>1204</th>\n",
       "      <td>i'm mentally preparing myself for a bomb ass school year if it's not i'm burning buildings ??</td>\n",
       "      <td>im mentally preparing bomb as school year im burning building</td>\n",
       "    </tr>\n",
       "    <tr>\n",
       "      <th>5233</th>\n",
       "      <td>alhaji putin is far from being a good person sha. at least i had front row seat to his complete obliteration of ibeto cement a competitor.</td>\n",
       "      <td>alhaji putin far good person sha least front row seat complete obliteration ibeto cement competitor</td>\n",
       "    </tr>\n",
       "    <tr>\n",
       "      <th>3756</th>\n",
       "      <td>fire meet gasoline always gotta get played twice lol</td>\n",
       "      <td>fire meet gasoline always got ta get played twice lol</td>\n",
       "    </tr>\n",
       "    <tr>\n",
       "      <th>1511</th>\n",
       "      <td>@myvintagesoul ...of the british upper class and his manservant.  the pampered wealthy brit causes a catastrophic shift (reversal) of...</td>\n",
       "      <td>of british upper class manservant pampered wealthy brit cause catastrophic shift reversal of</td>\n",
       "    </tr>\n",
       "    <tr>\n",
       "      <th>469</th>\n",
       "      <td>@caixxum5sos thanks for the damn heart attack</td>\n",
       "      <td>thanks damn heart attack</td>\n",
       "    </tr>\n",
       "  </tbody>\n",
       "</table>\n",
       "</div>"
      ],
      "text/plain": [
       "                                                                                                                                                text  \\\n",
       "5175                       meek mill begging nicki minaj to let him obliterate... #ovofest #nowplaying http://t.co/xomi4zqzgp http://t.co/0m1tw3datd   \n",
       "2245                                                  #glimpses: hyderabad deluged by heavy rainfall | http://t.co/dctv1ujlhc http://t.co/qox1jnqsau   \n",
       "435                                                                                         @_doofus_ @diamorfiend im jokin still cant be on moves:/   \n",
       "5749                                                @dani_riot keep an eye out we'll be looking for lots of new team members in coming days/weeks :)   \n",
       "1917  @michelleellle ?? shut up freshman its past ur curfew. u need some sleep!! u spend too much of ur time watching tv instead of going outside ??   \n",
       "1204                                                   i'm mentally preparing myself for a bomb ass school year if it's not i'm burning buildings ??   \n",
       "5233      alhaji putin is far from being a good person sha. at least i had front row seat to his complete obliteration of ibeto cement a competitor.   \n",
       "3756                                                                                            fire meet gasoline always gotta get played twice lol   \n",
       "1511        @myvintagesoul ...of the british upper class and his manservant.  the pampered wealthy brit causes a catastrophic shift (reversal) of...   \n",
       "469                                                                                                    @caixxum5sos thanks for the damn heart attack   \n",
       "\n",
       "                                                                                               text_clean  \n",
       "5175                                                         meek mill begging nicki minaj let obliterate  \n",
       "2245                                                             glimpse hyderabad deluged heavy rainfall  \n",
       "435                                                                              im jokin still cant move  \n",
       "5749                                           keep eye well looking lot new team member coming daysweeks  \n",
       "1917     shut freshman past ur curfew u need sleep u spend much ur time watching tv instead going outside  \n",
       "1204                                        im mentally preparing bomb as school year im burning building  \n",
       "5233  alhaji putin far good person sha least front row seat complete obliteration ibeto cement competitor  \n",
       "3756                                                fire meet gasoline always got ta get played twice lol  \n",
       "1511         of british upper class manservant pampered wealthy brit cause catastrophic shift reversal of  \n",
       "469                                                                              thanks damn heart attack  "
      ]
     },
     "execution_count": 20,
     "metadata": {},
     "output_type": "execute_result"
    }
   ],
   "source": [
    "df[['text', 'text_clean']].sample(10)"
   ]
  },
  {
   "cell_type": "code",
   "execution_count": 21,
   "metadata": {},
   "outputs": [],
   "source": [
    "df['keyword'] = df.keyword.str.replace('%20', '_')\n",
    "df['keyword'] = df.keyword.str.lower()"
   ]
  },
  {
   "cell_type": "code",
   "execution_count": 22,
   "metadata": {},
   "outputs": [
    {
     "data": {
      "text/html": [
       "<div>\n",
       "<style scoped>\n",
       "    .dataframe tbody tr th:only-of-type {\n",
       "        vertical-align: middle;\n",
       "    }\n",
       "\n",
       "    .dataframe tbody tr th {\n",
       "        vertical-align: top;\n",
       "    }\n",
       "\n",
       "    .dataframe thead th {\n",
       "        text-align: right;\n",
       "    }\n",
       "</style>\n",
       "<table border=\"1\" class=\"dataframe\">\n",
       "  <thead>\n",
       "    <tr style=\"text-align: right;\">\n",
       "      <th></th>\n",
       "      <th>keyword</th>\n",
       "      <th>text</th>\n",
       "      <th>target</th>\n",
       "      <th>link</th>\n",
       "      <th>contact</th>\n",
       "      <th>hashtag</th>\n",
       "      <th>numerics</th>\n",
       "      <th>length</th>\n",
       "      <th>words</th>\n",
       "      <th>text_clean</th>\n",
       "      <th>word_tokenize</th>\n",
       "      <th>word_lemmatizer</th>\n",
       "      <th>length-clean</th>\n",
       "      <th>words_clean</th>\n",
       "    </tr>\n",
       "  </thead>\n",
       "  <tbody>\n",
       "    <tr>\n",
       "      <th>5492</th>\n",
       "      <td>quarantine</td>\n",
       "      <td>reddit will now quarantine offensiveåêcontent http://t.co/gllawb2fsk http://t.co/3kaafuoztc</td>\n",
       "      <td>0</td>\n",
       "      <td>2</td>\n",
       "      <td>0</td>\n",
       "      <td>0</td>\n",
       "      <td>0</td>\n",
       "      <td>91</td>\n",
       "      <td>7</td>\n",
       "      <td>reddit quarantine offensiveåêcontent</td>\n",
       "      <td>[reddit, quarantine, offensiveåêcontent]</td>\n",
       "      <td>[reddit, quarantine, offensiveåêcontent]</td>\n",
       "      <td>36</td>\n",
       "      <td>3</td>\n",
       "    </tr>\n",
       "    <tr>\n",
       "      <th>7508</th>\n",
       "      <td>wreckage</td>\n",
       "      <td>mh370 victim's family furious the media was told about wreckage confirmation first http://t.co/carmqivkwu</td>\n",
       "      <td>1</td>\n",
       "      <td>1</td>\n",
       "      <td>0</td>\n",
       "      <td>0</td>\n",
       "      <td>0</td>\n",
       "      <td>105</td>\n",
       "      <td>13</td>\n",
       "      <td>mh victim family furious medium told wreckage confirmation first</td>\n",
       "      <td>[mh, victims, family, furious, media, told, wreckage, confirmation, first]</td>\n",
       "      <td>[mh, victim, family, furious, medium, told, wreckage, confirmation, first]</td>\n",
       "      <td>64</td>\n",
       "      <td>9</td>\n",
       "    </tr>\n",
       "    <tr>\n",
       "      <th>7250</th>\n",
       "      <td>weapons</td>\n",
       "      <td>death certificates safes weapons and teslas: def con 23 #security http://t.co/kmdqm3nlns</td>\n",
       "      <td>0</td>\n",
       "      <td>1</td>\n",
       "      <td>0</td>\n",
       "      <td>1</td>\n",
       "      <td>1</td>\n",
       "      <td>88</td>\n",
       "      <td>11</td>\n",
       "      <td>death certificate safe weapon tesla def con</td>\n",
       "      <td>[death, certificates, safes, weapons, teslas, def, con]</td>\n",
       "      <td>[death, certificate, safe, weapon, tesla, def, con]</td>\n",
       "      <td>43</td>\n",
       "      <td>7</td>\n",
       "    </tr>\n",
       "  </tbody>\n",
       "</table>\n",
       "</div>"
      ],
      "text/plain": [
       "         keyword  \\\n",
       "5492  quarantine   \n",
       "7508    wreckage   \n",
       "7250     weapons   \n",
       "\n",
       "                                                                                                           text  \\\n",
       "5492                reddit will now quarantine offensiveåêcontent http://t.co/gllawb2fsk http://t.co/3kaafuoztc   \n",
       "7508  mh370 victim's family furious the media was told about wreckage confirmation first http://t.co/carmqivkwu   \n",
       "7250                   death certificates safes weapons and teslas: def con 23 #security http://t.co/kmdqm3nlns   \n",
       "\n",
       "      target  link  contact  hashtag  numerics  length  words  \\\n",
       "5492       0     2        0        0         0      91      7   \n",
       "7508       1     1        0        0         0     105     13   \n",
       "7250       0     1        0        1         1      88     11   \n",
       "\n",
       "                                                            text_clean  \\\n",
       "5492                              reddit quarantine offensiveåêcontent   \n",
       "7508  mh victim family furious medium told wreckage confirmation first   \n",
       "7250                       death certificate safe weapon tesla def con   \n",
       "\n",
       "                                                                   word_tokenize  \\\n",
       "5492                                    [reddit, quarantine, offensiveåêcontent]   \n",
       "7508  [mh, victims, family, furious, media, told, wreckage, confirmation, first]   \n",
       "7250                     [death, certificates, safes, weapons, teslas, def, con]   \n",
       "\n",
       "                                                                 word_lemmatizer  \\\n",
       "5492                                    [reddit, quarantine, offensiveåêcontent]   \n",
       "7508  [mh, victim, family, furious, medium, told, wreckage, confirmation, first]   \n",
       "7250                         [death, certificate, safe, weapon, tesla, def, con]   \n",
       "\n",
       "      length-clean  words_clean  \n",
       "5492            36            3  \n",
       "7508            64            9  \n",
       "7250            43            7  "
      ]
     },
     "execution_count": 22,
     "metadata": {},
     "output_type": "execute_result"
    }
   ],
   "source": [
    "df.sample(3)"
   ]
  },
  {
   "cell_type": "markdown",
   "metadata": {},
   "source": [
    "## TF- IDF"
   ]
  },
  {
   "cell_type": "code",
   "execution_count": 23,
   "metadata": {},
   "outputs": [],
   "source": [
    "# aplicamos TF-IDF seteando un maximo de 1500 palabras\n",
    "tfidf = TfidfVectorizer(max_features=3000, lowercase=True, analyzer='word', stop_words= 'english',ngram_range=(1,1))\n",
    "\n",
    "\n",
    "train_vect = tfidf.fit_transform(df['text_clean'])                                             \n",
    "\n",
    "# lo pasamos a dataframe\n",
    "df_tf_idf = pd.DataFrame(data = train_vect.todense(), columns = tfidf.get_feature_names())"
   ]
  },
  {
   "cell_type": "code",
   "execution_count": 24,
   "metadata": {},
   "outputs": [
    {
     "data": {
      "text/plain": [
       "(7613, 3000)"
      ]
     },
     "execution_count": 24,
     "metadata": {},
     "output_type": "execute_result"
    }
   ],
   "source": [
    "df_tf_idf.shape"
   ]
  },
  {
   "cell_type": "code",
   "execution_count": 25,
   "metadata": {},
   "outputs": [
    {
     "data": {
      "text/plain": [
       "0.000000    7602\n",
       "0.429356       2\n",
       "0.769954       1\n",
       "0.388684       1\n",
       "0.299713       1\n",
       "0.475567       1\n",
       "0.485785       1\n",
       "0.322396       1\n",
       "0.393383       1\n",
       "0.513594       1\n",
       "0.505373       1\n",
       "Name: target, dtype: int64"
      ]
     },
     "execution_count": 25,
     "metadata": {},
     "output_type": "execute_result"
    }
   ],
   "source": [
    "df_tf_idf['target'].value_counts()"
   ]
  },
  {
   "cell_type": "code",
   "execution_count": 26,
   "metadata": {},
   "outputs": [
    {
     "data": {
      "text/html": [
       "<div>\n",
       "<style scoped>\n",
       "    .dataframe tbody tr th:only-of-type {\n",
       "        vertical-align: middle;\n",
       "    }\n",
       "\n",
       "    .dataframe tbody tr th {\n",
       "        vertical-align: top;\n",
       "    }\n",
       "\n",
       "    .dataframe thead th {\n",
       "        text-align: right;\n",
       "    }\n",
       "</style>\n",
       "<table border=\"1\" class=\"dataframe\">\n",
       "  <thead>\n",
       "    <tr style=\"text-align: right;\">\n",
       "      <th></th>\n",
       "      <th>__</th>\n",
       "      <th>aba</th>\n",
       "      <th>abandoned</th>\n",
       "      <th>abbswinston</th>\n",
       "      <th>abc</th>\n",
       "      <th>ability</th>\n",
       "      <th>ablaze</th>\n",
       "      <th>able</th>\n",
       "      <th>abortion</th>\n",
       "      <th>absolutely</th>\n",
       "      <th>...</th>\n",
       "      <th>åê</th>\n",
       "      <th>û_</th>\n",
       "      <th>ûextremely</th>\n",
       "      <th>ûpolitics</th>\n",
       "      <th>ûïa</th>\n",
       "      <th>ûïthe</th>\n",
       "      <th>ûïwe</th>\n",
       "      <th>ûïwhen</th>\n",
       "      <th>ûò</th>\n",
       "      <th>ûó</th>\n",
       "    </tr>\n",
       "  </thead>\n",
       "  <tbody>\n",
       "    <tr>\n",
       "      <th>0</th>\n",
       "      <td>0.0</td>\n",
       "      <td>0.0</td>\n",
       "      <td>0.0</td>\n",
       "      <td>0.0</td>\n",
       "      <td>0.0</td>\n",
       "      <td>0.0</td>\n",
       "      <td>0.0</td>\n",
       "      <td>0.0</td>\n",
       "      <td>0.0</td>\n",
       "      <td>0.0</td>\n",
       "      <td>...</td>\n",
       "      <td>0.0</td>\n",
       "      <td>0.0</td>\n",
       "      <td>0.0</td>\n",
       "      <td>0.0</td>\n",
       "      <td>0.0</td>\n",
       "      <td>0.0</td>\n",
       "      <td>0.0</td>\n",
       "      <td>0.0</td>\n",
       "      <td>0.0</td>\n",
       "      <td>0.0</td>\n",
       "    </tr>\n",
       "    <tr>\n",
       "      <th>1</th>\n",
       "      <td>0.0</td>\n",
       "      <td>0.0</td>\n",
       "      <td>0.0</td>\n",
       "      <td>0.0</td>\n",
       "      <td>0.0</td>\n",
       "      <td>0.0</td>\n",
       "      <td>0.0</td>\n",
       "      <td>0.0</td>\n",
       "      <td>0.0</td>\n",
       "      <td>0.0</td>\n",
       "      <td>...</td>\n",
       "      <td>0.0</td>\n",
       "      <td>0.0</td>\n",
       "      <td>0.0</td>\n",
       "      <td>0.0</td>\n",
       "      <td>0.0</td>\n",
       "      <td>0.0</td>\n",
       "      <td>0.0</td>\n",
       "      <td>0.0</td>\n",
       "      <td>0.0</td>\n",
       "      <td>0.0</td>\n",
       "    </tr>\n",
       "    <tr>\n",
       "      <th>2</th>\n",
       "      <td>0.0</td>\n",
       "      <td>0.0</td>\n",
       "      <td>0.0</td>\n",
       "      <td>0.0</td>\n",
       "      <td>0.0</td>\n",
       "      <td>0.0</td>\n",
       "      <td>0.0</td>\n",
       "      <td>0.0</td>\n",
       "      <td>0.0</td>\n",
       "      <td>0.0</td>\n",
       "      <td>...</td>\n",
       "      <td>0.0</td>\n",
       "      <td>0.0</td>\n",
       "      <td>0.0</td>\n",
       "      <td>0.0</td>\n",
       "      <td>0.0</td>\n",
       "      <td>0.0</td>\n",
       "      <td>0.0</td>\n",
       "      <td>0.0</td>\n",
       "      <td>0.0</td>\n",
       "      <td>0.0</td>\n",
       "    </tr>\n",
       "    <tr>\n",
       "      <th>3</th>\n",
       "      <td>0.0</td>\n",
       "      <td>0.0</td>\n",
       "      <td>0.0</td>\n",
       "      <td>0.0</td>\n",
       "      <td>0.0</td>\n",
       "      <td>0.0</td>\n",
       "      <td>0.0</td>\n",
       "      <td>0.0</td>\n",
       "      <td>0.0</td>\n",
       "      <td>0.0</td>\n",
       "      <td>...</td>\n",
       "      <td>0.0</td>\n",
       "      <td>0.0</td>\n",
       "      <td>0.0</td>\n",
       "      <td>0.0</td>\n",
       "      <td>0.0</td>\n",
       "      <td>0.0</td>\n",
       "      <td>0.0</td>\n",
       "      <td>0.0</td>\n",
       "      <td>0.0</td>\n",
       "      <td>0.0</td>\n",
       "    </tr>\n",
       "    <tr>\n",
       "      <th>4</th>\n",
       "      <td>0.0</td>\n",
       "      <td>0.0</td>\n",
       "      <td>0.0</td>\n",
       "      <td>0.0</td>\n",
       "      <td>0.0</td>\n",
       "      <td>0.0</td>\n",
       "      <td>0.0</td>\n",
       "      <td>0.0</td>\n",
       "      <td>0.0</td>\n",
       "      <td>0.0</td>\n",
       "      <td>...</td>\n",
       "      <td>0.0</td>\n",
       "      <td>0.0</td>\n",
       "      <td>0.0</td>\n",
       "      <td>0.0</td>\n",
       "      <td>0.0</td>\n",
       "      <td>0.0</td>\n",
       "      <td>0.0</td>\n",
       "      <td>0.0</td>\n",
       "      <td>0.0</td>\n",
       "      <td>0.0</td>\n",
       "    </tr>\n",
       "  </tbody>\n",
       "</table>\n",
       "<p>5 rows × 3000 columns</p>\n",
       "</div>"
      ],
      "text/plain": [
       "    __  aba  abandoned  abbswinston  abc  ability  ablaze  able  abortion  \\\n",
       "0  0.0  0.0        0.0          0.0  0.0      0.0     0.0   0.0       0.0   \n",
       "1  0.0  0.0        0.0          0.0  0.0      0.0     0.0   0.0       0.0   \n",
       "2  0.0  0.0        0.0          0.0  0.0      0.0     0.0   0.0       0.0   \n",
       "3  0.0  0.0        0.0          0.0  0.0      0.0     0.0   0.0       0.0   \n",
       "4  0.0  0.0        0.0          0.0  0.0      0.0     0.0   0.0       0.0   \n",
       "\n",
       "   absolutely  ...   åê   û_  ûextremely  ûpolitics  ûïa  ûïthe  ûïwe  ûïwhen  \\\n",
       "0         0.0  ...  0.0  0.0         0.0        0.0  0.0    0.0   0.0     0.0   \n",
       "1         0.0  ...  0.0  0.0         0.0        0.0  0.0    0.0   0.0     0.0   \n",
       "2         0.0  ...  0.0  0.0         0.0        0.0  0.0    0.0   0.0     0.0   \n",
       "3         0.0  ...  0.0  0.0         0.0        0.0  0.0    0.0   0.0     0.0   \n",
       "4         0.0  ...  0.0  0.0         0.0        0.0  0.0    0.0   0.0     0.0   \n",
       "\n",
       "    ûò   ûó  \n",
       "0  0.0  0.0  \n",
       "1  0.0  0.0  \n",
       "2  0.0  0.0  \n",
       "3  0.0  0.0  \n",
       "4  0.0  0.0  \n",
       "\n",
       "[5 rows x 3000 columns]"
      ]
     },
     "execution_count": 26,
     "metadata": {},
     "output_type": "execute_result"
    }
   ],
   "source": [
    "df_tf_idf.head()"
   ]
  },
  {
   "cell_type": "code",
   "execution_count": 27,
   "metadata": {},
   "outputs": [
    {
     "data": {
      "text/plain": [
       "0    0.0\n",
       "1    0.0\n",
       "2    0.0\n",
       "3    0.0\n",
       "4    0.0\n",
       "Name: target, dtype: float64"
      ]
     },
     "execution_count": 27,
     "metadata": {},
     "output_type": "execute_result"
    }
   ],
   "source": [
    "df_tf_idf['target'].head()"
   ]
  },
  {
   "cell_type": "code",
   "execution_count": 28,
   "metadata": {},
   "outputs": [],
   "source": [
    "# como existe la columna target en el analisis tf-idf, la modifico para hacer el concat con 'target' y que no se duplique\n",
    "df_tf_idf['targ'] = df_tf_idf['target']\n",
    "df_tf_idf = df_tf_idf.drop(['target'], axis=1)"
   ]
  },
  {
   "cell_type": "markdown",
   "metadata": {},
   "source": [
    "Para no perder tantos registros, vamos a dejar de lado por ahora la columna ``keyword`` "
   ]
  },
  {
   "cell_type": "code",
   "execution_count": 29,
   "metadata": {
    "scrolled": true
   },
   "outputs": [
    {
     "data": {
      "text/plain": [
       "0    4342\n",
       "1    3271\n",
       "Name: target, dtype: int64"
      ]
     },
     "execution_count": 29,
     "metadata": {},
     "output_type": "execute_result"
    }
   ],
   "source": [
    "df['target'].value_counts()  # chequeamos si los labels estan balanceados"
   ]
  },
  {
   "cell_type": "code",
   "execution_count": 30,
   "metadata": {},
   "outputs": [],
   "source": [
    "# eliminamos col que contienen texto y conservamos unicamente las numericas\n",
    "df_num = df.drop([ 'keyword', 'text', 'text_clean', 'word_tokenize', 'word_lemmatizer'], axis=1)"
   ]
  },
  {
   "cell_type": "code",
   "execution_count": 31,
   "metadata": {},
   "outputs": [],
   "source": [
    "df_train = pd.concat([df_num, df_tf_idf], axis=1)  # revisar porque aparecen dos columnas llamadas target"
   ]
  },
  {
   "cell_type": "code",
   "execution_count": 32,
   "metadata": {},
   "outputs": [
    {
     "data": {
      "text/plain": [
       "(7613, 3009)"
      ]
     },
     "execution_count": 32,
     "metadata": {},
     "output_type": "execute_result"
    }
   ],
   "source": [
    "df_train.shape"
   ]
  },
  {
   "cell_type": "markdown",
   "metadata": {},
   "source": [
    "## Train Test Split"
   ]
  },
  {
   "cell_type": "code",
   "execution_count": 33,
   "metadata": {
    "scrolled": true
   },
   "outputs": [],
   "source": [
    "# separamos el target del resto de los features\n",
    "\n",
    "y = df_train.target    \n",
    "X = df_train.drop('target', axis=1)"
   ]
  },
  {
   "cell_type": "code",
   "execution_count": 34,
   "metadata": {},
   "outputs": [
    {
     "data": {
      "text/plain": [
       "((7613, 3008), (7613,))"
      ]
     },
     "execution_count": 34,
     "metadata": {},
     "output_type": "execute_result"
    }
   ],
   "source": [
    "X.shape, y.shape"
   ]
  },
  {
   "cell_type": "code",
   "execution_count": 35,
   "metadata": {},
   "outputs": [
    {
     "data": {
      "text/plain": [
       "((5329, 3008), (2284, 3008), (5329,), (2284,))"
      ]
     },
     "execution_count": 35,
     "metadata": {},
     "output_type": "execute_result"
    }
   ],
   "source": [
    "# hacemos division entre train y test para cross validation\n",
    "X_train, X_test, y_train, y_test = train_test_split(X, y, test_size=0.3, random_state=7)      \n",
    "\n",
    "X_train.shape, X_test.shape, y_train.shape, y_test.shape"
   ]
  },
  {
   "cell_type": "code",
   "execution_count": 36,
   "metadata": {},
   "outputs": [],
   "source": [
    "# estandarizamos las features\n",
    "scaler = StandardScaler()\n",
    "\n",
    "X_train = scaler.fit_transform(X_train)\n",
    "\n",
    "X_test = scaler.transform(X_test) "
   ]
  },
  {
   "cell_type": "code",
   "execution_count": 37,
   "metadata": {},
   "outputs": [],
   "source": [
    "# definimos una \n",
    "cv = StratifiedKFold(n_splits=5, random_state=27, shuffle=True)"
   ]
  },
  {
   "cell_type": "code",
   "execution_count": null,
   "metadata": {},
   "outputs": [],
   "source": []
  },
  {
   "cell_type": "code",
   "execution_count": null,
   "metadata": {},
   "outputs": [],
   "source": []
  },
  {
   "cell_type": "markdown",
   "metadata": {},
   "source": [
    "## XGBoost"
   ]
  },
  {
   "cell_type": "code",
   "execution_count": 38,
   "metadata": {},
   "outputs": [],
   "source": [
    "model_xgb = xgb.XGBClassifier(n_jobs=-1, random_state=27)"
   ]
  },
  {
   "cell_type": "code",
   "execution_count": 39,
   "metadata": {},
   "outputs": [],
   "source": [
    "parameters = {\n",
    "     \"eta\"    : [0.05 ] ,\n",
    "     \"max_depth\"        : [ 15, 20],\n",
    "     \"min_child_weight\" : [ 1, 3, 5 ],\n",
    "     \"gamma\"            : [  0.1, 0.3, 0.4 ],\n",
    "     \"colsample_bytree\" : [ 0.3,  0.5 , 0.7 ]\n",
    "     }\n",
    "\n",
    "\n",
    "xgb_cv = RandomizedSearchCV(model_xgb, parameters,cv=cv, n_iter=25, verbose=True, scoring='neg_log_loss', random_state=27)"
   ]
  },
  {
   "cell_type": "code",
   "execution_count": 40,
   "metadata": {},
   "outputs": [
    {
     "name": "stdout",
     "output_type": "stream",
     "text": [
      "Fitting 5 folds for each of 25 candidates, totalling 125 fits\n"
     ]
    },
    {
     "name": "stderr",
     "output_type": "stream",
     "text": [
      "[Parallel(n_jobs=1)]: Using backend SequentialBackend with 1 concurrent workers.\n",
      "[Parallel(n_jobs=1)]: Done 125 out of 125 | elapsed: 142.6min finished\n"
     ]
    },
    {
     "name": "stdout",
     "output_type": "stream",
     "text": [
      "Wall time: 2h 23min 24s\n"
     ]
    },
    {
     "data": {
      "text/plain": [
       "RandomizedSearchCV(cv=StratifiedKFold(n_splits=5, random_state=27, shuffle=True),\n",
       "                   error_score=nan,\n",
       "                   estimator=XGBClassifier(base_score=0.5, booster='gbtree',\n",
       "                                           colsample_bylevel=1,\n",
       "                                           colsample_bynode=1,\n",
       "                                           colsample_bytree=1, gamma=0,\n",
       "                                           learning_rate=0.1, max_delta_step=0,\n",
       "                                           max_depth=3, min_child_weight=1,\n",
       "                                           missing=None, n_estimators=100,\n",
       "                                           n_jobs=-1, nthread=None,\n",
       "                                           objective='bin...\n",
       "                                           reg_lambda=1, scale_pos_weight=1,\n",
       "                                           seed=None, silent=None, subsample=1,\n",
       "                                           verbosity=1),\n",
       "                   iid='deprecated', n_iter=25, n_jobs=None,\n",
       "                   param_distributions={'colsample_bytree': [0.3, 0.5, 0.7],\n",
       "                                        'eta': [0.05], 'gamma': [0.1, 0.3, 0.4],\n",
       "                                        'max_depth': [15, 20],\n",
       "                                        'min_child_weight': [1, 3, 5]},\n",
       "                   pre_dispatch='2*n_jobs', random_state=27, refit=True,\n",
       "                   return_train_score=False, scoring='neg_log_loss',\n",
       "                   verbose=True)"
      ]
     },
     "execution_count": 40,
     "metadata": {},
     "output_type": "execute_result"
    }
   ],
   "source": [
    "%%time\n",
    "xgb_cv.fit(X_train,y_train)"
   ]
  },
  {
   "cell_type": "code",
   "execution_count": 41,
   "metadata": {},
   "outputs": [
    {
     "data": {
      "text/plain": [
       "{'min_child_weight': 1,\n",
       " 'max_depth': 20,\n",
       " 'gamma': 0.3,\n",
       " 'eta': 0.05,\n",
       " 'colsample_bytree': 0.3}"
      ]
     },
     "execution_count": 41,
     "metadata": {},
     "output_type": "execute_result"
    }
   ],
   "source": [
    "xgb_cv.best_params_"
   ]
  },
  {
   "cell_type": "code",
   "execution_count": 42,
   "metadata": {
    "colab": {},
    "colab_type": "code",
    "id": "TWN_SYVkCfoM"
   },
   "outputs": [],
   "source": [
    "y_predicted_xgb = xgb_cv.predict_proba(X_test)"
   ]
  },
  {
   "cell_type": "code",
   "execution_count": 43,
   "metadata": {},
   "outputs": [],
   "source": [
    "y_pred_xgb = xgb_cv.predict(X_test)"
   ]
  },
  {
   "cell_type": "code",
   "execution_count": 44,
   "metadata": {
    "colab": {},
    "colab_type": "code",
    "id": "ZIV1v9ukCfor",
    "outputId": "d3530218-f0ce-46b4-8924-8a07665718d9",
    "scrolled": true
   },
   "outputs": [
    {
     "data": {
      "image/png": "[encoded data removed]",
      "text/plain": [
       "<Figure size 432x288 with 1 Axes>"
      ]
     },
     "metadata": {
      "needs_background": "light"
     },
     "output_type": "display_data"
    }
   ],
   "source": [
    "xgb.plot_importance(xgb_cv.best_estimator_, height=0.8, max_num_features=5);"
   ]
  },
  {
   "cell_type": "code",
   "execution_count": 45,
   "metadata": {},
   "outputs": [
    {
     "data": {
      "text/plain": [
       "(-0.32467082193835056, -0.4943979662845495)"
      ]
     },
     "execution_count": 45,
     "metadata": {},
     "output_type": "execute_result"
    }
   ],
   "source": [
    "xgb_cv.score(X_train, y_train), xgb_cv.score(X_test,y_test)"
   ]
  },
  {
   "cell_type": "code",
   "execution_count": 46,
   "metadata": {},
   "outputs": [
    {
     "name": "stdout",
     "output_type": "stream",
     "text": [
      "0.7692644483362522\n"
     ]
    }
   ],
   "source": [
    "# print(classification_report(y_test, y_pred_xgb))\n",
    "print(accuracy_score(y_test, y_pred_xgb))"
   ]
  },
  {
   "cell_type": "code",
   "execution_count": 47,
   "metadata": {},
   "outputs": [
    {
     "data": {
      "text/plain": [
       "0.7688266199649737"
      ]
     },
     "execution_count": 47,
     "metadata": {},
     "output_type": "execute_result"
    }
   ],
   "source": [
    "0.7688266199649737 # con 1500 en TF-IDF  45 min de train"
   ]
  },
  {
   "cell_type": "code",
   "execution_count": 52,
   "metadata": {},
   "outputs": [
    {
     "data": {
      "text/plain": [
       "XGBClassifier(base_score=0.5, booster='gbtree', colsample_bylevel=1,\n",
       "              colsample_bynode=1, colsample_bytree=0.3, eta=0.05, gamma=0.3,\n",
       "              learning_rate=0.1, max_delta_step=0, max_depth=20,\n",
       "              min_child_weight=1, missing=None, n_estimators=100, n_jobs=-1,\n",
       "              nthread=None, objective='binary:logistic', random_state=27,\n",
       "              reg_alpha=0, reg_lambda=1, scale_pos_weight=1, seed=None,\n",
       "              silent=None, subsample=1, verbosity=1)"
      ]
     },
     "execution_count": 52,
     "metadata": {},
     "output_type": "execute_result"
    }
   ],
   "source": [
    "xgb_cv.best_estimator_"
   ]
  },
  {
   "cell_type": "code",
   "execution_count": 53,
   "metadata": {},
   "outputs": [],
   "source": [
    "# copio los mejores parametros y vuelvo a entrenar el modelo\n",
    "model_xgboost = xgb.XGBClassifier(base_score=0.5, booster='gbtree', colsample_bylevel=1,\n",
    "                                  colsample_bynode=1, colsample_bytree=0.3, eta=0.05, gamma=0.3,\n",
    "                                  learning_rate=0.1, max_delta_step=0, max_depth=20,\n",
    "                                  min_child_weight=1, missing=None, n_estimators=100, n_jobs=-1,\n",
    "                                  nthread=None, objective='binary:logistic', random_state=27,\n",
    "                                  reg_alpha=0, reg_lambda=1, scale_pos_weight=1, seed=None,\n",
    "                                  silent=None, subsample=1, verbosity=1)"
   ]
  },
  {
   "cell_type": "code",
   "execution_count": 54,
   "metadata": {},
   "outputs": [],
   "source": [
    "y_xgboost = model_xgboost.fit(X_train,y_train).predict(X_test)"
   ]
  },
  {
   "cell_type": "code",
   "execution_count": 57,
   "metadata": {},
   "outputs": [
    {
     "data": {
      "text/plain": [
       "0.8977294051416776"
      ]
     },
     "execution_count": 57,
     "metadata": {},
     "output_type": "execute_result"
    }
   ],
   "source": [
    "model_xgboost.score(X_train, y_train)"
   ]
  },
  {
   "cell_type": "code",
   "execution_count": 58,
   "metadata": {},
   "outputs": [
    {
     "data": {
      "text/plain": [
       "0.7692644483362522"
      ]
     },
     "execution_count": 58,
     "metadata": {},
     "output_type": "execute_result"
    }
   ],
   "source": [
    "accuracy_score(y_test, y_xgboost)"
   ]
  },
  {
   "cell_type": "code",
   "execution_count": null,
   "metadata": {},
   "outputs": [],
   "source": []
  }
 ],
 "metadata": {
  "kernelspec": {
   "display_name": "Python 3",
   "language": "python",
   "name": "python3"
  },
  "language_info": {
   "codemirror_mode": {
    "name": "ipython",
    "version": 3
   },
   "file_extension": ".py",
   "mimetype": "text/x-python",
   "name": "python",
   "nbconvert_exporter": "python",
   "pygments_lexer": "ipython3",
   "version": "3.7.3"
  }
 },
 "nbformat": 4,
 "nbformat_minor": 2
}
