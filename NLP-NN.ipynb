{
 "cells": [
  {
   "cell_type": "markdown",
   "metadata": {
    "colab_type": "text",
    "id": "QrxSyyyhygUR"
   },
   "source": [
    "# TP 2 - Organizacion de Datos"
   ]
  },
  {
   "cell_type": "markdown",
   "metadata": {},
   "source": [
    "## Oh La La... Data!\n",
    "\n",
    "* **Hamma AALI CHTOUKI** --- *Padrón 106607 - Alumno regular de intercambio.*  \n",
    "* **Aymeryc COUSAERT** ------  *Padrón 105464 - Alumno regular de intercambio.*\n",
    "* **Mariana VINYOLAS**  ---------  *Alumna oyente.*"
   ]
  },
  {
   "cell_type": "code",
   "execution_count": 1,
   "metadata": {
    "colab": {},
    "colab_type": "code",
    "id": "drsUfVVXyxJl"
   },
   "outputs": [],
   "source": [
    "import tensorflow as tf\n",
    "\n",
    "from tensorflow.keras.preprocessing.text import Tokenizer\n",
    "from tensorflow.keras.preprocessing.sequence import pad_sequences"
   ]
  },
  {
   "cell_type": "code",
   "execution_count": 2,
   "metadata": {},
   "outputs": [
    {
     "name": "stderr",
     "output_type": "stream",
     "text": [
      "[nltk_data] Downloading package punkt to\n",
      "[nltk_data]     C:\\Users\\user\\AppData\\Roaming\\nltk_data...\n",
      "[nltk_data]   Package punkt is already up-to-date!\n",
      "[nltk_data] Downloading package wordnet to\n",
      "[nltk_data]     C:\\Users\\user\\AppData\\Roaming\\nltk_data...\n",
      "[nltk_data]   Package wordnet is already up-to-date!\n",
      "[nltk_data] Downloading package stopwords to\n",
      "[nltk_data]     C:\\Users\\user\\AppData\\Roaming\\nltk_data...\n",
      "[nltk_data]   Package stopwords is already up-to-date!\n"
     ]
    },
    {
     "data": {
      "text/plain": [
       "True"
      ]
     },
     "execution_count": 2,
     "metadata": {},
     "output_type": "execute_result"
    }
   ],
   "source": [
    "import re\n",
    "import nltk.corpus\n",
    "from nltk.corpus import stopwords\n",
    "nltk.download('punkt')\n",
    "nltk.download('wordnet')\n",
    "nltk.download('stopwords')"
   ]
  },
  {
   "cell_type": "markdown",
   "metadata": {
    "colab_type": "text",
    "id": "ZIf1N46jy6Ed"
   },
   "source": [
    "## Importamos el dataset\n",
    "\n",
    "Hacemos ademas un procesamiento del texto para eliminar stopwords y caracteres"
   ]
  },
  {
   "cell_type": "code",
   "execution_count": 3,
   "metadata": {},
   "outputs": [],
   "source": [
    "import numpy as np\n",
    "import pandas as pd\n",
    "from sklearn.model_selection import train_test_split\n",
    "\n",
    "df = pd.read_csv('train.csv')"
   ]
  },
  {
   "cell_type": "code",
   "execution_count": 4,
   "metadata": {},
   "outputs": [],
   "source": [
    "df['text'] = df['text'].str.lower()\n",
    "\n",
    "def clean_str(string):\n",
    "    string = re.sub(r'https?\\://\\S+', '', string)\n",
    "    string = re.sub(r'http?\\://\\S+', '', string)\n",
    "    string = re.sub(r'@\\w*\\s', '', string)\n",
    "    string = re.sub(r'#\\w*\\s', '', string)\n",
    "    string = re.sub(r'\\d', '', string)\n",
    "    return string\n",
    "\n",
    "df['text_clean'] = df['text'].apply(lambda x: clean_str(str(x)))"
   ]
  },
  {
   "cell_type": "code",
   "execution_count": 5,
   "metadata": {},
   "outputs": [],
   "source": [
    "# eliminamos stopwords\n",
    "stop = stopwords.words('english')\n",
    "\n",
    "df['text_clean'] = df['text_clean'].apply(lambda x: ' '.join([word for word in x.split() if word not in (stop)]))\n",
    "\n",
    "# eliminamos signos de puntuacion y caracteres especiales\n",
    "df['text_clean'] = df['text_clean'].str.replace('[^\\w\\s]','')"
   ]
  },
  {
   "cell_type": "code",
   "execution_count": 6,
   "metadata": {},
   "outputs": [],
   "source": [
    "pd.set_option('display.max_colwidth', 100)"
   ]
  },
  {
   "cell_type": "code",
   "execution_count": 7,
   "metadata": {},
   "outputs": [
    {
     "data": {
      "text/html": [
       "<div>\n",
       "<style scoped>\n",
       "    .dataframe tbody tr th:only-of-type {\n",
       "        vertical-align: middle;\n",
       "    }\n",
       "\n",
       "    .dataframe tbody tr th {\n",
       "        vertical-align: top;\n",
       "    }\n",
       "\n",
       "    .dataframe thead th {\n",
       "        text-align: right;\n",
       "    }\n",
       "</style>\n",
       "<table border=\"1\" class=\"dataframe\">\n",
       "  <thead>\n",
       "    <tr style=\"text-align: right;\">\n",
       "      <th></th>\n",
       "      <th>text</th>\n",
       "      <th>text_clean</th>\n",
       "    </tr>\n",
       "  </thead>\n",
       "  <tbody>\n",
       "    <tr>\n",
       "      <th>1413</th>\n",
       "      <td>@alcoholandmetal + do anything to fix that. of the few people he had every trusted in his life c...</td>\n",
       "      <td>anything fix that people every trusted life charles one casualties</td>\n",
       "    </tr>\n",
       "    <tr>\n",
       "      <th>653</th>\n",
       "      <td>property losses from california wildfire nearly double as week-old blaze rages http://t.co/e0uus...</td>\n",
       "      <td>property losses california wildfire nearly double weekold blaze rages</td>\n",
       "    </tr>\n",
       "    <tr>\n",
       "      <th>1271</th>\n",
       "      <td>always look for the silver lining!  \\n\\nmy barn having burned to the ground\\ni can now see the m...</td>\n",
       "      <td>always look silver lining barn burned ground see moon  mizuta</td>\n",
       "    </tr>\n",
       "    <tr>\n",
       "      <th>6363</th>\n",
       "      <td>#bestnaijamade: 16yr old pkk suicide bomber who detonated bomb in ... http://t.co/ksawlyux02 bes...</td>\n",
       "      <td>bestnaijamade yr old pkk suicide bomber detonated bomb  bestnaijamade bestnaijamade bestnaijamad...</td>\n",
       "    </tr>\n",
       "    <tr>\n",
       "      <th>5195</th>\n",
       "      <td>we destroyed the #zimmerman fan club on twitter @rzimmermanjr and we obliterated renewsit reduce...</td>\n",
       "      <td>destroyed fan club twitter obliterated renewsit reduced sock acc</td>\n",
       "    </tr>\n",
       "  </tbody>\n",
       "</table>\n",
       "</div>"
      ],
      "text/plain": [
       "                                                                                                     text  \\\n",
       "1413  @alcoholandmetal + do anything to fix that. of the few people he had every trusted in his life c...   \n",
       "653   property losses from california wildfire nearly double as week-old blaze rages http://t.co/e0uus...   \n",
       "1271  always look for the silver lining!  \\n\\nmy barn having burned to the ground\\ni can now see the m...   \n",
       "6363  #bestnaijamade: 16yr old pkk suicide bomber who detonated bomb in ... http://t.co/ksawlyux02 bes...   \n",
       "5195  we destroyed the #zimmerman fan club on twitter @rzimmermanjr and we obliterated renewsit reduce...   \n",
       "\n",
       "                                                                                               text_clean  \n",
       "1413                                   anything fix that people every trusted life charles one casualties  \n",
       "653                                 property losses california wildfire nearly double weekold blaze rages  \n",
       "1271                                        always look silver lining barn burned ground see moon  mizuta  \n",
       "6363  bestnaijamade yr old pkk suicide bomber detonated bomb  bestnaijamade bestnaijamade bestnaijamad...  \n",
       "5195                                     destroyed fan club twitter obliterated renewsit reduced sock acc  "
      ]
     },
     "execution_count": 7,
     "metadata": {},
     "output_type": "execute_result"
    }
   ],
   "source": [
    "df[['text', 'text_clean']].sample(5)"
   ]
  },
  {
   "cell_type": "code",
   "execution_count": 8,
   "metadata": {},
   "outputs": [
    {
     "data": {
      "text/plain": [
       "((5329,), (2284,), (5329,), (2284,))"
      ]
     },
     "execution_count": 8,
     "metadata": {},
     "output_type": "execute_result"
    }
   ],
   "source": [
    "X = df['text_clean'].values \n",
    "y = df['target'].values\n",
    "X_train, X_test, y_train, y_test = train_test_split(X, y, test_size=0.3, random_state=7)      \n",
    "\n",
    "X_train.shape, X_test.shape, y_train.shape, y_test.shape"
   ]
  },
  {
   "cell_type": "code",
   "execution_count": 9,
   "metadata": {},
   "outputs": [],
   "source": [
    "vocab_size = 80000\n",
    "# vocab_size = len(word_index)+1\n",
    "embedding_dim = 128\n",
    "max_length = 100\n",
    "trunc_type='post'\n",
    "padding_type='post'\n",
    "oov_tok = \"<OOV>\" "
   ]
  },
  {
   "cell_type": "code",
   "execution_count": 10,
   "metadata": {},
   "outputs": [],
   "source": [
    "\n",
    "tokenizer = Tokenizer(num_words = vocab_size, oov_token=oov_tok)\n",
    "tokenizer.fit_on_texts(list(X_train))\n",
    "X_train = tokenizer.texts_to_sequences(X_train)\n",
    "X_test = tokenizer.texts_to_sequences(X_test)\n",
    "\n",
    "word_index = tokenizer.word_index"
   ]
  },
  {
   "cell_type": "code",
   "execution_count": 11,
   "metadata": {},
   "outputs": [],
   "source": [
    "# Pad sequences with zeros\n",
    "X_train = pad_sequences(X_train, padding='post', maxlen=max_length)\n",
    "X_test = pad_sequences(X_test, padding='post', maxlen=max_length)"
   ]
  },
  {
   "cell_type": "markdown",
   "metadata": {
    "colab_type": "text",
    "id": "FwFjO1kg0UUK"
   },
   "source": [
    "## Entrenamos una red neuronal con Embedding\n"
   ]
  },
  {
   "cell_type": "code",
   "execution_count": 12,
   "metadata": {
    "colab": {},
    "colab_type": "code",
    "id": "ectP92fl0dFO"
   },
   "outputs": [
    {
     "name": "stdout",
     "output_type": "stream",
     "text": [
      "Model: \"sequential\"\n",
      "_________________________________________________________________\n",
      "Layer (type)                 Output Shape              Param #   \n",
      "=================================================================\n",
      "embedding (Embedding)        (None, 100, 128)          10240000  \n",
      "_________________________________________________________________\n",
      "global_average_pooling1d (Gl (None, 128)               0         \n",
      "_________________________________________________________________\n",
      "dropout (Dropout)            (None, 128)               0         \n",
      "_________________________________________________________________\n",
      "dense (Dense)                (None, 100)               12900     \n",
      "_________________________________________________________________\n",
      "dropout_1 (Dropout)          (None, 100)               0         \n",
      "_________________________________________________________________\n",
      "dense_1 (Dense)              (None, 1)                 101       \n",
      "=================================================================\n",
      "Total params: 10,253,001\n",
      "Trainable params: 10,253,001\n",
      "Non-trainable params: 0\n",
      "_________________________________________________________________\n"
     ]
    }
   ],
   "source": [
    "# instanciamos el modelo\n",
    "model = tf.keras.Sequential([\n",
    "    tf.keras.layers.Embedding(vocab_size, embedding_dim, input_length=max_length),\n",
    "    tf.keras.layers.GlobalAveragePooling1D(),\n",
    "#     tf.keras.layers.GlobalMaxPooling1D(),\n",
    "#     tf.keras.layers.Conv1D( filters=5 ,kernel_size=5, activation='relu'),\n",
    "    tf.keras.layers.Dropout(0.4),\n",
    "    tf.keras.layers.Dense(100, activation='relu'),\n",
    "    tf.keras.layers.Dropout(0.3),\n",
    "    tf.keras.layers.Dense(1)\n",
    "])\n",
    "model.compile(loss=tf.keras.losses.BinaryCrossentropy(from_logits=True) ,optimizer='adam',metrics=['accuracy'])\n",
    "model.summary()"
   ]
  },
  {
   "cell_type": "code",
   "execution_count": 13,
   "metadata": {
    "colab": {},
    "colab_type": "code",
    "id": "7TQIaGjs073w",
    "scrolled": false
   },
   "outputs": [
    {
     "name": "stdout",
     "output_type": "stream",
     "text": [
      "Epoch 1/5\n",
      "178/178 [==============================] - 43s 242ms/step - loss: 0.6823 - accuracy: 0.5701 - val_loss: 0.6786 - val_accuracy: 0.5709\n",
      "Epoch 2/5\n",
      "178/178 [==============================] - 32s 180ms/step - loss: 0.6576 - accuracy: 0.5720 - val_loss: 0.6146 - val_accuracy: 0.5933\n",
      "Epoch 3/5\n",
      "178/178 [==============================] - 32s 177ms/step - loss: 0.5053 - accuracy: 0.7187 - val_loss: 0.4844 - val_accuracy: 0.7872\n",
      "Epoch 4/5\n",
      "178/178 [==============================] - 31s 175ms/step - loss: 0.3582 - accuracy: 0.8377 - val_loss: 0.4810 - val_accuracy: 0.7925\n",
      "Epoch 5/5\n",
      "178/178 [==============================] - 32s 179ms/step - loss: 0.2854 - accuracy: 0.8758 - val_loss: 0.4824 - val_accuracy: 0.8017\n"
     ]
    }
   ],
   "source": [
    "num_epochs = 5\n",
    "batch_size = 30\n",
    "history = model.fit(X_train, y_train, epochs=num_epochs,\n",
    "                    batch_size=batch_size,validation_data=(X_test, y_test))"
   ]
  },
  {
   "cell_type": "markdown",
   "metadata": {
    "colab_type": "text",
    "id": "alAlYort7gWV"
   },
   "source": [
    "## Visualizacion del training\n"
   ]
  },
  {
   "cell_type": "code",
   "execution_count": 14,
   "metadata": {
    "colab": {},
    "colab_type": "code",
    "id": "o9l5vBeU71vH",
    "scrolled": false
   },
   "outputs": [
    {
     "data": {
      "image/png": "[encoded data removed]",
      "text/plain": [
       "<Figure size 432x288 with 1 Axes>"
      ]
     },
     "metadata": {
      "needs_background": "light"
     },
     "output_type": "display_data"
    },
    {
     "data": {
      "image/png": "[encoded data removed]",
      "text/plain": [
       "<Figure size 432x288 with 1 Axes>"
      ]
     },
     "metadata": {
      "needs_background": "light"
     },
     "output_type": "display_data"
    }
   ],
   "source": [
    "import matplotlib.pyplot as plt\n",
    "\n",
    "\n",
    "def plot_graphs(history, string):\n",
    "    plt.plot(history.history[string])\n",
    "    plt.plot(history.history['val_'+string])\n",
    "    plt.xlabel(\"Epochs\")\n",
    "    plt.ylabel(string)\n",
    "    plt.legend([string, 'val_'+string])\n",
    "    plt.show()\n",
    "\n",
    "plot_graphs(history, \"accuracy\")\n",
    "plot_graphs(history, \"loss\")"
   ]
  },
  {
   "cell_type": "code",
   "execution_count": 15,
   "metadata": {},
   "outputs": [
    {
     "name": "stdout",
     "output_type": "stream",
     "text": [
      "Training Accuracy: 0.8921\n",
      "Testing Accuracy:  0.8017\n"
     ]
    }
   ],
   "source": [
    "loss, accuracy = model.evaluate(X_train, y_train, verbose=False)\n",
    "print(\"Training Accuracy: {:.4f}\".format(accuracy))\n",
    "loss, accuracy = model.evaluate(X_test, y_test, verbose=False)\n",
    "print(\"Testing Accuracy:  {:.4f}\".format(accuracy))"
   ]
  },
  {
   "cell_type": "markdown",
   "metadata": {
    "colab_type": "text",
    "id": "XUXAlNNk59gG"
   },
   "source": [
    "## Predicciones en el test set\n",
    "\n",
    "Procesamos el dataset **test** para predecir sus labels"
   ]
  },
  {
   "cell_type": "code",
   "execution_count": 16,
   "metadata": {},
   "outputs": [],
   "source": [
    "test = pd.read_csv('test.csv')\n",
    "\n",
    "test['text'] = test['text'].str.lower()\n",
    "\n",
    "def clean_str(string):\n",
    "    string = re.sub(r'https?\\://\\S+', '', string)\n",
    "    string = re.sub(r'http?\\://\\S+', '', string)\n",
    "    string = re.sub(r'@\\w*\\s', '', string)\n",
    "    string = re.sub(r'#\\w*\\s', '', string)\n",
    "    string = re.sub(r'\\d', '', string)\n",
    "    return string\n",
    "\n",
    "test['text_clean'] = test['text'].apply(lambda x: clean_str(str(x)))\n",
    "\n",
    "\n",
    "\n",
    "stop = stopwords.words('english')\n",
    "\n",
    "test['text_clean'] = test['text_clean'].apply(lambda x: ' '.join([word for word in x.split() if word not in (stop)]))\n",
    "\n",
    "# eliminamos signos de puntuacion y caracteres especiales\n",
    "test['text_clean'] = test['text_clean'].str.replace('[^\\w\\s]','')"
   ]
  },
  {
   "cell_type": "code",
   "execution_count": 17,
   "metadata": {},
   "outputs": [
    {
     "data": {
      "text/html": [
       "<div>\n",
       "<style scoped>\n",
       "    .dataframe tbody tr th:only-of-type {\n",
       "        vertical-align: middle;\n",
       "    }\n",
       "\n",
       "    .dataframe tbody tr th {\n",
       "        vertical-align: top;\n",
       "    }\n",
       "\n",
       "    .dataframe thead th {\n",
       "        text-align: right;\n",
       "    }\n",
       "</style>\n",
       "<table border=\"1\" class=\"dataframe\">\n",
       "  <thead>\n",
       "    <tr style=\"text-align: right;\">\n",
       "      <th></th>\n",
       "      <th>text</th>\n",
       "      <th>text_clean</th>\n",
       "    </tr>\n",
       "  </thead>\n",
       "  <tbody>\n",
       "    <tr>\n",
       "      <th>2789</th>\n",
       "      <td>think it's actually sunk in that we've left school ??????????</td>\n",
       "      <td>think actually sunk weve left school</td>\n",
       "    </tr>\n",
       "    <tr>\n",
       "      <th>2930</th>\n",
       "      <td>loving you was like throwing a lasso around a tornado i tried to hold on to.??</td>\n",
       "      <td>loving like throwing lasso around tornado tried hold to</td>\n",
       "    </tr>\n",
       "    <tr>\n",
       "      <th>3103</th>\n",
       "      <td>t shirts $10 male or female get wit me. 2 days until its game changin time. war zone single will...</td>\n",
       "      <td>shirts  male female get wit me days game changin time war zone single beû_</td>\n",
       "    </tr>\n",
       "    <tr>\n",
       "      <th>289</th>\n",
       "      <td>@_afrojazz i'll add you (i dont even know what you talking about)</td>\n",
       "      <td>ill add i dont even know talking about</td>\n",
       "    </tr>\n",
       "    <tr>\n",
       "      <th>2068</th>\n",
       "      <td>#fromthedesk of king george kenyatta muumbo at the kings african citizens\\n\\nthanks to #quantumd...</td>\n",
       "      <td>king george kenyatta muumbo kings african citizens thanks we</td>\n",
       "    </tr>\n",
       "  </tbody>\n",
       "</table>\n",
       "</div>"
      ],
      "text/plain": [
       "                                                                                                     text  \\\n",
       "2789                                        think it's actually sunk in that we've left school ??????????   \n",
       "2930                       loving you was like throwing a lasso around a tornado i tried to hold on to.??   \n",
       "3103  t shirts $10 male or female get wit me. 2 days until its game changin time. war zone single will...   \n",
       "289                                     @_afrojazz i'll add you (i dont even know what you talking about)   \n",
       "2068  #fromthedesk of king george kenyatta muumbo at the kings african citizens\\n\\nthanks to #quantumd...   \n",
       "\n",
       "                                                                      text_clean  \n",
       "2789                                       think actually sunk weve left school   \n",
       "2930                     loving like throwing lasso around tornado tried hold to  \n",
       "3103  shirts  male female get wit me days game changin time war zone single beû_  \n",
       "289                                       ill add i dont even know talking about  \n",
       "2068                king george kenyatta muumbo kings african citizens thanks we  "
      ]
     },
     "execution_count": 17,
     "metadata": {},
     "output_type": "execute_result"
    }
   ],
   "source": [
    "test[['text', 'text_clean']].sample(5)"
   ]
  },
  {
   "cell_type": "code",
   "execution_count": 18,
   "metadata": {
    "colab": {},
    "colab_type": "code",
    "id": "JbFTTcaK6Dan"
   },
   "outputs": [
    {
     "name": "stdout",
     "output_type": "stream",
     "text": [
      "WARNING:tensorflow:From <ipython-input-18-ed2f07039099>:8: Sequential.predict_classes (from tensorflow.python.keras.engine.sequential) is deprecated and will be removed after 2021-01-01.\n",
      "Instructions for updating:\n",
      "Please use instead:* `np.argmax(model.predict(x), axis=-1)`,   if your model does multi-class classification   (e.g. if it uses a `softmax` last-layer activation).* `(model.predict(x) > 0.5).astype(\"int32\")`,   if your model does binary classification   (e.g. if it uses a `sigmoid` last-layer activation).\n"
     ]
    }
   ],
   "source": [
    "test_tweets = test['text_clean'].tolist()\n",
    "\n",
    "# Creamos las sequencias\n",
    "padding_type='post'\n",
    "sample_sequences = tokenizer.texts_to_sequences(test_tweets)\n",
    "test_padded = pad_sequences(sample_sequences, padding=padding_type, maxlen=max_length)           \n",
    "    \n",
    "classes = model.predict_classes(test_padded)\n"
   ]
  },
  {
   "cell_type": "code",
   "execution_count": 19,
   "metadata": {},
   "outputs": [
    {
     "data": {
      "text/plain": [
       "array([[1],\n",
       "       [0],\n",
       "       [1],\n",
       "       ...,\n",
       "       [1],\n",
       "       [1],\n",
       "       [0]])"
      ]
     },
     "execution_count": 19,
     "metadata": {},
     "output_type": "execute_result"
    }
   ],
   "source": [
    "classes"
   ]
  },
  {
   "cell_type": "code",
   "execution_count": null,
   "metadata": {},
   "outputs": [],
   "source": []
  }
 ],
 "metadata": {
  "accelerator": "GPU",
  "colab": {
   "collapsed_sections": [],
   "name": "l09c05_nlp_tweaking_the_model.ipynb",
   "private_outputs": true,
   "provenance": [],
   "toc_visible": true
  },
  "kernelspec": {
   "display_name": "Python 3",
   "language": "python",
   "name": "python3"
  },
  "language_info": {
   "codemirror_mode": {
    "name": "ipython",
    "version": 3
   },
   "file_extension": ".py",
   "mimetype": "text/x-python",
   "name": "python",
   "nbconvert_exporter": "python",
   "pygments_lexer": "ipython3",
   "version": "3.7.3"
  }
 },
 "nbformat": 4,
 "nbformat_minor": 1
}
